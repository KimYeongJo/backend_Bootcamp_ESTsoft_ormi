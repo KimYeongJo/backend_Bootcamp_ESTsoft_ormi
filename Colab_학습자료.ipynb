{
  "nbformat": 4,
  "nbformat_minor": 0,
  "metadata": {
    "colab": {
      "provenance": [],
      "toc_visible": true
    },
    "kernelspec": {
      "name": "python3",
      "display_name": "Python 3"
    },
    "language_info": {
      "name": "python"
    }
  },
  "cells": [
    {
      "cell_type": "markdown",
      "source": [
        "# colab 사용법"
      ],
      "metadata": {
        "id": "x__-0LQ_uq4L"
      }
    },
    {
      "cell_type": "markdown",
      "source": [
        "* MAC을 사용하는 경우 Ctrl 대신 Command입니다. Alt 대신 Option입니다.\n",
        "1. **실행 단축키**\n",
        "    1. (필수) `Ctrl(Command)` + `Enter` : 해당 셀 실행\n",
        "    2. `Shift` + `Enter` : 해당 셀 실행 + 커서를 다음 셀로 이동\n",
        "    3. (필수) `Alt(Option)` + `Enter` : 해당 셀 실행 + 코드 불록 하단 추가\n",
        "2. **셀 삽입/삭제 관련 단축키**\n",
        "    1. `Ctrl(Command)` + M A : 코드 셀 위에 삽입\n",
        "    2. `Ctrl(Command)` + M B : 코드 셀 아래 삽입\n",
        "    3. `Ctrl(Command)` + M D : 셀 지우기\n",
        "    4. `Ctrl(Command)` + M Y : 코드 셀로 변경\n",
        "    5. `Ctrl(Command)` + M M : 마크다운 셀로 변경\n",
        "    6. `Ctrl(Command)` + M Z : 실행 취소\n",
        "3. 수정 관련된 단축키\n",
        "    1. `Ctrl(Command)` + `Alt(Option)` + 화살표위아래 : 동시 수정\n",
        "    2. (자주) `Ctrl(Command)` + D : 같은 단어 찾아 동시 수정\n",
        "    3. `Ctrl(Command)` + `Shift` + L : 동일 단어를 전체로 찾아 동시 수정\n",
        "    4. `Alt(Option)` + `Shift` + 화살표위아래 : 해당내용을 위나 아래 복사해서 붙여넣기\n",
        "    5. `Alt(Option)` + 화살표위아래 : 해당 내용을 위나 아래로 보내기\n",
        "    6. (자주) `Ctrl(Command)` + `Alt(Option)` + 화살표위아래 : 위아래 동시 수정\n",
        "    7. (자주) Home, End : 문장의 양 끝\n",
        "    8. (필수) `Ctrl` + `/` : 주석\n",
        "    9. (필수) `Shift` + `Del` : 한 줄 지우기\n",
        "    10. (필수) `Tab`, `Ctrl` + `]` : 들여쓰기\n",
        "    11. (필수) `Shift` + `Tab`, `Ctrl` + `[` : 내어쓰기\n",
        "4. 단축키 보기 및 설정\n",
        "    1. `Ctrl(Command)` + M H : 단축키 모음"
      ],
      "metadata": {
        "id": "FTQTXMTtveWG"
      }
    },
    {
      "cell_type": "markdown",
      "source": [
        "# 마크다운"
      ],
      "metadata": {
        "id": "qkYzsmBLx6XL"
      }
    },
    {
      "cell_type": "markdown",
      "source": [
        "* 필수 마크다운\n",
        "\n",
        "    ```\n",
        "    # hello\n",
        "    ## hello\n",
        "    ### hello\n",
        "\n",
        "    1. hello\n",
        "    2. hello\n",
        "    3. hello\n",
        "\n",
        "    * hello\n",
        "    * hello\n",
        "    * hello\n",
        "    ```\n",
        "\n",
        "* 선택 마크다운(필수가 아니니 부담가지지 마세요.)\n",
        "\n",
        "    ```\n",
        "    # h1\n",
        "    ## h2\n",
        "    ### h3\n",
        "    #### h4\n",
        "    ##### h5\n",
        "    ###### h6\n",
        "\n",
        "    ---\n",
        "\n",
        "    1. hello\n",
        "    2. hello\n",
        "    3. hello\n",
        "\n",
        "    * hello\n",
        "    * hello\n",
        "    * hello\n",
        "\n",
        "    - hello\n",
        "    - hello\n",
        "    - hello\n",
        "\n",
        "    __굵게__\n",
        "    **굵게**\n",
        "    _기울여 쓰기_\n",
        "    *기울여 쓰기*\n",
        "    ~취소선~\n",
        "    ~~취소선~~\n",
        "\n",
        "    > 인용문 작성하기\n",
        "    `인라인 코드는 이렇게 작성해요.`\n",
        "\n",
        "    [인라인 링크](https://velog.io/)\n",
        "\n",
        "    ![이미지 설명](이미지 링크)\n",
        "    \n",
        "    * table은 직접 만들지 마시고 https://www.tablesgenerator.com/markdown_tables 와 같은 서비스를 이용하세요.\n",
        "    \n",
        "    | 1 | 2     | 3 | 4 | 5     |\n",
        "    |---|-------|---|---|-------|\n",
        "    | 1 | hello | 3 | 4 | world |\n",
        "\n",
        "    * [ ] hello\n",
        "    * [X] hello\n",
        "    ```\n"
      ],
      "metadata": {
        "id": "CJgTFSb0yDS0"
      }
    },
    {
      "cell_type": "markdown",
      "source": [
        "# Python"
      ],
      "metadata": {
        "id": "tzaJO6Oh4BA1"
      }
    },
    {
      "cell_type": "code",
      "source": [
        "#행 단위 주석입니다.\n",
        "\n",
        "\"\"\"\n",
        "큰 따옴표로 세번 묶거나\n",
        "작은따옴표로 세번 묶으면\n",
        "열단위 주석이 됩니다.\n",
        "\"\"\"\n",
        "\n",
        "'''\n",
        "큰 따옴표로 세번 묶거나\n",
        "작은따옴표로 세번 묶으면\n",
        "열단위 주석이 됩니다.\n",
        "'''"
      ],
      "metadata": {
        "colab": {
          "base_uri": "https://localhost:8080/",
          "height": 35
        },
        "id": "EiWJQm-Xx0WC",
        "outputId": "e6ef8ce7-700b-490f-f6f2-c69114322198"
      },
      "execution_count": null,
      "outputs": [
        {
          "output_type": "execute_result",
          "data": {
            "text/plain": [
              "'\\n큰 따옴표로 세번 묶거나\\n작은따옴표로 세번 묶으면\\n열단위 주석이 됩니다.\\n'"
            ],
            "application/vnd.google.colaboratory.intrinsic+json": {
              "type": "string"
            }
          },
          "metadata": {},
          "execution_count": 4
        }
      ]
    },
    {
      "cell_type": "code",
      "source": [
        "# 아래와 같이 열단위 주석으로 text를 넣을 수도 있습니다.\n",
        "data = '''\n",
        "큰 따옴표로 세번 묶거나\n",
        "작은따옴표로 세번 묶으면\n",
        "열단위 주석이 됩니다.\n",
        "'''\n",
        "\n",
        "data"
      ],
      "metadata": {
        "id": "O5CvQs-w5oT2"
      },
      "execution_count": null,
      "outputs": []
    },
    {
      "cell_type": "markdown",
      "source": [
        "* Code convention python\n",
        "* https://google.github.io/styleguide/\n",
        "* https://google.github.io/styleguide/pyguide.html"
      ],
      "metadata": {
        "id": "cdB7jRxV47IK"
      }
    },
    {
      "cell_type": "code",
      "source": [
        "def connect_to_next_port(self, minimum: int) -> int:\n",
        "    \"\"\"Connects to the next available port.\n",
        "\n",
        "    Args:\n",
        "      minimum: A port value greater or equal to 1024.\n",
        "\n",
        "    Returns:\n",
        "      The new minimum port.\n",
        "\n",
        "    Raises:\n",
        "      ConnectionError: If no available port is found.\n",
        "    \"\"\"\n",
        "    if minimum < 1024:\n",
        "        # Note that this raising of ValueError is not mentioned in the doc\n",
        "        # string's \"Raises:\" section because it is not appropriate to\n",
        "        # guarantee this specific behavioral reaction to API misuse.\n",
        "        raise ValueError(f'Min. port must be at least 1024, not {minimum}.')\n",
        "    port = self._find_next_open_port(minimum)\n",
        "    if port is None:\n",
        "        raise ConnectionError(\n",
        "            f'Could not connect to service on port {minimum} or higher.')\n",
        "    assert port >= minimum, (\n",
        "        f'Unexpected port {port} when minimum was {minimum}.')\n",
        "    return port"
      ],
      "metadata": {
        "id": "6Sw9kDCJ5tWh"
      },
      "execution_count": 186,
      "outputs": []
    },
    {
      "cell_type": "code",
      "source": [
        "connect_to_next_port"
      ],
      "metadata": {
        "id": "gDGpIxHE55hG",
        "colab": {
          "base_uri": "https://localhost:8080/"
        },
        "outputId": "c7381f5f-2069-40ea-b3e3-4171e8d12371"
      },
      "execution_count": 188,
      "outputs": [
        {
          "output_type": "execute_result",
          "data": {
            "text/plain": [
              "<function __main__.connect_to_next_port(self, minimum: int) -> int>"
            ]
          },
          "metadata": {},
          "execution_count": 188
        }
      ]
    },
    {
      "cell_type": "code",
      "source": [
        "# 띄어쓰기 4칸 (tab(스페이스 4칸과 다릅니다!), 6칸, 7칸 다 작동합니다.)"
      ],
      "metadata": {
        "id": "y6wQmaW46WJp"
      },
      "execution_count": null,
      "outputs": []
    },
    {
      "cell_type": "code",
      "source": [
        "# 아래와 같이 탭과 띄어쓰기 4번을 혼용하시면 error가 납니다.\n",
        "for i in range(10):\n",
        "    print(i)\n",
        "\tprint('큰 따옴표로 세번 묶거나')"
      ],
      "metadata": {
        "id": "ejRqHMOO7G37"
      },
      "execution_count": null,
      "outputs": []
    },
    {
      "cell_type": "code",
      "source": [
        "a = 10     #int, 정수형\n",
        "b = 10.1   #float, 실수\n",
        "c = -1\n",
        "d = True   #bool, 논리형(부울형, 참거짓형)\n",
        "e = 'good'\n",
        "f = '10'   #str, 문자열\n",
        "g = 'kim'\n",
        "h = 'honggildong'\n",
        "i = 'example'\n",
        "j = 10 + 2j #complex, 복소수\n",
        "k = 0b110   #int, 2진법 \n",
        "l = 0o56    #int, 8진법\n",
        "m = 0xAC    #int, 16진법\n",
        "\n",
        "##########\n",
        "def hello(x):\n",
        "    return x**2\n",
        "\n",
        "class A: # 자동차 공장\n",
        "    pass\n",
        "\n",
        "n = hello # function\n",
        "o = print # bulit-in function (https://docs.python.org/3/library/functions.html)\n",
        "p = lambda x:x**2 # function\n",
        "q = int # type\n",
        "r = A # class\n",
        "s = A() # instance # 자동차\n",
        "##########\n",
        "\n",
        "print(f'type(10) : {type(a)}')\n",
        "print(f'type(10.1) : {type(b)}')\n",
        "print(f'type(-1) : {type(c)}')\n",
        "print(f'type(True) : {type(d)}')\n",
        "print(f'type(\\'good\\') : {type(e)}')\n",
        "print(f'type(\\'good\\'.upper) : {type(e.upper)}')\n",
        "print(f'\\'10\\' + \\'10\\' : {f + f}')\n",
        "print(f'\\'10\\' * 3 : {f * 3}')\n",
        "print(f'\\'hong\\' + \\'gildong\\' : {g + h}')\n",
        "print(f'type(\\'gildong\\') : {type(h)}')\n",
        "print(f'type(\\'gildong100!!\\') : {type(i)}')\n",
        "print(f'type(10 + 2j) : {type(j)}')\n",
        "print(f'type(0b110) : {type(k)}')\n",
        "print(k)\n",
        "print(f'type(0o56) : {type(i)}')\n",
        "print(i)\n",
        "print(f'type(0xAC) : {type(m)}')\n",
        "print(m)\n",
        "print(f'type(def func():...생략...) : {type(n)}')\n",
        "print(f'type(print) : {type(o)}')\n",
        "print(f'type(lambda x:x**2) : {type(p)}')\n",
        "print(f'type(int) : {type(int)}')"
      ],
      "metadata": {
        "colab": {
          "base_uri": "https://localhost:8080/"
        },
        "id": "bmrKWvcv7uSH",
        "outputId": "29b0035b-8e87-47ce-895d-7cdf239b8ebe"
      },
      "execution_count": null,
      "outputs": [
        {
          "output_type": "stream",
          "name": "stdout",
          "text": [
            "type(10) : <class 'int'>\n",
            "type(10.1) : <class 'float'>\n",
            "type(-1) : <class 'int'>\n",
            "type(True) : <class 'bool'>\n",
            "type('good') : <class 'str'>\n",
            "type('good'.upper) : <class 'builtin_function_or_method'>\n",
            "'10' + '10' : 1010\n",
            "'10' * 3 : 101010\n",
            "'hong' + 'gildong' : kimhonggildong\n",
            "type('gildong') : <class 'str'>\n",
            "type('gildong100!!') : <class 'str'>\n",
            "type(10 + 2j) : <class 'complex'>\n",
            "type(0b110) : <class 'int'>\n",
            "6\n",
            "type(0o56) : <class 'str'>\n",
            "example\n",
            "type(0xAC) : <class 'int'>\n",
            "172\n",
            "type(def func():...생략...) : <class 'function'>\n",
            "type(print) : <class 'builtin_function_or_method'>\n",
            "type(lambda x:x**2) : <class 'function'>\n",
            "type(int) : <class 'type'>\n"
          ]
        }
      ]
    },
    {
      "cell_type": "code",
      "source": [
        "# 이스케이프 문자\n",
        "# https://ko.wikipedia.org/wiki/%EC%9D%B4%EC%8A%A4%EC%BC%80%EC%9D%B4%ED%94%84_%EB%AC%B8%EC%9E%90\n",
        "print('hello \\n world')\n",
        "print('hello \\t world')\n",
        "print('hello \\' world')\n",
        "print('hello \\\" world')\n",
        "print('hello \\\\ world')"
      ],
      "metadata": {
        "colab": {
          "base_uri": "https://localhost:8080/"
        },
        "id": "8OqkyWik-Nwb",
        "outputId": "91c3a6ea-894b-4b92-8c76-afbc4114c971"
      },
      "execution_count": null,
      "outputs": [
        {
          "output_type": "stream",
          "name": "stdout",
          "text": [
            "hello \n",
            " world\n",
            "hello \t world\n",
            "hello ' world\n",
            "hello \" world\n",
            "hello \\ world\n"
          ]
        }
      ]
    },
    {
      "cell_type": "code",
      "source": [
        "# type -> string\n",
        "\n",
        "hello = 10\n",
        "\n",
        "print(r'hello \\n world') # str -> raw (Django 2.x까지 url parsing을 이렇게 사용하고 있어요.)\n",
        "print(f'hello \\n world {hello}') # 앞으로 f-string 기법\n",
        "print('hello world {}'.format(hello))"
      ],
      "metadata": {
        "colab": {
          "base_uri": "https://localhost:8080/"
        },
        "id": "FSpV2jdX_th6",
        "outputId": "e875e038-b0a0-4170-c26a-e5ae6afdbc77"
      },
      "execution_count": null,
      "outputs": [
        {
          "output_type": "stream",
          "name": "stdout",
          "text": [
            "hello \\n world\n",
            "hello \n",
            " world 10\n"
          ]
        }
      ]
    },
    {
      "cell_type": "code",
      "source": [
        "# type -> float\n",
        "# 오일러의 수를 모른다 해서, 수학 연산이 약하다 해서 우리 수업에 문제가 되지 않습니다.\n",
        "print(2.3e3) # 무리수, 오일러 수(2.718에 수렴, 파이가 3.14인 것처럼)\n",
        "print(2.3E3)\n",
        "\n",
        "2.3 * (10 ** 3)"
      ],
      "metadata": {
        "id": "oRp5o0jSEYkw"
      },
      "execution_count": null,
      "outputs": []
    },
    {
      "cell_type": "code",
      "source": [
        "print(2.3e-3) # 무리수, 오일러 수(2.718에 수렴, 파이가 3.14인 것처럼)\n",
        "print(2.3E-3)\n",
        "\n",
        "2.3 * (10 ** -3)"
      ],
      "metadata": {
        "colab": {
          "base_uri": "https://localhost:8080/"
        },
        "id": "HElnmgCOE0m-",
        "outputId": "b4353306-5c76-40bf-e591-0ecd75983206"
      },
      "execution_count": null,
      "outputs": [
        {
          "output_type": "stream",
          "name": "stdout",
          "text": [
            "0.0023\n",
            "0.0023\n"
          ]
        },
        {
          "output_type": "execute_result",
          "data": {
            "text/plain": [
              "0.0023"
            ]
          },
          "metadata": {},
          "execution_count": 24
        }
      ]
    },
    {
      "cell_type": "code",
      "source": [
        "type(2.3E-3)"
      ],
      "metadata": {
        "colab": {
          "base_uri": "https://localhost:8080/"
        },
        "id": "Og0AzspPFKvy",
        "outputId": "518a2cf7-cd86-499d-b034-bf4fd5d39970"
      },
      "execution_count": null,
      "outputs": [
        {
          "output_type": "execute_result",
          "data": {
            "text/plain": [
              "float"
            ]
          },
          "metadata": {},
          "execution_count": 25
        }
      ]
    },
    {
      "cell_type": "code",
      "source": [
        "class A: # 자동차 공장\n",
        "    pass\n",
        "\n",
        "a = A # class\n",
        "b = A() # instance # 자동차\n",
        "\n",
        "print(type(a))\n",
        "print(type(b))"
      ],
      "metadata": {
        "colab": {
          "base_uri": "https://localhost:8080/"
        },
        "id": "bA78yQ61-y9g",
        "outputId": "3a6efd70-5492-45e7-c5aa-d6473cdf9fec"
      },
      "execution_count": null,
      "outputs": [
        {
          "output_type": "stream",
          "name": "stdout",
          "text": [
            "<class 'type'>\n",
            "<class '__main__.A'>\n"
          ]
        }
      ]
    },
    {
      "cell_type": "code",
      "source": [
        "# 변수를 처음 만나시면 type, dir을 해봅니다.\n",
        "# type을 찍으면 검색 키워드를 알 수 있습니다.\n",
        "# dir을 찍으면 속성을 알 수 있습니다.\n",
        "type(a)"
      ],
      "metadata": {
        "colab": {
          "base_uri": "https://localhost:8080/"
        },
        "id": "QogcxZW88l2U",
        "outputId": "b0334b10-3504-4f6a-fe1c-8365554fdf1c"
      },
      "execution_count": null,
      "outputs": [
        {
          "output_type": "execute_result",
          "data": {
            "text/plain": [
              "int"
            ]
          },
          "metadata": {},
          "execution_count": 14
        }
      ]
    },
    {
      "cell_type": "code",
      "source": [
        "print(type(a))"
      ],
      "metadata": {
        "colab": {
          "base_uri": "https://localhost:8080/"
        },
        "id": "TPuT1-C68o0H",
        "outputId": "32c86783-5f3f-4d49-db2e-b6c5fe624e45"
      },
      "execution_count": null,
      "outputs": [
        {
          "output_type": "stream",
          "name": "stdout",
          "text": [
            "<class 'int'>\n"
          ]
        }
      ]
    },
    {
      "cell_type": "code",
      "source": [
        "dir(a)"
      ],
      "metadata": {
        "colab": {
          "base_uri": "https://localhost:8080/"
        },
        "id": "auPIyvXH8zUJ",
        "outputId": "9e0cd487-7673-40bd-a521-ce904432b757"
      },
      "execution_count": null,
      "outputs": [
        {
          "output_type": "execute_result",
          "data": {
            "text/plain": [
              "['__abs__',\n",
              " '__add__',\n",
              " '__and__',\n",
              " '__bool__',\n",
              " '__ceil__',\n",
              " '__class__',\n",
              " '__delattr__',\n",
              " '__dir__',\n",
              " '__divmod__',\n",
              " '__doc__',\n",
              " '__eq__',\n",
              " '__float__',\n",
              " '__floor__',\n",
              " '__floordiv__',\n",
              " '__format__',\n",
              " '__ge__',\n",
              " '__getattribute__',\n",
              " '__getnewargs__',\n",
              " '__gt__',\n",
              " '__hash__',\n",
              " '__index__',\n",
              " '__init__',\n",
              " '__init_subclass__',\n",
              " '__int__',\n",
              " '__invert__',\n",
              " '__le__',\n",
              " '__lshift__',\n",
              " '__lt__',\n",
              " '__mod__',\n",
              " '__mul__',\n",
              " '__ne__',\n",
              " '__neg__',\n",
              " '__new__',\n",
              " '__or__',\n",
              " '__pos__',\n",
              " '__pow__',\n",
              " '__radd__',\n",
              " '__rand__',\n",
              " '__rdivmod__',\n",
              " '__reduce__',\n",
              " '__reduce_ex__',\n",
              " '__repr__',\n",
              " '__rfloordiv__',\n",
              " '__rlshift__',\n",
              " '__rmod__',\n",
              " '__rmul__',\n",
              " '__ror__',\n",
              " '__round__',\n",
              " '__rpow__',\n",
              " '__rrshift__',\n",
              " '__rshift__',\n",
              " '__rsub__',\n",
              " '__rtruediv__',\n",
              " '__rxor__',\n",
              " '__setattr__',\n",
              " '__sizeof__',\n",
              " '__str__',\n",
              " '__sub__',\n",
              " '__subclasshook__',\n",
              " '__truediv__',\n",
              " '__trunc__',\n",
              " '__xor__',\n",
              " 'as_integer_ratio',\n",
              " 'bit_count',\n",
              " 'bit_length',\n",
              " 'conjugate',\n",
              " 'denominator',\n",
              " 'from_bytes',\n",
              " 'imag',\n",
              " 'numerator',\n",
              " 'real',\n",
              " 'to_bytes']"
            ]
          },
          "metadata": {},
          "execution_count": 16
        }
      ]
    },
    {
      "cell_type": "code",
      "source": [
        "# 실무에서 자주 사용하는 구문\n",
        "type(10)\n",
        "type(10) == int\n",
        "type(10.1) == float"
      ],
      "metadata": {
        "colab": {
          "base_uri": "https://localhost:8080/"
        },
        "id": "v1qKTnVAFVAe",
        "outputId": "2dc6c5e0-347a-44f7-af68-80b653d61d12"
      },
      "execution_count": null,
      "outputs": [
        {
          "output_type": "execute_result",
          "data": {
            "text/plain": [
              "True"
            ]
          },
          "metadata": {},
          "execution_count": 28
        }
      ]
    },
    {
      "cell_type": "code",
      "source": [
        "# 위만큼 자주사용하진 않지만 타입 확인 코드\n",
        "a = 10\n",
        "isinstance(a, int)\n",
        "isinstance(a, float)"
      ],
      "metadata": {
        "colab": {
          "base_uri": "https://localhost:8080/"
        },
        "id": "Ow6Nj-nsFj8R",
        "outputId": "6c2a9e83-aa7e-46c8-eb57-88040c670ff0"
      },
      "execution_count": null,
      "outputs": [
        {
          "output_type": "execute_result",
          "data": {
            "text/plain": [
              "False"
            ]
          },
          "metadata": {},
          "execution_count": 30
        }
      ]
    },
    {
      "cell_type": "markdown",
      "source": [
        "## 변수"
      ],
      "metadata": {
        "id": "tx-EhIcCF2Kj"
      }
    },
    {
      "cell_type": "code",
      "source": [
        "# CS 변수는 포스트잇\n",
        "# 변수는 메모리 공간을 가리킵니다.\n",
        "\n",
        "# x라는 포스트잇도 붙였지만\n",
        "# y라는 포스트잇도 붙여져 있는 것입니다.\n",
        "x = 10\n",
        "y = 10\n",
        "\n",
        "id(x), id(y) # id는 누굴 가리키고 있는지 그 주소값을 반환합니다."
      ],
      "metadata": {
        "colab": {
          "base_uri": "https://localhost:8080/"
        },
        "id": "IEzjf91BF8dw",
        "outputId": "b4464b82-ac92-4e4c-d65c-b0f1e2a98d60"
      },
      "execution_count": null,
      "outputs": [
        {
          "output_type": "execute_result",
          "data": {
            "text/plain": [
              "(139737727205904, 139737727205904)"
            ]
          },
          "metadata": {},
          "execution_count": 31
        }
      ]
    },
    {
      "cell_type": "code",
      "source": [
        "x is y"
      ],
      "metadata": {
        "colab": {
          "base_uri": "https://localhost:8080/"
        },
        "id": "zGzifr5zHL3I",
        "outputId": "6c00dbef-972c-402f-9c9a-e1d35e640947"
      },
      "execution_count": null,
      "outputs": [
        {
          "output_type": "execute_result",
          "data": {
            "text/plain": [
              "True"
            ]
          },
          "metadata": {},
          "execution_count": 32
        }
      ]
    },
    {
      "cell_type": "code",
      "source": [
        "x = 257\n",
        "y = 257\n",
        "\n",
        "id(x), id(y)"
      ],
      "metadata": {
        "colab": {
          "base_uri": "https://localhost:8080/"
        },
        "id": "kp-DcQw-HOZd",
        "outputId": "a5a8d154-3a30-4807-9db1-f2f2c232e625"
      },
      "execution_count": null,
      "outputs": [
        {
          "output_type": "execute_result",
          "data": {
            "text/plain": [
              "(139736413794128, 139736413797264)"
            ]
          },
          "metadata": {},
          "execution_count": 33
        }
      ]
    },
    {
      "cell_type": "code",
      "source": [
        "x is y"
      ],
      "metadata": {
        "colab": {
          "base_uri": "https://localhost:8080/"
        },
        "id": "HMQhFLC4Hh3N",
        "outputId": "c2657f93-02ad-410b-edfb-b919b071eaa3"
      },
      "execution_count": null,
      "outputs": [
        {
          "output_type": "execute_result",
          "data": {
            "text/plain": [
              "False"
            ]
          },
          "metadata": {},
          "execution_count": 34
        }
      ]
    },
    {
      "cell_type": "code",
      "source": [
        "# Python은 자체적으로 속도를 높이기 위한 \n",
        "# 여러가지 노력들을 해왔습니다.\n",
        "# (아래 언급한 것 말고도 각각의 자료형에서 메모리를 효율적으로 관리하기 위한 노력들을 말씀드리겠습니다.)\n",
        "# 구버전도 말씀을 드릴 것인데 이유는 여러분이 실무에가서 접할 환경이 최신 버전이 아니기 때문입니다.\n",
        "# 야xx의 경우에는 Django 1.x, python 2.x를 사용하고 있어요. \n",
        "# 대부분의 기업들이 한 번 구축해놓은 시스템은 바꾸기가 쉽지 않습니다.\n",
        "\n",
        "# 그래서 -5 ~ 256은 먼저 메모리에 적재를 합니다."
      ],
      "metadata": {
        "id": "D8S8eDgnHj47"
      },
      "execution_count": null,
      "outputs": []
    },
    {
      "cell_type": "code",
      "source": [
        "x = -5\n",
        "y = -5\n",
        "\n",
        "id(x), id(y)"
      ],
      "metadata": {
        "colab": {
          "base_uri": "https://localhost:8080/"
        },
        "id": "DIfulHSCILSa",
        "outputId": "157ae4b1-1d59-43e5-9583-1ea346ab7b93"
      },
      "execution_count": null,
      "outputs": [
        {
          "output_type": "execute_result",
          "data": {
            "text/plain": [
              "(139737727205424, 139737727205424)"
            ]
          },
          "metadata": {},
          "execution_count": 36
        }
      ]
    },
    {
      "cell_type": "markdown",
      "source": [
        "* 변수의 타입이란 무엇인가?\n",
        "* 변수의 타입은 왜 있는 것일까?\n",
        "* 어떤 고민을 통해 변수의 속성을 정했을까?"
      ],
      "metadata": {
        "id": "wk41BPqXIsy0"
      }
    },
    {
      "cell_type": "code",
      "source": [
        "'a' + 'a'"
      ],
      "metadata": {
        "colab": {
          "base_uri": "https://localhost:8080/",
          "height": 35
        },
        "id": "szLg5kCPIjQR",
        "outputId": "43d9b7ce-fdae-4379-e1be-49663c5b3f12"
      },
      "execution_count": null,
      "outputs": [
        {
          "output_type": "execute_result",
          "data": {
            "text/plain": [
              "'aa'"
            ],
            "application/vnd.google.colaboratory.intrinsic+json": {
              "type": "string"
            }
          },
          "metadata": {},
          "execution_count": 37
        }
      ]
    },
    {
      "cell_type": "code",
      "source": [
        "# 왜 이어 붙였지?\n",
        "# 컴퓨터 입장에서 a는 97(인간이 보는 숫자) -> 0x61! 결국 숫자!"
      ],
      "metadata": {
        "id": "s-8AHdjsI-5S"
      },
      "execution_count": null,
      "outputs": []
    },
    {
      "cell_type": "code",
      "source": [
        "# cpython -> 이어 붙이라고 정의가 되어 있어서\n",
        "# 사회 통념적인 약속 -> 코드로 구현\n",
        "# type, dir\n",
        "# 이러한 약속들은 메직메서드(__init__.....)를 통해 구현하게 됩니다."
      ],
      "metadata": {
        "id": "Rah9zwE5JRyu"
      },
      "execution_count": null,
      "outputs": []
    },
    {
      "cell_type": "markdown",
      "source": [
        "## 변수의 속성 변경"
      ],
      "metadata": {
        "id": "1wNSxRe8J5rH"
      }
    },
    {
      "cell_type": "code",
      "source": [
        "'10' + '10'"
      ],
      "metadata": {
        "colab": {
          "base_uri": "https://localhost:8080/",
          "height": 35
        },
        "id": "nvl29tysKEb9",
        "outputId": "3de4d5e4-3eaa-4170-d62f-46bac62d05eb"
      },
      "execution_count": null,
      "outputs": [
        {
          "output_type": "execute_result",
          "data": {
            "text/plain": [
              "'1010'"
            ],
            "application/vnd.google.colaboratory.intrinsic+json": {
              "type": "string"
            }
          },
          "metadata": {},
          "execution_count": 39
        }
      ]
    },
    {
      "cell_type": "code",
      "source": [
        "int('10') + int('10')"
      ],
      "metadata": {
        "colab": {
          "base_uri": "https://localhost:8080/"
        },
        "id": "b0ZDkGHoJ7rU",
        "outputId": "aea0eae0-4276-4eec-a718-fb9ca37a77f1"
      },
      "execution_count": null,
      "outputs": [
        {
          "output_type": "execute_result",
          "data": {
            "text/plain": [
              "20"
            ]
          },
          "metadata": {},
          "execution_count": 40
        }
      ]
    },
    {
      "cell_type": "code",
      "source": [
        "# 지금 배우는 포인트는 class가 중요한 문법이 아니라\n",
        "# 이러한 '약속'을 우리가 변경할 수 있다가 중요한 포인트입니다.\n",
        "class int(int):\n",
        "    def __add__(self, a):\n",
        "        return 'leehojun'\n",
        "\n",
        "int('10') + int('10')"
      ],
      "metadata": {
        "colab": {
          "base_uri": "https://localhost:8080/",
          "height": 35
        },
        "id": "EnqZ3qw-KLxp",
        "outputId": "70a43a10-f64f-4a83-e18c-04a01f25dae7"
      },
      "execution_count": null,
      "outputs": [
        {
          "output_type": "execute_result",
          "data": {
            "text/plain": [
              "'leehojun'"
            ],
            "application/vnd.google.colaboratory.intrinsic+json": {
              "type": "string"
            }
          },
          "metadata": {},
          "execution_count": 41
        }
      ]
    },
    {
      "cell_type": "code",
      "source": [
        "class int(int):\n",
        "    def __add__(self, a):\n",
        "        return self * a\n",
        "\n",
        "int('10') + int('10')"
      ],
      "metadata": {
        "colab": {
          "base_uri": "https://localhost:8080/"
        },
        "id": "YATr2VdoKryj",
        "outputId": "718f7673-b14d-45f4-d80e-2749eb291102"
      },
      "execution_count": null,
      "outputs": [
        {
          "output_type": "execute_result",
          "data": {
            "text/plain": [
              "100"
            ]
          },
          "metadata": {},
          "execution_count": 42
        }
      ]
    },
    {
      "cell_type": "code",
      "source": [
        "dir(10)"
      ],
      "metadata": {
        "colab": {
          "base_uri": "https://localhost:8080/"
        },
        "id": "rJjZ79C8K4BU",
        "outputId": "eb094449-a80f-47d4-facd-958e52394714"
      },
      "execution_count": null,
      "outputs": [
        {
          "output_type": "execute_result",
          "data": {
            "text/plain": [
              "['__abs__',\n",
              " '__add__',\n",
              " '__and__',\n",
              " '__bool__',\n",
              " '__ceil__',\n",
              " '__class__',\n",
              " '__delattr__',\n",
              " '__dir__',\n",
              " '__divmod__',\n",
              " '__doc__',\n",
              " '__eq__',\n",
              " '__float__',\n",
              " '__floor__',\n",
              " '__floordiv__',\n",
              " '__format__',\n",
              " '__ge__',\n",
              " '__getattribute__',\n",
              " '__getnewargs__',\n",
              " '__gt__',\n",
              " '__hash__',\n",
              " '__index__',\n",
              " '__init__',\n",
              " '__init_subclass__',\n",
              " '__int__',\n",
              " '__invert__',\n",
              " '__le__',\n",
              " '__lshift__',\n",
              " '__lt__',\n",
              " '__mod__',\n",
              " '__mul__',\n",
              " '__ne__',\n",
              " '__neg__',\n",
              " '__new__',\n",
              " '__or__',\n",
              " '__pos__',\n",
              " '__pow__',\n",
              " '__radd__',\n",
              " '__rand__',\n",
              " '__rdivmod__',\n",
              " '__reduce__',\n",
              " '__reduce_ex__',\n",
              " '__repr__',\n",
              " '__rfloordiv__',\n",
              " '__rlshift__',\n",
              " '__rmod__',\n",
              " '__rmul__',\n",
              " '__ror__',\n",
              " '__round__',\n",
              " '__rpow__',\n",
              " '__rrshift__',\n",
              " '__rshift__',\n",
              " '__rsub__',\n",
              " '__rtruediv__',\n",
              " '__rxor__',\n",
              " '__setattr__',\n",
              " '__sizeof__',\n",
              " '__str__',\n",
              " '__sub__',\n",
              " '__subclasshook__',\n",
              " '__truediv__',\n",
              " '__trunc__',\n",
              " '__xor__',\n",
              " 'as_integer_ratio',\n",
              " 'bit_count',\n",
              " 'bit_length',\n",
              " 'conjugate',\n",
              " 'denominator',\n",
              " 'from_bytes',\n",
              " 'imag',\n",
              " 'numerator',\n",
              " 'real',\n",
              " 'to_bytes']"
            ]
          },
          "metadata": {},
          "execution_count": 43
        }
      ]
    },
    {
      "cell_type": "code",
      "source": [
        "class int(int):\n",
        "    def 제곱(self, 승수):\n",
        "        return self ** 승수\n",
        "\n",
        "value = int('10')\n",
        "print(dir(value))"
      ],
      "metadata": {
        "colab": {
          "base_uri": "https://localhost:8080/"
        },
        "id": "nznBq77dLcT3",
        "outputId": "2aab8030-ac5e-4b5c-e817-0cb977ad2db6"
      },
      "execution_count": null,
      "outputs": [
        {
          "output_type": "stream",
          "name": "stdout",
          "text": [
            "['__abs__', '__add__', '__and__', '__bool__', '__ceil__', '__class__', '__delattr__', '__dict__', '__dir__', '__divmod__', '__doc__', '__eq__', '__float__', '__floor__', '__floordiv__', '__format__', '__ge__', '__getattribute__', '__getnewargs__', '__gt__', '__hash__', '__index__', '__init__', '__init_subclass__', '__int__', '__invert__', '__le__', '__lshift__', '__lt__', '__mod__', '__module__', '__mul__', '__ne__', '__neg__', '__new__', '__or__', '__pos__', '__pow__', '__radd__', '__rand__', '__rdivmod__', '__reduce__', '__reduce_ex__', '__repr__', '__rfloordiv__', '__rlshift__', '__rmod__', '__rmul__', '__ror__', '__round__', '__rpow__', '__rrshift__', '__rshift__', '__rsub__', '__rtruediv__', '__rxor__', '__setattr__', '__sizeof__', '__str__', '__sub__', '__subclasshook__', '__truediv__', '__trunc__', '__xor__', 'as_integer_ratio', 'bit_count', 'bit_length', 'conjugate', 'denominator', 'from_bytes', 'imag', 'numerator', 'real', 'to_bytes', '제곱']\n"
          ]
        }
      ]
    },
    {
      "cell_type": "code",
      "source": [
        "value.제곱(3)"
      ],
      "metadata": {
        "colab": {
          "base_uri": "https://localhost:8080/"
        },
        "id": "kYsLYq9gLrPX",
        "outputId": "d9ddf270-f241-453d-9623-35ed00a140ed"
      },
      "execution_count": null,
      "outputs": [
        {
          "output_type": "execute_result",
          "data": {
            "text/plain": [
              "1000"
            ]
          },
          "metadata": {},
          "execution_count": 47
        }
      ]
    },
    {
      "cell_type": "code",
      "source": [
        "x = 10\n",
        "y = x\n",
        "z = y\n",
        "\n",
        "print(id(x), id(y), id(z))"
      ],
      "metadata": {
        "colab": {
          "base_uri": "https://localhost:8080/"
        },
        "id": "xVjI6ThsMB9u",
        "outputId": "55cbeeaf-06a7-4dd1-e995-884ad648f16f"
      },
      "execution_count": null,
      "outputs": [
        {
          "output_type": "stream",
          "name": "stdout",
          "text": [
            "139737727205904 139737727205904 139737727205904\n"
          ]
        }
      ]
    },
    {
      "cell_type": "code",
      "source": [
        "x = 10\n",
        "y = x\n",
        "x = 100\n",
        "\n",
        "print(x, y)\n",
        "print(id(x), id(y), id(z))"
      ],
      "metadata": {
        "colab": {
          "base_uri": "https://localhost:8080/"
        },
        "id": "GJKDS68IMmzo",
        "outputId": "a0216648-6f4a-47d4-a57f-aacecc995490"
      },
      "execution_count": null,
      "outputs": [
        {
          "output_type": "stream",
          "name": "stdout",
          "text": [
            "100 10\n",
            "139737727208784 139737727205904 139737727205904\n"
          ]
        }
      ]
    },
    {
      "cell_type": "markdown",
      "source": [
        "## 변수의 속성"
      ],
      "metadata": {
        "id": "FFjeof0zNY0T"
      }
    },
    {
      "cell_type": "markdown",
      "source": [
        "* 변수는 주로 스네이크 표기법을 많이 사용합니다. 물론 회사 컨벤션에 따르셔야 합니다.\n",
        "* 영문과 숫자를 사용할 수 있지만, 숫자로  시작하지는 못합니다.\n",
        "* 특수문자는 사용하지 않아요.(언더바(_)는  사용합니다. 스네이크 표기법, 특수문자나  이미중 사용 가능한 것들이 있기는 합니다.  권하지 않습니다.)\n",
        "* 예약어는 사용하지 않습니다.(if, elif, while, * for, etc)\n",
        "* 대소문자는 구분합니다.\n",
        "* 언더바로만 사용하거나 언더바로 시작할 수 있습니다.\n",
        "* 대문자로 시작하는 변수를 사용할 수 있지만, 관습적으로 대문자로 시작하는 변수는 Class로 만들기 때문에 소문자로 시작하는 변수를 만들기를 권합니다. Class는 보통 파스칼 표기법을 따릅니다. 다만 회사 컨벤션마다 다릅니다."
      ],
      "metadata": {
        "id": "sTV5prN9Nabn"
      }
    },
    {
      "cell_type": "code",
      "source": [
        "# 스네이크 표기법(Python에서 주로)\n",
        "hello_world = 10\n",
        "# 카멜 표기법(JavaScript에서 주로)\n",
        "helloWorldHello = 10\n",
        "# 파스칼 표기법(Class 같은 곳에서 많이 사용합니다.)\n",
        "Hello = 10"
      ],
      "metadata": {
        "id": "-tbrSTZZNtUC"
      },
      "execution_count": null,
      "outputs": []
    },
    {
      "cell_type": "code",
      "source": [
        "# 10hello = 100\n",
        "hello10 = 10\n",
        "\n",
        "π = 3.14 # 권하지 않습니다.\n",
        "print(π)\n",
        "\n",
        "_ = 100 # 언더바는 자주사용되는데 이렇게 사용되진 않습니다.\n",
        "print(_)"
      ],
      "metadata": {
        "colab": {
          "base_uri": "https://localhost:8080/"
        },
        "id": "xKCR8vbLhKiz",
        "outputId": "af958672-d495-4401-c9d9-21942d46db56"
      },
      "execution_count": null,
      "outputs": [
        {
          "output_type": "stream",
          "name": "stdout",
          "text": [
            "3.14\n",
            "100\n"
          ]
        }
      ]
    },
    {
      "cell_type": "code",
      "source": [
        "for _ in range(10): # 언더바를 순회 안에서 변수로 사용하지 않을때\n",
        "    print('hello')"
      ],
      "metadata": {
        "colab": {
          "base_uri": "https://localhost:8080/"
        },
        "id": "B1o_bhW8h8N2",
        "outputId": "2c24e4ea-3c35-44fa-bd2b-4d6aa91b93de"
      },
      "execution_count": null,
      "outputs": [
        {
          "output_type": "stream",
          "name": "stdout",
          "text": [
            "hello\n",
            "hello\n",
            "hello\n",
            "hello\n",
            "hello\n",
            "hello\n",
            "hello\n",
            "hello\n",
            "hello\n",
            "hello\n"
          ]
        }
      ]
    },
    {
      "cell_type": "code",
      "source": [
        "# if = 100\n",
        "# print = 100"
      ],
      "metadata": {
        "id": "Be5nklCtioHp"
      },
      "execution_count": null,
      "outputs": []
    },
    {
      "cell_type": "code",
      "source": [
        "# print('hello')"
      ],
      "metadata": {
        "id": "TdPmwWwEivQr"
      },
      "execution_count": null,
      "outputs": []
    },
    {
      "cell_type": "code",
      "source": [
        "print(a)"
      ],
      "metadata": {
        "id": "epuTd_98ipkE"
      },
      "execution_count": null,
      "outputs": []
    },
    {
      "cell_type": "markdown",
      "source": [
        "## 입력과 출력"
      ],
      "metadata": {
        "id": "C9gIfLKxjgPC"
      }
    },
    {
      "cell_type": "code",
      "source": [
        "x = input()\n",
        "x"
      ],
      "metadata": {
        "colab": {
          "base_uri": "https://localhost:8080/",
          "height": 53
        },
        "id": "OS4t2iv8jmkP",
        "outputId": "5337c5e7-4bd6-4c36-f543-9cafaffdb628"
      },
      "execution_count": null,
      "outputs": [
        {
          "name": "stdout",
          "output_type": "stream",
          "text": [
            "10\n"
          ]
        },
        {
          "output_type": "execute_result",
          "data": {
            "text/plain": [
              "'10'"
            ],
            "application/vnd.google.colaboratory.intrinsic+json": {
              "type": "string"
            }
          },
          "metadata": {},
          "execution_count": 1
        }
      ]
    },
    {
      "cell_type": "code",
      "source": [
        "x + x # 사용자에게 받은 입력은 str"
      ],
      "metadata": {
        "colab": {
          "base_uri": "https://localhost:8080/",
          "height": 35
        },
        "id": "pyfzi-a0jqcJ",
        "outputId": "01acbb47-73d0-4267-fb46-e9fe1a929152"
      },
      "execution_count": null,
      "outputs": [
        {
          "output_type": "execute_result",
          "data": {
            "text/plain": [
              "'1010'"
            ],
            "application/vnd.google.colaboratory.intrinsic+json": {
              "type": "string"
            }
          },
          "metadata": {},
          "execution_count": 2
        }
      ]
    },
    {
      "cell_type": "code",
      "source": [
        "print(10, 10, 10)"
      ],
      "metadata": {
        "colab": {
          "base_uri": "https://localhost:8080/"
        },
        "id": "ZNu_lO_Oj5rb",
        "outputId": "b8847449-a26e-48f2-a79d-bc0a45e932e3"
      },
      "execution_count": null,
      "outputs": [
        {
          "output_type": "stream",
          "name": "stdout",
          "text": [
            "10 10 10\n"
          ]
        }
      ]
    },
    {
      "cell_type": "code",
      "source": [
        "print('hello', 'world', 'hello')"
      ],
      "metadata": {
        "colab": {
          "base_uri": "https://localhost:8080/"
        },
        "id": "kcLLhU-6j_Kt",
        "outputId": "03e22899-74b2-4d2c-f76b-67c7311d8483"
      },
      "execution_count": null,
      "outputs": [
        {
          "output_type": "stream",
          "name": "stdout",
          "text": [
            "hello world hello\n"
          ]
        }
      ]
    },
    {
      "cell_type": "code",
      "source": [
        "print(x, x)"
      ],
      "metadata": {
        "colab": {
          "base_uri": "https://localhost:8080/"
        },
        "id": "OcIAAy_mkCV6",
        "outputId": "0dd6f508-1c1f-4562-fd13-e4dee4443ed2"
      },
      "execution_count": null,
      "outputs": [
        {
          "output_type": "stream",
          "name": "stdout",
          "text": [
            "10 10\n"
          ]
        }
      ]
    },
    {
      "cell_type": "code",
      "source": [
        "print('hello world', end='!')\n",
        "print('hello world', end='!')\n",
        "print('hello world', end='!')"
      ],
      "metadata": {
        "colab": {
          "base_uri": "https://localhost:8080/"
        },
        "id": "1bNLt-0Qkpcc",
        "outputId": "b80b9d3b-0a4b-4585-cb5a-e27981197cac"
      },
      "execution_count": null,
      "outputs": [
        {
          "output_type": "stream",
          "name": "stdout",
          "text": [
            "hello world!hello world!hello world!"
          ]
        }
      ]
    },
    {
      "cell_type": "code",
      "source": [
        "print('hello', 'world', sep='!')\n",
        "print('010', '5044', '2903', sep='-')"
      ],
      "metadata": {
        "colab": {
          "base_uri": "https://localhost:8080/"
        },
        "id": "8CEEGCjSk8d_",
        "outputId": "119e3ac4-e2cb-4fb4-842d-e3c2d2c8c7b7"
      },
      "execution_count": null,
      "outputs": [
        {
          "output_type": "stream",
          "name": "stdout",
          "text": [
            "hello!world\n",
            "010-5044-2903\n"
          ]
        }
      ]
    },
    {
      "cell_type": "code",
      "source": [
        "이름 = '이호준'\n",
        "나이 = 10\n",
        "\n",
        "print('1. 제 이름은 이호준입니다. 제 나이는 10입니다.')\n",
        "print('2. 제 이름은 ', 이름, '입니다. 제 나이는 ', 나이, '입니다.', sep='')\n",
        "print('3. 제 이름은 %s입니다. 제 나이는 %d입니다.'%(이름, 나이))\n",
        "print('4. 제 이름은 {}입니다. 제 나이는 {}입니다.'.format(이름, 나이))\n",
        "print(f'4. 제 이름은 {이름}입니다. 제 나이는 {나이}입니다.')"
      ],
      "metadata": {
        "colab": {
          "base_uri": "https://localhost:8080/"
        },
        "id": "_0vtWPkrlX6l",
        "outputId": "8ce8d5dc-578c-4e47-b68f-18612da486dc"
      },
      "execution_count": null,
      "outputs": [
        {
          "output_type": "stream",
          "name": "stdout",
          "text": [
            "1. 제 이름은 이호준입니다. 제 나이는 10입니다.\n",
            "2. 제 이름은 이호준입니다. 제 나이는 10입니다.\n",
            "3. 제 이름은 이호준입니다. 제 나이는 10입니다.\n",
            "4. 제 이름은 이호준입니다. 제 나이는 10입니다.\n",
            "4. 제 이름은 이호준입니다. 제 나이는 10입니다.\n"
          ]
        }
      ]
    },
    {
      "cell_type": "markdown",
      "source": [
        "[포멧코드](https://www.notion.so/paullabworkspace/9fd33417740f4eba8715f5c4a1ed7c7b?v=e01ecdfe2f9448dcaad68b03a38057a5)"
      ],
      "metadata": {
        "id": "PfuMr8ngmSFp"
      }
    },
    {
      "cell_type": "markdown",
      "source": [
        "## formatting"
      ],
      "metadata": {
        "id": "XR_vDYS-m4Tz"
      }
    },
    {
      "cell_type": "code",
      "source": [
        "print(f'{100 * 10}')"
      ],
      "metadata": {
        "colab": {
          "base_uri": "https://localhost:8080/"
        },
        "id": "omTW7TVTm-fX",
        "outputId": "6b21c3da-3f2c-490f-ba2c-421a3fb6123f"
      },
      "execution_count": null,
      "outputs": [
        {
          "output_type": "stream",
          "name": "stdout",
          "text": [
            "1000\n"
          ]
        }
      ]
    },
    {
      "cell_type": "code",
      "source": [
        "# 중괄호 안에서 복잡한 연산을 하시는 것을 권하지 않습니다.\n",
        "result = 100 * 10\n",
        "print(f'{result}')"
      ],
      "metadata": {
        "id": "bJDOI64PnF99"
      },
      "execution_count": null,
      "outputs": []
    },
    {
      "cell_type": "code",
      "source": [
        "# 이런 문법은 필요에 의해 검색해 보시다 보면 익숙해집니다.\n",
        "print(f'{\"hello\":<10}')\n",
        "print(f'{\"hello\":>10}')\n",
        "print(f'{\"hello\":^10}')"
      ],
      "metadata": {
        "colab": {
          "base_uri": "https://localhost:8080/"
        },
        "id": "8kv6uEcwnYkX",
        "outputId": "2ebe3d5f-d194-470a-de71-13713eb1a70a"
      },
      "execution_count": null,
      "outputs": [
        {
          "output_type": "stream",
          "name": "stdout",
          "text": [
            "hello     \n",
            "     hello\n",
            "  hello   \n"
          ]
        }
      ]
    },
    {
      "cell_type": "code",
      "source": [
        "txt = 'hello'\n",
        "i = 10\n",
        "print(f'{txt:>10}')\n",
        "print(f'{txt:>{i}}')"
      ],
      "metadata": {
        "colab": {
          "base_uri": "https://localhost:8080/"
        },
        "id": "hLkrUPx2ny0Y",
        "outputId": "ea68f2f7-a61a-4a36-b4a9-93235d274ffe"
      },
      "execution_count": null,
      "outputs": [
        {
          "output_type": "stream",
          "name": "stdout",
          "text": [
            "     hello\n",
            "     hello\n"
          ]
        }
      ]
    },
    {
      "cell_type": "code",
      "source": [
        "# 이런 문법은 필요에 의해 검색해 보시다 보면 익숙해집니다.\n",
        "print(f'{\"hello\":!<10}')\n",
        "print(f'{\"hello\":!>10}')\n",
        "print(f'{\"hello\":!^10}')"
      ],
      "metadata": {
        "colab": {
          "base_uri": "https://localhost:8080/"
        },
        "id": "n62hbKeNoTVV",
        "outputId": "c6ed5559-240d-4247-f0bc-60efe903e6d5"
      },
      "execution_count": null,
      "outputs": [
        {
          "output_type": "stream",
          "name": "stdout",
          "text": [
            "hello!!!!!\n",
            "!!!!!hello\n",
            "!!hello!!!\n"
          ]
        }
      ]
    },
    {
      "cell_type": "code",
      "source": [
        "# 이런 문법은 필요에 의해 검색해 보시다 보면 익숙해집니다.\n",
        "print(f'{\"hello\":=<10}')\n",
        "print(f'{\"hello\":=>10}')\n",
        "print(f'{\"hello\":=^10}')"
      ],
      "metadata": {
        "colab": {
          "base_uri": "https://localhost:8080/"
        },
        "id": "axrE4QpioXxM",
        "outputId": "227971e9-0872-41fb-aa7e-a0d93a7d4c3c"
      },
      "execution_count": null,
      "outputs": [
        {
          "output_type": "stream",
          "name": "stdout",
          "text": [
            "hello=====\n",
            "=====hello\n",
            "==hello===\n"
          ]
        }
      ]
    },
    {
      "cell_type": "code",
      "source": [
        "# 둘 다 잊으셔도 됩니다.\n",
        "# 어디에 활용되는지 궁금하다 하신 분이 있으셔서 해드린 것입니다.\n",
        "# https://tech.kakao.com/2017/09/27/kakao-blind-recruitment-round-1/\n",
        "bin(9)\n",
        "print(f'{bin(9)[2:]:0>5}')"
      ],
      "metadata": {
        "colab": {
          "base_uri": "https://localhost:8080/"
        },
        "id": "5TNQyBt_ojF8",
        "outputId": "2bb8e28c-aff0-49b4-dcc3-5029ae51627b"
      },
      "execution_count": null,
      "outputs": [
        {
          "output_type": "stream",
          "name": "stdout",
          "text": [
            "01001\n"
          ]
        }
      ]
    },
    {
      "cell_type": "code",
      "source": [
        "bin(9 | 30)[2:].replace('1', '#').replace('0', ' ')"
      ],
      "metadata": {
        "colab": {
          "base_uri": "https://localhost:8080/",
          "height": 35
        },
        "id": "fyIvpBy9ut_f",
        "outputId": "e249fb79-cb1e-4806-edff-ced6e3867c14"
      },
      "execution_count": null,
      "outputs": [
        {
          "output_type": "execute_result",
          "data": {
            "text/plain": [
              "'#####'"
            ],
            "application/vnd.google.colaboratory.intrinsic+json": {
              "type": "string"
            }
          },
          "metadata": {},
          "execution_count": 32
        }
      ]
    },
    {
      "cell_type": "code",
      "source": [
        "# 요정도 활용을 합니다.\n",
        "print(f'{\"start\":-^20}')"
      ],
      "metadata": {
        "colab": {
          "base_uri": "https://localhost:8080/"
        },
        "id": "T7rYR1VBvC7G",
        "outputId": "8e826cdb-7b28-4d7e-e3d7-6b7e0ac207f6"
      },
      "execution_count": null,
      "outputs": [
        {
          "output_type": "stream",
          "name": "stdout",
          "text": [
            "-------start--------\n"
          ]
        }
      ]
    },
    {
      "cell_type": "code",
      "source": [
        "print(f'{0.12345:0.2f}')"
      ],
      "metadata": {
        "colab": {
          "base_uri": "https://localhost:8080/"
        },
        "id": "K3L31a-cvdwN",
        "outputId": "efd9b7b2-0d27-4b74-ee0a-5190f6f5f9f7"
      },
      "execution_count": null,
      "outputs": [
        {
          "output_type": "stream",
          "name": "stdout",
          "text": [
            "0.12\n"
          ]
        }
      ]
    },
    {
      "cell_type": "markdown",
      "source": [
        "* 이 아래 코드는 필수는 아닙니다. 참고삼아서만 넣어드립니다."
      ],
      "metadata": {
        "id": "uyzkMXZav0so"
      }
    },
    {
      "cell_type": "code",
      "source": [
        "# 이전 방식\n",
        "print('나의 이름은 %s입니다'%('한사람'))\n",
        "print('나의 이름은 \"%s\"입니다. 나이는 %d세이고 성별은 %s입니다.'%('한사람',33,'남성'))\n",
        "print('나이는 %d세이고 성별은 %s입니다. 나의 이름은 %s입니다. '%(33,'남성','한사람'))\n",
        "print('나이는 %03d세이고 신장은 %6.2f입니다. 나의 이름은 %s입니다. '%(33,56.789,'한사람'))\n",
        "print('-' * 40)\n",
        "\n",
        "# 파이썬(Python) 3 포맷팅 방식\n",
        "print('나의 이름은 {}입니다'.format('한사람'))\n",
        "print('나의 이름은 {0}입니다. 나이는 {1}세이고 성별은 {2}입니다.'.format('한사람',33,'남성'))\n",
        "print('나이는 {1}세이고 성별은 {2}입니다. 나의 이름은 {0}입니다. '.format('한사람',33,'남성'))\n",
        "print('나이는 {age}세이고 성별은 {gender}입니다. 나의 이름은 {name}입니다. '\n",
        "         .format(name='한사람',age=33,gender='남성'))\n",
        "print('만세삼창 :  {0}!!! {0}!!! {0}!!! '.format('만세'))\n",
        "print('삼삼칠 박수 :  {0}!!! {0}!!! {1}!!! '.format('짝'*3,'짝'*7))\n",
        "print('-' * 40)\n",
        "\n",
        "# 파이썬(Python) 3.6 f-string 방식\n",
        "something = '볼펜'\n",
        "EA = 2\n",
        "one_length = 5.343\n",
        "scale = 'cm'\n",
        "\n",
        "print(f'{something} {EA}개의 길이는 {one_length*EA}{scale} 입니다.')\n",
        "print(f'{something} {EA}개의 길이는 {one_length*EA:.1f}{scale} 입니다.')"
      ],
      "metadata": {
        "colab": {
          "base_uri": "https://localhost:8080/"
        },
        "id": "d1sO91etvpoy",
        "outputId": "e256b758-a0de-4554-946a-bf4a1c3b14bb"
      },
      "execution_count": null,
      "outputs": [
        {
          "output_type": "stream",
          "name": "stdout",
          "text": [
            "나의 이름은 한사람입니다\n",
            "나의 이름은 \"한사람\"입니다. 나이는 33세이고 성별은 남성입니다.\n",
            "나이는 33세이고 성별은 남성입니다. 나의 이름은 한사람입니다. \n",
            "나이는 033세이고 신장은  56.79입니다. 나의 이름은 한사람입니다. \n",
            "----------------------------------------\n",
            "나의 이름은 한사람입니다\n",
            "나의 이름은 한사람입니다. 나이는 33세이고 성별은 남성입니다.\n",
            "나이는 33세이고 성별은 남성입니다. 나의 이름은 한사람입니다. \n",
            "나이는 33세이고 성별은 남성입니다. 나의 이름은 한사람입니다. \n",
            "만세삼창 :  만세!!! 만세!!! 만세!!! \n",
            "삼삼칠 박수 :  짝짝짝!!! 짝짝짝!!! 짝짝짝짝짝짝짝!!! \n",
            "----------------------------------------\n",
            "볼펜 2개의 길이는 10.686cm 입니다.\n",
            "볼펜 2개의 길이는 10.7cm 입니다.\n"
          ]
        }
      ]
    },
    {
      "cell_type": "code",
      "source": [
        "print('Python is [{:15}]'.format('good'))\n",
        "print('Python is [{:<15}]'.format('good'))\n",
        "print('Python is [{:>15}]'.format('good'))\n",
        "print('Python is [{:^15}]'.format('good'))\n",
        "print('당신의 나이는 [{:15}]세'.format(22))\n",
        "print('당신의 나이는 [{:<15}]세'.format(22))\n",
        "print('당신의 나이는 [{:>15}]세'.format(22))\n",
        "print('당신의 나이는 [{:<15}]세'.format(22))\n",
        "print('-' * 40)"
      ],
      "metadata": {
        "colab": {
          "base_uri": "https://localhost:8080/"
        },
        "id": "Y-ZNxOJdwRuP",
        "outputId": "fa702544-3e34-46af-9837-9286922b499e"
      },
      "execution_count": null,
      "outputs": [
        {
          "output_type": "stream",
          "name": "stdout",
          "text": [
            "Python is [good           ]\n",
            "Python is [good           ]\n",
            "Python is [           good]\n",
            "Python is [     good      ]\n",
            "당신의 나이는 [             22]세\n",
            "당신의 나이는 [22             ]세\n",
            "당신의 나이는 [             22]세\n",
            "당신의 나이는 [22             ]세\n",
            "----------------------------------------\n"
          ]
        }
      ]
    },
    {
      "cell_type": "code",
      "source": [
        "char_a = '5'\n",
        "int_a = 5\n",
        "\n",
        "'''기본적으로 {} 포맷팅의 특성을 그대로 가짐'''\n",
        "print(1234567890)\n",
        "print(f'{char_a:>5}') # >는 오른쪽정렬\n",
        "print(f'{char_a:<5}') # <는 왼쪽정렬\n",
        "print(f'{char_a:^5}') # ^는 가운데정렬\n",
        "print(f'{int_a:0<5}')# <는 왼쪽정렬, 빈자리를 0으로 채울수도 있음\n",
        "print(f'{int_a:^10.2f}') # ^ 가운데 정렬하면서 float 타입지정"
      ],
      "metadata": {
        "colab": {
          "base_uri": "https://localhost:8080/"
        },
        "id": "kFC3UtW_wXLj",
        "outputId": "b669398e-3d1d-4905-8a13-e047d4becf4d"
      },
      "execution_count": null,
      "outputs": [
        {
          "output_type": "stream",
          "name": "stdout",
          "text": [
            "1234567890\n",
            "    5\n",
            "5    \n",
            "  5  \n",
            "50000\n",
            "   5.00   \n"
          ]
        }
      ]
    },
    {
      "cell_type": "markdown",
      "source": [
        "## int (정수)"
      ],
      "metadata": {
        "id": "4FuHS2SOwmjX"
      }
    },
    {
      "cell_type": "markdown",
      "source": [
        "* 파이썬에서는 숫자를 정수, 실수, 복소수로 나눠 표현합니다.\n",
        "* 2진수, 8진수, 16진수는 정수로 표현됩니다."
      ],
      "metadata": {
        "id": "Ko_gJdPCworV"
      }
    },
    {
      "cell_type": "code",
      "source": [
        "a = 1234567899999999999999999999999999999999999999999999999999999\n",
        "print(type(a))\n",
        "# 2.x에서는 int와 long 두 가지가 있었는데 Python3에서는 int만 있습니다! 아무리 큰 수가 담겨도 int!"
      ],
      "metadata": {
        "colab": {
          "base_uri": "https://localhost:8080/"
        },
        "id": "MhK97dTUevn4",
        "outputId": "d033c7ef-8a76-4ce0-cce9-7c621c2c1ab4"
      },
      "execution_count": null,
      "outputs": [
        {
          "output_type": "stream",
          "name": "stdout",
          "text": [
            "<class 'int'>\n"
          ]
        }
      ]
    },
    {
      "cell_type": "code",
      "source": [
        "a = 10**100 # 구골(googol)\n",
        "print(a)\n",
        "print(type(a))"
      ],
      "metadata": {
        "colab": {
          "base_uri": "https://localhost:8080/"
        },
        "id": "OfywK4cngPB1",
        "outputId": "f017b5b9-8509-40db-c1a5-37d6e75d1c5d"
      },
      "execution_count": null,
      "outputs": [
        {
          "output_type": "stream",
          "name": "stdout",
          "text": [
            "10000000000000000000000000000000000000000000000000000000000000000000000000000000000000000000000000000\n",
            "<class 'int'>\n"
          ]
        }
      ]
    },
    {
      "cell_type": "code",
      "source": [
        "10 # 정수\n",
        "-10 # 정수\n",
        "10.1 # 실수\n",
        "\n",
        "a = 10\n",
        "type(a)\n",
        "dir(a)"
      ],
      "metadata": {
        "colab": {
          "base_uri": "https://localhost:8080/"
        },
        "id": "j1lMIQSMwynh",
        "outputId": "d6c12d1f-a670-4391-8dbe-71f59958b537"
      },
      "execution_count": null,
      "outputs": [
        {
          "output_type": "execute_result",
          "data": {
            "text/plain": [
              "['__abs__',\n",
              " '__add__',\n",
              " '__and__',\n",
              " '__bool__',\n",
              " '__ceil__',\n",
              " '__class__',\n",
              " '__delattr__',\n",
              " '__dir__',\n",
              " '__divmod__',\n",
              " '__doc__',\n",
              " '__eq__',\n",
              " '__float__',\n",
              " '__floor__',\n",
              " '__floordiv__',\n",
              " '__format__',\n",
              " '__ge__',\n",
              " '__getattribute__',\n",
              " '__getnewargs__',\n",
              " '__gt__',\n",
              " '__hash__',\n",
              " '__index__',\n",
              " '__init__',\n",
              " '__init_subclass__',\n",
              " '__int__',\n",
              " '__invert__',\n",
              " '__le__',\n",
              " '__lshift__',\n",
              " '__lt__',\n",
              " '__mod__',\n",
              " '__mul__',\n",
              " '__ne__',\n",
              " '__neg__',\n",
              " '__new__',\n",
              " '__or__',\n",
              " '__pos__',\n",
              " '__pow__',\n",
              " '__radd__',\n",
              " '__rand__',\n",
              " '__rdivmod__',\n",
              " '__reduce__',\n",
              " '__reduce_ex__',\n",
              " '__repr__',\n",
              " '__rfloordiv__',\n",
              " '__rlshift__',\n",
              " '__rmod__',\n",
              " '__rmul__',\n",
              " '__ror__',\n",
              " '__round__',\n",
              " '__rpow__',\n",
              " '__rrshift__',\n",
              " '__rshift__',\n",
              " '__rsub__',\n",
              " '__rtruediv__',\n",
              " '__rxor__',\n",
              " '__setattr__',\n",
              " '__sizeof__',\n",
              " '__str__',\n",
              " '__sub__',\n",
              " '__subclasshook__',\n",
              " '__truediv__',\n",
              " '__trunc__',\n",
              " '__xor__',\n",
              " 'as_integer_ratio',\n",
              " 'bit_count',\n",
              " 'bit_length',\n",
              " 'conjugate',\n",
              " 'denominator',\n",
              " 'from_bytes',\n",
              " 'imag',\n",
              " 'numerator',\n",
              " 'real',\n",
              " 'to_bytes']"
            ]
          },
          "metadata": {},
          "execution_count": 39
        }
      ]
    },
    {
      "cell_type": "code",
      "source": [
        "'bit_length' # bit로 바꾸었을 때 비트의 길이\n",
        "'to_bytes' # 컴퓨터에 저장하는 바이트의 형태로 숫자를 표현"
      ],
      "metadata": {
        "id": "I_RKmj4RxBqD"
      },
      "execution_count": null,
      "outputs": []
    },
    {
      "cell_type": "code",
      "source": [
        "# 1Bit, 0 ~ 1 # bit - 1자리\n",
        "# 1Bytes = 8bit, 00000000 ~ 11111111 # 1byte - 8bit\n",
        "# 1KB (키로바이트) = 1024Bytes\n",
        "# 1MB (메가바이트) = 1024KB\n",
        "# 1GB (기가바이트) = 1024MB\n",
        "# 1TB (테라바이트) = 1024GB\n",
        "# 1PB (페타바이트) = 1024TB"
      ],
      "metadata": {
        "id": "5UtZn0RcxvAh"
      },
      "execution_count": null,
      "outputs": []
    },
    {
      "cell_type": "code",
      "source": [
        "(9).bit_length() # 1001"
      ],
      "metadata": {
        "colab": {
          "base_uri": "https://localhost:8080/"
        },
        "id": "Cuc-iV-CzVBJ",
        "outputId": "07676816-b93d-4ca8-b682-5bde0e07dd96"
      },
      "execution_count": null,
      "outputs": [
        {
          "output_type": "execute_result",
          "data": {
            "text/plain": [
              "4"
            ]
          },
          "metadata": {},
          "execution_count": 41
        }
      ]
    },
    {
      "cell_type": "code",
      "source": [
        "# 컴퓨터가 숫자를 어떻게 저장하는가?\n",
        "(2).to_bytes(1, byteorder='little', signed=True)\n",
        "(1).to_bytes(1, byteorder='little', signed=True)\n",
        "(0).to_bytes(1, byteorder='little', signed=True)\n",
        "(-1).to_bytes(1, byteorder='little', signed=True)\n",
        "(-2).to_bytes(1, byteorder='little', signed=True)"
      ],
      "metadata": {
        "colab": {
          "base_uri": "https://localhost:8080/"
        },
        "id": "E5m6x8zGzuGt",
        "outputId": "a67de90d-f5e1-4730-ca29-3ebbc6e52967"
      },
      "execution_count": null,
      "outputs": [
        {
          "output_type": "execute_result",
          "data": {
            "text/plain": [
              "b'\\xfe'"
            ]
          },
          "metadata": {},
          "execution_count": 49
        }
      ]
    },
    {
      "cell_type": "code",
      "source": [
        "# 컴퓨터는 음수를 자체적으로 표현할 수 없기에 2의 보수를 사용합니다. \n",
        "# 1의 보수를 사용하게 되면 +0과 -0이 존재하게 됨으로 비트 하나를 낭비하게 됩니다. \n",
        "# 따라서 2의 보수를 사용합니다."
      ],
      "metadata": {
        "id": "0YYHT-bB0hMN"
      },
      "execution_count": null,
      "outputs": []
    },
    {
      "cell_type": "code",
      "source": [
        "# 0000 0001 # 1\n",
        "# 1111 1110 # 1의 1의 보수\n",
        "# 1111 1111 # 1의 2의 보수 => ff"
      ],
      "metadata": {
        "id": "qL8ZgRC72Up-"
      },
      "execution_count": null,
      "outputs": []
    },
    {
      "cell_type": "code",
      "source": [
        "# 진법 변환 쉽게 하는 법 : 가장 가까운 승수를 찾아 더하거나 뺍니다.\n",
        "# 10진법\n",
        "# 0 1 2 3 4 5 6 7 8 9 -> 10\n",
        "# 1324 = 1*10^3 + 3*10^2 + 2*10^1 + 4*10^0\n",
        "\n",
        "# 2진법\n",
        "# 0 1 -> 10\n",
        "# 1001 = 1*2^3 + 1*2^0 = 9\n",
        "\n",
        "# 8진법\n",
        "# 0 1 2 3 4 5 6 7 -> 10\n",
        "\n",
        "# 16진법\n",
        "# 0 1 2 3 4 5 6 7 8 9 a b c d e f -> 10"
      ],
      "metadata": {
        "id": "pie3v6Ov2uS-"
      },
      "execution_count": null,
      "outputs": []
    },
    {
      "cell_type": "code",
      "source": [
        "# color의 표현\n",
        "# 2596be\n",
        "# 000000 ~ ffffff\n",
        "# ff는 10진수로 무슨 숫자를 의미\n",
        "# 100 - 1 => ff가 됩니다. 그래서 256 - 1"
      ],
      "metadata": {
        "id": "hJ-Qs3MZ7muX"
      },
      "execution_count": null,
      "outputs": []
    },
    {
      "cell_type": "code",
      "source": [
        "a = 10\n",
        "type(a)"
      ],
      "metadata": {
        "colab": {
          "base_uri": "https://localhost:8080/"
        },
        "id": "JQ-C9p_r8FWJ",
        "outputId": "a1d66be7-4e58-48a8-db7c-b5104ac3424d"
      },
      "execution_count": null,
      "outputs": [
        {
          "output_type": "execute_result",
          "data": {
            "text/plain": [
              "int"
            ]
          },
          "metadata": {},
          "execution_count": 50
        }
      ]
    },
    {
      "cell_type": "code",
      "source": [
        "int('10') + int('10')"
      ],
      "metadata": {
        "colab": {
          "base_uri": "https://localhost:8080/"
        },
        "id": "R1c4KnaW8M3F",
        "outputId": "ab98cd94-0b49-4c03-9008-fc091ab4f0c6"
      },
      "execution_count": null,
      "outputs": [
        {
          "output_type": "execute_result",
          "data": {
            "text/plain": [
              "20"
            ]
          },
          "metadata": {},
          "execution_count": 52
        }
      ]
    },
    {
      "cell_type": "code",
      "source": [
        "int('10', 2) # 2진법으로 10은?"
      ],
      "metadata": {
        "colab": {
          "base_uri": "https://localhost:8080/"
        },
        "id": "_UQMFy8K8SbR",
        "outputId": "2dd9f93c-5437-42e4-8dd6-98db58d32d25"
      },
      "execution_count": null,
      "outputs": [
        {
          "output_type": "execute_result",
          "data": {
            "text/plain": [
              "2"
            ]
          },
          "metadata": {},
          "execution_count": 53
        }
      ]
    },
    {
      "cell_type": "code",
      "source": [
        "int('10', 8) # 8진법으로 10은?"
      ],
      "metadata": {
        "colab": {
          "base_uri": "https://localhost:8080/"
        },
        "id": "rKGPnSv58Z2I",
        "outputId": "2c5b1ef6-ff2e-4640-b68e-4bcdd4709c40"
      },
      "execution_count": null,
      "outputs": [
        {
          "output_type": "execute_result",
          "data": {
            "text/plain": [
              "8"
            ]
          },
          "metadata": {},
          "execution_count": 54
        }
      ]
    },
    {
      "cell_type": "code",
      "source": [
        "int('10', 16) # 16진법으로 10은?"
      ],
      "metadata": {
        "colab": {
          "base_uri": "https://localhost:8080/"
        },
        "id": "ukJkUEpF8cVh",
        "outputId": "d2637643-d21f-4a7a-ff69-3978c489cf99"
      },
      "execution_count": null,
      "outputs": [
        {
          "output_type": "execute_result",
          "data": {
            "text/plain": [
              "16"
            ]
          },
          "metadata": {},
          "execution_count": 55
        }
      ]
    },
    {
      "cell_type": "code",
      "source": [
        "print(0b110) # 바이너리 - 2진수\n",
        "print(0o110) # 옥타 - 8진수\n",
        "print(0x110) # 헥사 - 16진수"
      ],
      "metadata": {
        "colab": {
          "base_uri": "https://localhost:8080/"
        },
        "id": "ioMm-g158f-t",
        "outputId": "31abe74b-7786-4e2c-991f-f04718b50331"
      },
      "execution_count": null,
      "outputs": [
        {
          "output_type": "execute_result",
          "data": {
            "text/plain": [
              "6"
            ]
          },
          "metadata": {},
          "execution_count": 56
        }
      ]
    },
    {
      "cell_type": "code",
      "source": [
        "type(0b110)"
      ],
      "metadata": {
        "colab": {
          "base_uri": "https://localhost:8080/"
        },
        "id": "wuiWS5Uo9Fho",
        "outputId": "147ede1c-e202-4e87-97e7-504af24c4269"
      },
      "execution_count": null,
      "outputs": [
        {
          "output_type": "execute_result",
          "data": {
            "text/plain": [
              "int"
            ]
          },
          "metadata": {},
          "execution_count": 58
        }
      ]
    },
    {
      "cell_type": "code",
      "source": [
        "a = 10\n",
        "type(a) == int\n",
        "isinstance(a, int)"
      ],
      "metadata": {
        "colab": {
          "base_uri": "https://localhost:8080/"
        },
        "id": "oFCaE7CZ89hT",
        "outputId": "a30a372c-c144-4df4-ee82-9957b818f66d"
      },
      "execution_count": null,
      "outputs": [
        {
          "output_type": "execute_result",
          "data": {
            "text/plain": [
              "True"
            ]
          },
          "metadata": {},
          "execution_count": 57
        }
      ]
    },
    {
      "cell_type": "markdown",
      "source": [
        "## float (실수)"
      ],
      "metadata": {
        "id": "WHtIN8oG9DTD"
      }
    },
    {
      "cell_type": "code",
      "source": [
        "a = 10.1\n",
        "\n",
        "type(a)"
      ],
      "metadata": {
        "colab": {
          "base_uri": "https://localhost:8080/"
        },
        "id": "49Yqsf7h9Mr9",
        "outputId": "4dfa6e6e-b144-4cc4-ec76-4e0fb3c5acb4"
      },
      "execution_count": null,
      "outputs": [
        {
          "output_type": "execute_result",
          "data": {
            "text/plain": [
              "float"
            ]
          },
          "metadata": {},
          "execution_count": 59
        }
      ]
    },
    {
      "cell_type": "code",
      "source": [
        "dir(a)"
      ],
      "metadata": {
        "colab": {
          "base_uri": "https://localhost:8080/"
        },
        "id": "IFSd_1Vv9QxQ",
        "outputId": "f157b952-f68f-4afb-a904-b62c3fcecaee"
      },
      "execution_count": null,
      "outputs": [
        {
          "output_type": "execute_result",
          "data": {
            "text/plain": [
              "['__abs__',\n",
              " '__add__',\n",
              " '__bool__',\n",
              " '__ceil__',\n",
              " '__class__',\n",
              " '__delattr__',\n",
              " '__dir__',\n",
              " '__divmod__',\n",
              " '__doc__',\n",
              " '__eq__',\n",
              " '__float__',\n",
              " '__floor__',\n",
              " '__floordiv__',\n",
              " '__format__',\n",
              " '__ge__',\n",
              " '__getattribute__',\n",
              " '__getformat__',\n",
              " '__getnewargs__',\n",
              " '__gt__',\n",
              " '__hash__',\n",
              " '__init__',\n",
              " '__init_subclass__',\n",
              " '__int__',\n",
              " '__le__',\n",
              " '__lt__',\n",
              " '__mod__',\n",
              " '__mul__',\n",
              " '__ne__',\n",
              " '__neg__',\n",
              " '__new__',\n",
              " '__pos__',\n",
              " '__pow__',\n",
              " '__radd__',\n",
              " '__rdivmod__',\n",
              " '__reduce__',\n",
              " '__reduce_ex__',\n",
              " '__repr__',\n",
              " '__rfloordiv__',\n",
              " '__rmod__',\n",
              " '__rmul__',\n",
              " '__round__',\n",
              " '__rpow__',\n",
              " '__rsub__',\n",
              " '__rtruediv__',\n",
              " '__setattr__',\n",
              " '__setformat__',\n",
              " '__sizeof__',\n",
              " '__str__',\n",
              " '__sub__',\n",
              " '__subclasshook__',\n",
              " '__truediv__',\n",
              " '__trunc__',\n",
              " 'as_integer_ratio',\n",
              " 'conjugate',\n",
              " 'fromhex',\n",
              " 'hex',\n",
              " 'imag',\n",
              " 'is_integer',\n",
              " 'real']"
            ]
          },
          "metadata": {},
          "execution_count": 60
        }
      ]
    },
    {
      "cell_type": "code",
      "source": [
        "a = 10\n",
        "b = 10.1\n",
        "\n",
        "a + b # 다른 일부 언어에서는 허용되지 않습니다. "
      ],
      "metadata": {
        "colab": {
          "base_uri": "https://localhost:8080/"
        },
        "id": "_xpjzwvH9W0E",
        "outputId": "c750b6b5-b164-4523-bc1e-41cb6fdc585f"
      },
      "execution_count": null,
      "outputs": [
        {
          "output_type": "execute_result",
          "data": {
            "text/plain": [
              "20.1"
            ]
          },
          "metadata": {},
          "execution_count": 61
        }
      ]
    },
    {
      "cell_type": "code",
      "source": [
        "# 부동소수점 오차(2진법으로 변환했을 때 0.1이 무한대수가 발생합니다.)\n",
        "0.1 + 0.2 # 대부분의 언어 공통입니다."
      ],
      "metadata": {
        "colab": {
          "base_uri": "https://localhost:8080/"
        },
        "id": "iPOP5_j09huq",
        "outputId": "8a8c50ce-4f0d-45d2-bb2d-774b8c10515f"
      },
      "execution_count": null,
      "outputs": [
        {
          "output_type": "execute_result",
          "data": {
            "text/plain": [
              "0.30000000000000004"
            ]
          },
          "metadata": {},
          "execution_count": 62
        }
      ]
    },
    {
      "cell_type": "code",
      "source": [
        "a = 0.1"
      ],
      "metadata": {
        "id": "WRmNCo4R93bc"
      },
      "execution_count": null,
      "outputs": []
    },
    {
      "cell_type": "code",
      "source": [
        "# 20번 반복해보세요.\n",
        "a = a + 0.1\n",
        "a"
      ],
      "metadata": {
        "colab": {
          "base_uri": "https://localhost:8080/"
        },
        "id": "5qPsROhP95mk",
        "outputId": "f02fcd5b-8a01-4116-81e4-d48fbde3e5bc"
      },
      "execution_count": null,
      "outputs": [
        {
          "output_type": "execute_result",
          "data": {
            "text/plain": [
              "1.0999999999999999"
            ]
          },
          "metadata": {},
          "execution_count": 73
        }
      ]
    },
    {
      "cell_type": "markdown",
      "source": [
        "* https://docs.python.org/ko/3/tutorial/floatingpoint.html\n",
        "* https://0.30000000000000004.com/ 에서 언어별 해결책을 제시한다.\n",
        "* 컴퓨터에서 부동소수점 숫자는 2진 분수로 표현되기에 무한대수가 발생한다.\n",
        "* [무한수가 발생되는 원리](https://www.notion.so/paullabworkspace/5f34f21bf9a34015b170e7afd7da9593)"
      ],
      "metadata": {
        "id": "qeW-c4rw-lqE"
      }
    },
    {
      "cell_type": "markdown",
      "source": [
        "### !! 오늘 배운 것 정리\n",
        "1. 단축키\n",
        "    * (필수) Ctrl(Command) + Enter : 해당 셀 실행\n",
        "    * (필수) Alt(Option) + Enter : 해당 셀 실행 + 코드 불록 하단 추가\n",
        "    * (필수) Ctrl + / : 주석\n",
        "    * (필수) Shift + Del : 한 줄 지우기\n",
        "    * (필수) Tab, Ctrl + ] : 들여쓰기\n",
        "    * (필수) Shift + Tab, Ctrl + [ : 내어쓰기\n",
        "\n",
        "2. 마크다운\n",
        "    ```\n",
        "    # hello\n",
        "    ## hello\n",
        "    ### hello\n",
        "\n",
        "    1. hello\n",
        "    2. hello\n",
        "    3. hello\n",
        "\n",
        "    * hello\n",
        "    * hello\n",
        "    * hello\n",
        "    ```\n",
        "\n",
        "3. 주석\n",
        "\n",
        "    ```python\n",
        "    #행 단위 주석입니다.\n",
        "\n",
        "    \"\"\"\n",
        "    큰 따옴표로 세번 묶거나\n",
        "    작은따옴표로 세번 묶으면\n",
        "    열단위 주석이 됩니다.\n",
        "    \"\"\"\n",
        "\n",
        "    '''\n",
        "    큰 따옴표로 세번 묶거나\n",
        "    작은따옴표로 세번 묶으면\n",
        "    열단위 주석이 됩니다.\n",
        "    '''\n",
        "    ```\n",
        "\n",
        "4. PEP8 권고사항\n",
        "    * 띄어쓰기는 4칸\n",
        "    * 한 줄에 79자 이상을 사용하지 않는다.\n",
        "\n",
        "5. 형의 종류(type, dir)\n",
        "    * 컨벤션 자료형(list, tuple, dict, set)은 나중에 진행합니다.\n",
        "    * int\n",
        "    * float\n",
        "    * bool\n",
        "    * str\n",
        "    * function\n",
        "    * bulit-in function\n",
        "\n",
        "6. 이스케이프 문자\n",
        "    * https://ko.wikipedia.org/wiki/%EC%9D%B4%EC%8A%A4%EC%BC%80%EC%9D%B4%ED%94%84_%EB%AC%B8%EC%9E%90\n",
        "    ```python\n",
        "    print('hello \\n world')\n",
        "    print('hello \\t world')\n",
        "    print('hello \\' world')\n",
        "    print('hello \\\" world')\n",
        "    print('hello \\\\ world')\n",
        "    ```\n",
        "\n",
        "7. 실무에서 자주 사용하는 타입확인 구문\n",
        "    ```python\n",
        "    type(10)\n",
        "    type(10) == int\n",
        "    type(10.1) == float\n",
        "\n",
        "    a = 10\n",
        "    isinstance(a, int)\n",
        "    isinstance(a, float)\n",
        "    ```\n",
        "\n",
        "8. 변수의 인사이트\n",
        "    ```\n",
        "    dir을 입력했을 때\n",
        "    1. __hello__와 같은 형태의 메직 메서드는 속성을 표현한다\n",
        "    2.  언더바가 없는 메서드는 해당 자료형의 편의 기능을 제공한다\n",
        "    ```\n",
        "\n",
        "9. 입력과 출력\n",
        "    ```python\n",
        "    x = input() #입력, 숫자를 입력해도 str\n",
        "    print(x) #출력\n",
        "\n",
        "    이름 = '이호준'\n",
        "    나이 = 10\n",
        "    print(f'제 이름은 {이름}입니다. 제 나이는 {나이}입니다.')\n",
        "    print(f'{100 * 10}')\n",
        "    ```\n",
        "\n",
        "\n",
        "10. int 형\n",
        "    * 2진수, 8진수, 16진수는 정수\n",
        "\n",
        "\n",
        "11. float 형\n",
        "    * 부동소수점 오차(2진법으로 변환했을 때 0.1이 무한대수가 발생합니다.)\n",
        "    0.1 + 0.2 # 대부분의 언어 공통입니다.\n",
        "    * https://docs.python.org/ko/3/tutorial/floatingpoint.html\n",
        "    * https://0.30000000000000004.com/ 에서 언어별 해결책을 제시한다."
      ],
      "metadata": {
        "id": "2pnCzgV5DMtw"
      }
    },
    {
      "cell_type": "markdown",
      "source": [
        "## str (문자열)"
      ],
      "metadata": {
        "id": "5LNFYRL0yQzM"
      }
    },
    {
      "cell_type": "markdown",
      "source": [
        "- 순서가 있는 **시퀀스 자료형**입니다.\n",
        "- 작은 따옴표(' ')나 큰 따옴표(\" \"), 삼중따옴표('''str''', \"\"\"str\"\"\")로 감싸는 것도 가능합니다. (삼중따옴표를 사용할 경우에는 줄단위의 문자열을 나타낼 수 있습니다.)\n",
        "- 작은 따옴표 안에 큰 따옴표, 큰 따옴표 안에 작은 따옴표 사용이 가능합니다.\n",
        "- 이스케이프 문자도 사용이 가능합니다.\n",
        "- 리스트, 튜플도 시퀀스 자료형입니다."
      ],
      "metadata": {
        "id": "qtLwfmKfyoEA"
      }
    },
    {
      "cell_type": "code",
      "source": [
        "s = 'paullab CEO leehojun'\n",
        "s[0] # 0은 index입니다. 이렇게 호출하는 것을 indexing 이라고 합니다."
      ],
      "metadata": {
        "id": "WsC2zjmzypg2",
        "colab": {
          "base_uri": "https://localhost:8080/",
          "height": 35
        },
        "outputId": "474b557a-b750-4442-9307-bd38821ebbe0"
      },
      "execution_count": null,
      "outputs": [
        {
          "output_type": "execute_result",
          "data": {
            "text/plain": [
              "'p'"
            ],
            "application/vnd.google.colaboratory.intrinsic+json": {
              "type": "string"
            }
          },
          "metadata": {},
          "execution_count": 1
        }
      ]
    },
    {
      "cell_type": "code",
      "source": [
        "type(s)"
      ],
      "metadata": {
        "id": "ebQ6lXHuzz_a",
        "colab": {
          "base_uri": "https://localhost:8080/"
        },
        "outputId": "06b84326-71b1-4145-c82c-bb474ed1ad1f"
      },
      "execution_count": null,
      "outputs": [
        {
          "output_type": "execute_result",
          "data": {
            "text/plain": [
              "str"
            ]
          },
          "metadata": {},
          "execution_count": 2
        }
      ]
    },
    {
      "cell_type": "code",
      "source": [
        "dir(s)"
      ],
      "metadata": {
        "colab": {
          "base_uri": "https://localhost:8080/"
        },
        "id": "L_zifr_J0cFs",
        "outputId": "6281bb48-769d-4d9d-a991-f0faa51f6a77"
      },
      "execution_count": null,
      "outputs": [
        {
          "output_type": "execute_result",
          "data": {
            "text/plain": [
              "['__add__',\n",
              " '__class__',\n",
              " '__contains__',\n",
              " '__delattr__',\n",
              " '__dir__',\n",
              " '__doc__',\n",
              " '__eq__',\n",
              " '__format__',\n",
              " '__ge__',\n",
              " '__getattribute__',\n",
              " '__getitem__',\n",
              " '__getnewargs__',\n",
              " '__gt__',\n",
              " '__hash__',\n",
              " '__init__',\n",
              " '__init_subclass__',\n",
              " '__iter__',\n",
              " '__le__',\n",
              " '__len__',\n",
              " '__lt__',\n",
              " '__mod__',\n",
              " '__mul__',\n",
              " '__ne__',\n",
              " '__new__',\n",
              " '__reduce__',\n",
              " '__reduce_ex__',\n",
              " '__repr__',\n",
              " '__rmod__',\n",
              " '__rmul__',\n",
              " '__setattr__',\n",
              " '__sizeof__',\n",
              " '__str__',\n",
              " '__subclasshook__',\n",
              " 'capitalize',\n",
              " 'casefold',\n",
              " 'center',\n",
              " 'count',\n",
              " 'encode',\n",
              " 'endswith',\n",
              " 'expandtabs',\n",
              " 'find',\n",
              " 'format',\n",
              " 'format_map',\n",
              " 'index',\n",
              " 'isalnum',\n",
              " 'isalpha',\n",
              " 'isascii',\n",
              " 'isdecimal',\n",
              " 'isdigit',\n",
              " 'isidentifier',\n",
              " 'islower',\n",
              " 'isnumeric',\n",
              " 'isprintable',\n",
              " 'isspace',\n",
              " 'istitle',\n",
              " 'isupper',\n",
              " 'join',\n",
              " 'ljust',\n",
              " 'lower',\n",
              " 'lstrip',\n",
              " 'maketrans',\n",
              " 'partition',\n",
              " 'removeprefix',\n",
              " 'removesuffix',\n",
              " 'replace',\n",
              " 'rfind',\n",
              " 'rindex',\n",
              " 'rjust',\n",
              " 'rpartition',\n",
              " 'rsplit',\n",
              " 'rstrip',\n",
              " 'split',\n",
              " 'splitlines',\n",
              " 'startswith',\n",
              " 'strip',\n",
              " 'swapcase',\n",
              " 'title',\n",
              " 'translate',\n",
              " 'upper',\n",
              " 'zfill']"
            ]
          },
          "metadata": {},
          "execution_count": 3
        }
      ]
    },
    {
      "cell_type": "code",
      "source": [
        "# 문자열의 메서드\n",
        "# 'capitalize','casefold','center','count','encode',\n",
        "# 'endswith','expandtabs','find','format','format_map',\n",
        "# 'index','isalnum','isalpha','isascii','isdecimal','isdigit',\n",
        "# 'isidentifier','islower','isnumeric','isprintable','isspace',\n",
        "# 'istitle','isupper','join','ljust','lower','lstrip',\n",
        "# 'maketrans','partition','removeprefix','removesuffix',\n",
        "# 'replace','rfind','rindex','rjust','rpartition','rsplit',\n",
        "# 'rstrip','split','splitlines','startswith','strip','swapcase',\n",
        "# 'title','translate','upper','zfill'"
      ],
      "metadata": {
        "id": "hIrmwLBy0lNQ"
      },
      "execution_count": null,
      "outputs": []
    },
    {
      "cell_type": "code",
      "source": [
        "s = 'paullab CEO leehojun'\n",
        "s.lower(), s.upper()\n",
        "# 특히 사용자에게 입력을 받는 경우 lower도 많이 사용합니다."
      ],
      "metadata": {
        "colab": {
          "base_uri": "https://localhost:8080/"
        },
        "id": "SYXVpHv70j5L",
        "outputId": "8a292e00-13e2-48a5-d178-2f4904f01830"
      },
      "execution_count": null,
      "outputs": [
        {
          "output_type": "execute_result",
          "data": {
            "text/plain": [
              "('paullab ceo leehojun', 'PAULLAB CEO LEEHOJUN')"
            ]
          },
          "metadata": {},
          "execution_count": 4
        }
      ]
    },
    {
      "cell_type": "code",
      "source": [
        "s = 'paullab CEO leehojun'\n",
        "s.find('C'), s.index('C')"
      ],
      "metadata": {
        "colab": {
          "base_uri": "https://localhost:8080/"
        },
        "id": "M-UFfmwA03to",
        "outputId": "81bf011d-444b-43d1-f0b0-cc0b359fbf05"
      },
      "execution_count": null,
      "outputs": [
        {
          "output_type": "execute_result",
          "data": {
            "text/plain": [
              "(8, 8)"
            ]
          },
          "metadata": {},
          "execution_count": 5
        }
      ]
    },
    {
      "cell_type": "code",
      "source": [
        "# 견고한 코드란?\n",
        "# 시간이 지나도 그대로 사용할 수 있고\n",
        "# error가 예측 가능하게 나는 코드\n",
        "# 네이버 이미지 슬라이딩 코드\n",
        "# bool(s.find('Z')) -> -1 은 True이기 때문에 주의가 필요합니다.\n",
        "s.find('Z')"
      ],
      "metadata": {
        "colab": {
          "base_uri": "https://localhost:8080/"
        },
        "id": "PKikXJLA1SuJ",
        "outputId": "86dc4254-2c43-459b-b162-aa317a52eec0"
      },
      "execution_count": null,
      "outputs": [
        {
          "output_type": "execute_result",
          "data": {
            "text/plain": [
              "True"
            ]
          },
          "metadata": {},
          "execution_count": 8
        }
      ]
    },
    {
      "cell_type": "code",
      "source": [
        "# Error가 나면 Error를 주는 것이 좋을 수 있습니다.\n",
        "# Error를 안주는 언어로 Javascript\n",
        "s.index('Z')"
      ],
      "metadata": {
        "colab": {
          "base_uri": "https://localhost:8080/",
          "height": 174
        },
        "id": "B1l4rIb91lPq",
        "outputId": "28f80cfd-5989-45bf-fd69-b016e86f8b73"
      },
      "execution_count": null,
      "outputs": [
        {
          "output_type": "error",
          "ename": "ValueError",
          "evalue": "ignored",
          "traceback": [
            "\u001b[0;31m---------------------------------------------------------------------------\u001b[0m",
            "\u001b[0;31mValueError\u001b[0m                                Traceback (most recent call last)",
            "\u001b[0;32m<ipython-input-7-b727d3398a36>\u001b[0m in \u001b[0;36m<cell line: 1>\u001b[0;34m()\u001b[0m\n\u001b[0;32m----> 1\u001b[0;31m \u001b[0ms\u001b[0m\u001b[0;34m.\u001b[0m\u001b[0mindex\u001b[0m\u001b[0;34m(\u001b[0m\u001b[0;34m'Z'\u001b[0m\u001b[0;34m)\u001b[0m\u001b[0;34m\u001b[0m\u001b[0;34m\u001b[0m\u001b[0m\n\u001b[0m",
            "\u001b[0;31mValueError\u001b[0m: substring not found"
          ]
        }
      ]
    },
    {
      "cell_type": "code",
      "source": [
        "s = 'paullab CEO leehojun'\n",
        "s.find('CEO')"
      ],
      "metadata": {
        "colab": {
          "base_uri": "https://localhost:8080/"
        },
        "id": "8fFvI-xs2g4I",
        "outputId": "f6d6faa6-6d14-40d4-a80c-b9674d6defe8"
      },
      "execution_count": null,
      "outputs": [
        {
          "output_type": "execute_result",
          "data": {
            "text/plain": [
              "8"
            ]
          },
          "metadata": {},
          "execution_count": 9
        }
      ]
    },
    {
      "cell_type": "code",
      "source": [
        "# 별 5개\n",
        "s = 'paullab CEO leehojun'\n",
        "s.count('l')"
      ],
      "metadata": {
        "colab": {
          "base_uri": "https://localhost:8080/"
        },
        "id": "J5lwgkBG2xVE",
        "outputId": "17079134-0f60-49f7-a1a7-55c96226f4cc"
      },
      "execution_count": null,
      "outputs": [
        {
          "output_type": "execute_result",
          "data": {
            "text/plain": [
              "3"
            ]
          },
          "metadata": {},
          "execution_count": 10
        }
      ]
    },
    {
      "cell_type": "code",
      "source": [
        "str([1, 2, 3, 4, 5])"
      ],
      "metadata": {
        "colab": {
          "base_uri": "https://localhost:8080/",
          "height": 35
        },
        "id": "w_6ZTWiS2-6z",
        "outputId": "eebfcb68-9d59-46d5-ad35-2941a9acfa30"
      },
      "execution_count": null,
      "outputs": [
        {
          "output_type": "execute_result",
          "data": {
            "text/plain": [
              "'[1, 2, 3, 4, 5]'"
            ],
            "application/vnd.google.colaboratory.intrinsic+json": {
              "type": "string"
            }
          },
          "metadata": {},
          "execution_count": 11
        }
      ]
    },
    {
      "cell_type": "code",
      "source": [
        "str([1, 2, 3, 4, 5]).count(' ')"
      ],
      "metadata": {
        "colab": {
          "base_uri": "https://localhost:8080/"
        },
        "id": "9-Sd_50u3D7Q",
        "outputId": "211fa806-7284-45dc-c239-9b1686f4c948"
      },
      "execution_count": null,
      "outputs": [
        {
          "output_type": "execute_result",
          "data": {
            "text/plain": [
              "4"
            ]
          },
          "metadata": {},
          "execution_count": 12
        }
      ]
    },
    {
      "cell_type": "code",
      "source": [
        "str([1,2,3,4,5]).count(' ')\n",
        "# list 는 콤마 다음에 공백이 없더라도 공백으로 인식해줍니다."
      ],
      "metadata": {
        "colab": {
          "base_uri": "https://localhost:8080/"
        },
        "id": "buGdMGow4CQz",
        "outputId": "28246cb6-932f-4ff2-c001-62ea255ab6fc"
      },
      "execution_count": null,
      "outputs": [
        {
          "output_type": "execute_result",
          "data": {
            "text/plain": [
              "4"
            ]
          },
          "metadata": {},
          "execution_count": 15
        }
      ]
    },
    {
      "cell_type": "code",
      "source": [
        "str([1,\n",
        "     2,\n",
        "     3,\n",
        "     4,\n",
        "     5]).count(' ')\n",
        "# list 는 콤마 다음에 공백이 없더라도 공백으로 인식해줍니다."
      ],
      "metadata": {
        "colab": {
          "base_uri": "https://localhost:8080/"
        },
        "id": "b_M37Hxb4sKH",
        "outputId": "19e09276-3791-4257-897e-6ec056c933f7"
      },
      "execution_count": null,
      "outputs": [
        {
          "output_type": "execute_result",
          "data": {
            "text/plain": [
              "4"
            ]
          },
          "metadata": {},
          "execution_count": 23
        }
      ]
    },
    {
      "cell_type": "code",
      "source": [
        "'hello'.count('')"
      ],
      "metadata": {
        "colab": {
          "base_uri": "https://localhost:8080/"
        },
        "id": "YKEgLlBo4RG4",
        "outputId": "a1e48d83-0ee1-4ef8-98bf-b6b884834fe7"
      },
      "execution_count": null,
      "outputs": [
        {
          "output_type": "execute_result",
          "data": {
            "text/plain": [
              "6"
            ]
          },
          "metadata": {},
          "execution_count": 18
        }
      ]
    },
    {
      "cell_type": "code",
      "source": [
        "''.count('')"
      ],
      "metadata": {
        "colab": {
          "base_uri": "https://localhost:8080/"
        },
        "id": "9SIEa8v-4Yhk",
        "outputId": "aa27d5da-8346-4744-c2f4-07e0fc19f193"
      },
      "execution_count": null,
      "outputs": [
        {
          "output_type": "execute_result",
          "data": {
            "text/plain": [
              "1"
            ]
          },
          "metadata": {},
          "execution_count": 19
        }
      ]
    },
    {
      "cell_type": "code",
      "source": [
        "'' + ''"
      ],
      "metadata": {
        "colab": {
          "base_uri": "https://localhost:8080/",
          "height": 35
        },
        "id": "Z6u5825O4jUr",
        "outputId": "73a4b65b-1b19-4644-930e-48f3bd7f6b56"
      },
      "execution_count": null,
      "outputs": [
        {
          "output_type": "execute_result",
          "data": {
            "text/plain": [
              "''"
            ],
            "application/vnd.google.colaboratory.intrinsic+json": {
              "type": "string"
            }
          },
          "metadata": {},
          "execution_count": 20
        }
      ]
    },
    {
      "cell_type": "code",
      "source": [
        "str([1, 2, 3, 4, 5]).count(',')"
      ],
      "metadata": {
        "colab": {
          "base_uri": "https://localhost:8080/"
        },
        "id": "ISz20z6L3Imy",
        "outputId": "009c551c-f0ac-4b04-e864-21b5c3a7bce8"
      },
      "execution_count": null,
      "outputs": [
        {
          "output_type": "execute_result",
          "data": {
            "text/plain": [
              "4"
            ]
          },
          "metadata": {},
          "execution_count": 13
        }
      ]
    },
    {
      "cell_type": "code",
      "source": [
        "str([1, 2, 11, 4, 111]).count('1')"
      ],
      "metadata": {
        "colab": {
          "base_uri": "https://localhost:8080/"
        },
        "id": "olSbmVMw3Mxv",
        "outputId": "22a9ed70-ac61-4ee5-9dd0-53f38cef8323"
      },
      "execution_count": null,
      "outputs": [
        {
          "output_type": "execute_result",
          "data": {
            "text/plain": [
              "6"
            ]
          },
          "metadata": {},
          "execution_count": 14
        }
      ]
    },
    {
      "cell_type": "code",
      "source": [
        "str(list(range(0, 10001))).count('8')"
      ],
      "metadata": {
        "colab": {
          "base_uri": "https://localhost:8080/"
        },
        "id": "4SB9YSQN5gX3",
        "outputId": "9b630254-c81e-441b-9ddb-1028bb01b16a"
      },
      "execution_count": null,
      "outputs": [
        {
          "output_type": "execute_result",
          "data": {
            "text/plain": [
              "4000"
            ]
          },
          "metadata": {},
          "execution_count": 24
        }
      ]
    },
    {
      "cell_type": "markdown",
      "source": [
        "* https://codingdojang.com/scode/393?answer_mode=hide"
      ],
      "metadata": {
        "id": "PAGmKlFT3pnj"
      }
    },
    {
      "cell_type": "code",
      "source": [
        "'   hello   !   '.strip() # 공백제거 메서드"
      ],
      "metadata": {
        "colab": {
          "base_uri": "https://localhost:8080/",
          "height": 35
        },
        "id": "jYmpiP156ZVP",
        "outputId": "265b3be5-5973-418a-ff5e-11abf3220330"
      },
      "execution_count": null,
      "outputs": [
        {
          "output_type": "execute_result",
          "data": {
            "text/plain": [
              "'hello   !'"
            ],
            "application/vnd.google.colaboratory.intrinsic+json": {
              "type": "string"
            }
          },
          "metadata": {},
          "execution_count": 25
        }
      ]
    },
    {
      "cell_type": "code",
      "source": [
        "'   hello   !   '.rstrip()"
      ],
      "metadata": {
        "colab": {
          "base_uri": "https://localhost:8080/",
          "height": 35
        },
        "id": "1wy_PQz06sIF",
        "outputId": "8c217f9d-1324-4fa0-e24c-f0c2e3649b47"
      },
      "execution_count": null,
      "outputs": [
        {
          "output_type": "execute_result",
          "data": {
            "text/plain": [
              "'   hello   !'"
            ],
            "application/vnd.google.colaboratory.intrinsic+json": {
              "type": "string"
            }
          },
          "metadata": {},
          "execution_count": 26
        }
      ]
    },
    {
      "cell_type": "code",
      "source": [
        "'   hello   !   '.lstrip()"
      ],
      "metadata": {
        "colab": {
          "base_uri": "https://localhost:8080/",
          "height": 35
        },
        "id": "pdij1QQb6t5-",
        "outputId": "dc622d8d-4f37-4f5f-d679-60ac9efa0701"
      },
      "execution_count": null,
      "outputs": [
        {
          "output_type": "execute_result",
          "data": {
            "text/plain": [
              "'hello   !   '"
            ],
            "application/vnd.google.colaboratory.intrinsic+json": {
              "type": "string"
            }
          },
          "metadata": {},
          "execution_count": 27
        }
      ]
    },
    {
      "cell_type": "code",
      "source": [
        "# 별 5개\n",
        "'hello world hi'.replace(' ','!')\n",
        "'hello world hi'.replace('world','W@O@R@L@D').upper()"
      ],
      "metadata": {
        "colab": {
          "base_uri": "https://localhost:8080/",
          "height": 35
        },
        "id": "Z4Cjzdst66Ta",
        "outputId": "0fac6b07-2242-45d8-844b-fb90d9cb6310"
      },
      "execution_count": null,
      "outputs": [
        {
          "output_type": "execute_result",
          "data": {
            "text/plain": [
              "'HELLO W@O@R@L@D HI'"
            ],
            "application/vnd.google.colaboratory.intrinsic+json": {
              "type": "string"
            }
          },
          "metadata": {},
          "execution_count": 33
        }
      ]
    },
    {
      "cell_type": "code",
      "source": [
        "'hello world hi'.replace('world','W@O@R@L@D').upper().split('@')\n",
        "# 반환값이 list 이기 때문에 메서드 체이닝을 하려면 \n",
        "# 이후로 list 메서드를 사용해야 합니다."
      ],
      "metadata": {
        "colab": {
          "base_uri": "https://localhost:8080/"
        },
        "id": "SGyZKgqs7W2z",
        "outputId": "c7d14232-465a-4532-810c-6268c8a3ccef"
      },
      "execution_count": null,
      "outputs": [
        {
          "output_type": "execute_result",
          "data": {
            "text/plain": [
              "['HELLO W', 'O', 'R', 'L', 'D HI']"
            ]
          },
          "metadata": {},
          "execution_count": 34
        }
      ]
    },
    {
      "cell_type": "code",
      "source": [
        "'hello world hi'.replace(' ','')"
      ],
      "metadata": {
        "colab": {
          "base_uri": "https://localhost:8080/",
          "height": 35
        },
        "id": "ccNXuEuK7sJ3",
        "outputId": "c9e7764e-5267-4822-a2a1-86c7b73f0cf6"
      },
      "execution_count": null,
      "outputs": [
        {
          "output_type": "execute_result",
          "data": {
            "text/plain": [
              "'helloworldhi'"
            ],
            "application/vnd.google.colaboratory.intrinsic+json": {
              "type": "string"
            }
          },
          "metadata": {},
          "execution_count": 35
        }
      ]
    },
    {
      "cell_type": "code",
      "source": [
        "data = '''  \"+ +-+ -+-\"  \n",
        "  \"++ -- +-+\"  \n",
        "  \"++-+ -+ -\"  \n",
        "  \"+ ++-+ -+\"  '''\n",
        "data.split('\\n')[0].replace(' ','').replace('\"', '')\n",
        "\n",
        "# Pythonic 하지 않다\n",
        "data.split('\\n')[0].replace(' ',\n",
        "                '').replace('\"',\n",
        "                '')\n",
        "\n",
        "# Pythonic 하게 하려면\n",
        "data.split('\\m')[0]\\\n",
        "                .replace(' ', '')\\\n",
        "                .replace('\"', '')\\\n",
        "                .replace('\"', '')\\\n",
        "                .replace('\"', '')\\\n",
        "\n",
        "#강사님이 사용하는 기법\n",
        "processed_string = data.split('\\n')[0].replace(' ', '').replace('\"', '')\n",
        "processed_string.split('\\n')[0].replace('\"', '').replace('\"', '')"
      ],
      "metadata": {
        "colab": {
          "base_uri": "https://localhost:8080/",
          "height": 35
        },
        "id": "eWqqv3ib79MX",
        "outputId": "1a2e866d-6bbf-4728-fb1f-bd36f928bdb0"
      },
      "execution_count": null,
      "outputs": [
        {
          "output_type": "execute_result",
          "data": {
            "text/plain": [
              "'++-+-+-'"
            ],
            "application/vnd.google.colaboratory.intrinsic+json": {
              "type": "string"
            }
          },
          "metadata": {},
          "execution_count": 42
        }
      ]
    },
    {
      "cell_type": "code",
      "source": [
        "# aaaaaaaaaaaaaaaaaaaaaaaaaaaaaaaaaaaaaaaaaaaaaaaaaaaaaaaaaaaaaaaaaaaaaaaaaaaaaaaa 79자\n",
        "# 아아아아아아아아아아아아아아아아아아아아아아아아아아아아아아아아아아아아아아아아 39자"
      ],
      "metadata": {
        "id": "h8sWOStSBU70"
      },
      "execution_count": null,
      "outputs": []
    },
    {
      "cell_type": "code",
      "source": [
        "data = '''  \"+ +-+ -+-\"  \n",
        "  \"++ -- +-+\"  \n",
        "  \"++-+ -+ -\"  \n",
        "  \"+ ++-+ -+\"  '''\n",
        "data.split('\\n')[0].replace(' ', '').replace('\"', '').replace('+', '1').replace('-', '0')\n",
        "ord('A'), chr(65) # ord 는 문자를 가지고 숫자로 변경 chr 은 숫자를 가지고 문자로 변경합니다.\n",
        "\n",
        "숫자 = data.split('\\n')[0].replace(' ', '').replace('\"', '').replace('+', '1').replace('-', '0')\n",
        "int(숫자, 2)\n",
        "chr(int(숫자, 2))"
      ],
      "metadata": {
        "colab": {
          "base_uri": "https://localhost:8080/",
          "height": 35
        },
        "id": "f83NNKLWBAnk",
        "outputId": "33f229a4-9b91-480b-e6f9-4e18addafb93"
      },
      "execution_count": null,
      "outputs": [
        {
          "output_type": "execute_result",
          "data": {
            "text/plain": [
              "'j'"
            ],
            "application/vnd.google.colaboratory.intrinsic+json": {
              "type": "string"
            }
          },
          "metadata": {},
          "execution_count": 48
        }
      ]
    },
    {
      "cell_type": "code",
      "source": [
        "# 별 4.5개\n",
        "'paullab CEO leehojun'.split(' ') # 문자열을 쪼개어 줍니다.\n",
        "'paullab!CEO!leehojun'.split('!')\n",
        "'paullab,CEO,leehojun'.split(',')"
      ],
      "metadata": {
        "colab": {
          "base_uri": "https://localhost:8080/"
        },
        "id": "qaGEq45DCDbh",
        "outputId": "fa6e4c23-651a-4d24-d080-3c99a77694f2"
      },
      "execution_count": null,
      "outputs": [
        {
          "output_type": "execute_result",
          "data": {
            "text/plain": [
              "['paullab', 'CEO', 'leehojun']"
            ]
          },
          "metadata": {},
          "execution_count": 49
        }
      ]
    },
    {
      "cell_type": "code",
      "source": [
        "'010 5044 2903'.split(' ')\n",
        "'010-5044-2903'.split('-')\n",
        "'010 5044-2903'.replace(' ','-').split('-')"
      ],
      "metadata": {
        "colab": {
          "base_uri": "https://localhost:8080/"
        },
        "id": "xu6CPR_lCP_h",
        "outputId": "02984c91-0d5d-4f41-b217-e4af3484434c"
      },
      "execution_count": null,
      "outputs": [
        {
          "output_type": "execute_result",
          "data": {
            "text/plain": [
              "['010', '5044', '2903']"
            ]
          },
          "metadata": {},
          "execution_count": 57
        }
      ]
    },
    {
      "cell_type": "code",
      "source": [
        "'010 5044 2903'.split() # 공백단위가 들어가게 됩니다."
      ],
      "metadata": {
        "colab": {
          "base_uri": "https://localhost:8080/"
        },
        "id": "EvOOWuc4Faym",
        "outputId": "2a109e75-f080-4501-f5f9-a954622222e2"
      },
      "execution_count": null,
      "outputs": [
        {
          "output_type": "execute_result",
          "data": {
            "text/plain": [
              "['010', '5044', '2903']"
            ]
          },
          "metadata": {},
          "execution_count": 60
        }
      ]
    },
    {
      "cell_type": "code",
      "source": [
        "# '01050442903'.split('') # 빈 문자열을 넣지는 못합니다."
      ],
      "metadata": {
        "id": "mPideekXGFAZ"
      },
      "execution_count": null,
      "outputs": []
    },
    {
      "cell_type": "code",
      "source": [
        "list(map(int,'010 5044 2903'.split(' ')))"
      ],
      "metadata": {
        "colab": {
          "base_uri": "https://localhost:8080/"
        },
        "id": "G0WmA2S6GLg1",
        "outputId": "7d89f091-1c46-41ed-8870-20ff61a280c6"
      },
      "execution_count": null,
      "outputs": [
        {
          "output_type": "execute_result",
          "data": {
            "text/plain": [
              "[10, 5044, 2903]"
            ]
          },
          "metadata": {},
          "execution_count": 62
        }
      ]
    },
    {
      "cell_type": "code",
      "source": [
        "int('010')"
      ],
      "metadata": {
        "colab": {
          "base_uri": "https://localhost:8080/"
        },
        "id": "ggpovKX2MP54",
        "outputId": "01a50165-74e7-4b5a-d659-32c7e82f4645"
      },
      "execution_count": null,
      "outputs": [
        {
          "output_type": "execute_result",
          "data": {
            "text/plain": [
              "10"
            ]
          },
          "metadata": {},
          "execution_count": 82
        }
      ]
    },
    {
      "cell_type": "code",
      "source": [
        "# print(010) # error"
      ],
      "metadata": {
        "colab": {
          "base_uri": "https://localhost:8080/",
          "height": 137
        },
        "id": "stbu12DIMT41",
        "outputId": "9b240e96-0d7c-4934-bbab-1448bcbe4939"
      },
      "execution_count": null,
      "outputs": [
        {
          "output_type": "error",
          "ename": "SyntaxError",
          "evalue": "ignored",
          "traceback": [
            "\u001b[0;36m  File \u001b[0;32m\"<ipython-input-83-03f13ff3bdb7>\"\u001b[0;36m, line \u001b[0;32m1\u001b[0m\n\u001b[0;31m    print(010)\u001b[0m\n\u001b[0m          ^\u001b[0m\n\u001b[0;31mSyntaxError\u001b[0m\u001b[0;31m:\u001b[0m leading zeros in decimal integer literals are not permitted; use an 0o prefix for octal integers\n"
          ]
        }
      ]
    },
    {
      "cell_type": "code",
      "source": [
        "num = '010 5044-2903'.replace('-', ' ').split(' ')\n",
        "[int(i) for i in num] # 리스트 컴프리헨션 사용\n",
        "\n",
        "list(map(int,'010 5044 2903'.split(' ')))\n",
        "\n",
        "# 2개 모두 새로운 리스트를 만드는 것 입니다.\n",
        "# 원본을 변경시키지 않습니다."
      ],
      "metadata": {
        "colab": {
          "base_uri": "https://localhost:8080/"
        },
        "id": "kCnLsfsYMh8l",
        "outputId": "e4694857-2541-449f-da3c-5dfee233b61b"
      },
      "execution_count": null,
      "outputs": [
        {
          "output_type": "execute_result",
          "data": {
            "text/plain": [
              "[10, 5044, 2903]"
            ]
          },
          "metadata": {},
          "execution_count": 84
        }
      ]
    },
    {
      "cell_type": "code",
      "source": [
        "s = []\n",
        "for i in '010 5044-2903'.replace('-', ' ').split(' '):\n",
        "    s.append(int(i))\n",
        "s\n",
        "\n",
        "# 요 코드를 추천합니다.\n",
        "[int(i) for i in num]"
      ],
      "metadata": {
        "colab": {
          "base_uri": "https://localhost:8080/"
        },
        "id": "sJTI2rdQNDVw",
        "outputId": "1c1e0a3a-89b3-4154-c103-71e439701312"
      },
      "execution_count": null,
      "outputs": [
        {
          "output_type": "execute_result",
          "data": {
            "text/plain": [
              "[10, 5044, 2903]"
            ]
          },
          "metadata": {},
          "execution_count": 87
        }
      ]
    },
    {
      "cell_type": "code",
      "source": [
        "# 지금 진도에서 과하기 때문에\n",
        "# 지금은 잊으셔도 됩니다.\n",
        "# 뒤에서 상세하게 다룹니다.\n",
        "def 제곱함수(x):\n",
        "    return x ** 2\n",
        "\n",
        "def 정수함수(x):\n",
        "    return int(x)\n",
        "\n",
        "list(map(제곱함수, [1, 2, 3]))\n",
        "list(map(정수함수, ['1', '2', '3']))\n",
        "list(map(int, ['1', '2', '3']))\n",
        "\n",
        "list(map(int, ['010', '5044', '2903']))\n",
        "list(map(int,'010 5044 2903'.split(' ')))"
      ],
      "metadata": {
        "colab": {
          "base_uri": "https://localhost:8080/"
        },
        "id": "go9t-aW1HGNU",
        "outputId": "abb41776-c809-4e0c-f4ba-7ab92c7eb4c8"
      },
      "execution_count": null,
      "outputs": [
        {
          "output_type": "execute_result",
          "data": {
            "text/plain": [
              "[10, 5044, 2903]"
            ]
          },
          "metadata": {},
          "execution_count": 63
        }
      ]
    },
    {
      "cell_type": "code",
      "source": [
        "# 별 4.5개\n",
        "'~'.join(['hello', 'world', 'hello'])\n",
        "'!'.join(['hello', 'world', 'hello'])\n",
        "''.join(['hello', 'world', 'hello'])\n",
        "' '.join(['hello', 'world', 'hello'])"
      ],
      "metadata": {
        "colab": {
          "base_uri": "https://localhost:8080/",
          "height": 35
        },
        "id": "glvAq8AoHgtU",
        "outputId": "cd88740a-1afe-4721-9782-621cccb7addb"
      },
      "execution_count": null,
      "outputs": [
        {
          "output_type": "execute_result",
          "data": {
            "text/plain": [
              "'hello world hello'"
            ],
            "application/vnd.google.colaboratory.intrinsic+json": {
              "type": "string"
            }
          },
          "metadata": {},
          "execution_count": 66
        }
      ]
    },
    {
      "cell_type": "code",
      "source": [
        "'hello'.isalpha()"
      ],
      "metadata": {
        "colab": {
          "base_uri": "https://localhost:8080/"
        },
        "id": "QdgZjMpBH53f",
        "outputId": "0e35868c-3e38-429d-c81b-5909a2ec4235"
      },
      "execution_count": null,
      "outputs": [
        {
          "output_type": "execute_result",
          "data": {
            "text/plain": [
              "True"
            ]
          },
          "metadata": {},
          "execution_count": 67
        }
      ]
    },
    {
      "cell_type": "code",
      "source": [
        "'he llo'.isalpha()"
      ],
      "metadata": {
        "colab": {
          "base_uri": "https://localhost:8080/"
        },
        "id": "ApH8iguhIB6a",
        "outputId": "273feedd-7e2e-444f-b694-8caa9713f25b"
      },
      "execution_count": null,
      "outputs": [
        {
          "output_type": "execute_result",
          "data": {
            "text/plain": [
              "False"
            ]
          },
          "metadata": {},
          "execution_count": 68
        }
      ]
    },
    {
      "cell_type": "code",
      "source": [
        "'123'.isdigit()"
      ],
      "metadata": {
        "colab": {
          "base_uri": "https://localhost:8080/"
        },
        "id": "nwyvUrKFIT-3",
        "outputId": "838d0beb-aa73-4fe1-a27a-2e2a47fbc05c"
      },
      "execution_count": null,
      "outputs": [
        {
          "output_type": "execute_result",
          "data": {
            "text/plain": [
              "True"
            ]
          },
          "metadata": {},
          "execution_count": 71
        }
      ]
    },
    {
      "cell_type": "code",
      "source": [
        "'12a3'.isdigit(), '12 3'.isdigit()"
      ],
      "metadata": {
        "colab": {
          "base_uri": "https://localhost:8080/"
        },
        "id": "LvkZNWRCIHOb",
        "outputId": "26d83721-aab1-4318-be32-a1cd4f8e9521"
      },
      "execution_count": null,
      "outputs": [
        {
          "output_type": "execute_result",
          "data": {
            "text/plain": [
              "(False, False)"
            ]
          },
          "metadata": {},
          "execution_count": 73
        }
      ]
    },
    {
      "cell_type": "code",
      "source": [
        "'12a3'.isalnum(), '12 3'.isalnum()"
      ],
      "metadata": {
        "colab": {
          "base_uri": "https://localhost:8080/"
        },
        "id": "vn3YIh9gIXwx",
        "outputId": "b18b65fa-1012-4cb1-822f-bac35502acd6"
      },
      "execution_count": null,
      "outputs": [
        {
          "output_type": "execute_result",
          "data": {
            "text/plain": [
              "(True, False)"
            ]
          },
          "metadata": {},
          "execution_count": 74
        }
      ]
    },
    {
      "cell_type": "code",
      "source": [
        "'안녕하세요!'.isalpha(), '안녕하세요!'.isalnum()"
      ],
      "metadata": {
        "colab": {
          "base_uri": "https://localhost:8080/"
        },
        "id": "pSMSbqNxIejo",
        "outputId": "08ed3712-2f74-47f3-f55d-9fe8d9f5eddf"
      },
      "execution_count": null,
      "outputs": [
        {
          "output_type": "execute_result",
          "data": {
            "text/plain": [
              "(False, False)"
            ]
          },
          "metadata": {},
          "execution_count": 75
        }
      ]
    },
    {
      "cell_type": "code",
      "source": [
        "# 퀴즈\n",
        "# 숫자를 모두 더라하!\n",
        "result = 0\n",
        "for i in '123abc913sldlf':\n",
        "    # print(i.isdigit())\n",
        "    if i.isdigit():\n",
        "        result += int(i) # result = result + int(i)\n",
        "result"
      ],
      "metadata": {
        "colab": {
          "base_uri": "https://localhost:8080/"
        },
        "id": "iUjupm3kIpwJ",
        "outputId": "891a38c0-fb02-455c-94de-2365f12ca7df"
      },
      "execution_count": null,
      "outputs": [
        {
          "output_type": "execute_result",
          "data": {
            "text/plain": [
              "19"
            ]
          },
          "metadata": {},
          "execution_count": 80
        }
      ]
    },
    {
      "cell_type": "code",
      "source": [
        "result = 0\n",
        "for i in '123abc913sldlf':\n",
        "    if i.isdigit():\n",
        "        result += int(i)\n",
        "result"
      ],
      "metadata": {
        "id": "-DlGHYHzJYVe"
      },
      "execution_count": null,
      "outputs": []
    },
    {
      "cell_type": "code",
      "source": [
        "'paullab CEO leehojun'.isascii()"
      ],
      "metadata": {
        "colab": {
          "base_uri": "https://localhost:8080/"
        },
        "id": "nq1j5dPkNgpP",
        "outputId": "641bdd84-d0bd-4c1b-acb2-7eded2fc201f"
      },
      "execution_count": null,
      "outputs": [
        {
          "output_type": "execute_result",
          "data": {
            "text/plain": [
              "True"
            ]
          },
          "metadata": {},
          "execution_count": 89
        }
      ]
    },
    {
      "cell_type": "code",
      "source": [
        "'paullab CEO leehojun'.rjust(30) #오른쪽 정렬\n",
        "'paullab CEO leehojun'.ljust(30) #왼쪽 정렬\n",
        "'paullab CEO leehojun'.center(30)#가운데 정렬"
      ],
      "metadata": {
        "colab": {
          "base_uri": "https://localhost:8080/",
          "height": 35
        },
        "id": "dt11OJb6JsHD",
        "outputId": "10244b59-0433-420f-e05f-b861ebfa3ba7"
      },
      "execution_count": null,
      "outputs": [
        {
          "output_type": "execute_result",
          "data": {
            "text/plain": [
              "'     paullab CEO leehojun     '"
            ],
            "application/vnd.google.colaboratory.intrinsic+json": {
              "type": "string"
            }
          },
          "metadata": {},
          "execution_count": 81
        }
      ]
    },
    {
      "cell_type": "code",
      "source": [
        "'hello'.zfill(20) # 데이터의 빈 공간을 0 으로 채워줍니다."
      ],
      "metadata": {
        "colab": {
          "base_uri": "https://localhost:8080/",
          "height": 35
        },
        "id": "a7wVBBVRN8Ol",
        "outputId": "808c4cf1-471a-4b2d-f67c-6c3cef67b21d"
      },
      "execution_count": null,
      "outputs": [
        {
          "output_type": "execute_result",
          "data": {
            "text/plain": [
              "'000000000000000hello'"
            ],
            "application/vnd.google.colaboratory.intrinsic+json": {
              "type": "string"
            }
          },
          "metadata": {},
          "execution_count": 95
        }
      ]
    },
    {
      "cell_type": "code",
      "source": [
        "'1001'.zfill(5)\n",
        "'hello'.zfill(10).replace('0', '-')"
      ],
      "metadata": {
        "colab": {
          "base_uri": "https://localhost:8080/",
          "height": 35
        },
        "id": "8uMQHd5kOJpo",
        "outputId": "768534dc-f8ae-4eac-bbb6-291856bdc9e8"
      },
      "execution_count": null,
      "outputs": [
        {
          "output_type": "execute_result",
          "data": {
            "text/plain": [
              "'-----hello'"
            ],
            "application/vnd.google.colaboratory.intrinsic+json": {
              "type": "string"
            }
          },
          "metadata": {},
          "execution_count": 98
        }
      ]
    },
    {
      "cell_type": "code",
      "source": [
        "규칙테이블 = str.maketrans({'\\n':'', '\\t':''})\n",
        "'paullab \\n\\n\\n CEO \\t\\t\\t leehojun'.translate(규칙테이블)"
      ],
      "metadata": {
        "colab": {
          "base_uri": "https://localhost:8080/",
          "height": 35
        },
        "id": "7VpwJLUdOgFQ",
        "outputId": "d64a885e-324e-4661-89b9-33a3a1af2b26"
      },
      "execution_count": null,
      "outputs": [
        {
          "output_type": "execute_result",
          "data": {
            "text/plain": [
              "'paullab  CEO  leehojun'"
            ],
            "application/vnd.google.colaboratory.intrinsic+json": {
              "type": "string"
            }
          },
          "metadata": {},
          "execution_count": 99
        }
      ]
    },
    {
      "cell_type": "code",
      "source": [
        "'paullab \\n\\n\\n CEO \\t\\t\\t leehojun'.replace('\\n', '').replace('\\t', '')"
      ],
      "metadata": {
        "colab": {
          "base_uri": "https://localhost:8080/",
          "height": 35
        },
        "id": "WwEKyXZSOzy3",
        "outputId": "56c6dc33-0d60-4709-e755-30eb4e1396a7"
      },
      "execution_count": null,
      "outputs": [
        {
          "output_type": "execute_result",
          "data": {
            "text/plain": [
              "'paullab  CEO  leehojun'"
            ],
            "application/vnd.google.colaboratory.intrinsic+json": {
              "type": "string"
            }
          },
          "metadata": {},
          "execution_count": 100
        }
      ]
    },
    {
      "cell_type": "code",
      "source": [
        "규칙테이블 = str.maketrans('\\n\\t', '  ')\n",
        "'paullab \\n\\n\\n CEO \\t\\t\\t leehojun'.translate(규칙테이블)"
      ],
      "metadata": {
        "colab": {
          "base_uri": "https://localhost:8080/",
          "height": 35
        },
        "id": "Mxf9yTLjO9Nr",
        "outputId": "ced0f579-9427-4028-9bad-1a2ff59059a3"
      },
      "execution_count": null,
      "outputs": [
        {
          "output_type": "execute_result",
          "data": {
            "text/plain": [
              "'paullab     CEO     leehojun'"
            ],
            "application/vnd.google.colaboratory.intrinsic+json": {
              "type": "string"
            }
          },
          "metadata": {},
          "execution_count": 103
        }
      ]
    },
    {
      "cell_type": "markdown",
      "source": [
        "## pep"
      ],
      "metadata": {
        "id": "IbQmEHfqPYi-"
      }
    },
    {
      "cell_type": "code",
      "source": [
        "# aaaaaaaaaaaaaaaaaaaaaaaaaaaaaaaaaaaaaaaaaaaaaaaaaaaaaaaaaaaaaaaaaaaaaaaaaaaaaaaa => 80자\n",
        "# 아아아아아아아아아아아아아아아아아아아아아아아아아아아아아아아아아아아아아아아아아아 => 40자면 한글 넘어갑니다.\n",
        "# line에 딱 맞춰 들어간 것을 볼 수 있습니다. \n",
        "# 강제사항은 아닙니다.\n",
        "# 띄어쓰기 4번도 강제사항은 아닙니다.\n",
        "# pep8, pep20 에 기술되어 있습니다. => pep(Python Enhancement Proposal)란 무엇인가요? 8 이란 무엇인가요?\n",
        "# pep8 : Style Guide for Python Code (https://peps.python.org/pep-0008/)\n",
        "# pep20 : The Zen of Python (https://peps.python.org/pep-0020/) # 이스터에그로 숨겨져 있습니다.\n",
        "# https://peps.python.org/"
      ],
      "metadata": {
        "id": "7neh1vEAPaBB"
      },
      "execution_count": null,
      "outputs": []
    },
    {
      "cell_type": "markdown",
      "source": [
        "## cpython\n",
        "\n",
        "* 공식홈페이지에서 다운로드 받는 것이 cpython 입니다.\n",
        "* https://github.com/python/cpython\n",
        "* list를 구현한 코드 : https://github.com/python/cpython/blob/main/Objects/listobject.c"
      ],
      "metadata": {
        "id": "5n-4uqjqQoKD"
      }
    },
    {
      "cell_type": "markdown",
      "source": [
        "## 인덱싱과 슬라이싱"
      ],
      "metadata": {
        "id": "hygi8akrSWro"
      }
    },
    {
      "cell_type": "code",
      "source": [
        "name = 'Guido van Rossum'\n",
        "print(name[0])\n",
        "print(name[1])\n",
        "print(name[2])"
      ],
      "metadata": {
        "colab": {
          "base_uri": "https://localhost:8080/"
        },
        "id": "Lp-pTVorSaIl",
        "outputId": "33ff980e-f121-4093-e4a3-a8e599ef3bcd"
      },
      "execution_count": null,
      "outputs": [
        {
          "output_type": "stream",
          "name": "stdout",
          "text": [
            "G\n",
            "u\n",
            "i\n"
          ]
        }
      ]
    },
    {
      "cell_type": "code",
      "source": [
        "# s[start:stop:step]\n",
        "s = 'paullab CEO leehojun'\n",
        "s[5:]\n",
        "s[:5]\n",
        "s[3:10]\n",
        "s[:]\n",
        "s[0:20:2]"
      ],
      "metadata": {
        "colab": {
          "base_uri": "https://localhost:8080/",
          "height": 35
        },
        "id": "FQo1zt3TSjuj",
        "outputId": "c0d4ba7a-f763-48eb-f9df-bb89b648760f"
      },
      "execution_count": null,
      "outputs": [
        {
          "output_type": "execute_result",
          "data": {
            "text/plain": [
              "'pulbCOleou'"
            ],
            "application/vnd.google.colaboratory.intrinsic+json": {
              "type": "string"
            }
          },
          "metadata": {},
          "execution_count": 115
        }
      ]
    },
    {
      "cell_type": "code",
      "source": [
        "# 자주 사용되는 코드\n",
        "s = 'paullab CEO leehojun!'\n",
        "s[:] # string 에서는 많이 사용하지 않지만 list 에서 많이 사용합니다.\n",
        "s[:-1] # 마지막 요소만 제외하고 다 슬라이싱 합니다."
      ],
      "metadata": {
        "colab": {
          "base_uri": "https://localhost:8080/",
          "height": 35
        },
        "id": "F6LT94eDTMLi",
        "outputId": "d4f61513-6206-4020-c14e-be4289dba363"
      },
      "execution_count": null,
      "outputs": [
        {
          "output_type": "execute_result",
          "data": {
            "text/plain": [
              "'paullab CEO leehojun'"
            ],
            "application/vnd.google.colaboratory.intrinsic+json": {
              "type": "string"
            }
          },
          "metadata": {},
          "execution_count": 120
        }
      ]
    },
    {
      "cell_type": "code",
      "source": [
        "test = [1, 2, 3, 4]\n",
        "test2 = test\n",
        "test2[0] = 1000\n",
        "test, test2"
      ],
      "metadata": {
        "colab": {
          "base_uri": "https://localhost:8080/"
        },
        "id": "xhtJkPwCTfut",
        "outputId": "c72d9dc8-473b-4f2d-d364-65710e44bd19"
      },
      "execution_count": null,
      "outputs": [
        {
          "output_type": "execute_result",
          "data": {
            "text/plain": [
              "([1000, 2, 3, 4], [1000, 2, 3, 4])"
            ]
          },
          "metadata": {},
          "execution_count": 118
        }
      ]
    },
    {
      "cell_type": "code",
      "source": [
        "test = [1, 2, 3, 4]\n",
        "test2 = test[:] # 새로운 리스트를 만들어서 test2 에게 줍니다.\n",
        "test2[0] = 1000\n",
        "test, test2"
      ],
      "metadata": {
        "colab": {
          "base_uri": "https://localhost:8080/"
        },
        "id": "i02e1Fh4Tvep",
        "outputId": "50f6e423-c2dc-4057-c610-5d79de4d019f"
      },
      "execution_count": null,
      "outputs": [
        {
          "output_type": "execute_result",
          "data": {
            "text/plain": [
              "([1, 2, 3, 4], [1000, 2, 3, 4])"
            ]
          },
          "metadata": {},
          "execution_count": 119
        }
      ]
    },
    {
      "cell_type": "markdown",
      "source": [
        "## 문자열의 연산"
      ],
      "metadata": {
        "id": "P1c_ZmgKUptf"
      }
    },
    {
      "cell_type": "code",
      "source": [
        "s = 'hello world'\n",
        "dir(s)\n",
        "s + s\n",
        "s * 3"
      ],
      "metadata": {
        "colab": {
          "base_uri": "https://localhost:8080/",
          "height": 35
        },
        "id": "bIU2xrQLUYJw",
        "outputId": "d757e6f8-3e9b-4a31-bffd-c39121cc317b"
      },
      "execution_count": null,
      "outputs": [
        {
          "output_type": "execute_result",
          "data": {
            "text/plain": [
              "'hello worldhello worldhello world'"
            ],
            "application/vnd.google.colaboratory.intrinsic+json": {
              "type": "string"
            }
          },
          "metadata": {},
          "execution_count": 122
        }
      ]
    },
    {
      "cell_type": "markdown",
      "source": [
        "## 형변환"
      ],
      "metadata": {
        "id": "4M2X6lSgUug-"
      }
    },
    {
      "cell_type": "markdown",
      "source": [
        "* 형변환 : type 을 변경하는 것 입니다."
      ],
      "metadata": {
        "id": "nX6_TTr_WJ5k"
      }
    },
    {
      "cell_type": "code",
      "source": [
        "x = int(input())\n",
        "x + x # but 알파벳 입력하면 error!"
      ],
      "metadata": {
        "colab": {
          "base_uri": "https://localhost:8080/",
          "height": 211
        },
        "id": "HtRX69wwVUEY",
        "outputId": "a9d4e16e-16a9-4c57-d3c8-bd3101146c6a"
      },
      "execution_count": null,
      "outputs": [
        {
          "name": "stdout",
          "output_type": "stream",
          "text": [
            "dsa\n"
          ]
        },
        {
          "output_type": "error",
          "ename": "ValueError",
          "evalue": "ignored",
          "traceback": [
            "\u001b[0;31m---------------------------------------------------------------------------\u001b[0m",
            "\u001b[0;31mValueError\u001b[0m                                Traceback (most recent call last)",
            "\u001b[0;32m<ipython-input-126-617c7ad38e9b>\u001b[0m in \u001b[0;36m<cell line: 1>\u001b[0;34m()\u001b[0m\n\u001b[0;32m----> 1\u001b[0;31m \u001b[0mx\u001b[0m \u001b[0;34m=\u001b[0m \u001b[0mint\u001b[0m\u001b[0;34m(\u001b[0m\u001b[0minput\u001b[0m\u001b[0;34m(\u001b[0m\u001b[0;34m)\u001b[0m\u001b[0;34m)\u001b[0m\u001b[0;34m\u001b[0m\u001b[0;34m\u001b[0m\u001b[0m\n\u001b[0m\u001b[1;32m      2\u001b[0m \u001b[0mx\u001b[0m \u001b[0;34m+\u001b[0m \u001b[0mx\u001b[0m \u001b[0;31m# but 알파벳 입력하면 error!\u001b[0m\u001b[0;34m\u001b[0m\u001b[0;34m\u001b[0m\u001b[0m\n",
            "\u001b[0;31mValueError\u001b[0m: invalid literal for int() with base 10: 'dsa'"
          ]
        }
      ]
    },
    {
      "cell_type": "code",
      "source": [
        "x = input()\n",
        "if x.isdigit():\n",
        "    x = int(x) # but 알파벳 입력하면 error\n",
        "x + x"
      ],
      "metadata": {
        "colab": {
          "base_uri": "https://localhost:8080/"
        },
        "id": "dIIok4eKU1Yc",
        "outputId": "af9122f8-b70f-4b34-80e6-1df2f1279abc"
      },
      "execution_count": null,
      "outputs": [
        {
          "name": "stdout",
          "output_type": "stream",
          "text": [
            "asd\n"
          ]
        }
      ]
    },
    {
      "cell_type": "code",
      "source": [
        "# int('abc') # error\n",
        "int(10.1) # 버림\n",
        "int('10') # 형변환 가능\n",
        "# int('10.1') # 형변환 불가능"
      ],
      "metadata": {
        "id": "GjlrXjFVVzsx"
      },
      "execution_count": null,
      "outputs": []
    },
    {
      "cell_type": "code",
      "source": [
        "float('10') # 형변환 가능\n",
        "float('10.1') # 형변환 불가능"
      ],
      "metadata": {
        "colab": {
          "base_uri": "https://localhost:8080/"
        },
        "id": "QxHdCgnlVZx-",
        "outputId": "3aa0fef2-7a1b-4914-c187-95a442311316"
      },
      "execution_count": null,
      "outputs": [
        {
          "output_type": "execute_result",
          "data": {
            "text/plain": [
              "10.1"
            ]
          },
          "metadata": {},
          "execution_count": 129
        }
      ]
    },
    {
      "cell_type": "code",
      "source": [
        "int('10a') # 되는 언어가 있어서 보여드린 것 입니다.\n",
        "# Python 에서는 허용하지 않습니다."
      ],
      "metadata": {
        "id": "yJanZZW9WBwh"
      },
      "execution_count": null,
      "outputs": []
    },
    {
      "cell_type": "code",
      "source": [
        "def hello():\n",
        "    pass\n",
        "\n",
        "str(type)\n",
        "str(hello)\n",
        "\n",
        "str('123')\n",
        "str(True)\n",
        "str(None)\n",
        "str([1, 2, 3])\n",
        "str({1, 2, 3})\n",
        "str({'one':1, 'two':2})"
      ],
      "metadata": {
        "colab": {
          "base_uri": "https://localhost:8080/",
          "height": 35
        },
        "id": "tJ7tA0ohWNsR",
        "outputId": "01d811be-4863-4c2a-aa14-cad43607e982"
      },
      "execution_count": null,
      "outputs": [
        {
          "output_type": "execute_result",
          "data": {
            "text/plain": [
              "\"{'one': 1, 'two': 2}\""
            ],
            "application/vnd.google.colaboratory.intrinsic+json": {
              "type": "string"
            }
          },
          "metadata": {},
          "execution_count": 139
        }
      ]
    },
    {
      "cell_type": "code",
      "source": [
        "# 별 5개\n",
        "# bool 형으로 형변환 하는 것\n",
        "if True:\n",
        "    print('hi')\n",
        "\n",
        "if 'hello':\n",
        "    print('hi')\n",
        "\n",
        "# 정말 많이 사용하는 코드\n",
        "l = [1, 2, 3]\n",
        "while l:\n",
        "    print(l.pop())\n",
        "\n",
        "bool('') # 빈 문자열을 제외하고 모두 True\n",
        "bool('a')\n",
        "bool('False') # 문자열 False 이기 때문에 True\n",
        "bool(0) # 0을 제외하고 모두 True\n",
        "bool(-1)\n",
        "bool(100)\n",
        "bool(None) # None은 비어있음을 명시해주는 키워드, False\n",
        "bool([]) # 컨벤션 자료형은 비어있으면 False 입니다.\n",
        "bool({})"
      ],
      "metadata": {
        "colab": {
          "base_uri": "https://localhost:8080/"
        },
        "id": "qh1PhoeHW45T",
        "outputId": "b1672348-97c6-40b6-c3c0-7c6fbbcec4cd"
      },
      "execution_count": null,
      "outputs": [
        {
          "output_type": "stream",
          "name": "stdout",
          "text": [
            "hi\n",
            "hi\n",
            "3\n",
            "2\n",
            "1\n"
          ]
        },
        {
          "output_type": "execute_result",
          "data": {
            "text/plain": [
              "False"
            ]
          },
          "metadata": {},
          "execution_count": 155
        }
      ]
    },
    {
      "cell_type": "code",
      "source": [
        "# list 로 형변환\n",
        "s = '10'\n",
        "l = list(s)\n",
        "l"
      ],
      "metadata": {
        "colab": {
          "base_uri": "https://localhost:8080/"
        },
        "id": "HTNXRdEjpiBs",
        "outputId": "d335d8b6-e231-4b20-991c-583b2c0455e6"
      },
      "execution_count": null,
      "outputs": [
        {
          "output_type": "execute_result",
          "data": {
            "text/plain": [
              "['1', '0']"
            ]
          },
          "metadata": {},
          "execution_count": 156
        }
      ]
    },
    {
      "cell_type": "code",
      "source": [
        "s = 'leehojun'\n",
        "l = list(s)\n",
        "l"
      ],
      "metadata": {
        "colab": {
          "base_uri": "https://localhost:8080/"
        },
        "id": "tS-hh5ymprgY",
        "outputId": "7a5ff74b-282d-4279-afb6-958eab689486"
      },
      "execution_count": null,
      "outputs": [
        {
          "output_type": "execute_result",
          "data": {
            "text/plain": [
              "['l', 'e', 'e', 'h', 'o', 'j', 'u', 'n']"
            ]
          },
          "metadata": {},
          "execution_count": 157
        }
      ]
    },
    {
      "cell_type": "code",
      "source": [
        "# tuple 로 형변환\n",
        "s = 'leehojun'\n",
        "l = tuple(s)\n",
        "l"
      ],
      "metadata": {
        "colab": {
          "base_uri": "https://localhost:8080/"
        },
        "id": "k3zQiWlYprfg",
        "outputId": "3080fe90-1472-46bd-8a6f-4c41c707574c"
      },
      "execution_count": null,
      "outputs": [
        {
          "output_type": "execute_result",
          "data": {
            "text/plain": [
              "('l', 'e', 'e', 'h', 'o', 'j', 'u', 'n')"
            ]
          },
          "metadata": {},
          "execution_count": 158
        }
      ]
    },
    {
      "cell_type": "code",
      "source": [
        "# dict 로 형변환\n",
        "# name = 'leehojun' # error\n",
        "# dict(name)\n",
        "\n",
        "s = [('name', 'leehojun'), ('age', 10)]\n",
        "d = dict(s)\n",
        "d"
      ],
      "metadata": {
        "colab": {
          "base_uri": "https://localhost:8080/"
        },
        "id": "z1DDBCTap4do",
        "outputId": "35630387-996d-4b31-bc52-4dcaec711a18"
      },
      "execution_count": null,
      "outputs": [
        {
          "output_type": "execute_result",
          "data": {
            "text/plain": [
              "{'name': 'leehojun', 'age': 10}"
            ]
          },
          "metadata": {},
          "execution_count": 161
        }
      ]
    },
    {
      "cell_type": "code",
      "source": [
        "# set(집합) 으로 형변환\n",
        "name = 'leehojun'\n",
        "set(name)"
      ],
      "metadata": {
        "colab": {
          "base_uri": "https://localhost:8080/"
        },
        "id": "WD3Cg1lSqPzo",
        "outputId": "1be54d89-cbe0-44e8-e062-27f68329b22d"
      },
      "execution_count": null,
      "outputs": [
        {
          "output_type": "execute_result",
          "data": {
            "text/plain": [
              "{'e', 'h', 'j', 'l', 'n', 'o', 'u'}"
            ]
          },
          "metadata": {},
          "execution_count": 162
        }
      ]
    },
    {
      "cell_type": "code",
      "source": [
        "len('hello world') #__len__\n",
        "len([1, 2, 3, 4])"
      ],
      "metadata": {
        "colab": {
          "base_uri": "https://localhost:8080/"
        },
        "id": "PNc_Y_c-qdpR",
        "outputId": "82822b42-ccdd-4316-edb3-11082e5e1519"
      },
      "execution_count": null,
      "outputs": [
        {
          "output_type": "execute_result",
          "data": {
            "text/plain": [
              "4"
            ]
          },
          "metadata": {},
          "execution_count": 164
        }
      ]
    },
    {
      "cell_type": "code",
      "source": [
        "# 2번\n",
        "a = input(\"문자를 입력해주세요!\")\n",
        "print(a * 2)"
      ],
      "metadata": {
        "colab": {
          "base_uri": "https://localhost:8080/"
        },
        "id": "Wrgj3sBXrTmo",
        "outputId": "2282cb93-2a3b-4fc7-b778-680d92a7da08"
      },
      "execution_count": null,
      "outputs": [
        {
          "output_type": "stream",
          "name": "stdout",
          "text": [
            "문자를 입력해주세요!ㅁㄴㅇ\n",
            "ㅁㄴㅇㅁㄴㅇ\n"
          ]
        }
      ]
    },
    {
      "cell_type": "code",
      "source": [
        "print(input('문자를 입력해주세요!') * 2)"
      ],
      "metadata": {
        "colab": {
          "base_uri": "https://localhost:8080/"
        },
        "id": "xzEVoX4Ns2Mk",
        "outputId": "d6ce4672-5a7a-4663-c52f-d69f2cc54a81"
      },
      "execution_count": null,
      "outputs": [
        {
          "output_type": "stream",
          "name": "stdout",
          "text": [
            "문자를 입력해주세요!ㅇㅁㄴ\n",
            "ㅇㅁㄴㅇㅁㄴ\n"
          ]
        }
      ]
    },
    {
      "cell_type": "code",
      "source": [
        "# 3번\n",
        "num = 1234567890\n",
        "list(str(num))\n",
        "list(str(num))[3]"
      ],
      "metadata": {
        "colab": {
          "base_uri": "https://localhost:8080/",
          "height": 35
        },
        "id": "2ollY_3zre4W",
        "outputId": "a822983d-7754-43de-88fd-49ac52d1bfe4"
      },
      "execution_count": null,
      "outputs": [
        {
          "output_type": "execute_result",
          "data": {
            "text/plain": [
              "'4'"
            ],
            "application/vnd.google.colaboratory.intrinsic+json": {
              "type": "string"
            }
          },
          "metadata": {},
          "execution_count": 175
        }
      ]
    },
    {
      "cell_type": "markdown",
      "source": [
        "## 산술연산"
      ],
      "metadata": {
        "id": "i_i-qqgzs85V"
      }
    },
    {
      "cell_type": "code",
      "source": [
        "a = 10\n",
        "b = 3\n",
        "\n",
        "print(f'10 + 3 == {a + b}')\n",
        "print(f'10 - 3 == {a - b}')\n",
        "print(f'10 / 3 == {a / b}')\n",
        "print(f'10 // 3 == {a // b}') # 몫 만 나옵니다. (정수만)\n",
        "print(f'10 * 3 == {a * b}')\n",
        "print(f'10 ** 3 == {a ** b}') # 제곱\n",
        "print(f'10 % 3 == {a % b}') # 나머지"
      ],
      "metadata": {
        "colab": {
          "base_uri": "https://localhost:8080/"
        },
        "id": "RqKkSWZas-La",
        "outputId": "a39cec5a-c483-4823-837d-cc2650a3bb04"
      },
      "execution_count": null,
      "outputs": [
        {
          "output_type": "stream",
          "name": "stdout",
          "text": [
            "10 + 3 == 13\n",
            "10 - 3 == 7\n",
            "10 / 3 == 3.3333333333333335\n",
            "10 // 3 == 3\n",
            "10 * 3 == 30\n",
            "10 ** 3 == 1000\n",
            "10 % 3 == 1\n"
          ]
        }
      ]
    },
    {
      "cell_type": "code",
      "source": [
        "# 연산자 우선순위는 and, or, 4칙연산, 제곱 정도만 아셔도\n",
        "# 코딩하는데 큰 무리가 없습니다.\n",
        "# (모르시면 읽는데 어려움이 생기기도 합니다.)\n",
        "\n",
        "print(3 ** 2 * 3)\n",
        "print(3 * 3 ** 2)\n",
        "# 곱하기 보다 제곱이 우선순위가 더 높습니다.\n",
        "print(3 + 3 * 2)"
      ],
      "metadata": {
        "colab": {
          "base_uri": "https://localhost:8080/"
        },
        "id": "E7jIXR-it3ti",
        "outputId": "03c4c6b9-cd31-4723-a71b-689847ba0520"
      },
      "execution_count": null,
      "outputs": [
        {
          "output_type": "stream",
          "name": "stdout",
          "text": [
            "27\n",
            "27\n",
            "9\n"
          ]
        }
      ]
    },
    {
      "cell_type": "code",
      "source": [
        "a = 10\n",
        "b = 3\n",
        "\n",
        "print(f'10 > 3 == {a > b}')\n",
        "print(f'10 >= 3 == {a >= b}')\n",
        "print(f'10 < 3 == {a < b}')\n",
        "print(f'10 <= 3 == {a <= b}')\n",
        "print(f'10 == 3 == {a == b}')\n",
        "print(f'10 != 3 == {a != b}')"
      ],
      "metadata": {
        "colab": {
          "base_uri": "https://localhost:8080/"
        },
        "id": "-0LdVEg3urfm",
        "outputId": "a07305ff-ee4b-4685-fa86-118fc2483b7c"
      },
      "execution_count": null,
      "outputs": [
        {
          "output_type": "stream",
          "name": "stdout",
          "text": [
            "10 > 3 == True\n",
            "10 >= 3 == True\n",
            "10 < 3 == False\n",
            "10 <= 3 == False\n",
            "10 == 3 == False\n",
            "10 != 3 == True\n"
          ]
        }
      ]
    },
    {
      "cell_type": "markdown",
      "source": [
        "## 논리연산"
      ],
      "metadata": {
        "id": "rV1o-X1vvTGA"
      }
    },
    {
      "cell_type": "code",
      "source": [
        "# and 는 곱\n",
        "# or 는 합\n",
        "# not 은 반대\n",
        "# True 1\n",
        "# False 0\n",
        "# 중요한 포인트는 저렇게 했을 때 언제 True 가 되는지 정리하는 것\n",
        "\n",
        "print(True and False)\n",
        "print(True or False)\n",
        "print(True or True)\n",
        "\n",
        "if True and False:\n",
        "    print('hello')\n",
        "\n",
        "if 10 > 3 and 8 % 3 == 0:\n",
        "    print('hello')\n",
        "\n",
        "# and 는 언제 True 가 되나요?\n",
        "# 모두 True 일 때만 True\n",
        "# or 는 언제 True 가 되나요?\n",
        "# 둘 중에 하나라도 참이라면 True"
      ],
      "metadata": {
        "colab": {
          "base_uri": "https://localhost:8080/"
        },
        "id": "wI7cGznLvYxo",
        "outputId": "bfff3619-bcb6-4797-943a-290a8d0ae062"
      },
      "execution_count": null,
      "outputs": [
        {
          "output_type": "stream",
          "name": "stdout",
          "text": [
            "False\n",
            "True\n"
          ]
        }
      ]
    },
    {
      "cell_type": "code",
      "source": [
        "# https://codingdojang.com/scode/350?answer_mode=hide\n",
        "for i in range(101):\n",
        "    if i % 3 == 0 and i % 5 == 0:\n",
        "        print(i)"
      ],
      "metadata": {
        "colab": {
          "base_uri": "https://localhost:8080/"
        },
        "id": "WUcKBWY7wphX",
        "outputId": "849690fe-a2e5-45f2-8cc6-9ab9c05e3a71"
      },
      "execution_count": null,
      "outputs": [
        {
          "output_type": "stream",
          "name": "stdout",
          "text": [
            "0\n",
            "15\n",
            "30\n",
            "45\n",
            "60\n",
            "75\n",
            "90\n"
          ]
        }
      ]
    },
    {
      "cell_type": "code",
      "source": [
        "for i in range(101):\n",
        "    if i % 3 == 0 or i % 5 == 0:\n",
        "        print(i)"
      ],
      "metadata": {
        "colab": {
          "base_uri": "https://localhost:8080/"
        },
        "id": "wkSyBa2KxTyk",
        "outputId": "2659d371-2cdf-4d75-fc22-0c822d565ee5"
      },
      "execution_count": null,
      "outputs": [
        {
          "output_type": "stream",
          "name": "stdout",
          "text": [
            "0\n",
            "3\n",
            "5\n",
            "6\n",
            "9\n",
            "10\n",
            "12\n",
            "15\n",
            "18\n",
            "20\n",
            "21\n",
            "24\n",
            "25\n",
            "27\n",
            "30\n",
            "33\n",
            "35\n",
            "36\n",
            "39\n",
            "40\n",
            "42\n",
            "45\n",
            "48\n",
            "50\n",
            "51\n",
            "54\n",
            "55\n",
            "57\n",
            "60\n",
            "63\n",
            "65\n",
            "66\n",
            "69\n",
            "70\n",
            "72\n",
            "75\n",
            "78\n",
            "80\n",
            "81\n",
            "84\n",
            "85\n",
            "87\n",
            "90\n",
            "93\n",
            "95\n",
            "96\n",
            "99\n",
            "100\n"
          ]
        }
      ]
    },
    {
      "cell_type": "code",
      "source": [
        "result = 0\n",
        "for i in range(101):\n",
        "    if i % 3 == 0:\n",
        "        result += i # result = result + i\n",
        "    if i % 5 == 0:\n",
        "        result += i\n",
        "    if i % 15 == 0:\n",
        "        result -= i\n",
        "print(result)"
      ],
      "metadata": {
        "colab": {
          "base_uri": "https://localhost:8080/"
        },
        "id": "9CVcbqrQxheu",
        "outputId": "02859bc9-bc84-4b5c-ef48-0241a03e64a3"
      },
      "execution_count": null,
      "outputs": [
        {
          "output_type": "stream",
          "name": "stdout",
          "text": [
            "2418\n"
          ]
        }
      ]
    },
    {
      "cell_type": "code",
      "source": [
        "not True"
      ],
      "metadata": {
        "colab": {
          "base_uri": "https://localhost:8080/"
        },
        "id": "XkA36JPkyejG",
        "outputId": "60e297df-f899-405c-980a-f4355dd945e1"
      },
      "execution_count": null,
      "outputs": [
        {
          "output_type": "execute_result",
          "data": {
            "text/plain": [
              "False"
            ]
          },
          "metadata": {},
          "execution_count": 196
        }
      ]
    },
    {
      "cell_type": "code",
      "source": [
        "not False"
      ],
      "metadata": {
        "colab": {
          "base_uri": "https://localhost:8080/"
        },
        "id": "MzXv1aGfyhLC",
        "outputId": "7ffe3dae-9929-4d35-d39b-fd920eaf732e"
      },
      "execution_count": null,
      "outputs": [
        {
          "output_type": "execute_result",
          "data": {
            "text/plain": [
              "True"
            ]
          },
          "metadata": {},
          "execution_count": 197
        }
      ]
    },
    {
      "cell_type": "code",
      "source": [
        "# python 입장에서 보는 코드\n",
        "# False and ??? -> 물음표에 무엇이 나오든 False\n",
        "# 그래서 Python 도 저 물음표를 보지 않습니다.\n",
        "def solution():\n",
        "    1/0\n",
        "\n",
        "if False and solution():\n",
        "    print('hello')"
      ],
      "metadata": {
        "id": "EtAsWnCvypDf"
      },
      "execution_count": null,
      "outputs": []
    },
    {
      "cell_type": "code",
      "source": [
        "# True or ???? -> 물음표에 무엇이 나오든 True\n",
        "# 그래서 Python 도 저 물음표를 보지 않습니다.\n",
        "def solution():\n",
        "    1/0\n",
        "\n",
        "if True or solution():\n",
        "    print('hello')"
      ],
      "metadata": {
        "colab": {
          "base_uri": "https://localhost:8080/"
        },
        "id": "PjqOBxFK11vU",
        "outputId": "38e33bd3-9c24-4dea-8e0c-7e30f8777ad1"
      },
      "execution_count": null,
      "outputs": [
        {
          "output_type": "stream",
          "name": "stdout",
          "text": [
            "hello\n"
          ]
        }
      ]
    },
    {
      "cell_type": "code",
      "source": [
        "# 단락 평가 (컴퓨터가 어디까지 보는지 판단해서 활용)\n",
        "username = '' # 사용자가 아무것도 입력하지 않았을 경우\n",
        "username = username or 'licat'\n",
        "username"
      ],
      "metadata": {
        "colab": {
          "base_uri": "https://localhost:8080/",
          "height": 35
        },
        "id": "0PxjRoOJ2C1Z",
        "outputId": "8be0fe7d-675b-421d-c498-8cf18c841b06"
      },
      "execution_count": null,
      "outputs": [
        {
          "output_type": "execute_result",
          "data": {
            "text/plain": [
              "'licat'"
            ],
            "application/vnd.google.colaboratory.intrinsic+json": {
              "type": "string"
            }
          },
          "metadata": {},
          "execution_count": 202
        }
      ]
    },
    {
      "cell_type": "code",
      "source": [
        "username = 'leehojun' # 사용자가 이름을 입력했을 경우\n",
        "username = username or 'licat'\n",
        "username"
      ],
      "metadata": {
        "colab": {
          "base_uri": "https://localhost:8080/",
          "height": 35
        },
        "id": "lLi9WT8x2du3",
        "outputId": "d88d7ff5-0e98-4486-b896-799a4a7051bd"
      },
      "execution_count": null,
      "outputs": [
        {
          "output_type": "execute_result",
          "data": {
            "text/plain": [
              "'leehojun'"
            ],
            "application/vnd.google.colaboratory.intrinsic+json": {
              "type": "string"
            }
          },
          "metadata": {},
          "execution_count": 203
        }
      ]
    },
    {
      "cell_type": "code",
      "source": [
        "# and 와 or 의 우선순위 (and 가 더 높습니다.)\n",
        "for i in range(21):\n",
        "    if i % 3 == 0 and i % 5 == 0 or i % 2 == 0:\n",
        "        print(i)\n",
        "\n",
        "for i in range(21):\n",
        "    if (i % 3 == 0 and i % 5 == 0) or i % 2 == 0:\n",
        "        print(i)"
      ],
      "metadata": {
        "colab": {
          "base_uri": "https://localhost:8080/"
        },
        "id": "TaOkggG52sIg",
        "outputId": "c7147bfe-2066-48f7-ac1c-bab09130815f"
      },
      "execution_count": null,
      "outputs": [
        {
          "output_type": "stream",
          "name": "stdout",
          "text": [
            "0\n",
            "2\n",
            "4\n",
            "6\n",
            "8\n",
            "10\n",
            "12\n",
            "14\n",
            "15\n",
            "16\n",
            "18\n",
            "20\n",
            "0\n",
            "2\n",
            "4\n",
            "6\n",
            "8\n",
            "10\n",
            "12\n",
            "14\n",
            "15\n",
            "16\n",
            "18\n",
            "20\n"
          ]
        }
      ]
    },
    {
      "cell_type": "code",
      "source": [
        "# 아래는 출력되는 값이 다릅니다! 우선순위가 낮은 or 가 먼저 나왔기 때문입니다.\n",
        "# 결론 : 헷갈리시면 괄호를 사용하세요.\n",
        "for i in range(101):\n",
        "    if (i % 3 == 0 or i % 5 == 0) and i % 2 == 0:\n",
        "        print(i)\n",
        "\n",
        "for i in range(101):\n",
        "    if i % 3 == 0 or i % 5 == 0 and i % 2 == 0:\n",
        "        print(i)"
      ],
      "metadata": {
        "colab": {
          "base_uri": "https://localhost:8080/"
        },
        "id": "06qECdzt3Bf6",
        "outputId": "cde98c97-3843-4d93-85cc-76a47076f714"
      },
      "execution_count": null,
      "outputs": [
        {
          "output_type": "stream",
          "name": "stdout",
          "text": [
            "0\n",
            "6\n",
            "10\n",
            "12\n",
            "18\n",
            "20\n",
            "24\n",
            "30\n",
            "36\n",
            "40\n",
            "42\n",
            "48\n",
            "50\n",
            "54\n",
            "60\n",
            "66\n",
            "70\n",
            "72\n",
            "78\n",
            "80\n",
            "84\n",
            "90\n",
            "96\n",
            "100\n",
            "0\n",
            "3\n",
            "6\n",
            "9\n",
            "10\n",
            "12\n",
            "15\n",
            "18\n",
            "20\n",
            "21\n",
            "24\n",
            "27\n",
            "30\n",
            "33\n",
            "36\n",
            "39\n",
            "40\n",
            "42\n",
            "45\n",
            "48\n",
            "50\n",
            "51\n",
            "54\n",
            "57\n",
            "60\n",
            "63\n",
            "66\n",
            "69\n",
            "70\n",
            "72\n",
            "75\n",
            "78\n",
            "80\n",
            "81\n",
            "84\n",
            "87\n",
            "90\n",
            "93\n",
            "96\n",
            "99\n",
            "100\n"
          ]
        }
      ]
    },
    {
      "cell_type": "markdown",
      "source": [
        "## 비트연산 (중요도 하)"
      ],
      "metadata": {
        "id": "VvnKI52M4GDp"
      }
    },
    {
      "cell_type": "code",
      "source": [
        "# and\n",
        "# 1001 == 9\n",
        "# 0010 == 2\n",
        "# ----\n",
        "# 0000"
      ],
      "metadata": {
        "id": "cTkPTaKz4Hzj"
      },
      "execution_count": null,
      "outputs": []
    },
    {
      "cell_type": "code",
      "source": [
        "9 & 2"
      ],
      "metadata": {
        "colab": {
          "base_uri": "https://localhost:8080/"
        },
        "id": "C-DD0AJ04pG-",
        "outputId": "f9af150d-978b-4875-a7fd-7939c7099b2f"
      },
      "execution_count": null,
      "outputs": [
        {
          "output_type": "execute_result",
          "data": {
            "text/plain": [
              "0"
            ]
          },
          "metadata": {},
          "execution_count": 210
        }
      ]
    },
    {
      "cell_type": "code",
      "source": [
        "9 & 8"
      ],
      "metadata": {
        "colab": {
          "base_uri": "https://localhost:8080/"
        },
        "id": "ex0u9r9Q4sbQ",
        "outputId": "3c7bf8a1-cb06-45b2-c907-1a6836db94f7"
      },
      "execution_count": null,
      "outputs": [
        {
          "output_type": "execute_result",
          "data": {
            "text/plain": [
              "8"
            ]
          },
          "metadata": {},
          "execution_count": 211
        }
      ]
    },
    {
      "cell_type": "code",
      "source": [
        "# or (더하기, 대신 자리올림이 되진 않습니다.)\n",
        "# 1001 == 9\n",
        "# 0011 == 3\n",
        "# ----\n",
        "# 1011 == 11\n",
        "\n",
        "9 | 3"
      ],
      "metadata": {
        "colab": {
          "base_uri": "https://localhost:8080/"
        },
        "id": "JSc3-2g75orO",
        "outputId": "3b344e19-c06d-4fea-c92a-f4be68620bd0"
      },
      "execution_count": null,
      "outputs": [
        {
          "output_type": "execute_result",
          "data": {
            "text/plain": [
              "11"
            ]
          },
          "metadata": {},
          "execution_count": 213
        }
      ]
    },
    {
      "cell_type": "code",
      "source": [
        "# xor (같은 경우 0, 다를 경우 1)\n",
        "# 1001 == 9\n",
        "# 0011 == 3\n",
        "# ----\n",
        "# 1010 == 10\n",
        "9 ^ 3"
      ],
      "metadata": {
        "colab": {
          "base_uri": "https://localhost:8080/"
        },
        "id": "n-YUIc6G580f",
        "outputId": "a4533ae7-fe51-48a7-b92f-bdafad334147"
      },
      "execution_count": null,
      "outputs": [
        {
          "output_type": "execute_result",
          "data": {
            "text/plain": [
              "10"
            ]
          },
          "metadata": {},
          "execution_count": 215
        }
      ]
    },
    {
      "cell_type": "code",
      "source": [
        "~9 # 2의 보수를 취하는 것 입니다. (9 에게 +1 한 다음에 - 를 취하면 됩니다.)\n",
        "~-7"
      ],
      "metadata": {
        "colab": {
          "base_uri": "https://localhost:8080/"
        },
        "id": "IRmSyjEw6N22",
        "outputId": "18001dc2-d421-461e-88c3-903956fb0a3c"
      },
      "execution_count": null,
      "outputs": [
        {
          "output_type": "execute_result",
          "data": {
            "text/plain": [
              "6"
            ]
          },
          "metadata": {},
          "execution_count": 218
        }
      ]
    },
    {
      "cell_type": "code",
      "source": [
        "3 << 2\n",
        "# 3 을 2진수로 표현하면 11 인데 2칸을 왼쪽으로 미는 것 입니다.\n",
        "# 1100"
      ],
      "metadata": {
        "colab": {
          "base_uri": "https://localhost:8080/"
        },
        "id": "9NvtN8FV6knm",
        "outputId": "3d8431d7-b45f-40cc-b88e-861027e4e710"
      },
      "execution_count": null,
      "outputs": [
        {
          "output_type": "execute_result",
          "data": {
            "text/plain": [
              "12"
            ]
          },
          "metadata": {},
          "execution_count": 221
        }
      ]
    },
    {
      "cell_type": "code",
      "source": [
        "7 >> 2"
      ],
      "metadata": {
        "colab": {
          "base_uri": "https://localhost:8080/"
        },
        "id": "_Jx-dCyX7mmT",
        "outputId": "c6e72c7c-f6ea-47bb-d5c7-c35ffae4d528"
      },
      "execution_count": null,
      "outputs": [
        {
          "output_type": "execute_result",
          "data": {
            "text/plain": [
              "1"
            ]
          },
          "metadata": {},
          "execution_count": 222
        }
      ]
    },
    {
      "cell_type": "markdown",
      "source": [
        "## 할당연산"
      ],
      "metadata": {
        "id": "Goaprfax73-3"
      }
    },
    {
      "cell_type": "code",
      "source": [
        "# a = 10\n",
        "# a = a + 10\n",
        "a = + 10 # 이렇게 a 를 지우면 양수를 표현하는 10 만 남아요.\n",
        "a"
      ],
      "metadata": {
        "colab": {
          "base_uri": "https://localhost:8080/"
        },
        "id": "vjbAb0Ua75ac",
        "outputId": "8a21a11c-b417-4ba9-9a41-c57107fea83d"
      },
      "execution_count": null,
      "outputs": [
        {
          "output_type": "execute_result",
          "data": {
            "text/plain": [
              "10"
            ]
          },
          "metadata": {},
          "execution_count": 223
        }
      ]
    },
    {
      "cell_type": "code",
      "source": [
        "a = 10\n",
        "a += 10 # a = a + 10\n",
        "a"
      ],
      "metadata": {
        "colab": {
          "base_uri": "https://localhost:8080/"
        },
        "id": "n2zGNVD88T3W",
        "outputId": "c100e096-393c-4fb2-a8e2-2df3afc3112e"
      },
      "execution_count": null,
      "outputs": [
        {
          "output_type": "execute_result",
          "data": {
            "text/plain": [
              "20"
            ]
          },
          "metadata": {},
          "execution_count": 224
        }
      ]
    },
    {
      "cell_type": "code",
      "source": [
        "a = 10\n",
        "a //= 10 # 산술연산 모두 됩니다.\n",
        "a"
      ],
      "metadata": {
        "colab": {
          "base_uri": "https://localhost:8080/"
        },
        "id": "bMeOeBn69BLf",
        "outputId": "3a16571c-9319-4bf0-a336-4720f5331d64"
      },
      "execution_count": null,
      "outputs": [
        {
          "output_type": "execute_result",
          "data": {
            "text/plain": [
              "1"
            ]
          },
          "metadata": {},
          "execution_count": 225
        }
      ]
    },
    {
      "cell_type": "code",
      "source": [
        "#Python 에서 특이하게 ++a, ++, a++, b++ 가 없습니다."
      ],
      "metadata": {
        "id": "fDo_uCfW9VZs"
      },
      "execution_count": null,
      "outputs": []
    },
    {
      "cell_type": "markdown",
      "source": [
        "## "
      ],
      "metadata": {
        "id": "HiF6iaxw9jLX"
      }
    },
    {
      "cell_type": "markdown",
      "source": [
        "## 식별연산자"
      ],
      "metadata": {
        "id": "VEMpKh479l2T"
      }
    },
    {
      "cell_type": "code",
      "source": [
        "# 앞으로 아래 2개를 활용해서 Python 에 \n",
        "# 컨벤션 자료형이 어떻게 구성이 되는지 확인해볼겁니다.\n",
        "# id()\n",
        "# is"
      ],
      "metadata": {
        "id": "WWLVItxh9m_e"
      },
      "execution_count": null,
      "outputs": []
    },
    {
      "cell_type": "code",
      "source": [
        "a = 256\n",
        "b = 256\n",
        "a is b"
      ],
      "metadata": {
        "colab": {
          "base_uri": "https://localhost:8080/"
        },
        "id": "gbJGCBgs94cV",
        "outputId": "a7c83cc0-123d-42c8-f7ac-c3c25cfefd54"
      },
      "execution_count": null,
      "outputs": [
        {
          "output_type": "execute_result",
          "data": {
            "text/plain": [
              "True"
            ]
          },
          "metadata": {},
          "execution_count": 228
        }
      ]
    },
    {
      "cell_type": "code",
      "source": [
        "a = 999\n",
        "b = 999\n",
        "a is b"
      ],
      "metadata": {
        "colab": {
          "base_uri": "https://localhost:8080/"
        },
        "id": "2clea66A9xf6",
        "outputId": "9017c680-dfb2-4ca6-8043-f9f8700a4808"
      },
      "execution_count": null,
      "outputs": [
        {
          "output_type": "execute_result",
          "data": {
            "text/plain": [
              "False"
            ]
          },
          "metadata": {},
          "execution_count": 227
        }
      ]
    },
    {
      "cell_type": "code",
      "source": [
        "a = [1, 2 ,3]\n",
        "b = [1, 2, 3]\n",
        "a is b"
      ],
      "metadata": {
        "colab": {
          "base_uri": "https://localhost:8080/"
        },
        "id": "Ubsw4pIf96Tj",
        "outputId": "414eeb43-3646-4ee9-8734-b5082b34c818"
      },
      "execution_count": null,
      "outputs": [
        {
          "output_type": "execute_result",
          "data": {
            "text/plain": [
              "False"
            ]
          },
          "metadata": {},
          "execution_count": 229
        }
      ]
    },
    {
      "cell_type": "code",
      "source": [
        "a[0] = 100\n",
        "a, b"
      ],
      "metadata": {
        "colab": {
          "base_uri": "https://localhost:8080/"
        },
        "id": "Vm5YAylp-r4O",
        "outputId": "ac472613-864c-4b06-eae9-4601bebfcb8e"
      },
      "execution_count": null,
      "outputs": [
        {
          "output_type": "execute_result",
          "data": {
            "text/plain": [
              "([100, 2, 3], [1, 2, 3])"
            ]
          },
          "metadata": {},
          "execution_count": 231
        }
      ]
    },
    {
      "cell_type": "code",
      "source": [
        "a = [1, 2 ,3]\n",
        "b = [1, 2, 3]\n",
        "a == b # Python 에 등호는 type 과 valeu 를 봅니다."
      ],
      "metadata": {
        "colab": {
          "base_uri": "https://localhost:8080/"
        },
        "id": "_KzyL8u4-HvL",
        "outputId": "fe17c6ff-573d-4e22-9447-06b2bdd234f2"
      },
      "execution_count": null,
      "outputs": [
        {
          "output_type": "execute_result",
          "data": {
            "text/plain": [
              "True"
            ]
          },
          "metadata": {},
          "execution_count": 232
        }
      ]
    },
    {
      "cell_type": "code",
      "source": [
        "# is 는 주소값을 비교합니다.\n",
        "id(a) == id(b) # 이게 False 면 is 도 False 입니다."
      ],
      "metadata": {
        "colab": {
          "base_uri": "https://localhost:8080/"
        },
        "id": "na6rH6nR_P1y",
        "outputId": "0c33fa3c-f6d4-40ad-d09c-81a6ef414ffb"
      },
      "execution_count": null,
      "outputs": [
        {
          "output_type": "execute_result",
          "data": {
            "text/plain": [
              "False"
            ]
          },
          "metadata": {},
          "execution_count": 239
        }
      ]
    },
    {
      "cell_type": "markdown",
      "source": [
        "## not의 위치"
      ],
      "metadata": {
        "id": "Mldp29lz-zsx"
      }
    },
    {
      "cell_type": "code",
      "source": [
        "a = 10\n",
        "b = 100\n",
        "a is not b\n",
        "# a not is b # error"
      ],
      "metadata": {
        "colab": {
          "base_uri": "https://localhost:8080/"
        },
        "id": "LATuxkUg-2cI",
        "outputId": "a543b6ec-fae7-4539-d561-575f9b21b201"
      },
      "execution_count": null,
      "outputs": [
        {
          "output_type": "execute_result",
          "data": {
            "text/plain": [
              "True"
            ]
          },
          "metadata": {},
          "execution_count": 237
        }
      ]
    },
    {
      "cell_type": "code",
      "source": [
        "a = 10\n",
        "b = [10, 20, 30]\n",
        "a not in b"
      ],
      "metadata": {
        "colab": {
          "base_uri": "https://localhost:8080/"
        },
        "id": "8jYy1JMQ_FMm",
        "outputId": "517a616f-9696-46cc-f27b-74777d18435a"
      },
      "execution_count": null,
      "outputs": [
        {
          "output_type": "execute_result",
          "data": {
            "text/plain": [
              "False"
            ]
          },
          "metadata": {},
          "execution_count": 238
        }
      ]
    },
    {
      "cell_type": "markdown",
      "source": [
        "## 멤버연산"
      ],
      "metadata": {
        "id": "CaMR4oNK_l9N"
      }
    },
    {
      "cell_type": "code",
      "source": [
        "'a' in 'helalo world'\n",
        "'a' in 'hello world'\n",
        "'a' in ['a', 'b']\n",
        "'a' in {'a':10, 'b':20}\n",
        "# 10 in {'a':10, 'b':20} # dict 안에 있는 value 값이 있는지 확인하고 싶으면\n",
        "10 in {'a':10, 'b':20}.values()\n",
        "10 in {10, 20, 30}"
      ],
      "metadata": {
        "colab": {
          "base_uri": "https://localhost:8080/"
        },
        "id": "8d7sgzO6_oL4",
        "outputId": "a7002e7b-cdd2-4e67-ae0b-29d84af1199d"
      },
      "execution_count": null,
      "outputs": [
        {
          "output_type": "execute_result",
          "data": {
            "text/plain": [
              "True"
            ]
          },
          "metadata": {},
          "execution_count": 247
        }
      ]
    },
    {
      "cell_type": "code",
      "source": [
        "'a' not in ['aa', 'bb']"
      ],
      "metadata": {
        "colab": {
          "base_uri": "https://localhost:8080/"
        },
        "id": "SU0QiLItAEJJ",
        "outputId": "54c35194-9211-45d4-ab99-6297e8f074a1"
      },
      "execution_count": null,
      "outputs": [
        {
          "output_type": "execute_result",
          "data": {
            "text/plain": [
              "True"
            ]
          },
          "metadata": {},
          "execution_count": 246
        }
      ]
    },
    {
      "cell_type": "code",
      "source": [
        "10 in [10, 20, 30]\n",
        "[10] in [10, 20, 30]\n",
        "[10] in [[10], 20, 30]\n",
        "[10, 20] in [10, 20, 30]\n",
        "[10, 20] in [[10, 20], 30]\n",
        "set([10, 20]).issubset(set([10, 20, 30]))\n",
        "{10, 20}.issubset({10, 20, 30, 40})"
      ],
      "metadata": {
        "colab": {
          "base_uri": "https://localhost:8080/"
        },
        "id": "F6pt9vdxAfMP",
        "outputId": "619f0278-eddd-4264-d94d-401b3d0be8aa"
      },
      "execution_count": null,
      "outputs": [
        {
          "output_type": "execute_result",
          "data": {
            "text/plain": [
              "True"
            ]
          },
          "metadata": {},
          "execution_count": 255
        }
      ]
    },
    {
      "cell_type": "markdown",
      "source": [
        "## !! 연습문제"
      ],
      "metadata": {
        "id": "EPHphk_YEAQA"
      }
    },
    {
      "cell_type": "code",
      "source": [
        "# 1번\n",
        "1. False\n",
        "2. True\n",
        "3. True\n",
        "4. True"
      ],
      "metadata": {
        "id": "kjOhKwzKEDEF"
      },
      "execution_count": null,
      "outputs": []
    },
    {
      "cell_type": "code",
      "source": [
        "# 2번\n",
        "False"
      ],
      "metadata": {
        "id": "iAfkcMXjEG6s"
      },
      "execution_count": null,
      "outputs": []
    },
    {
      "cell_type": "code",
      "source": [
        "# 3번\n",
        "c = int(input())\n",
        "result = (c // 100)\n",
        "result"
      ],
      "metadata": {
        "colab": {
          "base_uri": "https://localhost:8080/"
        },
        "id": "hjt0Ln80EHaA",
        "outputId": "288e2387-7efe-460b-8bfc-9e5d26bebf70"
      },
      "execution_count": null,
      "outputs": [
        {
          "name": "stdout",
          "output_type": "stream",
          "text": [
            "2000\n"
          ]
        },
        {
          "output_type": "execute_result",
          "data": {
            "text/plain": [
              "20"
            ]
          },
          "metadata": {},
          "execution_count": 270
        }
      ]
    },
    {
      "cell_type": "code",
      "source": [
        "# 4번\n",
        "# 그리디 알고리즘 (욕심쟁이 알고리즘)\n",
        "money = int(input('금액 입력 : '))\n",
        "a = 0\n",
        "b = 0\n",
        "c = 0\n",
        "d = 0\n",
        "while money > 0:\n",
        "    if money >= 5000:\n",
        "        a += 1\n",
        "        money -= 5000\n",
        "    elif money >= 1000:\n",
        "        b += 1\n",
        "        money -= 1000\n",
        "    elif money >= 500:\n",
        "        c += 1\n",
        "        money -= 500\n",
        "    else:\n",
        "        d += 1\n",
        "        money -= 100\n",
        "print(f'5000원 : {a}개, 1000원 : {b}개, 500원 : {c}개. 100원 : {d}개')\n"
      ],
      "metadata": {
        "colab": {
          "base_uri": "https://localhost:8080/"
        },
        "id": "tgw_8hVVEH0q",
        "outputId": "8916e181-4b4f-49b7-ad65-1230d436d09b"
      },
      "execution_count": null,
      "outputs": [
        {
          "output_type": "stream",
          "name": "stdout",
          "text": [
            "금액 입력 : 6600\n",
            "5000원 : 1개, 1000원 : 1개, 500원 : 1개. 100원 : 1개\n"
          ]
        }
      ]
    },
    {
      "cell_type": "code",
      "source": [
        "# 4번\n",
        "# 그리디 알고리즘 (욕심쟁이 알고리즘)\n",
        "money = int(input('금액 입력 : '))\n",
        "\n",
        "a = money // 5000\n",
        "money %= 5000\n",
        "b = money // 1000\n",
        "money %= 1000\n",
        "c = money // 500\n",
        "money %= 500\n",
        "d = money // 100\n",
        "\n",
        "print(f'5000원 : {a}개, 1000원 : {b}개, 500원 : {c}개. 100원 : {d}개')"
      ],
      "metadata": {
        "colab": {
          "base_uri": "https://localhost:8080/"
        },
        "id": "9B4t23NEJF_4",
        "outputId": "cca81da8-9f5f-4beb-e58b-d7d248e4bd4f"
      },
      "execution_count": null,
      "outputs": [
        {
          "output_type": "stream",
          "name": "stdout",
          "text": [
            "금액 입력 : 6700\n",
            "5000원 : 1개, 1000원 : 1개, 500원 : 1개. 100원 : 2개\n"
          ]
        }
      ]
    },
    {
      "cell_type": "code",
      "source": [],
      "metadata": {
        "id": "i24hQTsiJF-y"
      },
      "execution_count": null,
      "outputs": []
    },
    {
      "cell_type": "markdown",
      "source": [
        "### !! 오늘 배운 것 정리\n",
        "\n",
        "1. str\n",
        "    - 순서가 있는 **시퀀스 자료형**입니다.\n",
        "    - 작은 따옴표(' ')나 큰 따옴표(\" \"), 삼중따옴표('''str''', \"\"\"str\"\"\")로 감싸는 것도 가능합니다. (삼중따옴표를 사용할 경우에는 줄단위의 문자열을 나타낼 수 있습니다.)\n",
        "    - 작은 따옴표 안에 큰 따옴표, 큰 따옴표 안에 작은 따옴표 사용이 가능합니다.\n",
        "    - 이스케이프 문자도 사용이 가능합니다.\n",
        "    - 리스트, 튜플도 시퀀스 자료형입니다.\n",
        "    - 메서드\n",
        "        - lower\n",
        "        - index, find\n",
        "        - count\n",
        "        - strip\n",
        "        - replace\n",
        "        - split, join\n",
        "        - isdigit\n",
        "2. 슬라이싱\n",
        "    - 시퀀스형 자료형을 자를 수 있습니다.\n",
        "    - 형태\n",
        "    ```\n",
        "    # s[start:stop:step]\n",
        "    s = 'paullab CEO leehojun'\n",
        "    s[5:]\n",
        "    s[:5]\n",
        "    s[3:10]\n",
        "    s[:]\n",
        "    s[0:20:2]\n",
        "    # 자주 사용되는 코드\n",
        "    s = 'paullab CEO leehojun!'\n",
        "    s[:] # string에서는 많이 사용하지 않지만 list에서 많이 사용합니다.\n",
        "    s[:-1] # 마지막 요소만 제외하고 다 슬라이싱 합니다.\n",
        "    ```\n",
        "\n",
        "3. 형변환\n",
        "    - 형변환 : type을 변경하는 것입니다.\n",
        "    - int, float, str 등 자료형에 이름으로 형태를 변경할 수 있습니다.\n",
        "    - 그 중에서도 bool이 매우 중요합니다.\n",
        "    ```\n",
        "    # 별 5개\n",
        "    # bool 형으로 형변환 하는 것\n",
        "    if True:\n",
        "        print('hi')\n",
        "\n",
        "    if 'hello':\n",
        "        print('hi')\n",
        "\n",
        "    # 정말 많이 사용하는 코드\n",
        "    l = [1, 2, 3]\n",
        "    while l:\n",
        "        print(l.pop())\n",
        "\n",
        "    bool('') # 빈 문자열을 제외하고 모두 True\n",
        "    bool('a')\n",
        "    bool('False') # 문자열 False이기 때문에 True\n",
        "    bool(0) # 0을 제외하고 모두 True\n",
        "    bool(-1)\n",
        "    bool(100)\n",
        "    bool(None) # None은 비어있음을 명시해주는 키워드, False\n",
        "    bool([]) # 컨벤션 자료형은 비어있으면 False입니다.\n",
        "    bool({})\n",
        "    ```\n",
        "\n",
        "4. 산술연산\n",
        "    ```\n",
        "    a = 10\n",
        "    b = 3\n",
        "\n",
        "    print(f'10 + 3 == {a + b}')\n",
        "    print(f'10 - 3 == {a - b}')\n",
        "    print(f'10 / 3 == {a / b}')\n",
        "    print(f'10 // 3 == {a // b}') # 몫만 나옵니다.(정수만요!)\n",
        "    print(f'10 * 3 == {a * b}')\n",
        "    print(f'10 ** 3 == {a ** b}')\n",
        "    print(f'10 % 3 == {a % b}') # 나머지\n",
        "    ```\n",
        "\n",
        "5. 논리연산\n",
        "    ```\n",
        "    # and 는 곱\n",
        "    # or 는 합\n",
        "    # not은 반대\n",
        "    # True 1\n",
        "    # False 0\n",
        "    # 중요한 포인트는 저렇게 했을 때 언제 True가 되는지 정리하는 것\n",
        "\n",
        "    print(True and False)\n",
        "    print(True or False)\n",
        "    print(True or True)\n",
        "\n",
        "    # https://codingdojang.com/scode/350?answer_mode=hide\n",
        "    for i in range(101):\n",
        "        if i % 3 == 0 and i % 5 == 0:\n",
        "            print(i)\n",
        "    ```\n",
        "\n",
        "6. 할당연산\n",
        "    ```\n",
        "    a = 10\n",
        "    a += 10 # a = a + 10\n",
        "    a //= 2\n",
        "    a\n",
        "    ```\n",
        "\n",
        "7. is, in\n",
        "    1. is\n",
        "        ```\n",
        "        a = [1, 2, 3]\n",
        "        b = [1, 2, 3]\n",
        "\n",
        "        id(a), id(b)\n",
        "        a == b # 값이 같은 것과 메모리에 같은 공간에 저장되어 있다는 얘기는 다른 얘기입니다!\n",
        "        ```\n",
        "    2. in\n",
        "        ```\n",
        "        'a' in 'helalo world'\n",
        "        'a' in 'hello world'\n",
        "        'a' in ['a', 'b']\n",
        "        'a' in {'a':10, 'b':20}\n",
        "        # 10 in {'a':10, 'b':20} # dict안에있는 value값이 있는지 확인하고 싶으면\n",
        "        10 in {'a':10, 'b':20}.values()\n",
        "        10 in {10, 20, 30}\n",
        "        ```"
      ],
      "metadata": {
        "id": "lnFJK5l5WL2M"
      }
    },
    {
      "cell_type": "markdown",
      "source": [
        "## 함수"
      ],
      "metadata": {
        "id": "PnpNuxij8ab2"
      }
    },
    {
      "cell_type": "markdown",
      "source": [
        "1. 코드 덩어리 (정말 쉽게 설명하자면)\n",
        "2. 코드를 재사용 할 수 있으며, 실수를 줄일 수 있습니다.\n",
        "3. 코드의 구조를 한 눈에 파악할 수 있습니다."
      ],
      "metadata": {
        "id": "FfHDJ1s28p0e"
      }
    },
    {
      "cell_type": "code",
      "source": [
        "def 부지매입():\n",
        "    pass\n",
        "\n",
        "def 설계도면작성():\n",
        "    pass\n",
        "\n",
        "def 인력모집():\n",
        "    pass\n",
        "\n",
        "def 벽돌쌓기():\n",
        "    pass\n",
        "\n",
        "def 지붕올리기():\n",
        "    pass\n",
        "\n",
        "# 건축 또는 집짓기?\n",
        "# 신입사원이 왔을 때\n",
        "# 3년에 한 번 이직\n",
        "# 7년에 한 번 이직\n",
        "# 오래 있으신\n",
        "부지매입()\n",
        "설계도면작성()\n",
        "인력모집()\n",
        "벽돌쌓기()\n",
        "지붕올리기()"
      ],
      "metadata": {
        "id": "v9E0HqeZ8dEc"
      },
      "execution_count": null,
      "outputs": []
    },
    {
      "cell_type": "code",
      "source": [
        "# 파선아실 (파라미터는 선언할 때, 아규먼트는 실제)\n",
        "def function(x, y):\n",
        "    z = x + y\n",
        "    return z\n",
        "print(f'function(5, 7) = {function(5, 7)}')"
      ],
      "metadata": {
        "colab": {
          "base_uri": "https://localhost:8080/"
        },
        "id": "oKR5d6pL-mGw",
        "outputId": "d4d8afe4-4e29-4ae5-db9b-75323f7a71dc"
      },
      "execution_count": 5,
      "outputs": [
        {
          "output_type": "stream",
          "name": "stdout",
          "text": [
            "function(5, 7) = 12\n"
          ]
        }
      ]
    },
    {
      "cell_type": "code",
      "source": [
        "# 같은 코드 1\n",
        "def function(x, y):\n",
        "    z = x + y\n",
        "print(f'function(5, 7) = {function(5, 7)}')"
      ],
      "metadata": {
        "colab": {
          "base_uri": "https://localhost:8080/"
        },
        "id": "-kx20hk0_mQf",
        "outputId": "c86d146c-1bd9-44f4-b067-6e593420e080"
      },
      "execution_count": 3,
      "outputs": [
        {
          "output_type": "stream",
          "name": "stdout",
          "text": [
            "function(5, 7) = None\n"
          ]
        }
      ]
    },
    {
      "cell_type": "code",
      "source": [
        "# 같은 코드 2\n",
        "def function(x, y):\n",
        "    z = x + y\n",
        "    return None\n",
        "print(f'function(5, 7) = {function(5, 7)}')"
      ],
      "metadata": {
        "colab": {
          "base_uri": "https://localhost:8080/"
        },
        "id": "2ViL1QDt_qUo",
        "outputId": "aa424273-7e47-4940-bba4-480742eec709"
      },
      "execution_count": 2,
      "outputs": [
        {
          "output_type": "stream",
          "name": "stdout",
          "text": [
            "function(5, 7) = None\n"
          ]
        }
      ]
    },
    {
      "cell_type": "code",
      "source": [
        "# 같은 코드 3\n",
        "def function(x, y):\n",
        "    z = x + y\n",
        "    return\n",
        "print(f'function(5, 7) = {function(5, 7)}')"
      ],
      "metadata": {
        "colab": {
          "base_uri": "https://localhost:8080/"
        },
        "id": "QNFERxUs_xYT",
        "outputId": "d5e3dad5-e42f-4532-ee7a-e812bc8096fe"
      },
      "execution_count": 4,
      "outputs": [
        {
          "output_type": "stream",
          "name": "stdout",
          "text": [
            "function(5, 7) = None\n"
          ]
        }
      ]
    },
    {
      "cell_type": "code",
      "source": [
        "def hello():\n",
        "    print('1')\n",
        "    print('2')\n",
        "    print('3')\n",
        "\n",
        "print(hello())"
      ],
      "metadata": {
        "colab": {
          "base_uri": "https://localhost:8080/"
        },
        "id": "0rn4pBuH-P89",
        "outputId": "cab97c7b-d7be-4479-fb20-4e390cef5d9e"
      },
      "execution_count": 1,
      "outputs": [
        {
          "output_type": "stream",
          "name": "stdout",
          "text": [
            "1\n",
            "2\n",
            "3\n",
            "None\n"
          ]
        }
      ]
    },
    {
      "cell_type": "code",
      "source": [
        "# 함수 연습문제 1\n",
        "def one():\n",
        "    print('one1')\n",
        "    print('one2')\n",
        "    print('one3')\n",
        "    return 100\n",
        "\n",
        "def two():\n",
        "    print('two1')\n",
        "    print('two2')\n",
        "    one()\n",
        "    return\n",
        "\n",
        "print(two())"
      ],
      "metadata": {
        "colab": {
          "base_uri": "https://localhost:8080/"
        },
        "id": "SwpTNiNlAfVL",
        "outputId": "2744dd82-730a-4e02-d75d-e85a8cb02a8d"
      },
      "execution_count": 6,
      "outputs": [
        {
          "output_type": "stream",
          "name": "stdout",
          "text": [
            "two1\n",
            "two2\n",
            "one1\n",
            "one2\n",
            "one3\n",
            "None\n"
          ]
        }
      ]
    },
    {
      "cell_type": "code",
      "source": [
        "# 함수 연습문제 2\n",
        "def one():\n",
        "    print('one1')\n",
        "    print('one2')\n",
        "    print('one3')\n",
        "    return 100\n",
        "\n",
        "def two():\n",
        "    print('two1')\n",
        "    print('two2')\n",
        "    x = one()\n",
        "    return x + x\n",
        "\n",
        "print(two())"
      ],
      "metadata": {
        "colab": {
          "base_uri": "https://localhost:8080/"
        },
        "id": "MaYlyeijAfUM",
        "outputId": "411adba4-5154-4d5b-f7a0-110fea4dd649"
      },
      "execution_count": 8,
      "outputs": [
        {
          "output_type": "stream",
          "name": "stdout",
          "text": [
            "two1\n",
            "two2\n",
            "one1\n",
            "one2\n",
            "one3\n",
            "200\n"
          ]
        }
      ]
    },
    {
      "cell_type": "code",
      "source": [
        "# 함수 연습문제 3\n",
        "def one(a, b):\n",
        "    print('one1')\n",
        "    print('one2')\n",
        "    print('one3')\n",
        "    return a + b\n",
        "\n",
        "def two(x):\n",
        "    y = 100\n",
        "    print('two1')\n",
        "    print('two2')\n",
        "    x = one(x, y)\n",
        "    return x + x\n",
        "\n",
        "print(two(10))"
      ],
      "metadata": {
        "colab": {
          "base_uri": "https://localhost:8080/"
        },
        "id": "iBuZgD3rCTk7",
        "outputId": "712acb91-96e7-4898-efff-7d085288b737"
      },
      "execution_count": 10,
      "outputs": [
        {
          "output_type": "stream",
          "name": "stdout",
          "text": [
            "two1\n",
            "two2\n",
            "one1\n",
            "one2\n",
            "one3\n",
            "220\n"
          ]
        }
      ]
    },
    {
      "cell_type": "code",
      "source": [
        "# 함수 연습문제 4\n",
        "def one():\n",
        "    print('one')\n",
        "    return 10\n",
        "\n",
        "def two():\n",
        "    print('two')\n",
        "    return 10\n",
        "\n",
        "def three():\n",
        "    print('three')\n",
        "    return 10\n",
        "\n",
        "a = one()\n",
        "b = two()\n",
        "c = three()\n",
        "print(a + b)\n",
        "print(a + b + c)"
      ],
      "metadata": {
        "colab": {
          "base_uri": "https://localhost:8080/"
        },
        "id": "j8L5Dzj1EVry",
        "outputId": "ee95402f-55ac-43fa-e64c-12d02fea9c94"
      },
      "execution_count": 11,
      "outputs": [
        {
          "output_type": "stream",
          "name": "stdout",
          "text": [
            "one\n",
            "two\n",
            "three\n",
            "20\n",
            "30\n"
          ]
        }
      ]
    },
    {
      "cell_type": "code",
      "source": [
        "# 함수 연습문제 4\n",
        "# 좋지 않은 예 입니다!\n",
        "def one():\n",
        "    print('one')\n",
        "    print('one')\n",
        "    print('one')\n",
        "    return 10\n",
        "\n",
        "def two():\n",
        "    print('two')\n",
        "    print('two')\n",
        "    print('two')\n",
        "    return 10\n",
        "\n",
        "def three():\n",
        "    print('three')\n",
        "    print('three')\n",
        "    print('three')\n",
        "    return 10\n",
        "\n",
        "print(one() + two())\n",
        "print(one() + two() + three())"
      ],
      "metadata": {
        "colab": {
          "base_uri": "https://localhost:8080/"
        },
        "id": "9frk-8UpFnid",
        "outputId": "cb54a986-9911-4ea3-fd49-3a85c1c89a7e"
      },
      "execution_count": 12,
      "outputs": [
        {
          "output_type": "stream",
          "name": "stdout",
          "text": [
            "one\n",
            "one\n",
            "one\n",
            "two\n",
            "two\n",
            "two\n",
            "20\n",
            "one\n",
            "one\n",
            "one\n",
            "two\n",
            "two\n",
            "two\n",
            "three\n",
            "three\n",
            "three\n",
            "30\n"
          ]
        }
      ]
    },
    {
      "cell_type": "code",
      "source": [
        "# 함수란 무엇일까요?\n",
        "# 함수의 이름은 메모리 상에 코드 블럭을 가리키는 변수입니다.\n",
        "leehojun = print\n",
        "leehojun('hello') # 소괄호는 그 함수 블록을 실행시키는 명령어가 됩니다."
      ],
      "metadata": {
        "colab": {
          "base_uri": "https://localhost:8080/"
        },
        "id": "PmCx_nSnIxvu",
        "outputId": "8a39a2c2-d9e5-4da9-e8dc-e85b99549324"
      },
      "execution_count": 13,
      "outputs": [
        {
          "output_type": "stream",
          "name": "stdout",
          "text": [
            "hello\n"
          ]
        }
      ]
    },
    {
      "cell_type": "code",
      "source": [
        "id(leehojun), id(print)"
      ],
      "metadata": {
        "colab": {
          "base_uri": "https://localhost:8080/"
        },
        "id": "6NJehIfPJc34",
        "outputId": "02440a96-b53b-44da-dbcb-e53908f99532"
      },
      "execution_count": 14,
      "outputs": [
        {
          "output_type": "execute_result",
          "data": {
            "text/plain": [
              "(140095789798704, 140095789798704)"
            ]
          },
          "metadata": {},
          "execution_count": 14
        }
      ]
    },
    {
      "cell_type": "code",
      "source": [
        "l = [leehojun, print, leehojun, print]\n",
        "leehojun('hello world')\n",
        "l[0]('hello world')"
      ],
      "metadata": {
        "colab": {
          "base_uri": "https://localhost:8080/"
        },
        "id": "uUjmyZU1Jc3K",
        "outputId": "8416074e-0970-4c6e-84cb-b018a26a2814"
      },
      "execution_count": 17,
      "outputs": [
        {
          "output_type": "stream",
          "name": "stdout",
          "text": [
            "hello world\n",
            "hello world\n"
          ]
        }
      ]
    },
    {
      "cell_type": "code",
      "source": [
        "def hello(a):\n",
        "    a('hello')\n",
        "    a('hello')\n",
        "    a('hello')\n",
        "\n",
        "print(hello(print))"
      ],
      "metadata": {
        "colab": {
          "base_uri": "https://localhost:8080/"
        },
        "id": "w9W0_tavJ5wc",
        "outputId": "8349aa80-5e01-450f-e3c8-35e26dc40638"
      },
      "execution_count": 20,
      "outputs": [
        {
          "output_type": "stream",
          "name": "stdout",
          "text": [
            "hello\n",
            "hello\n",
            "hello\n",
            "None\n"
          ]
        }
      ]
    },
    {
      "cell_type": "code",
      "source": [
        "def hello():\n",
        "    def custom_sum(a, b):\n",
        "        return a + b\n",
        "    return custom_sum\n",
        "\n",
        "c = hello()\n",
        "c(10,100)"
      ],
      "metadata": {
        "colab": {
          "base_uri": "https://localhost:8080/"
        },
        "id": "95tFkIX0KZ77",
        "outputId": "01d524db-5d9c-4e5e-99a7-609cd5cd4117"
      },
      "execution_count": 24,
      "outputs": [
        {
          "output_type": "execute_result",
          "data": {
            "text/plain": [
              "110"
            ]
          },
          "metadata": {},
          "execution_count": 24
        }
      ]
    },
    {
      "cell_type": "code",
      "source": [
        "def hello(a):\n",
        "    return a\n",
        "\n",
        "c = hello(print)\n",
        "c(10,100)"
      ],
      "metadata": {
        "colab": {
          "base_uri": "https://localhost:8080/"
        },
        "id": "Dvoo8D-zL178",
        "outputId": "d931e03c-5e09-41f9-dd9f-de6e97b7dcec"
      },
      "execution_count": 25,
      "outputs": [
        {
          "output_type": "stream",
          "name": "stdout",
          "text": [
            "10 100\n"
          ]
        }
      ]
    },
    {
      "cell_type": "markdown",
      "source": [
        "## 함수의 기본 기능"
      ],
      "metadata": {
        "id": "27gtlk8FMc1t"
      }
    },
    {
      "cell_type": "markdown",
      "source": [
        "![image.png](data:image/png;base64,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)"
      ],
      "metadata": {
        "id": "p9eH5vulNZAi"
      }
    },
    {
      "cell_type": "code",
      "source": [
        "# 파선아실 (파라미터는 선언할 때, 아규먼트는 실제)\n",
        "def function(x, y):\n",
        "    z = x + y\n",
        "    return z\n",
        "print(f'function(5, 7) = {function(5, 7)}')"
      ],
      "metadata": {
        "id": "0vFfKVwSMgHx"
      },
      "execution_count": null,
      "outputs": []
    },
    {
      "cell_type": "code",
      "source": [
        "# return 을 빨리 만나게 해주세요.\n",
        "# early return\n",
        "# 조건이 부합하지 않으면 바로 return 을 하도록 하는 코딩 패턴\n",
        "# 이렇게 작성함으로써, 가독성이 좋은 코드\n",
        "def custom_sum(x, y):\n",
        "    if type(x) != int or type(y) != int:\n",
        "        return '연산할 수 없습니다.'\n",
        "    z = x + y # 100줄이라 가정\n",
        "    return z\n",
        "print(custom_sum(5, '가나다'))"
      ],
      "metadata": {
        "colab": {
          "base_uri": "https://localhost:8080/"
        },
        "id": "azZrXbN-NbIG",
        "outputId": "99876d41-c59a-415d-bb45-508c868c9a56"
      },
      "execution_count": 36,
      "outputs": [
        {
          "output_type": "stream",
          "name": "stdout",
          "text": [
            "연산할 수 없습니다.\n"
          ]
        }
      ]
    },
    {
      "cell_type": "code",
      "source": [
        "# 한글코딩의 장점\n",
        "# 1. 고유명사(한라산, 새싹멤버) -> 기획자와 소통하기도 좋습니다.\n",
        "# 2. 알고리즘 가독성은 괜찮습니다. 프로젝트는 조금 힘들 수 있어요. 일부 모듈에\n",
        "\n",
        "# 한글코딩의 단점\n",
        "# 1. 싫어하시는 분도 많습니다.\n",
        "# 2. 한영키 바꾸는 것"
      ],
      "metadata": {
        "id": "oEsda8_nPFm1"
      },
      "execution_count": null,
      "outputs": []
    },
    {
      "cell_type": "code",
      "source": [
        "def one():\n",
        "    def two():\n",
        "        print('hello')\n",
        "    def three():\n",
        "        print('hello2')\n",
        "    return 100\n",
        "\n",
        "print(one())"
      ],
      "metadata": {
        "colab": {
          "base_uri": "https://localhost:8080/"
        },
        "id": "dyeNYJ13QWre",
        "outputId": "0379549c-019c-4b03-c392-4f12657b035c"
      },
      "execution_count": 38,
      "outputs": [
        {
          "output_type": "stream",
          "name": "stdout",
          "text": [
            "100\n"
          ]
        }
      ]
    },
    {
      "cell_type": "code",
      "source": [
        "# 함수 안에 함수와 함수 안에 변수는 밖에서 호출이 안됩니다.\n",
        "# 아래것이 만약 실행되었다면 위 어딘가에서 two와 x가 정의되어 있는 것 입니다.\n",
        "def one():\n",
        "    def two():\n",
        "        print('hello')\n",
        "    def three():\n",
        "        print('hello2')\n",
        "    two()\n",
        "    three()\n",
        "    x = 1000\n",
        "    return 100\n",
        "\n",
        "one()\n",
        "print(x)\n",
        "two()"
      ],
      "metadata": {
        "colab": {
          "base_uri": "https://localhost:8080/",
          "height": 266
        },
        "id": "VpkYbpd1Qsx-",
        "outputId": "dddddd8c-ea38-4d7f-9083-9619c481c69c"
      },
      "execution_count": 1,
      "outputs": [
        {
          "output_type": "stream",
          "name": "stdout",
          "text": [
            "hello\n",
            "hello2\n"
          ]
        },
        {
          "output_type": "error",
          "ename": "NameError",
          "evalue": "ignored",
          "traceback": [
            "\u001b[0;31m---------------------------------------------------------------------------\u001b[0m",
            "\u001b[0;31mNameError\u001b[0m                                 Traceback (most recent call last)",
            "\u001b[0;32m<ipython-input-1-65e746aacfa5>\u001b[0m in \u001b[0;36m<cell line: 14>\u001b[0;34m()\u001b[0m\n\u001b[1;32m     12\u001b[0m \u001b[0;34m\u001b[0m\u001b[0m\n\u001b[1;32m     13\u001b[0m \u001b[0mone\u001b[0m\u001b[0;34m(\u001b[0m\u001b[0;34m)\u001b[0m\u001b[0;34m\u001b[0m\u001b[0;34m\u001b[0m\u001b[0m\n\u001b[0;32m---> 14\u001b[0;31m \u001b[0mprint\u001b[0m\u001b[0;34m(\u001b[0m\u001b[0mx\u001b[0m\u001b[0;34m)\u001b[0m\u001b[0;34m\u001b[0m\u001b[0;34m\u001b[0m\u001b[0m\n\u001b[0m\u001b[1;32m     15\u001b[0m \u001b[0mtwo\u001b[0m\u001b[0;34m(\u001b[0m\u001b[0;34m)\u001b[0m\u001b[0;34m\u001b[0m\u001b[0;34m\u001b[0m\u001b[0m\n",
            "\u001b[0;31mNameError\u001b[0m: name 'x' is not defined"
          ]
        }
      ]
    },
    {
      "cell_type": "code",
      "source": [
        "# 함수 안에 함수와 함수 안에 변수를 해봤으니\n",
        "# 이번에는 함수 밖에 함수와 함수 밖에 변수를 해보도록 하겠습니다.\n",
        "\n",
        "def test():\n",
        "    print('test')\n",
        "\n",
        "def one():\n",
        "    test()\n",
        "\n",
        "def two():\n",
        "    test()\n",
        "\n",
        "one()\n",
        "two()\n",
        "test()"
      ],
      "metadata": {
        "colab": {
          "base_uri": "https://localhost:8080/"
        },
        "id": "w2ARjUY_Ruwf",
        "outputId": "8db4b041-b969-4b52-a9c5-cb91fcb06028"
      },
      "execution_count": 3,
      "outputs": [
        {
          "output_type": "stream",
          "name": "stdout",
          "text": [
            "test\n",
            "test\n",
            "test\n"
          ]
        }
      ]
    },
    {
      "cell_type": "code",
      "source": [
        "# 위 원리와 마찬가지로 밖에 있는 변수를 '가져오는 것만' 가능합니다.\n",
        "# 수정은 안됩니다.\n",
        "test = 10\n",
        "\n",
        "def one():\n",
        "    print(test)\n",
        "\n",
        "def two():\n",
        "    print(test)\n",
        "\n",
        "one()\n",
        "two()"
      ],
      "metadata": {
        "colab": {
          "base_uri": "https://localhost:8080/"
        },
        "id": "PONUqdwiSc3d",
        "outputId": "6b2ca538-86dd-4abe-fd46-647a252e28a8"
      },
      "execution_count": 4,
      "outputs": [
        {
          "output_type": "stream",
          "name": "stdout",
          "text": [
            "10\n",
            "10\n"
          ]
        }
      ]
    },
    {
      "cell_type": "code",
      "source": [
        "# 이렇게 하시면 error 가 납니다! 밖에 있는 변수는 수정이 안됩니다.\n",
        "test = 10\n",
        "\n",
        "def one():\n",
        "    test = test + 10\n",
        "\n",
        "one()"
      ],
      "metadata": {
        "colab": {
          "base_uri": "https://localhost:8080/",
          "height": 358
        },
        "id": "8iWYzMJASwCc",
        "outputId": "a054ed74-5301-426d-881a-f5bb9ee0d103"
      },
      "execution_count": 5,
      "outputs": [
        {
          "output_type": "error",
          "ename": "UnboundLocalError",
          "evalue": "ignored",
          "traceback": [
            "\u001b[0;31m---------------------------------------------------------------------------\u001b[0m",
            "\u001b[0;31mUnboundLocalError\u001b[0m                         Traceback (most recent call last)",
            "\u001b[0;32m<ipython-input-5-8762ab230781>\u001b[0m in \u001b[0;36m<cell line: 6>\u001b[0;34m()\u001b[0m\n\u001b[1;32m      4\u001b[0m     \u001b[0mtest\u001b[0m \u001b[0;34m=\u001b[0m \u001b[0mtest\u001b[0m \u001b[0;34m+\u001b[0m \u001b[0;36m10\u001b[0m\u001b[0;34m\u001b[0m\u001b[0;34m\u001b[0m\u001b[0m\n\u001b[1;32m      5\u001b[0m \u001b[0;34m\u001b[0m\u001b[0m\n\u001b[0;32m----> 6\u001b[0;31m \u001b[0mone\u001b[0m\u001b[0;34m(\u001b[0m\u001b[0;34m)\u001b[0m\u001b[0;34m\u001b[0m\u001b[0;34m\u001b[0m\u001b[0m\n\u001b[0m\u001b[1;32m      7\u001b[0m \u001b[0mtwo\u001b[0m\u001b[0;34m(\u001b[0m\u001b[0;34m)\u001b[0m\u001b[0;34m\u001b[0m\u001b[0;34m\u001b[0m\u001b[0m\n",
            "\u001b[0;32m<ipython-input-5-8762ab230781>\u001b[0m in \u001b[0;36mone\u001b[0;34m()\u001b[0m\n\u001b[1;32m      2\u001b[0m \u001b[0;34m\u001b[0m\u001b[0m\n\u001b[1;32m      3\u001b[0m \u001b[0;32mdef\u001b[0m \u001b[0mone\u001b[0m\u001b[0;34m(\u001b[0m\u001b[0;34m)\u001b[0m\u001b[0;34m:\u001b[0m\u001b[0;34m\u001b[0m\u001b[0;34m\u001b[0m\u001b[0m\n\u001b[0;32m----> 4\u001b[0;31m     \u001b[0mtest\u001b[0m \u001b[0;34m=\u001b[0m \u001b[0mtest\u001b[0m \u001b[0;34m+\u001b[0m \u001b[0;36m10\u001b[0m\u001b[0;34m\u001b[0m\u001b[0;34m\u001b[0m\u001b[0m\n\u001b[0m\u001b[1;32m      5\u001b[0m \u001b[0;34m\u001b[0m\u001b[0m\n\u001b[1;32m      6\u001b[0m \u001b[0mone\u001b[0m\u001b[0;34m(\u001b[0m\u001b[0;34m)\u001b[0m\u001b[0;34m\u001b[0m\u001b[0;34m\u001b[0m\u001b[0m\n",
            "\u001b[0;31mUnboundLocalError\u001b[0m: local variable 'test' referenced before assignment"
          ]
        }
      ]
    },
    {
      "cell_type": "markdown",
      "source": [
        "## 지역 변수와 전역 변수"
      ],
      "metadata": {
        "id": "tZA-m3LqS7v1"
      }
    },
    {
      "cell_type": "code",
      "source": [
        "# 전역번수 접근은 가능하지만 수정이 되진 않습니다.\n",
        "a = 100\n",
        "def f():\n",
        "    a = a + 1\n",
        "f()"
      ],
      "metadata": {
        "id": "Jv8h7xPLS9uj"
      },
      "execution_count": null,
      "outputs": []
    },
    {
      "cell_type": "code",
      "source": [
        "# 전역변수를 함수 내부에서 수정이 되게 하는 코드 입니다.\n",
        "# 권하지 않습니다.\n",
        "a = 100\n",
        "def f():\n",
        "    global a # 실무에서 사용 안합니다.\n",
        "    a = a + 1\n",
        "f()\n",
        "print(a)"
      ],
      "metadata": {
        "colab": {
          "base_uri": "https://localhost:8080/"
        },
        "id": "XsENb1U4XLTY",
        "outputId": "25ccec2b-9369-46ac-b93a-f829e6c79c8a"
      },
      "execution_count": 8,
      "outputs": [
        {
          "output_type": "stream",
          "name": "stdout",
          "text": [
            "101\n"
          ]
        }
      ]
    },
    {
      "cell_type": "code",
      "source": [
        "# 정해진 루트 외에 다른 루트로 해당 값을 수정하려고 하지 마세요.\n",
        "a = 100\n",
        "def f(x):\n",
        "    x = x + 1\n",
        "    return x\n",
        "a = f(a)\n",
        "print(a)"
      ],
      "metadata": {
        "colab": {
          "base_uri": "https://localhost:8080/"
        },
        "id": "ADwcggVjXpoV",
        "outputId": "5508f4d3-ad43-4543-b8e3-d962c2c10b99"
      },
      "execution_count": 9,
      "outputs": [
        {
          "output_type": "stream",
          "name": "stdout",
          "text": [
            "101\n"
          ]
        }
      ]
    },
    {
      "cell_type": "code",
      "source": [
        "# 순수 함수\n",
        "def f(x):\n",
        "    return x + x + 100\n",
        "f(10)\n",
        "f(20)\n",
        "# 아규먼트 값에 따라 다르지만\n",
        "# 아규먼트에 2배해서 100 이 더해진다는 사실은 변하지 않죠?"
      ],
      "metadata": {
        "colab": {
          "base_uri": "https://localhost:8080/"
        },
        "id": "jJ6uToVMX5UE",
        "outputId": "d371325e-5db5-4005-e87c-3704bde66b1f"
      },
      "execution_count": 10,
      "outputs": [
        {
          "output_type": "execute_result",
          "data": {
            "text/plain": [
              "120"
            ]
          },
          "metadata": {},
          "execution_count": 10
        }
      ]
    },
    {
      "cell_type": "code",
      "source": [
        "test = 100\n",
        "def f(x):\n",
        "    return x + x + 100 + test\n",
        "f(10)\n",
        "# 아규먼트 값에 따라 다르지만\n",
        "# 아규먼트에 2배해서 200이 더해진 다는 사실은 변하지 않죠?\n",
        "# 그렇지 않습니다. test 값이 다른 곳에서 조작이 되면\n",
        "# 더해지는 값이 200이 안될 수도 있죠.\n",
        "# 예측이 불가하게 되는 것!"
      ],
      "metadata": {
        "colab": {
          "base_uri": "https://localhost:8080/"
        },
        "id": "k90huurJYScK",
        "outputId": "548827a9-4a15-4e9c-8bbb-a3a1477502d4"
      },
      "execution_count": 11,
      "outputs": [
        {
          "output_type": "execute_result",
          "data": {
            "text/plain": [
              "220"
            ]
          },
          "metadata": {},
          "execution_count": 11
        }
      ]
    },
    {
      "cell_type": "code",
      "source": [
        "# 지역변수와 전역변수 이어서\n",
        "# 전역변수 : 전역에서 접근할 수 있는 변수\n",
        "# 지역변수 : 함수 내에서만 접근할 수 있는 변수"
      ],
      "metadata": {
        "id": "vFy5JMLeYzaT"
      },
      "execution_count": null,
      "outputs": []
    },
    {
      "cell_type": "code",
      "source": [
        "a = 100\n",
        "def one():\n",
        "    a = 10\n",
        "    print(a)\n",
        "\n",
        "one()\n",
        "print(a)"
      ],
      "metadata": {
        "colab": {
          "base_uri": "https://localhost:8080/"
        },
        "id": "Qf4BDhILZK80",
        "outputId": "64fbcd42-6e15-4ab2-8442-92e0480e119b"
      },
      "execution_count": 12,
      "outputs": [
        {
          "output_type": "stream",
          "name": "stdout",
          "text": [
            "10\n",
            "100\n"
          ]
        }
      ]
    },
    {
      "cell_type": "code",
      "source": [
        "# 어려우신 분들은 pass\n",
        "# 조금 있다가 요약정리에서도 써드리지 않을 예정입니다.\n",
        "# 자신의 공간에 변수가 선언되어 있지 않으면\n",
        "# 전역까지 찾아 올라갑니다. 전역에도 없으면 error\n",
        "\n",
        "a = 100\n",
        "def one():\n",
        "    a = 10\n",
        "    def two():\n",
        "        def three():\n",
        "            a = 1000\n",
        "            print(a)\n",
        "        three()\n",
        "        print(a)\n",
        "    two()\n",
        "    print(a)\n",
        "\n",
        "one()\n",
        "print(a)"
      ],
      "metadata": {
        "colab": {
          "base_uri": "https://localhost:8080/"
        },
        "id": "7xKPepYyZ23R",
        "outputId": "3ec6cd72-7a34-45a1-d2b6-e53d86e20101"
      },
      "execution_count": 14,
      "outputs": [
        {
          "output_type": "stream",
          "name": "stdout",
          "text": [
            "1000\n",
            "10\n",
            "10\n",
            "100\n"
          ]
        }
      ]
    },
    {
      "cell_type": "code",
      "source": [
        "# inner 가 outer의 변수를 건드리고 싶은데\n",
        "# inner 안에서는 x의 수정권한이 전혀 없습니다.\n",
        "x = 100\n",
        "def outer():\n",
        "    x = 1\n",
        "    def inner():\n",
        "        nonlocal x\n",
        "        x += 1\n",
        "        print(x)\n",
        "    inner()\n",
        "    print(x)\n",
        "\n",
        "outer()\n",
        "print(x)"
      ],
      "metadata": {
        "colab": {
          "base_uri": "https://localhost:8080/"
        },
        "id": "1LFQLhNkbPb4",
        "outputId": "34741b05-446d-4953-9039-586cebc84aab"
      },
      "execution_count": 15,
      "outputs": [
        {
          "output_type": "stream",
          "name": "stdout",
          "text": [
            "2\n",
            "2\n",
            "100\n"
          ]
        }
      ]
    },
    {
      "cell_type": "code",
      "source": [
        "x = 100\n",
        "def outer():\n",
        "    x = 1\n",
        "    def inner():\n",
        "        global x\n",
        "        x += 1\n",
        "        print(x)\n",
        "    inner()\n",
        "    print(x)\n",
        "\n",
        "outer()\n",
        "print(x)"
      ],
      "metadata": {
        "colab": {
          "base_uri": "https://localhost:8080/"
        },
        "id": "ek1FrB3-b44m",
        "outputId": "8f53d086-848f-46b6-888f-fa6565a60004"
      },
      "execution_count": 16,
      "outputs": [
        {
          "output_type": "stream",
          "name": "stdout",
          "text": [
            "101\n",
            "1\n",
            "101\n"
          ]
        }
      ]
    },
    {
      "cell_type": "code",
      "source": [
        "# error 가 나는 코드\n",
        "x = 100\n",
        "def outer():\n",
        "    x = 1\n",
        "    def inner():\n",
        "        x += 1\n",
        "        print(x)\n",
        "    inner()\n",
        "    print(x)\n",
        "\n",
        "outer()\n",
        "print(x)"
      ],
      "metadata": {
        "id": "yUDHeJX_b9DX"
      },
      "execution_count": null,
      "outputs": []
    },
    {
      "cell_type": "markdown",
      "source": [
        "## 재귀함수"
      ],
      "metadata": {
        "id": "L_9UWXHzca9l"
      }
    },
    {
      "cell_type": "markdown",
      "source": [
        "* 내가 나를 호출하는 것 입니다.\n",
        "* 재귀 <-> for문은 대부분 호환이 가능합니다.\n",
        "* 반복문 사용하시기를 권합니다! (얼마나 효율이 안좋은지도 확인해보겠습니다.)\n",
        "* 어렵고 효율도 안좋아요!\n",
        "* 필수적으로 사용하는 곳이 있습니다."
      ],
      "metadata": {
        "id": "lo6bt2CPcgZt"
      }
    },
    {
      "cell_type": "code",
      "source": [
        "# sys.setrecursionlimit -> 제한을 늘릴 수 있음\n",
        "# 실행시키지 마세요.\n",
        "def 숫자출력():\n",
        "    print(1)\n",
        "    return 숫자출력()\n",
        "숫자출력()"
      ],
      "metadata": {
        "id": "k0qKCcTZc78D"
      },
      "execution_count": null,
      "outputs": []
    },
    {
      "cell_type": "code",
      "source": [
        "# for 로 펙토리얼\n",
        "# 5! = 5 * 4 * 3 * 2 * 1\n",
        "result = 1\n",
        "\n",
        "# 1 * 2 * 3 * 4 * 5\n",
        "for i in range(1,6):\n",
        "    result *= i\n",
        "\n",
        "result"
      ],
      "metadata": {
        "colab": {
          "base_uri": "https://localhost:8080/"
        },
        "id": "Wq0j83zid3ME",
        "outputId": "d34d02c8-cfe4-45f6-8b55-10e6722187c3"
      },
      "execution_count": 23,
      "outputs": [
        {
          "output_type": "execute_result",
          "data": {
            "text/plain": [
              "120"
            ]
          },
          "metadata": {},
          "execution_count": 23
        }
      ]
    },
    {
      "cell_type": "code",
      "source": [
        "# 재귀 로 펙토리얼\n",
        "\n",
        "def f(n):\n",
        "    if n <= 1:\n",
        "        return 1\n",
        "    else:\n",
        "        return n * f(n-1)\n",
        "\n",
        "f(5)\n",
        "\n",
        "'''\n",
        "f(5)    5 * f(4) == 5 * 24 -> 120\n",
        "f(4)    5 * f(4) == 4 * 6\n",
        "f(3)    5 * f(4) == 3 * 2\n",
        "f(2)    5 * f(4) == 2 * 1\n",
        "f(1)    1\n",
        "'''"
      ],
      "metadata": {
        "colab": {
          "base_uri": "https://localhost:8080/"
        },
        "id": "QJPoyvP1eS9q",
        "outputId": "73ebcd7c-81ee-4aa9-ede8-ea062072b859"
      },
      "execution_count": 24,
      "outputs": [
        {
          "output_type": "execute_result",
          "data": {
            "text/plain": [
              "120"
            ]
          },
          "metadata": {},
          "execution_count": 24
        }
      ]
    },
    {
      "cell_type": "code",
      "source": [
        "# for 로 문자열 거꾸로 출력하기\n",
        "s = 'hello'\n",
        "result = ''\n",
        "\n",
        "for i in s:\n",
        "    result = i + result\n",
        "\n",
        "result\n",
        "'''\n",
        "result = 'h' + ''\n",
        "result = 'e' + 'h'\n",
        "result = 'l' + 'eh'\n",
        "result = 'l' + 'leh'\n",
        "result = 'o' + 'lleh'\n",
        "'''\n",
        "# 실무에서는 이렇게 거꾸로 만들지 않습니다.\n",
        "# 슬라이싱이 일반 for문 보다 8배 빠릅니다.\n",
        "# s[::-1] 이렇게 쓰시면 됩니다."
      ],
      "metadata": {
        "colab": {
          "base_uri": "https://localhost:8080/",
          "height": 35
        },
        "id": "xbCfx-llfhc2",
        "outputId": "2cdc1c6d-f91a-42eb-838e-c8524240f491"
      },
      "execution_count": 26,
      "outputs": [
        {
          "output_type": "execute_result",
          "data": {
            "text/plain": [
              "'olleh'"
            ],
            "application/vnd.google.colaboratory.intrinsic+json": {
              "type": "string"
            }
          },
          "metadata": {},
          "execution_count": 26
        }
      ]
    },
    {
      "cell_type": "code",
      "source": [
        "def reverse(s):\n",
        "    if len(s) == 1:\n",
        "        return s\n",
        "    else:\n",
        "        return reverse(s[1:]) + s[0]\n",
        "\n",
        "reverse('hello')\n",
        "\n",
        "'''\n",
        "reverse('hello')    reverse('ello') + 'h'   == 'olle' + 'h'\n",
        "reverse('ello')    reverse('llo') + 'e'     == 'oll' + 'e'\n",
        "reverse('llo')    reverse('lo') + 'l'       == 'ol' + 'l'\n",
        "reverse('lo')    reverse('o') + 'l'         == 'o' + 'l'\n",
        "reverse('o')    'o''\n",
        "'''"
      ],
      "metadata": {
        "colab": {
          "base_uri": "https://localhost:8080/",
          "height": 35
        },
        "id": "zsx-NldPgePt",
        "outputId": "30d91a75-d526-41ef-d79f-b96ed9dd70d2"
      },
      "execution_count": 28,
      "outputs": [
        {
          "output_type": "execute_result",
          "data": {
            "text/plain": [
              "'olleh'"
            ],
            "application/vnd.google.colaboratory.intrinsic+json": {
              "type": "string"
            }
          },
          "metadata": {},
          "execution_count": 28
        }
      ]
    },
    {
      "cell_type": "code",
      "source": [
        "# 피보나치 for\n",
        "# 재귀가 얼마나 비효율적인지 보여드리기 위해서 진행\n",
        "# 1 1 2 3 5 8 13 21\n",
        "\n",
        "curr = 1\n",
        "next = 1\n",
        "\n",
        "for i in range(1, 6):\n",
        "    curr, next = next, curr + next\n",
        "    \n",
        "next"
      ],
      "metadata": {
        "colab": {
          "base_uri": "https://localhost:8080/"
        },
        "id": "-6xz9J2A0AVQ",
        "outputId": "849c6035-7265-420c-a16b-1383a40d40cf"
      },
      "execution_count": 31,
      "outputs": [
        {
          "output_type": "execute_result",
          "data": {
            "text/plain": [
              "13"
            ]
          },
          "metadata": {},
          "execution_count": 31
        }
      ]
    },
    {
      "cell_type": "code",
      "source": [
        "# 피보나치 재귀\n",
        "\n",
        "def f(n):\n",
        "    if n == 1 or n == 2:\n",
        "        return 1\n",
        "    return f(n-1) + f(n-2)\n",
        "\n",
        "1, 1, f(3), f(4), f(5), f(6)"
      ],
      "metadata": {
        "colab": {
          "base_uri": "https://localhost:8080/"
        },
        "id": "h3fK6nmP1bI9",
        "outputId": "216fabf5-125f-4914-e96a-4b14a4ad5cc8"
      },
      "execution_count": 42,
      "outputs": [
        {
          "output_type": "execute_result",
          "data": {
            "text/plain": [
              "(1, 1, 2, 3, 5, 8)"
            ]
          },
          "metadata": {},
          "execution_count": 42
        }
      ]
    },
    {
      "cell_type": "code",
      "source": [
        "f(37)"
      ],
      "metadata": {
        "colab": {
          "base_uri": "https://localhost:8080/"
        },
        "id": "poO9ShQE2JQo",
        "outputId": "4c8f3e65-9947-4fab-de41-5b2ecf52dd08"
      },
      "execution_count": 44,
      "outputs": [
        {
          "output_type": "execute_result",
          "data": {
            "text/plain": [
              "24157817"
            ]
          },
          "metadata": {},
          "execution_count": 44
        }
      ]
    },
    {
      "cell_type": "code",
      "source": [
        "# 재귀의 비효율을 이렇게 해결할 수는 있다를 보여드리기 위함\n",
        "# but 가능하면 for문을 이용해주세요.\n",
        "from functools import lru_cache\n",
        "\n",
        "@lru_cache(maxsize=None)\n",
        "def fib(num):\n",
        "    if num == 0:\n",
        "        return 0\n",
        "    if num == 1 or num == 2:\n",
        "        return 1\n",
        "    else:\n",
        "        return fib(num-1) + fib(num-2)\n",
        "\n",
        "fib(40)"
      ],
      "metadata": {
        "id": "28tfOYaE3Lq2"
      },
      "execution_count": null,
      "outputs": []
    },
    {
      "cell_type": "markdown",
      "source": [
        "## !! 연습문제"
      ],
      "metadata": {
        "id": "zsTC35pK78v5"
      }
    },
    {
      "cell_type": "code",
      "source": [
        "a = 'pithon'\n",
        "\n",
        "def 함수1():\n",
        "    def 함수2():\n",
        "        print('love')\n",
        "        \n",
        "    print('I')\n",
        "    함수2()\n",
        "    return \"python\"\n",
        "\t\n",
        "\n",
        "a = 함수1()\n",
        "print(a)"
      ],
      "metadata": {
        "colab": {
          "base_uri": "https://localhost:8080/"
        },
        "id": "WxaHFjWY7dDe",
        "outputId": "ac898f39-e96a-4aa8-ecbf-9e2494db00b7"
      },
      "execution_count": 62,
      "outputs": [
        {
          "output_type": "stream",
          "name": "stdout",
          "text": [
            "I\n",
            "love\n",
            "python\n"
          ]
        }
      ]
    },
    {
      "cell_type": "code",
      "source": [
        "def plus(num1, num2):\n",
        "\treturn num1 + num2\n",
        "\n",
        "def minus(num1, num2):\n",
        "    return num1 - num2\n",
        "\n",
        "def multiply(num1, num2):\n",
        "\treturn num1 * num2\n",
        "\n",
        "def divide(num1, num2):\n",
        "\treturn num1 / num2\n",
        "\n",
        "print(f'plus : {plus(10, 5)}')\n",
        "print(f'minus : {minus(10, 5)}')\n",
        "print(f'multiply : {multiply(10, 5)}')\n",
        "print(f'divide : {divide(10, 5)}')"
      ],
      "metadata": {
        "id": "v_57y93v8HXo"
      },
      "execution_count": null,
      "outputs": []
    },
    {
      "cell_type": "code",
      "source": [
        "plus = lambda num1, num2 : num1 + num2\n",
        "minus = lambda num1, num2 : num1 - num2\n",
        "multiply = lambda num1, num2 : num1 * num2\n",
        "divide = lambda num1, num2 : num1 / num2\n",
        "\n",
        "\n",
        "print(f'plus : {plus(10, 5)}')\n",
        "print(f'minus : {minus(10, 5)}')\n",
        "print(f'multiply : {multiply(10, 5)}')\n",
        "print(f'divide : {divide(10, 5)}')"
      ],
      "metadata": {
        "id": "ihkiX5l38mOm"
      },
      "execution_count": null,
      "outputs": []
    },
    {
      "cell_type": "code",
      "source": [
        "# 실력이 있으신 분은 견고한 코드가 될 수 있도록 해주셔야 합니다.\n",
        "def plus(num1, num2):\n",
        "    if type(num1) == int and type(num2) == int:\n",
        "        return num1 + num2\n",
        "    return float('inf')\n",
        "\n",
        "# 테스트 주도 개발\n",
        "print(f\"plus : {plus(10, 5)}\")\n",
        "print(f\"plus : {plus(10, '5')}\")\n",
        "print(f\"plus : {plus('10', 5)}\")\n",
        "print(f\"plus : {plus('10', '5')}\")\n",
        "print(f\"plus : {plus(10, 'a')}\")\n",
        "print(f\"plus : {plus(10, True)}\")\n",
        "print(f\"plus : {plus(False, 5)}\")\n",
        "print(f\"plus : {plus(10, 10.1)}\")"
      ],
      "metadata": {
        "colab": {
          "base_uri": "https://localhost:8080/"
        },
        "id": "XeMhjHoOA2Ic",
        "outputId": "2fffee90-d2c8-4bff-a995-0c3b0ec0afcd"
      },
      "execution_count": 83,
      "outputs": [
        {
          "output_type": "stream",
          "name": "stdout",
          "text": [
            "plus : 15\n",
            "plus : inf\n",
            "plus : inf\n",
            "plus : inf\n",
            "plus : inf\n",
            "plus : inf\n",
            "plus : inf\n",
            "plus : inf\n"
          ]
        }
      ]
    },
    {
      "cell_type": "code",
      "source": [
        "# 실력이 있으신 분은 견고한 코드가 될 수 있도록 해주셔야 합니다.\n",
        "def plus(num1, num2):\n",
        "    try:\n",
        "        return num1 + num2\n",
        "    except:\n",
        "        return float('inf')\n",
        "\n",
        "# 테스트 주도 개발\n",
        "print(f\"plus : {plus(10, 5)}\")\n",
        "print(f\"plus : {plus(10, '5')}\")\n",
        "print(f\"plus : {plus('10', 5)}\")\n",
        "print(f\"plus : {plus('10', '5')}\")\n",
        "print(f\"plus : {plus(10, 'a')}\")\n",
        "print(f\"plus : {plus(10, True)}\")\n",
        "print(f\"plus : {plus(False, 5)}\")\n",
        "print(f\"plus : {plus(10, 10.1)}\")"
      ],
      "metadata": {
        "colab": {
          "base_uri": "https://localhost:8080/"
        },
        "id": "PDBzvhr_AjYX",
        "outputId": "fdcc2f8e-3ad9-415a-cefa-5df863da731c"
      },
      "execution_count": 81,
      "outputs": [
        {
          "output_type": "stream",
          "name": "stdout",
          "text": [
            "plus : 15\n",
            "plus : inf\n",
            "plus : inf\n",
            "plus : 105\n",
            "plus : inf\n",
            "plus : 11\n",
            "plus : 5\n",
            "plus : 20.1\n"
          ]
        }
      ]
    },
    {
      "cell_type": "code",
      "source": [
        "def square(x, n):\n",
        "    if n == 0:\n",
        "        return 1\n",
        "    return x * square(x, n - 1)\n",
        "square(4, 4)"
      ],
      "metadata": {
        "colab": {
          "base_uri": "https://localhost:8080/"
        },
        "id": "tK4YPVy19v-D",
        "outputId": "8f1ed4a0-da2b-443c-8a26-969fa7cdcc54"
      },
      "execution_count": 85,
      "outputs": [
        {
          "output_type": "execute_result",
          "data": {
            "text/plain": [
              "256"
            ]
          },
          "metadata": {},
          "execution_count": 85
        }
      ]
    },
    {
      "cell_type": "code",
      "source": [
        "# 재귀함수를 사용해서 푼 것은 아니고\n",
        "# 팩토리 함수라고도 하고, 클로져라고도 합니다.\n",
        "def 제곱(x):\n",
        "    def 승수(y):\n",
        "        return x ** y\n",
        "    return 승수\n",
        "\n",
        "제곱3 = 제곱(3)\n",
        "제곱3(4)"
      ],
      "metadata": {
        "colab": {
          "base_uri": "https://localhost:8080/"
        },
        "id": "0uFmePuDDd5-",
        "outputId": "c03806d8-ab24-4690-aa84-c9824fcddfe5"
      },
      "execution_count": 86,
      "outputs": [
        {
          "output_type": "execute_result",
          "data": {
            "text/plain": [
              "81"
            ]
          },
          "metadata": {},
          "execution_count": 86
        }
      ]
    },
    {
      "cell_type": "markdown",
      "source": [
        "## list (리스트)"
      ],
      "metadata": {
        "id": "P0QMnIyoEgZC"
      }
    },
    {
      "cell_type": "markdown",
      "source": [
        "* 순서를 가진 데이터들의 집합 (Sequence)\n",
        "* 리스트는 값의 변경\n",
        "* 리스트 안에 리스트로 다차원의 리스트를 만드는 것도 가능\n",
        "* 리스트 안에 다른 딕셔너리, 셋, 튜플 등을 넣는 것도 가능합니다."
      ],
      "metadata": {
        "id": "rJDP39ZHFUhD"
      }
    },
    {
      "cell_type": "code",
      "source": [
        "l = [1000, 2000, 3000, 1000, 2000, 3000]\n",
        "id(l[0]), id(l[3])"
      ],
      "metadata": {
        "colab": {
          "base_uri": "https://localhost:8080/"
        },
        "id": "KPJcTPvjFokZ",
        "outputId": "0af76210-93d8-46e1-f1f1-2eadabfbb91b"
      },
      "execution_count": 88,
      "outputs": [
        {
          "output_type": "execute_result",
          "data": {
            "text/plain": [
              "(139889285684144, 139889285684144)"
            ]
          },
          "metadata": {},
          "execution_count": 88
        }
      ]
    },
    {
      "cell_type": "code",
      "source": [
        "# 컨벤션 자료형 (딕셔너리, 튜플, 셋, 리스트)\n",
        "# 메모리 효율을 위해\n",
        "# 같은 값이 있을 경우 같은 곳을 가리키게 설계되어 있습니다."
      ],
      "metadata": {
        "id": "qkz9iZtLF31y"
      },
      "execution_count": 91,
      "outputs": []
    },
    {
      "cell_type": "code",
      "source": [
        "l = [10, 20, 30, 40]\n",
        "l[0] = 1000\n",
        "l"
      ],
      "metadata": {
        "colab": {
          "base_uri": "https://localhost:8080/"
        },
        "id": "OkVl63y2GIaE",
        "outputId": "7d56b841-61e9-4716-df95-e0021d8edf4c"
      },
      "execution_count": 92,
      "outputs": [
        {
          "output_type": "execute_result",
          "data": {
            "text/plain": [
              "[1000, 20, 30, 40]"
            ]
          },
          "metadata": {},
          "execution_count": 92
        }
      ]
    },
    {
      "cell_type": "code",
      "source": [
        "s = 'hello world'\n",
        "s[0] = 'k' # error\n",
        "s"
      ],
      "metadata": {
        "id": "UFgJVpbyGPtx"
      },
      "execution_count": null,
      "outputs": []
    },
    {
      "cell_type": "code",
      "source": [
        "data = [[1, 2, 3],\n",
        "        [4, 5, 6],\n",
        "        [7, 8, 9]]\n",
        "    \n",
        "data"
      ],
      "metadata": {
        "colab": {
          "base_uri": "https://localhost:8080/"
        },
        "id": "K-o89xwmGd1I",
        "outputId": "150a7977-e8aa-486d-9eab-4b5de5f0b0d5"
      },
      "execution_count": 101,
      "outputs": [
        {
          "output_type": "execute_result",
          "data": {
            "text/plain": [
              "[[1, 2, 3], [4, 5, 6], [7, 8, 9]]"
            ]
          },
          "metadata": {},
          "execution_count": 101
        }
      ]
    },
    {
      "cell_type": "code",
      "source": [
        "data[0]"
      ],
      "metadata": {
        "colab": {
          "base_uri": "https://localhost:8080/"
        },
        "id": "mum8KTKCGyA1",
        "outputId": "ff6513c0-aa1d-4d42-d6e2-8ee1f676b15c"
      },
      "execution_count": 102,
      "outputs": [
        {
          "output_type": "execute_result",
          "data": {
            "text/plain": [
              "[1, 2, 3]"
            ]
          },
          "metadata": {},
          "execution_count": 102
        }
      ]
    },
    {
      "cell_type": "code",
      "source": [],
      "metadata": {
        "id": "PTpAgwUYGyAD"
      },
      "execution_count": null,
      "outputs": []
    },
    {
      "cell_type": "code",
      "source": [
        "data[0][0]\n",
        "[1, 2, 3][0]"
      ],
      "metadata": {
        "colab": {
          "base_uri": "https://localhost:8080/"
        },
        "id": "fMYCHXxjG2Mq",
        "outputId": "357fd09a-a651-4312-912a-f3ba5c89c5db"
      },
      "execution_count": 105,
      "outputs": [
        {
          "output_type": "execute_result",
          "data": {
            "text/plain": [
              "1"
            ]
          },
          "metadata": {},
          "execution_count": 105
        }
      ]
    },
    {
      "cell_type": "code",
      "source": [
        "data = [[1, 2, 3],\n",
        "        [4, 5, 6],\n",
        "        [7, 8, 9]]\n",
        "        \n",
        "data[0][0] *= 2\n",
        "data[0][1] *= 2\n",
        "data[0][2] *= 2\n",
        "data[1][0] *= 2\n",
        "data[1][1] *= 2\n",
        "data[1][2] *= 2\n",
        "data[2][0] *= 2\n",
        "data[2][1] *= 2\n",
        "data[2][2] *= 2\n",
        "data"
      ],
      "metadata": {
        "colab": {
          "base_uri": "https://localhost:8080/"
        },
        "id": "WsouDjb_G_dc",
        "outputId": "bfed46c5-d449-4e79-ed29-81ffbe4b68d8"
      },
      "execution_count": 109,
      "outputs": [
        {
          "output_type": "execute_result",
          "data": {
            "text/plain": [
              "[[2, 4, 6], [8, 10, 12], [14, 16, 18]]"
            ]
          },
          "metadata": {},
          "execution_count": 109
        }
      ]
    },
    {
      "cell_type": "code",
      "source": [
        "data = [[1, 2, 3],\n",
        "        [4, 5, 6],\n",
        "        [7, 8, 9]]\n",
        "\n",
        "for i in range(3):\n",
        "    for j in range(3):\n",
        "        data[i][j] *= 2\n",
        "        \n",
        "data"
      ],
      "metadata": {
        "colab": {
          "base_uri": "https://localhost:8080/"
        },
        "id": "XAExwoNfHaTs",
        "outputId": "5ab82c4c-794b-49b4-8c24-1111abde5480"
      },
      "execution_count": 111,
      "outputs": [
        {
          "output_type": "execute_result",
          "data": {
            "text/plain": [
              "[[2, 4, 6], [8, 10, 12], [14, 16, 18]]"
            ]
          },
          "metadata": {},
          "execution_count": 111
        }
      ]
    },
    {
      "cell_type": "code",
      "source": [
        "'''\n",
        "3                   == 스칼라\n",
        "[3, 4]              == 백터\n",
        "[[1, 2, 3],         == 매트릭스(행렬)\n",
        " [4, 5, 6],\n",
        " [7, 8, 9]]\n",
        "[[[1], [2], [3]],   == 텐서(다차원, 3차원 이상)\n",
        " [[4], [5], [6]],\n",
        " [[7], [8], [9]]]\n",
        "\n",
        " 텐서플로우 : 인공지능 중 유명한 라이브러리\n",
        " '''"
      ],
      "metadata": {
        "id": "jbvB3bJjH4O4"
      },
      "execution_count": null,
      "outputs": []
    },
    {
      "cell_type": "code",
      "source": [
        "# 리스트에서 주의해야 하는 연산!\n",
        "x = [10] * 3\n",
        "x"
      ],
      "metadata": {
        "colab": {
          "base_uri": "https://localhost:8080/"
        },
        "id": "YyQVo1s_IvKb",
        "outputId": "fb75e28b-d3d4-4b9c-8599-ad5eb3e7a8f3"
      },
      "execution_count": 113,
      "outputs": [
        {
          "output_type": "execute_result",
          "data": {
            "text/plain": [
              "[10, 10, 10]"
            ]
          },
          "metadata": {},
          "execution_count": 113
        }
      ]
    },
    {
      "cell_type": "code",
      "source": [
        "x[0] = 100\n",
        "x"
      ],
      "metadata": {
        "colab": {
          "base_uri": "https://localhost:8080/"
        },
        "id": "7BGH7HQhI2rm",
        "outputId": "e167a9d3-4dc9-4762-8820-b5822b428088"
      },
      "execution_count": 114,
      "outputs": [
        {
          "output_type": "execute_result",
          "data": {
            "text/plain": [
              "[100, 10, 10]"
            ]
          },
          "metadata": {},
          "execution_count": 114
        }
      ]
    },
    {
      "cell_type": "code",
      "source": [
        "x = [[10] * 2] * 3\n",
        "x"
      ],
      "metadata": {
        "colab": {
          "base_uri": "https://localhost:8080/"
        },
        "id": "ySfhYP9hI7e0",
        "outputId": "fe38af1a-9e23-40be-96a6-66e1d8bfba15"
      },
      "execution_count": 127,
      "outputs": [
        {
          "output_type": "execute_result",
          "data": {
            "text/plain": [
              "[[10, 10], [10, 10], [10, 10]]"
            ]
          },
          "metadata": {},
          "execution_count": 127
        }
      ]
    },
    {
      "cell_type": "code",
      "source": [
        "x[0][0] = 100\n",
        "x"
      ],
      "metadata": {
        "colab": {
          "base_uri": "https://localhost:8080/"
        },
        "id": "nP6d5JdWJCSh",
        "outputId": "a3d5b1cf-23f0-43d9-e4c6-d4052a1b37c1"
      },
      "execution_count": 119,
      "outputs": [
        {
          "output_type": "execute_result",
          "data": {
            "text/plain": [
              "[[100, 10], [100, 10], [100, 10]]"
            ]
          },
          "metadata": {},
          "execution_count": 119
        }
      ]
    },
    {
      "cell_type": "code",
      "source": [
        "[1, 2, 3] + [1, 2, 3] # 많이 사용합니다"
      ],
      "metadata": {
        "colab": {
          "base_uri": "https://localhost:8080/"
        },
        "id": "JFMgRZOKNDf6",
        "outputId": "35d597b3-0e7b-4704-b9bc-0b14a383af6c"
      },
      "execution_count": 129,
      "outputs": [
        {
          "output_type": "execute_result",
          "data": {
            "text/plain": [
              "[1, 2, 3, 1, 2, 3]"
            ]
          },
          "metadata": {},
          "execution_count": 129
        }
      ]
    },
    {
      "cell_type": "code",
      "source": [
        "[1, 2, 3] + 1 # error"
      ],
      "metadata": {
        "id": "IgeAPU-FNIJh"
      },
      "execution_count": null,
      "outputs": []
    },
    {
      "cell_type": "code",
      "source": [
        "id(x[0][0]), id(x[0][1])"
      ],
      "metadata": {
        "colab": {
          "base_uri": "https://localhost:8080/"
        },
        "id": "Ijs7sq_dJvn4",
        "outputId": "0e961edc-9dcb-4c4d-8cf8-d15df33aa14e"
      },
      "execution_count": 128,
      "outputs": [
        {
          "output_type": "execute_result",
          "data": {
            "text/plain": [
              "(139890534826512, 139890534826512)"
            ]
          },
          "metadata": {},
          "execution_count": 128
        }
      ]
    },
    {
      "cell_type": "code",
      "source": [
        "l = [10, 20, 30]\n",
        "type(l), dir(l), help(l)"
      ],
      "metadata": {
        "colab": {
          "base_uri": "https://localhost:8080/"
        },
        "id": "J-d1YKVGKIuv",
        "outputId": "e7ddeab3-7b57-4eba-9450-537d8a01cf74"
      },
      "execution_count": 124,
      "outputs": [
        {
          "output_type": "stream",
          "name": "stdout",
          "text": [
            "Help on list object:\n",
            "\n",
            "class list(object)\n",
            " |  list(iterable=(), /)\n",
            " |  \n",
            " |  Built-in mutable sequence.\n",
            " |  \n",
            " |  If no argument is given, the constructor creates a new empty list.\n",
            " |  The argument must be an iterable if specified.\n",
            " |  \n",
            " |  Methods defined here:\n",
            " |  \n",
            " |  __add__(self, value, /)\n",
            " |      Return self+value.\n",
            " |  \n",
            " |  __contains__(self, key, /)\n",
            " |      Return key in self.\n",
            " |  \n",
            " |  __delitem__(self, key, /)\n",
            " |      Delete self[key].\n",
            " |  \n",
            " |  __eq__(self, value, /)\n",
            " |      Return self==value.\n",
            " |  \n",
            " |  __ge__(self, value, /)\n",
            " |      Return self>=value.\n",
            " |  \n",
            " |  __getattribute__(self, name, /)\n",
            " |      Return getattr(self, name).\n",
            " |  \n",
            " |  __getitem__(...)\n",
            " |      x.__getitem__(y) <==> x[y]\n",
            " |  \n",
            " |  __gt__(self, value, /)\n",
            " |      Return self>value.\n",
            " |  \n",
            " |  __iadd__(self, value, /)\n",
            " |      Implement self+=value.\n",
            " |  \n",
            " |  __imul__(self, value, /)\n",
            " |      Implement self*=value.\n",
            " |  \n",
            " |  __init__(self, /, *args, **kwargs)\n",
            " |      Initialize self.  See help(type(self)) for accurate signature.\n",
            " |  \n",
            " |  __iter__(self, /)\n",
            " |      Implement iter(self).\n",
            " |  \n",
            " |  __le__(self, value, /)\n",
            " |      Return self<=value.\n",
            " |  \n",
            " |  __len__(self, /)\n",
            " |      Return len(self).\n",
            " |  \n",
            " |  __lt__(self, value, /)\n",
            " |      Return self<value.\n",
            " |  \n",
            " |  __mul__(self, value, /)\n",
            " |      Return self*value.\n",
            " |  \n",
            " |  __ne__(self, value, /)\n",
            " |      Return self!=value.\n",
            " |  \n",
            " |  __repr__(self, /)\n",
            " |      Return repr(self).\n",
            " |  \n",
            " |  __reversed__(self, /)\n",
            " |      Return a reverse iterator over the list.\n",
            " |  \n",
            " |  __rmul__(self, value, /)\n",
            " |      Return value*self.\n",
            " |  \n",
            " |  __setitem__(self, key, value, /)\n",
            " |      Set self[key] to value.\n",
            " |  \n",
            " |  __sizeof__(self, /)\n",
            " |      Return the size of the list in memory, in bytes.\n",
            " |  \n",
            " |  append(self, object, /)\n",
            " |      Append object to the end of the list.\n",
            " |  \n",
            " |  clear(self, /)\n",
            " |      Remove all items from list.\n",
            " |  \n",
            " |  copy(self, /)\n",
            " |      Return a shallow copy of the list.\n",
            " |  \n",
            " |  count(self, value, /)\n",
            " |      Return number of occurrences of value.\n",
            " |  \n",
            " |  extend(self, iterable, /)\n",
            " |      Extend list by appending elements from the iterable.\n",
            " |  \n",
            " |  index(self, value, start=0, stop=9223372036854775807, /)\n",
            " |      Return first index of value.\n",
            " |      \n",
            " |      Raises ValueError if the value is not present.\n",
            " |  \n",
            " |  insert(self, index, object, /)\n",
            " |      Insert object before index.\n",
            " |  \n",
            " |  pop(self, index=-1, /)\n",
            " |      Remove and return item at index (default last).\n",
            " |      \n",
            " |      Raises IndexError if list is empty or index is out of range.\n",
            " |  \n",
            " |  remove(self, value, /)\n",
            " |      Remove first occurrence of value.\n",
            " |      \n",
            " |      Raises ValueError if the value is not present.\n",
            " |  \n",
            " |  reverse(self, /)\n",
            " |      Reverse *IN PLACE*.\n",
            " |  \n",
            " |  sort(self, /, *, key=None, reverse=False)\n",
            " |      Sort the list in ascending order and return None.\n",
            " |      \n",
            " |      The sort is in-place (i.e. the list itself is modified) and stable (i.e. the\n",
            " |      order of two equal elements is maintained).\n",
            " |      \n",
            " |      If a key function is given, apply it once to each list item and sort them,\n",
            " |      ascending or descending, according to their function values.\n",
            " |      \n",
            " |      The reverse flag can be set to sort in descending order.\n",
            " |  \n",
            " |  ----------------------------------------------------------------------\n",
            " |  Class methods defined here:\n",
            " |  \n",
            " |  __class_getitem__(...) from builtins.type\n",
            " |      See PEP 585\n",
            " |  \n",
            " |  ----------------------------------------------------------------------\n",
            " |  Static methods defined here:\n",
            " |  \n",
            " |  __new__(*args, **kwargs) from builtins.type\n",
            " |      Create and return a new object.  See help(type) for accurate signature.\n",
            " |  \n",
            " |  ----------------------------------------------------------------------\n",
            " |  Data and other attributes defined here:\n",
            " |  \n",
            " |  __hash__ = None\n",
            "\n"
          ]
        },
        {
          "output_type": "execute_result",
          "data": {
            "text/plain": [
              "(list,\n",
              " ['__add__',\n",
              "  '__class__',\n",
              "  '__class_getitem__',\n",
              "  '__contains__',\n",
              "  '__delattr__',\n",
              "  '__delitem__',\n",
              "  '__dir__',\n",
              "  '__doc__',\n",
              "  '__eq__',\n",
              "  '__format__',\n",
              "  '__ge__',\n",
              "  '__getattribute__',\n",
              "  '__getitem__',\n",
              "  '__gt__',\n",
              "  '__hash__',\n",
              "  '__iadd__',\n",
              "  '__imul__',\n",
              "  '__init__',\n",
              "  '__init_subclass__',\n",
              "  '__iter__',\n",
              "  '__le__',\n",
              "  '__len__',\n",
              "  '__lt__',\n",
              "  '__mul__',\n",
              "  '__ne__',\n",
              "  '__new__',\n",
              "  '__reduce__',\n",
              "  '__reduce_ex__',\n",
              "  '__repr__',\n",
              "  '__reversed__',\n",
              "  '__rmul__',\n",
              "  '__setattr__',\n",
              "  '__setitem__',\n",
              "  '__sizeof__',\n",
              "  '__str__',\n",
              "  '__subclasshook__',\n",
              "  'append',\n",
              "  'clear',\n",
              "  'copy',\n",
              "  'count',\n",
              "  'extend',\n",
              "  'index',\n",
              "  'insert',\n",
              "  'pop',\n",
              "  'remove',\n",
              "  'reverse',\n",
              "  'sort'],\n",
              " None)"
            ]
          },
          "metadata": {},
          "execution_count": 124
        }
      ]
    },
    {
      "cell_type": "markdown",
      "source": [
        "## 리스트의 메서드"
      ],
      "metadata": {
        "id": "lgUkt4N8NWml"
      }
    },
    {
      "cell_type": "code",
      "source": [
        "# 'append','clear','copy','count','extend','index',\n",
        "# 'insert','pop','remove','reverse','sort'"
      ],
      "metadata": {
        "id": "LH9KmKKZNUrG"
      },
      "execution_count": null,
      "outputs": []
    },
    {
      "cell_type": "code",
      "source": [
        "l = [1, 2, 3]\n",
        "l.append(4)\n",
        "l"
      ],
      "metadata": {
        "colab": {
          "base_uri": "https://localhost:8080/"
        },
        "id": "_p9xgjEXNjmL",
        "outputId": "bfae4c8c-c4ac-4907-9102-8d47aa6b40ca"
      },
      "execution_count": 132,
      "outputs": [
        {
          "output_type": "execute_result",
          "data": {
            "text/plain": [
              "[1, 2, 3, 4]"
            ]
          },
          "metadata": {},
          "execution_count": 132
        }
      ]
    },
    {
      "cell_type": "code",
      "source": [
        "l = [1, 2, 3]\n",
        "l.append([1, 2, 3])\n",
        "l"
      ],
      "metadata": {
        "colab": {
          "base_uri": "https://localhost:8080/"
        },
        "id": "1CCWWZllNqsv",
        "outputId": "5c5357e2-a106-45ab-8832-02808d16f7b0"
      },
      "execution_count": 133,
      "outputs": [
        {
          "output_type": "execute_result",
          "data": {
            "text/plain": [
              "[1, 2, 3, [1, 2, 3]]"
            ]
          },
          "metadata": {},
          "execution_count": 133
        }
      ]
    },
    {
      "cell_type": "code",
      "source": [
        "l = [1, 2, 3]\n",
        "l.extend(4) # error\n",
        "l"
      ],
      "metadata": {
        "id": "VXDsAvQfNuyt"
      },
      "execution_count": null,
      "outputs": []
    },
    {
      "cell_type": "code",
      "source": [
        "l = [1, 2, 3]\n",
        "l.extend('hello')\n",
        "l"
      ],
      "metadata": {
        "colab": {
          "base_uri": "https://localhost:8080/"
        },
        "id": "3x5d2TtiOCuC",
        "outputId": "e983928d-4002-40a9-95a3-68493fd35129"
      },
      "execution_count": 138,
      "outputs": [
        {
          "output_type": "execute_result",
          "data": {
            "text/plain": [
              "[1, 2, 3, 'h', 'e', 'l', 'l', 'o']"
            ]
          },
          "metadata": {},
          "execution_count": 138
        }
      ]
    },
    {
      "cell_type": "code",
      "source": [
        "l = [1, 2, 3]\n",
        "l.extend({'one':10, 'two':20})\n",
        "l"
      ],
      "metadata": {
        "colab": {
          "base_uri": "https://localhost:8080/"
        },
        "id": "33h8DRRpORiS",
        "outputId": "056b4f08-25a7-4f80-b6e4-a34d2139910f"
      },
      "execution_count": 140,
      "outputs": [
        {
          "output_type": "execute_result",
          "data": {
            "text/plain": [
              "[1, 2, 3, 'one', 'two']"
            ]
          },
          "metadata": {},
          "execution_count": 140
        }
      ]
    },
    {
      "cell_type": "code",
      "source": [
        "l = [1, 2, 3]\n",
        "l.extend({10, 20, 30})\n",
        "l"
      ],
      "metadata": {
        "colab": {
          "base_uri": "https://localhost:8080/"
        },
        "id": "x-gn1kVIOW6F",
        "outputId": "c2b5d79b-9f11-4310-ce8e-55d055a27c78"
      },
      "execution_count": 141,
      "outputs": [
        {
          "output_type": "execute_result",
          "data": {
            "text/plain": [
              "[1, 2, 3, 10, 20, 30]"
            ]
          },
          "metadata": {},
          "execution_count": 141
        }
      ]
    },
    {
      "cell_type": "code",
      "source": [
        "l = [1, 2, 3]\n",
        "l.extend([1, 2, 3])\n",
        "l"
      ],
      "metadata": {
        "colab": {
          "base_uri": "https://localhost:8080/"
        },
        "id": "yIQNEstoN3AV",
        "outputId": "8b7df694-aa36-4f34-b7c7-6b3aa847e7b9"
      },
      "execution_count": 136,
      "outputs": [
        {
          "output_type": "execute_result",
          "data": {
            "text/plain": [
              "[1, 2, 3, 1, 2, 3]"
            ]
          },
          "metadata": {},
          "execution_count": 136
        }
      ]
    },
    {
      "cell_type": "code",
      "source": [
        "l = [10, 20, 30]\n",
        "l.clear()\n",
        "l"
      ],
      "metadata": {
        "colab": {
          "base_uri": "https://localhost:8080/"
        },
        "id": "MuUbXQzUOyqD",
        "outputId": "27ef66e2-27a7-4e4f-dde5-fff4dcf41dbc"
      },
      "execution_count": 142,
      "outputs": [
        {
          "output_type": "execute_result",
          "data": {
            "text/plain": [
              "[]"
            ]
          },
          "metadata": {},
          "execution_count": 142
        }
      ]
    },
    {
      "cell_type": "code",
      "source": [
        "l = [10, 20, 30]\n",
        "l = []\n",
        "l"
      ],
      "metadata": {
        "colab": {
          "base_uri": "https://localhost:8080/"
        },
        "id": "-jp7_w1VO9MA",
        "outputId": "1ad4c4cb-9237-4b9d-af39-dadb17ef86b1"
      },
      "execution_count": 143,
      "outputs": [
        {
          "output_type": "execute_result",
          "data": {
            "text/plain": [
              "[]"
            ]
          },
          "metadata": {},
          "execution_count": 143
        }
      ]
    },
    {
      "cell_type": "code",
      "source": [
        "제주과일가게 = [['바나나', 1000], ['수박', 2000], ['딸기', 3000]]\n",
        "서울과일가게 = 제주과일가게\n",
        "서울과일가게[0] = ['바나나', 2000]\n",
        "서울과일가게, 제주과일가게"
      ],
      "metadata": {
        "colab": {
          "base_uri": "https://localhost:8080/"
        },
        "id": "tD1QBf2aO-zL",
        "outputId": "3aa04a29-2647-436e-b16d-6ecb97f501a6"
      },
      "execution_count": 146,
      "outputs": [
        {
          "output_type": "execute_result",
          "data": {
            "text/plain": [
              "([['바나나', 2000], ['수박', 2000], ['딸기', 3000]],\n",
              " [['바나나', 2000], ['수박', 2000], ['딸기', 3000]])"
            ]
          },
          "metadata": {},
          "execution_count": 146
        }
      ]
    },
    {
      "cell_type": "code",
      "source": [
        "제주과일가게 = [['바나나', 1000], ['수박', 2000], ['딸기', 3000]]\n",
        "서울과일가게 = 제주과일가게.copy() # 얕은 복사\n",
        "서울과일가게[0] = ['바나나', 2000]\n",
        "서울과일가게, 제주과일가게"
      ],
      "metadata": {
        "colab": {
          "base_uri": "https://localhost:8080/"
        },
        "id": "Wicfk1_LPpXC",
        "outputId": "2e759ef2-73f2-4e36-b418-f66f8dcbfb30"
      },
      "execution_count": 147,
      "outputs": [
        {
          "output_type": "execute_result",
          "data": {
            "text/plain": [
              "([['바나나', 2000], ['수박', 2000], ['딸기', 3000]],\n",
              " [['바나나', 1000], ['수박', 2000], ['딸기', 3000]])"
            ]
          },
          "metadata": {},
          "execution_count": 147
        }
      ]
    },
    {
      "cell_type": "code",
      "source": [
        "제주과일가게 = [['바나나', 1000], ['수박', 2000], ['딸기', 3000]]\n",
        "서울과일가게 = 제주과일가게[:]\n",
        "서울과일가게[0] = ['바나나', 2000]\n",
        "서울과일가게, 제주과일가게"
      ],
      "metadata": {
        "colab": {
          "base_uri": "https://localhost:8080/"
        },
        "id": "wgx5grGaQBtc",
        "outputId": "5e2375c1-f3da-467e-e933-9175a30ccd29"
      },
      "execution_count": 148,
      "outputs": [
        {
          "output_type": "execute_result",
          "data": {
            "text/plain": [
              "([['바나나', 2000], ['수박', 2000], ['딸기', 3000]],\n",
              " [['바나나', 1000], ['수박', 2000], ['딸기', 3000]])"
            ]
          },
          "metadata": {},
          "execution_count": 148
        }
      ]
    },
    {
      "cell_type": "code",
      "source": [
        "s = 'hello world'\n",
        "s[:5]"
      ],
      "metadata": {
        "colab": {
          "base_uri": "https://localhost:8080/",
          "height": 35
        },
        "id": "pjcpNhC_QNI9",
        "outputId": "ed6c3adf-6058-42a6-b7b1-eef0e65c8c1d"
      },
      "execution_count": 149,
      "outputs": [
        {
          "output_type": "execute_result",
          "data": {
            "text/plain": [
              "'hello'"
            ],
            "application/vnd.google.colaboratory.intrinsic+json": {
              "type": "string"
            }
          },
          "metadata": {},
          "execution_count": 149
        }
      ]
    },
    {
      "cell_type": "code",
      "source": [
        "l = [10, 20, 30, 40, 50]\n",
        "l[:3]\n",
        "ll = l[:]\n",
        "ll"
      ],
      "metadata": {
        "colab": {
          "base_uri": "https://localhost:8080/"
        },
        "id": "RVnEchDJQUrq",
        "outputId": "fb324ca2-7aa0-41fb-b9ed-579f997fa67d"
      },
      "execution_count": 153,
      "outputs": [
        {
          "output_type": "execute_result",
          "data": {
            "text/plain": [
              "[10, 20, 30, 40, 50]"
            ]
          },
          "metadata": {},
          "execution_count": 153
        }
      ]
    },
    {
      "cell_type": "code",
      "source": [
        "id(l), id(ll)"
      ],
      "metadata": {
        "colab": {
          "base_uri": "https://localhost:8080/"
        },
        "id": "NaQPgcjeQjJL",
        "outputId": "650cfe5e-c5c1-41e6-81a0-c98f8603dbf7"
      },
      "execution_count": 154,
      "outputs": [
        {
          "output_type": "execute_result",
          "data": {
            "text/plain": [
              "(139889906632256, 139890064148736)"
            ]
          },
          "metadata": {},
          "execution_count": 154
        }
      ]
    },
    {
      "cell_type": "code",
      "source": [
        "# 이 이상의 내용은 뒤에 얕은 복사와 깊은 복사에서 알아봅니다.\n",
        "제주과일가게 = [['바나나', 1000], ['수박', 2000], ['딸기', 3000]]\n",
        "# 서울과일가게 = 제주과일가게[:] # 얕은 복사\n",
        "서울과일가게 = 제주과일가게.copy() # 얕은 복사\n",
        "id(서울과일가게[0]), id(제주과일가게[0])\n",
        "id(서울과일가게[0][0]), id(제주과일가게[0][0])\n",
        "서울과일가게[0][1] = 3000\n",
        "서울과일가게, 제주과일가게"
      ],
      "metadata": {
        "colab": {
          "base_uri": "https://localhost:8080/"
        },
        "id": "IrgBjlyEQxd3",
        "outputId": "831d2189-5d9e-448c-eee6-1eb690b12e7b"
      },
      "execution_count": 158,
      "outputs": [
        {
          "output_type": "execute_result",
          "data": {
            "text/plain": [
              "([['바나나', 3000], ['수박', 2000], ['딸기', 3000]],\n",
              " [['바나나', 3000], ['수박', 2000], ['딸기', 3000]])"
            ]
          },
          "metadata": {},
          "execution_count": 158
        }
      ]
    },
    {
      "cell_type": "code",
      "source": [
        "l = [1, 2, 3]\n",
        "ll = l[:]\n",
        "l[0] = 1000\n",
        "l, ll"
      ],
      "metadata": {
        "colab": {
          "base_uri": "https://localhost:8080/"
        },
        "id": "0ahO7F7bRZtO",
        "outputId": "027e758f-3292-4a7b-8a87-36368784d41d"
      },
      "execution_count": 160,
      "outputs": [
        {
          "output_type": "execute_result",
          "data": {
            "text/plain": [
              "([1000, 2, 3], [1, 2, 3])"
            ]
          },
          "metadata": {},
          "execution_count": 160
        }
      ]
    },
    {
      "cell_type": "code",
      "source": [
        "l = [1, 2, 3]\n",
        "ll = l.copy()\n",
        "l[0] = 1000\n",
        "l, ll"
      ],
      "metadata": {
        "colab": {
          "base_uri": "https://localhost:8080/"
        },
        "id": "UMpfYRi_Rq5f",
        "outputId": "b4f50d98-9a84-42d3-8b51-7bef18721960"
      },
      "execution_count": 161,
      "outputs": [
        {
          "output_type": "execute_result",
          "data": {
            "text/plain": [
              "([1000, 2, 3], [1, 2, 3])"
            ]
          },
          "metadata": {},
          "execution_count": 161
        }
      ]
    },
    {
      "cell_type": "code",
      "source": [
        "# 별 5개\n",
        "l= [1, 2, 3, 1, 1, 1, 2, 3, 2, 3, 1, 1]\n",
        "l.count(1)"
      ],
      "metadata": {
        "colab": {
          "base_uri": "https://localhost:8080/"
        },
        "id": "-PjRJau3R00V",
        "outputId": "df6fc5e9-5ea8-484b-e09d-a340664cb646"
      },
      "execution_count": 162,
      "outputs": [
        {
          "output_type": "execute_result",
          "data": {
            "text/plain": [
              "6"
            ]
          },
          "metadata": {},
          "execution_count": 162
        }
      ]
    },
    {
      "cell_type": "code",
      "source": [
        "a = [10, 1, 1, 11, 2, 23, 12]\n",
        "a.index(11)\n",
        "a[:a.index(11)]"
      ],
      "metadata": {
        "colab": {
          "base_uri": "https://localhost:8080/"
        },
        "id": "yh8-cGETS29y",
        "outputId": "986d313d-83a0-4e5c-eeae-bfb32365b8f2"
      },
      "execution_count": 164,
      "outputs": [
        {
          "output_type": "execute_result",
          "data": {
            "text/plain": [
              "[10, 1, 1]"
            ]
          },
          "metadata": {},
          "execution_count": 164
        }
      ]
    },
    {
      "cell_type": "code",
      "source": [
        "a = [10, 20, 30]\n",
        "a.insert(2, 1000) # insert 는 값을 지우지는 않습니다.\n",
        "a"
      ],
      "metadata": {
        "colab": {
          "base_uri": "https://localhost:8080/"
        },
        "id": "cx213Vj7TWFQ",
        "outputId": "81a45530-2d6a-43f6-e890-fc2162895484"
      },
      "execution_count": 168,
      "outputs": [
        {
          "output_type": "execute_result",
          "data": {
            "text/plain": [
              "[10, 20, 1000, 30]"
            ]
          },
          "metadata": {},
          "execution_count": 168
        }
      ]
    },
    {
      "cell_type": "code",
      "source": [
        "# 별 5개\n",
        "l = [10, 20, 30, 40, 50]\n",
        "l.pop()"
      ],
      "metadata": {
        "colab": {
          "base_uri": "https://localhost:8080/"
        },
        "id": "7PBe1JTaTpoK",
        "outputId": "0dff78a7-f80a-4259-af7c-131ea9dc69d9"
      },
      "execution_count": 169,
      "outputs": [
        {
          "output_type": "execute_result",
          "data": {
            "text/plain": [
              "50"
            ]
          },
          "metadata": {},
          "execution_count": 169
        }
      ]
    },
    {
      "cell_type": "code",
      "source": [
        "l"
      ],
      "metadata": {
        "colab": {
          "base_uri": "https://localhost:8080/"
        },
        "id": "yBYEW-u5T2ES",
        "outputId": "0502f7c3-6b78-4d63-87ec-19faf60a8f95"
      },
      "execution_count": 170,
      "outputs": [
        {
          "output_type": "execute_result",
          "data": {
            "text/plain": [
              "[10, 20, 30, 40]"
            ]
          },
          "metadata": {},
          "execution_count": 170
        }
      ]
    },
    {
      "cell_type": "code",
      "source": [
        "l = [10, 20, 30, 40, 50]\n",
        "l.pop(0) # 많이 사용합니다.\n",
        "l"
      ],
      "metadata": {
        "colab": {
          "base_uri": "https://localhost:8080/"
        },
        "id": "z2ndqiMPT210",
        "outputId": "db91558c-798c-4266-f453-3e47ec8af95d"
      },
      "execution_count": 171,
      "outputs": [
        {
          "output_type": "execute_result",
          "data": {
            "text/plain": [
              "[20, 30, 40, 50]"
            ]
          },
          "metadata": {},
          "execution_count": 171
        }
      ]
    },
    {
      "cell_type": "code",
      "source": [
        "# append : 맨 뒤에 추가\n",
        "# pop : 맨 뒤에서 값을 뽑아내고, index 가 들어갈 경우 index 에서 뽑습니다.\n",
        "# insert : index 에 값을 삽입하고 원래 있던 값을 뒤로 밉니다."
      ],
      "metadata": {
        "id": "nkqEeKRjT8Zl"
      },
      "execution_count": null,
      "outputs": []
    },
    {
      "cell_type": "code",
      "source": [
        "l = [10, 20, 30, 40, 50]\n",
        "l.remove(20) # 예를 들어 for문을 돌면서 remove를 하지 않기 바랍니다.\n",
        "l"
      ],
      "metadata": {
        "colab": {
          "base_uri": "https://localhost:8080/"
        },
        "id": "1eSLe5OoUQLt",
        "outputId": "0569e91c-5599-4648-8e21-c9221f5f94f7"
      },
      "execution_count": 172,
      "outputs": [
        {
          "output_type": "execute_result",
          "data": {
            "text/plain": [
              "[10, 30, 40, 50]"
            ]
          },
          "metadata": {},
          "execution_count": 172
        }
      ]
    },
    {
      "cell_type": "code",
      "source": [
        "l = [20, 20, 20, 20]\n",
        "for i in range(len(l)):\n",
        "    print(len(l)) # len 가 계속 변하기 때문에 의도치 않은 에러가 날 수 있어요.\n",
        "    l.remove(20)"
      ],
      "metadata": {
        "colab": {
          "base_uri": "https://localhost:8080/"
        },
        "id": "MS6fTjiTU8AV",
        "outputId": "05fb47c9-3fd7-4554-bca1-a800bf42a538"
      },
      "execution_count": 174,
      "outputs": [
        {
          "output_type": "stream",
          "name": "stdout",
          "text": [
            "4\n",
            "3\n",
            "2\n",
            "1\n"
          ]
        }
      ]
    },
    {
      "cell_type": "code",
      "source": [
        "# 무한 반복입니다.\n",
        "l = [20, 20, 20, 20]\n",
        "for i in l:\n",
        "    print(len(l))\n",
        "    l.append(20)"
      ],
      "metadata": {
        "id": "3s1S8U87VZR7"
      },
      "execution_count": null,
      "outputs": []
    },
    {
      "cell_type": "code",
      "source": [
        "l = [5, 6, 4, 3, 8, 9, 1]\n",
        "l.reverse() # 역 정렬이 아니고 역순이며 원본을 만집니다.\n",
        "l"
      ],
      "metadata": {
        "colab": {
          "base_uri": "https://localhost:8080/"
        },
        "id": "JQhQN0e0V3Kp",
        "outputId": "69b67cd3-ce00-4aea-e466-010208ad7b1c"
      },
      "execution_count": 176,
      "outputs": [
        {
          "output_type": "execute_result",
          "data": {
            "text/plain": [
              "[1, 9, 8, 3, 4, 6, 5]"
            ]
          },
          "metadata": {},
          "execution_count": 176
        }
      ]
    },
    {
      "cell_type": "code",
      "source": [
        "l = [5, 6, 4, 3, 8, 9, 1]\n",
        "print(list(reversed(l))) # 역 정렬이 아니고 역순이며 원본을 만지지 않습니다.\n",
        "print(l)"
      ],
      "metadata": {
        "colab": {
          "base_uri": "https://localhost:8080/"
        },
        "id": "oDH0tBqQWEVz",
        "outputId": "427d9995-2862-46c1-97c5-b19a0512e7fc"
      },
      "execution_count": 178,
      "outputs": [
        {
          "output_type": "stream",
          "name": "stdout",
          "text": [
            "[1, 9, 8, 3, 4, 6, 5]\n",
            "[5, 6, 4, 3, 8, 9, 1]\n"
          ]
        }
      ]
    },
    {
      "cell_type": "code",
      "source": [
        "# l.reverse() : 리스트의 메서드 이며, return None 입니다! 역순, 원본을 만집니다.\n",
        "# reversed() : 빌트인펑션이며, return 역순 입니다! 원본을 만지지 않습니다."
      ],
      "metadata": {
        "id": "ebubgxJXWapv"
      },
      "execution_count": null,
      "outputs": []
    },
    {
      "cell_type": "code",
      "source": [
        "l = [5, 6, 4, 3, 8, 9, 1]\n",
        "print(l.reverse())\n",
        "l"
      ],
      "metadata": {
        "colab": {
          "base_uri": "https://localhost:8080/"
        },
        "id": "jTVrZChaWvVJ",
        "outputId": "e7af61bc-3324-48cc-f09e-7e053fc5481a"
      },
      "execution_count": 180,
      "outputs": [
        {
          "output_type": "stream",
          "name": "stdout",
          "text": [
            "None\n"
          ]
        },
        {
          "output_type": "execute_result",
          "data": {
            "text/plain": [
              "[1, 9, 8, 3, 4, 6, 5]"
            ]
          },
          "metadata": {},
          "execution_count": 180
        }
      ]
    },
    {
      "cell_type": "code",
      "source": [
        "l = [5, 6, 4, 3, 8, 9, 1]\n",
        "print(list(reversed(l)))\n",
        "print(l)"
      ],
      "metadata": {
        "colab": {
          "base_uri": "https://localhost:8080/"
        },
        "id": "7-RZ5aqFW5_Y",
        "outputId": "66432918-8b4d-44db-a7bc-1f5a2ecd5e4b"
      },
      "execution_count": 183,
      "outputs": [
        {
          "output_type": "stream",
          "name": "stdout",
          "text": [
            "[1, 9, 8, 3, 4, 6, 5]\n",
            "[5, 6, 4, 3, 8, 9, 1]\n"
          ]
        }
      ]
    },
    {
      "cell_type": "code",
      "source": [
        "reversed(l)"
      ],
      "metadata": {
        "colab": {
          "base_uri": "https://localhost:8080/"
        },
        "id": "NGsvOE_rXaYO",
        "outputId": "82a4842f-4347-4332-92cc-8a003339aadb"
      },
      "execution_count": 184,
      "outputs": [
        {
          "output_type": "execute_result",
          "data": {
            "text/plain": [
              "<list_reverseiterator at 0x7f3a833bb580>"
            ]
          },
          "metadata": {},
          "execution_count": 184
        }
      ]
    },
    {
      "cell_type": "code",
      "source": [
        "print(type(range(10)))"
      ],
      "metadata": {
        "colab": {
          "base_uri": "https://localhost:8080/"
        },
        "id": "a9gXN4pmXcpA",
        "outputId": "22fcbd7c-5734-49c8-cddf-ce23c15506bd"
      },
      "execution_count": 185,
      "outputs": [
        {
          "output_type": "stream",
          "name": "stdout",
          "text": [
            "<class 'range'>\n"
          ]
        }
      ]
    },
    {
      "cell_type": "markdown",
      "source": [
        "### !! 오늘 배운 것 정리\n",
        "\n",
        "1. 함수\n",
        "    1. 코드 덩어리(정말 쉽게 설명하면)\n",
        "    2. 코드를 재사용 할 수 있으며, 실수를 줄일 수 있습니다.\n",
        "    3. 코드의 구조를 한 눈에 파악할 수 있습니다.\n",
        "    4. 형태\n",
        "        ```python\n",
        "        # 파선아실(파라미터는 선언할 때, 아규먼트는 실제)\n",
        "        def function(x, y):\n",
        "            z = x + y\n",
        "            return z\n",
        "        print(f'function(5, 7) = {function(5, 7)}')\n",
        "        ```\n",
        "    5. 함수 안에 함수와 함수 안에 변수는 밖에서 접근이 불가합니다.\n",
        "    6. 지역 변수와 전역 변수\n",
        "        * 전역변수 : 전역에서 접근할 수 있는 변수\n",
        "        * 지역변수 : 함수 내에서만 접근할 수 있는 변수\n",
        "        ```python\n",
        "        # 전역변수는 각 함수에서 접근은 가능하지만 수정이 되진 않습니다.\n",
        "        # only read\n",
        "        # global이라는 키워드로 밖에 있는 변수를 수정할 수도 있지만 권하지 않습니다.\n",
        "        # 권하지 않기에 요약자료에도 없습니다.\n",
        "        a = 100\n",
        "        def f():\n",
        "            a = a + 1\n",
        "        f()\n",
        "        ```\n",
        "    7. 재귀함수\n",
        "        * 내가 나를 호출하는 것입니다.\n",
        "        * 재귀 <-> for문은 대부분 호환이 가능합니다.\n",
        "        * 반복문 사용하시기를 권합니다!\n",
        "        * 어렵고 효율도 안좋아요! (얼마나 효율이 안좋은지도 확인해보겠습니다.)\n",
        "        * 필수적으로 사용하는 곳이 있습니다.\n",
        "        ```python\n",
        "        def f(n):\n",
        "            if n <= 1:\n",
        "                return 1\n",
        "            else:\n",
        "                return n * f(n-1)\n",
        "\n",
        "        f(5)\n",
        "        ```\n",
        "2. list (리스트)\n",
        "    * 순서를 가진 데이터들의 집합(Sequence)\n",
        "    * 리스트는 값의 변경\n",
        "    * 리스트 안에 리스트로 다차원의 리스트를 만드는 것도 가능\n",
        "    * 리스트 안에 다른 딕셔너리, 셋, 튜플 등을 넣는 것도 가능합니다"
      ],
      "metadata": {
        "id": "PxBBiXrfepmG"
      }
    },
    {
      "cell_type": "markdown",
      "source": [
        "## 깊은 복사와 얕은 복사"
      ],
      "metadata": {
        "id": "j74PKV1UP-l2"
      }
    },
    {
      "cell_type": "markdown",
      "source": [
        "## lambda"
      ],
      "metadata": {
        "id": "Eft7wG_kEiM_"
      }
    },
    {
      "cell_type": "markdown",
      "source": [
        "## 데코레이터"
      ],
      "metadata": {
        "id": "K0I1owMY3-ZZ"
      }
    },
    {
      "cell_type": "markdown",
      "source": [
        "## 클로저, 팩토리 함수"
      ],
      "metadata": {
        "id": "Rgj9to9c36fu"
      }
    },
    {
      "cell_type": "markdown",
      "source": [
        "## 제너레이터와 이터레이터"
      ],
      "metadata": {
        "id": "H-DDLJqWXJWl"
      }
    }
  ]
}