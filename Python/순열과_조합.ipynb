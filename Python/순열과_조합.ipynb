{
  "nbformat": 4,
  "nbformat_minor": 0,
  "metadata": {
    "colab": {
      "provenance": []
    },
    "kernelspec": {
      "name": "python3",
      "display_name": "Python 3"
    },
    "language_info": {
      "name": "python"
    }
  },
  "cells": [
    {
      "cell_type": "markdown",
      "source": [
        "* 순열과 조합이 쓰이는 문제는 '완전 탐색' 문제에서 주로 사용이 됩니다. 아래와 같은 문제도 '완전 탐색'으로 손쉽게 풀 수 있습니다. 단, 효율이 좋지는 않습니다.\n",
        "\n",
        "* https://school.programmers.co.kr/learn/courses/30/lessons/120956"
      ],
      "metadata": {
        "id": "h6jupoWBMhph"
      }
    },
    {
      "cell_type": "markdown",
      "source": [
        "## 순열\n",
        "\n",
        "* 순서를 정해서 나열한다. (nPr)"
      ],
      "metadata": {
        "id": "x9Fsnn3vMwV-"
      }
    },
    {
      "cell_type": "code",
      "source": [
        "from itertools import permutations\n",
        "\n",
        "permutations([1,2,3,4], 2) # 순회 가능한 객체만 생성"
      ],
      "metadata": {
        "colab": {
          "base_uri": "https://localhost:8080/"
        },
        "id": "KHfxvZcxM-1G",
        "outputId": "45729838-c3e5-4d4f-eb82-9267020a4ec5"
      },
      "execution_count": 1,
      "outputs": [
        {
          "output_type": "execute_result",
          "data": {
            "text/plain": [
              "<itertools.permutations at 0x7f7f479f9b20>"
            ]
          },
          "metadata": {},
          "execution_count": 1
        }
      ]
    },
    {
      "cell_type": "code",
      "source": [
        "from itertools import permutations\n",
        "\n",
        "list(permutations([1,2,3,4], 2)) +\\\n",
        "list(permutations([1,2,3,4], 3)) +\\\n",
        "list(permutations([1,2,3,4], 4))\n",
        "\n",
        "# list(permutations(range(1, 5), 4))\n",
        "# list(permutations('hello', 4))"
      ],
      "metadata": {
        "colab": {
          "base_uri": "https://localhost:8080/"
        },
        "id": "2sL7whc0NLWR",
        "outputId": "5717f5a7-50e9-44a9-b8da-2c2836720191"
      },
      "execution_count": 6,
      "outputs": [
        {
          "output_type": "execute_result",
          "data": {
            "text/plain": [
              "[(1, 2),\n",
              " (1, 3),\n",
              " (1, 4),\n",
              " (2, 1),\n",
              " (2, 3),\n",
              " (2, 4),\n",
              " (3, 1),\n",
              " (3, 2),\n",
              " (3, 4),\n",
              " (4, 1),\n",
              " (4, 2),\n",
              " (4, 3),\n",
              " (1, 2, 3),\n",
              " (1, 2, 4),\n",
              " (1, 3, 2),\n",
              " (1, 3, 4),\n",
              " (1, 4, 2),\n",
              " (1, 4, 3),\n",
              " (2, 1, 3),\n",
              " (2, 1, 4),\n",
              " (2, 3, 1),\n",
              " (2, 3, 4),\n",
              " (2, 4, 1),\n",
              " (2, 4, 3),\n",
              " (3, 1, 2),\n",
              " (3, 1, 4),\n",
              " (3, 2, 1),\n",
              " (3, 2, 4),\n",
              " (3, 4, 1),\n",
              " (3, 4, 2),\n",
              " (4, 1, 2),\n",
              " (4, 1, 3),\n",
              " (4, 2, 1),\n",
              " (4, 2, 3),\n",
              " (4, 3, 1),\n",
              " (4, 3, 2),\n",
              " (1, 2, 3, 4),\n",
              " (1, 2, 4, 3),\n",
              " (1, 3, 2, 4),\n",
              " (1, 3, 4, 2),\n",
              " (1, 4, 2, 3),\n",
              " (1, 4, 3, 2),\n",
              " (2, 1, 3, 4),\n",
              " (2, 1, 4, 3),\n",
              " (2, 3, 1, 4),\n",
              " (2, 3, 4, 1),\n",
              " (2, 4, 1, 3),\n",
              " (2, 4, 3, 1),\n",
              " (3, 1, 2, 4),\n",
              " (3, 1, 4, 2),\n",
              " (3, 2, 1, 4),\n",
              " (3, 2, 4, 1),\n",
              " (3, 4, 1, 2),\n",
              " (3, 4, 2, 1),\n",
              " (4, 1, 2, 3),\n",
              " (4, 1, 3, 2),\n",
              " (4, 2, 1, 3),\n",
              " (4, 2, 3, 1),\n",
              " (4, 3, 1, 2),\n",
              " (4, 3, 2, 1)]"
            ]
          },
          "metadata": {},
          "execution_count": 6
        }
      ]
    },
    {
      "cell_type": "code",
      "source": [
        "list(permutations([\"aya\", \"ye\", \"woo\", \"ma\"], 1)) +\\\n",
        "list(permutations([\"aya\", \"ye\", \"woo\", \"ma\"], 2)) +\\\n",
        "list(permutations([\"aya\", \"ye\", \"woo\", \"ma\"], 3)) +\\\n",
        "list(permutations([\"aya\", \"ye\", \"woo\", \"ma\"], 4))"
      ],
      "metadata": {
        "id": "dBvxLefdN16s"
      },
      "execution_count": null,
      "outputs": []
    },
    {
      "cell_type": "code",
      "source": [
        "순열 = list(permutations([\"aya\", \"ye\", \"woo\", \"ma\"], 1)) +\\\n",
        "list(permutations([\"aya\", \"ye\", \"woo\", \"ma\"], 2)) +\\\n",
        "list(permutations([\"aya\", \"ye\", \"woo\", \"ma\"], 3)) +\\\n",
        "list(permutations([\"aya\", \"ye\", \"woo\", \"ma\"], 4))\n",
        "\n",
        "순열집합 = []\n",
        "\n",
        "for i in 순열:\n",
        "    순열집합.append(''.join(i))\n",
        "\n",
        "순열집합"
      ],
      "metadata": {
        "id": "YXvy8pimOPJM"
      },
      "execution_count": null,
      "outputs": []
    },
    {
      "cell_type": "code",
      "source": [
        "count = 0\n",
        "for i in [\"ayaye\", \"uuuma\", \"ye\", \"yemawoo\", \"ayaa\"]:\n",
        "    if i in 순열집합:\n",
        "        count += 1\n",
        "\n",
        "count"
      ],
      "metadata": {
        "colab": {
          "base_uri": "https://localhost:8080/"
        },
        "id": "YLY4usZTO1_Y",
        "outputId": "11e69c47-2653-4819-b223-b954e96c92d1"
      },
      "execution_count": 11,
      "outputs": [
        {
          "output_type": "execute_result",
          "data": {
            "text/plain": [
              "3"
            ]
          },
          "metadata": {},
          "execution_count": 11
        }
      ]
    },
    {
      "cell_type": "markdown",
      "source": [
        "## 조합\n",
        "\n",
        "* 순서를 정하지 않고 나열한다. (nCr)"
      ],
      "metadata": {
        "id": "aMxTcpQMMxiu"
      }
    },
    {
      "cell_type": "code",
      "source": [
        "from itertools import combinations\n",
        "\n",
        "combinations([1, 2, 3, 4], 2)"
      ],
      "metadata": {
        "colab": {
          "base_uri": "https://localhost:8080/"
        },
        "id": "_SeO0dP0PsDv",
        "outputId": "b7044c33-ca34-4255-d395-8836686e164f"
      },
      "execution_count": 12,
      "outputs": [
        {
          "output_type": "execute_result",
          "data": {
            "text/plain": [
              "<itertools.combinations at 0x7f7f2cb17fb0>"
            ]
          },
          "metadata": {},
          "execution_count": 12
        }
      ]
    },
    {
      "cell_type": "code",
      "source": [
        "from itertools import combinations\n",
        "\n",
        "list(combinations([1, 2, 3, 4], 2))"
      ],
      "metadata": {
        "colab": {
          "base_uri": "https://localhost:8080/"
        },
        "id": "7Tls2cyTPy1o",
        "outputId": "2459ec02-9ed8-4c73-93a9-fb5ef7bb97fe"
      },
      "execution_count": 13,
      "outputs": [
        {
          "output_type": "execute_result",
          "data": {
            "text/plain": [
              "[(1, 2), (1, 3), (1, 4), (2, 3), (2, 4), (3, 4)]"
            ]
          },
          "metadata": {},
          "execution_count": 13
        }
      ]
    },
    {
      "cell_type": "code",
      "source": [
        "from itertools import combinations\n",
        "\n",
        "list(combinations('hello', 2))"
      ],
      "metadata": {
        "colab": {
          "base_uri": "https://localhost:8080/"
        },
        "id": "sCqUJvCvP4d8",
        "outputId": "671b681e-ca67-48ae-8b79-e453fe857eec"
      },
      "execution_count": 14,
      "outputs": [
        {
          "output_type": "execute_result",
          "data": {
            "text/plain": [
              "[('h', 'e'),\n",
              " ('h', 'l'),\n",
              " ('h', 'l'),\n",
              " ('h', 'o'),\n",
              " ('e', 'l'),\n",
              " ('e', 'l'),\n",
              " ('e', 'o'),\n",
              " ('l', 'l'),\n",
              " ('l', 'o'),\n",
              " ('l', 'o')]"
            ]
          },
          "metadata": {},
          "execution_count": 14
        }
      ]
    }
  ]
}