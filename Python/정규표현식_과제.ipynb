{
  "nbformat": 4,
  "nbformat_minor": 0,
  "metadata": {
    "colab": {
      "provenance": []
    },
    "kernelspec": {
      "name": "python3",
      "display_name": "Python 3"
    },
    "language_info": {
      "name": "python"
    }
  },
  "cells": [
    {
      "cell_type": "code",
      "execution_count": null,
      "metadata": {
        "id": "ucY_eJETem2Z"
      },
      "outputs": [],
      "source": [
        "import re\n",
        "\n",
        "def to_be_html(data):\n",
        "    with open(data, 'r') as f:\n",
        "        new_data = f.read()\n",
        "    \n",
        "    new_data = re.sub(r'### (.*)', r'<h3>\\1</h3>', new_data)\n",
        "    new_data = re.sub(r'## (.*)', r'<h2>\\1</h2>', new_data)\n",
        "    new_data = re.sub(r'# (.*)', r'<h1>\\1</h1>', new_data)\n",
        "    new_data = re.sub(r'\\*\\*(.*)\\*\\*', r'<strong>\\1</strong>', new_data)\n",
        "    new_data = re.sub(r'\\*(.*)\\*', r'<em>\\1</em>', new_data)\n",
        "    new_data = re.sub(r'\\`(.*)\\`', r'<code>\\1</code>', new_data)\n",
        "\n",
        "    with open('new_html', 'w') as f:\n",
        "        f.write(new_data)\n",
        "\n",
        "to_be_html('sample.md')"
      ]
    },
    {
      "cell_type": "code",
      "source": [
        "data = [1, 1, 1, 2, 3, 4, 1, 2, 3, 4, 1]\n",
        "# data = [1, 2, 3, 4, 1, 1, 2, 3, 4]\n",
        "# data = [1, 2, 3, 4, 2, 3, 4, 1]\n",
        "\n",
        "import re\n",
        "\n",
        "def solution(data):\n",
        "    new_data = ''.join(str(i) for i in data)\n",
        "    count = 0\n",
        "    for i in new_data:\n",
        "        if '12341' in new_data:\n",
        "            new_data = re.sub(r'[1][2][3][4][1]', '', new_data)\n",
        "            count += 1\n",
        "    return count\n",
        "\n",
        "solution(data)"
      ],
      "metadata": {
        "id": "GNPWoCqWyoAP",
        "colab": {
          "base_uri": "https://localhost:8080/"
        },
        "outputId": "2ea58058-aed6-47d4-a8c0-08d1b975ea09"
      },
      "execution_count": null,
      "outputs": [
        {
          "output_type": "execute_result",
          "data": {
            "text/plain": [
              "2"
            ]
          },
          "metadata": {},
          "execution_count": 106
        }
      ]
    },
    {
      "cell_type": "code",
      "source": [
        "data = [1, 1, 1, 2, 3, 4, 1, 2, 3, 4, 1]\n",
        "# data = [1, 2, 3, 4, 1, 1, 2, 3, 4]\n",
        "# data = [1, 2, 3, 4, 2, 3, 4, 1]\n",
        "\n",
        "def solution(data):\n",
        "    new_data = ''.join(str(i) for i in data)\n",
        "    count = 0\n",
        "    for i in new_data:\n",
        "        if '12341' in new_data:\n",
        "            new_data = new_data.replace('12341', '', 1)\n",
        "            count += 1\n",
        "    return count\n",
        "\n",
        "solution(data)"
      ],
      "metadata": {
        "colab": {
          "base_uri": "https://localhost:8080/"
        },
        "id": "Yu_DHIeO-lye",
        "outputId": "65c650dd-a150-4f16-91f7-2a390f4ba0b1"
      },
      "execution_count": 11,
      "outputs": [
        {
          "output_type": "execute_result",
          "data": {
            "text/plain": [
              "2"
            ]
          },
          "metadata": {},
          "execution_count": 11
        }
      ]
    },
    {
      "cell_type": "code",
      "source": [
        "# 김바름님 코드\n",
        "import re\n",
        "\n",
        "def solution(data):\n",
        "    result = 0\n",
        "    data = ''.join(str(i) for i in data)\n",
        "    p = re.compile('12341')\n",
        "    while p.search(data):\n",
        "        data = p.sub('',data, 1)\n",
        "        result += 1\n",
        "    return result\n",
        "\n",
        "# 스택\n",
        "def solution(data):\n",
        "    result = 0\n",
        "    wait = []\n",
        "    for food in data:\n",
        "        wait.append(food)\n",
        "        if wait[-5:] == [1,2,3,4,1]:\n",
        "            for i in range(5) : wait.pop()\n",
        "            result += 1\n",
        "    return result"
      ],
      "metadata": {
        "id": "ZJP0Az-TFCQQ"
      },
      "execution_count": null,
      "outputs": []
    },
    {
      "cell_type": "code",
      "source": [
        "# 이병훈님 코드 (오답)\n",
        "import re\n",
        "\n",
        "def solution(data):\n",
        "    count = 0\n",
        "    join_data = ''.join(map(str, data))\n",
        "    p = join_data\n",
        "    while True:\n",
        "        if '12341' in p:\n",
        "            p = re.sub(r'12341', '', p) # 여기서 오답\n",
        "            count += 1\n",
        "        else:\n",
        "            break\n",
        "    return count"
      ],
      "metadata": {
        "id": "565Cp_aQE8GC"
      },
      "execution_count": null,
      "outputs": []
    },
    {
      "cell_type": "code",
      "source": [
        "# 이광호님 코드 (오답)\n",
        "import re\n",
        "\n",
        "def solution(data):\n",
        "    s = str.join('', map(str, data))\n",
        "    count = 0\n",
        "    while re.findall('12341', s):\n",
        "        s = re.sub('12341', '',s) # 여기서 오답\n",
        "        count += 1\n",
        "    return count"
      ],
      "metadata": {
        "id": "sy_AJw5sE50w"
      },
      "execution_count": null,
      "outputs": []
    },
    {
      "cell_type": "code",
      "source": [
        "data = [1, 1, 1, 2, 3, 4, 1, 2, 3, 4, 1]\n",
        "''.join(data) # error"
      ],
      "metadata": {
        "id": "ti-N37S4FHh_"
      },
      "execution_count": null,
      "outputs": []
    },
    {
      "cell_type": "code",
      "source": [
        "data = ['1', '1', '1', '2', '3']\n",
        "''.join(data) # 됩니다"
      ],
      "metadata": {
        "colab": {
          "base_uri": "https://localhost:8080/",
          "height": 35
        },
        "id": "kTBxGmfOFOdm",
        "outputId": "3330dcf1-3bec-4deb-c8f8-9ca94bf40187"
      },
      "execution_count": 1,
      "outputs": [
        {
          "output_type": "execute_result",
          "data": {
            "text/plain": [
              "'11123'"
            ],
            "application/vnd.google.colaboratory.intrinsic+json": {
              "type": "string"
            }
          },
          "metadata": {},
          "execution_count": 1
        }
      ]
    },
    {
      "cell_type": "code",
      "source": [
        "data = [1, 1, 1, 2, 3, 4, 1, 2, 3, 4, 1]\n",
        "list(map(lambda x:str(x), data))"
      ],
      "metadata": {
        "colab": {
          "base_uri": "https://localhost:8080/"
        },
        "id": "MNRojiGqFWE3",
        "outputId": "ccf39da8-ff3d-4b23-eb07-7d054d1eca5b"
      },
      "execution_count": 3,
      "outputs": [
        {
          "output_type": "execute_result",
          "data": {
            "text/plain": [
              "['1', '1', '1', '2', '3', '4', '1', '2', '3', '4', '1']"
            ]
          },
          "metadata": {},
          "execution_count": 3
        }
      ]
    },
    {
      "cell_type": "code",
      "source": [
        "data = [1, 1, 1, 2, 3, 4, 1, 2, 3, 4, 1]\n",
        "list(map(str, data))"
      ],
      "metadata": {
        "colab": {
          "base_uri": "https://localhost:8080/"
        },
        "id": "A1LpIy8xFc2A",
        "outputId": "3e2b4c27-28fd-4001-fd88-7843ef9a4d63"
      },
      "execution_count": 4,
      "outputs": [
        {
          "output_type": "execute_result",
          "data": {
            "text/plain": [
              "['1', '1', '1', '2', '3', '4', '1', '2', '3', '4', '1']"
            ]
          },
          "metadata": {},
          "execution_count": 4
        }
      ]
    },
    {
      "cell_type": "code",
      "source": [
        "data = [1, 1, 1, 2, 3, 4, 1, 2, 3, 4, 1]\n",
        "''.join(map(str, data))"
      ],
      "metadata": {
        "colab": {
          "base_uri": "https://localhost:8080/",
          "height": 35
        },
        "id": "AFlYaceYFofp",
        "outputId": "349c0e98-03d6-4ad5-ca50-1fa200bdf044"
      },
      "execution_count": 5,
      "outputs": [
        {
          "output_type": "execute_result",
          "data": {
            "text/plain": [
              "'11123412341'"
            ],
            "application/vnd.google.colaboratory.intrinsic+json": {
              "type": "string"
            }
          },
          "metadata": {},
          "execution_count": 5
        }
      ]
    },
    {
      "cell_type": "code",
      "source": [
        "data = [1, 1, 1, 2, 3, 4, 1, 2, 3, 4, 1]\n",
        "s = ''.join(map(str, data))\n",
        "\n",
        "while s.find('12341') != -1:\n",
        "    s = s.replace('12341', '')"
      ],
      "metadata": {
        "id": "g1g54lR8Fr-4"
      },
      "execution_count": null,
      "outputs": []
    },
    {
      "cell_type": "code",
      "source": [
        "data = [1, 1, 1, 2, 3, 4, 1, 2, 3, 4, 1]\n",
        "s = ''.join(map(str, data))\n",
        "s.replace('12341', '')\n",
        "\n",
        "s"
      ],
      "metadata": {
        "colab": {
          "base_uri": "https://localhost:8080/",
          "height": 35
        },
        "id": "rxuq3ePHGHQl",
        "outputId": "8829863d-4072-4021-80f2-9ec2af174f59"
      },
      "execution_count": 6,
      "outputs": [
        {
          "output_type": "execute_result",
          "data": {
            "text/plain": [
              "'11123412341'"
            ],
            "application/vnd.google.colaboratory.intrinsic+json": {
              "type": "string"
            }
          },
          "metadata": {},
          "execution_count": 6
        }
      ]
    },
    {
      "cell_type": "code",
      "source": [
        "'hello world hello world hello'.replace('hello', '!')\n",
        "'hello world hello world hello'.replace('hello', '!', 1)\n",
        "'hello world hello world hello'.replace('hello', '!', 2)"
      ],
      "metadata": {
        "colab": {
          "base_uri": "https://localhost:8080/",
          "height": 35
        },
        "id": "rUnRUT5CGrxo",
        "outputId": "6e88f578-6813-4a85-a1bc-197032a51f82"
      },
      "execution_count": 10,
      "outputs": [
        {
          "output_type": "execute_result",
          "data": {
            "text/plain": [
              "'! world ! world hello'"
            ],
            "application/vnd.google.colaboratory.intrinsic+json": {
              "type": "string"
            }
          },
          "metadata": {},
          "execution_count": 10
        }
      ]
    },
    {
      "cell_type": "code",
      "source": [
        "# 3 이 카운팅 되도록 replace 가능 count를 1로 조정!\n",
        "data = [1, 1, 1, 2, 3, 4, 1, 2, 3, 4, 1, 1, 2, 3, 4, 1]\n",
        "s = ''.join(map(str, data))\n",
        "count = 0\n",
        "\n",
        "while s.find('12341') != -1:\n",
        "    s = s.replace('12341', '', 1)\n",
        "    count += 1\n",
        "\n",
        "count"
      ],
      "metadata": {
        "colab": {
          "base_uri": "https://localhost:8080/"
        },
        "id": "IkJSCV17GM72",
        "outputId": "1bb4ab44-5c8f-4e26-f46f-b4201c95fe9a"
      },
      "execution_count": 13,
      "outputs": [
        {
          "output_type": "execute_result",
          "data": {
            "text/plain": [
              "3"
            ]
          },
          "metadata": {},
          "execution_count": 13
        }
      ]
    },
    {
      "cell_type": "code",
      "source": [
        "def solution(data):\n",
        "    s = ''.join(map(str, data))\n",
        "    count = 0\n",
        "    while s.find('12341') != -1:\n",
        "        s = s.replace('12341', '', 1)\n",
        "        count += 1\n",
        "    return count"
      ],
      "metadata": {
        "id": "tTYT-f8cHKQi"
      },
      "execution_count": null,
      "outputs": []
    },
    {
      "cell_type": "markdown",
      "source": [
        "## (과제) 마크다운 변환 함수 만들기"
      ],
      "metadata": {
        "id": "_cE9aKZgHyYN"
      }
    },
    {
      "cell_type": "markdown",
      "source": [
        "# 이것은 제목입니다\n",
        "## 이것은 소제목입니다\n",
        "### 이것은 소소제목입니다\n",
        "\n",
        "이것은 **굵은글씨** 입니다.\n",
        "이것은 *기울어진 글씨* 입니다.\n",
        "\n",
        "이것은 `코드블록` 입니다.\n",
        "\n",
        "- 이것은 리스트입니다.\n",
        "- 이것은 또 다른 리스트입니다.\n",
        "\n",
        "1. 이것은 숫자 리스트입니다.\n",
        "2. 이것은 또 다른 숫자 리스트입니다.\n",
        "\n",
        "> 이것은 인용입니다.\n",
        "> 이것은 또 다른 인용입니다.\n",
        "\n",
        "---\n",
        "구분선입니다. 아래부터는 어려운 내용입니다. 이번 수업에서는 진행하지 않으셔도 좋습니다.\n",
        "---\n",
        "\n",
        "[이것은 링크입니다](http://www.paullab.co.kr)\n",
        "![이미지](https://paullab.co.kr/images/message_licat.png)\n",
        "\n",
        "| 이것은 | 표입니다 |\n",
        "| --- | --- |\n",
        "| 이것은 | 셀입니다 |\n",
        "| 이것은 | 또 다른 셀입니다 |\n",
        "\n",
        "```python\n",
        "print('hello world')\n",
        "```"
      ],
      "metadata": {
        "id": "hKyALJ8GL5-j"
      }
    },
    {
      "cell_type": "code",
      "source": [
        "# 송주헌님 코드\n",
        "from pathlib import Path\n",
        "import re\n",
        "\n",
        "\n",
        "def markdown_to_text(path_and_name):\n",
        "    f = open(f'{path_and_name}', 'r', encoding='utf-8')\n",
        "    markdown_text = f.read()\n",
        "    f.close()\n",
        "    return markdown_text\n",
        "\n",
        "\n",
        "def md_text_to_html_text(md_text):\n",
        "    # Header 1~6\n",
        "    html_text = re.sub(r'###### (.*)', r'<h6>\\1</h6>', md_text)\n",
        "    html_text = re.sub(r'##### (.*)', r'<h5>\\1</h5>', html_text)\n",
        "    html_text = re.sub(r'#### (.*)', r'<h4>\\1</h4>', html_text)\n",
        "    html_text = re.sub(r'### (.*)', r'<h3>\\1</h3>', html_text)\n",
        "    html_text = re.sub(r'## (.*)', r'<h2>\\1</h2>', html_text)\n",
        "    html_text = re.sub(r'# (.*)', r'<h1>\\1</h1>', html_text)\n",
        "\n",
        "    # 코드블록 (여러줄 코드블록도)\n",
        "    html_text = re.sub(r'`{3}(.*)`{3}',\n",
        "                       r'<pre><code>\\1</code></pre>', html_text, flags=re.S)\n",
        "    html_text = re.sub(r'`(.*)`',\n",
        "                       r'<pre><code>\\1</code></pre>', html_text)\n",
        "\n",
        "    # 굵은글씨\n",
        "    html_text = re.sub(r'\\*\\*(.*)\\*\\*', r'<strong>\\1</strong>', html_text)\n",
        "\n",
        "    # 기울어진글씨(이탤릭)\n",
        "    html_text = re.sub(r'\\*(.*)\\*', r'<em>\\1</em>', html_text)\n",
        "\n",
        "    # 리스트\n",
        "    html_text = re.sub(\n",
        "        r'^- ([^-].*)', r'<ul><li>\\1</li></ul>', html_text, flags=re.M)\n",
        "\n",
        "    # 숫자 리스트\n",
        "    html_text = re.sub(r'^\\d. (.*)', r'<ol><li>\\1</li></ol>',\n",
        "                       html_text, flags=re.M)\n",
        "\n",
        "    # 인용(BlockQuote)\n",
        "    html_text = re.sub(\n",
        "        r'^(>+) (.*)', r'<blockquote>\\1\\2</blockquote>', html_text, flags=re.M)\n",
        "\n",
        "    # 취소선?\n",
        "    # html_text = re.sub(r'~~(.*)~~', r'<del>\\1</del>', html_text)\n",
        "\n",
        "    # 링크, 이미지, 표(table) 미구현\n",
        "\n",
        "    return html_text\n",
        "\n",
        "\n",
        "def save_html_file(html_text, path_saving, file_name):\n",
        "    f = open(f'{Path.joinpath(path_saving, file_name)}', 'w', encoding='utf-8')\n",
        "    f.write(html_text)\n",
        "    f.close()\n",
        "    return\n",
        "\n",
        "\n",
        "md_file_path = Path.joinpath(Path.cwd(), 'sample.md')\n",
        "md_text = markdown_to_text(md_file_path)\n",
        "html_text = md_text_to_html_text(md_text)\n",
        "save_html_file(html_text, Path.cwd(), 'parsed.html')"
      ],
      "metadata": {
        "id": "mE5DTDoNHv2n"
      },
      "execution_count": null,
      "outputs": []
    },
    {
      "cell_type": "code",
      "source": [
        "# 김바름님 코드\n",
        "import re\n",
        "\n",
        "def md_to_html(text):\n",
        "    # 토글\n",
        "    text = re.sub(r'(>+) (.*)', r'<blockquote>\\1 \\2</blockquote>', text)\n",
        "    # 헤딩\n",
        "    text = re.sub(r'### (.*)', r'<h3>\\1</h3>', text)\n",
        "    text = re.sub(r'## (.*)', r'<h2>\\1</h2>', text)\n",
        "    text = re.sub(r'# (.*)', r'<h1>\\1</h1>', text)\n",
        "    # 코드블럭\n",
        "    if re.match('\\t?```', text):\n",
        "        text = re.sub(r'^\\t?```.*', r'<pre><code>', text)\n",
        "        text = re.sub(r'\\t?```$', r'</code></pre>', text)\n",
        "    text = re.sub(r'\\t?`(.*)`', r'<pre><code>\\1</code></pre>', text)\n",
        "    # 볼드\n",
        "    text = re.sub(r'[\\*_]{2}(.*)[\\*_]{2}', r'<strong>\\1</strong>', text)\n",
        "    # 이탤릭\n",
        "    text = re.sub(r'[\\*_]{1}(.*)[\\*_]{1}', r'<em>\\1</em>', text)\n",
        "    # 취소선\n",
        "    text = re.sub(r'~~(.*)~~', r'<del>\\1</del>', text)\n",
        "    # 이미지\n",
        "    text = re.sub(r'!\\[(.*)]\\((.*)\\)', r'<div><img src = \"\\2\" alt:=\"\\1\" width = \"100\"></div>', text)\n",
        "    # 링크\n",
        "    text = re.sub(r'\\[(.*)]\\((.*)\\)', r'<div><a href = \"\\2\">\\1</a></div>', text)\n",
        "    # 순서 없는 리스트\n",
        "    if re.match(r'[ \\t]*[\\*-]+[ \\t]+', text):\n",
        "        text = re.sub(r'^[ \\t]*[\\*-]+[ \\t]+(.+)', r'<ul>\\n<li>\\1</li>', text)\n",
        "        text = re.sub(r'[ \\t]*[\\*-]+[ \\t]+(.+)', r'<li>\\1</li>', text)\n",
        "        text += '</ul>'\n",
        "    # 순서 있는 리스트\n",
        "    if re.match(r'[ \\t]*\\d+\\.', text):\n",
        "        text = re.sub(r'^[ \\t]*\\d+\\.[ \\t]+(.+)', r'<ol>\\n<li>\\1</li>', text)\n",
        "        text = re.sub(r'[ \\t]*\\d+\\.[ \\t]+(.+)', r'<li>\\1</li>', text)\n",
        "        text += '</ol>'\n",
        "    return text\n",
        "    \n",
        "    \n",
        "name = 'markdown'\n",
        "\n",
        "f1 = open(f'{name}.md', 'r' ,encoding='UTF8')\n",
        "f2 =  open(f'{name}.html', 'w' ,encoding='UTF8')\n",
        "text = f1.readlines()\n",
        "temp = ''\n",
        "flag = 0\n",
        "for i in text:\n",
        "    # 여러줄짜리 코드블럭 처리\n",
        "    if re.match('\\t?```', i):\n",
        "        temp += i\n",
        "        if flag == 1:\n",
        "            f2.write(md_to_html(temp))\n",
        "            temp, flag = '', 0   \n",
        "        flag = 1\n",
        "        continue\n",
        "    if flag == 1:\n",
        "        temp += i\n",
        "        continue\n",
        "    # 순서있는 리스트 처리\n",
        "    if re.match(r'[ \\t]*\\d+\\.', i):\n",
        "        temp += i\n",
        "        flag = 2\n",
        "        continue\n",
        "    if flag == 2:\n",
        "        f2.write(md_to_html(temp))\n",
        "        temp = ''\n",
        "    # 순서없는 리스트 처리\n",
        "    if re.match(r'[ \\t]*[\\*-]+[ \\t]+', i):\n",
        "        temp += i\n",
        "        flag = 3\n",
        "        continue\n",
        "    if flag == 3:\n",
        "        f2.write(md_to_html(temp))\n",
        "        temp = ''\n",
        "    #특이사항없을시\n",
        "    f2.write(md_to_html(i))\n",
        "\n",
        "f1.close()\n",
        "f2.close()\n",
        "\n",
        "# import re\n",
        "\n",
        "# def md_to_html(name):\n",
        "#     with open(f'{name}.md', 'r' ,encoding='UTF8') as f:\n",
        "#         text = f.read()\n",
        "#         # 토글\n",
        "#         text = re.sub(r'(>+) (.*)', r'<blockquote>\\1 \\2</blockquote>', text)\n",
        "#         # 헤딩\n",
        "#         text = re.sub(r'### (.*)', r'<h3>\\1</h3>', text)\n",
        "#         text = re.sub(r'## (.*)', r'<h2>\\1</h2>', text)\n",
        "#         text = re.sub(r'# (.*)', r'<h1>\\1</h1>', text)\n",
        "#         # 코드블럭\n",
        "#         text = re.sub(r'\\t?`(.*)`', r'<pre><code>\\1</code></pre>', text)\n",
        "#         # 볼드\n",
        "#         text = re.sub(r'[\\*_]{2}(.*)[\\*_]{2}', r'<strong>\\1</strong>', text)\n",
        "#         # 이탤릭\n",
        "#         text = re.sub(r'[\\*_]{1}(.*)[\\*_]{1}', r'<em>\\1</em>', text)\n",
        "#         # 취소선\n",
        "#         text = re.sub(r'~~(.*)~~', r'<del>\\1</del>', text)\n",
        "#         # 순서 없는 리스트\n",
        "#         text = re.sub(r'\\n[ \\t]*[\\*-]+[ \\t]+(.+)', r'\\n<ul>\\n<li>\\1</li>\\n</ul>', text)\n",
        "#         # 이미지\n",
        "#         text = re.sub(r'!\\[(.*)]\\((.*)\\)', r'<div><img src = \"\\2\" alt:=\"\\1\" width = \"100\"></div>', text)\n",
        "#         # 링크\n",
        "#         text = re.sub(r'\\[(.*)]\\((.*)\\)', r'<div><a href = \"\\2\">\\1</a></div>', text)\n",
        "#     with open(f'{name}.html', 'w' ,encoding='UTF8') as f:\n",
        "#         f.write(text)\n",
        "\n",
        "\n",
        "# md_to_html(name = 'markdown')"
      ],
      "metadata": {
        "id": "mRe_jcCkKHiB"
      },
      "execution_count": null,
      "outputs": []
    },
    {
      "cell_type": "code",
      "source": [
        "# 현우님 코드\n",
        "import re\n",
        "\n",
        "def markdown_to_html(md_file):\n",
        "\n",
        "    # 인용\n",
        "    md_file = re.sub(r'([\\>]) (.*)', r'<blockquote><p>\\2</p></blockquote>', md_file)\n",
        "\n",
        "    # h1~h3변환\n",
        "    md_file = re.sub(r'### (.*)', r'<h3>\\1</h3>', md_file)\n",
        "    md_file = re.sub(r'## (.*)', r'<h2>\\1</h2>', md_file)\n",
        "    md_file = re.sub(r'# (.*)', r'<h1>\\1</h1>', md_file)\n",
        "\n",
        "\n",
        "    # 글씨 강조\n",
        "    md_file = re.sub(r'\\*\\*(.*)\\*\\*', r'<strong>\\1</strong>', md_file)\n",
        "\n",
        "    # 글씨 기울이기\n",
        "    md_file = re.sub(r'\\*(.*)\\*', r'<em>\\1</em>', md_file)\n",
        "\n",
        "    # 코드블럭\n",
        "    md_file = re.sub(r'(코드블럭기호).*\\n*(.*)\\n*(코드블럭기호)', r'<pre><code>\\2</code></pre>', md_file)\n",
        "\n",
        "    # 코드\n",
        "    md_file = re.sub(r'(`)\\n*(.*)\\n*(`)', r'<p><code>\\2</code></p>', md_file)\n",
        "\n",
        " \n",
        "    #이미지 [링크 텍스트](https://)\n",
        "    md_file = re.sub(r'\\!\\[(.+?)\\]\\((https?://[^\\s]+)\\)', \n",
        "                     r'<img src=\"\\2\" alt=\"\\1\">\\1', md_file)\n",
        "    \n",
        "    # 링크텍스트 [링크 텍스트](https://)\n",
        "    md_file = re.sub(r'\\[(.+?)\\]\\((https?://[^\\s]+)\\)', \n",
        "                     r'<a href=\"\\2\">\\1</a>', md_file)\n",
        "    \n",
        "    # 기호 매기기\n",
        "    md_file = re.sub(r'^\\- (.+)',r'<ul><li>\\1</li></ul>',md_file,flags=re.M)\n",
        "\n",
        "    # 숫자 매기기\n",
        "    md_file = re.sub(r'^[\\d][.] (.+)',r'<ol><li>\\1</li></ol>',md_file,flags=re.M)\n",
        "\n",
        "\n",
        "    return md_file\n",
        "\n",
        "\n",
        "# 파일 읽기\n",
        "md_f = open('sample.md', 'r')\n",
        "md_str = md_f.read()\n",
        "md_f.close()\n",
        "\n",
        "# 파일 텍스트 변환\n",
        "\n",
        "md_to_html = markdown_to_html(md_str)\n",
        "\n",
        "#파일 저장\n",
        "html_f = open('sample.html', 'w')\n",
        "html_f.write(md_to_html)\n",
        "html_f.close()"
      ],
      "metadata": {
        "id": "wJm6bpgKMCAw"
      },
      "execution_count": null,
      "outputs": []
    }
  ]
}