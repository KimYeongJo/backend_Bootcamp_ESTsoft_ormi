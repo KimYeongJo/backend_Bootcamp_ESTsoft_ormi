{
  "nbformat": 4,
  "nbformat_minor": 0,
  "metadata": {
    "colab": {
      "provenance": []
    },
    "kernelspec": {
      "name": "python3",
      "display_name": "Python 3"
    },
    "language_info": {
      "name": "python"
    }
  },
  "cells": [
    {
      "cell_type": "code",
      "source": [
        "# 크롤링, 웹 스크래핑 : 웹에 있는 데이터를 가지고 온다"
      ],
      "metadata": {
        "id": "CwG4FggpnLBq"
      },
      "execution_count": null,
      "outputs": []
    },
    {
      "cell_type": "code",
      "execution_count": null,
      "metadata": {
        "id": "qlCG6aBymKgP"
      },
      "outputs": [],
      "source": [
        "# 데이터를 가져오는 라이브러리 : requests\n",
        "# 가져온 데이터를 가공하는 라이브러리 : beautifulsoup"
      ]
    },
    {
      "cell_type": "code",
      "source": [
        "# 크롤링대상 : https://paullab.co.kr/stock.html"
      ],
      "metadata": {
        "id": "X5AWDQWQn_hQ"
      },
      "execution_count": null,
      "outputs": []
    },
    {
      "cell_type": "code",
      "source": [
        "import requests\n",
        "from bs4 import BeautifulSoup\n",
        "\n",
        "response = requests.get('http://www.paullab.co.kr/stock.html')\n",
        "\n",
        "response.encoding = 'utf-8'\n",
        "html = response.text\n",
        "\n",
        "soup = BeautifulSoup(html, 'html.parser')"
      ],
      "metadata": {
        "id": "1YBVjxzzn_ga"
      },
      "execution_count": null,
      "outputs": []
    },
    {
      "cell_type": "code",
      "source": [
        "html"
      ],
      "metadata": {
        "id": "9hiSVbKmo0K1"
      },
      "execution_count": null,
      "outputs": []
    },
    {
      "cell_type": "code",
      "source": [
        "soup.title"
      ],
      "metadata": {
        "colab": {
          "base_uri": "https://localhost:8080/"
        },
        "id": "crE5ImhKo2fW",
        "outputId": "8df81f78-7b85-48d8-b3de-e146e891e2d5"
      },
      "execution_count": null,
      "outputs": [
        {
          "output_type": "execute_result",
          "data": {
            "text/plain": [
              "<title>Document</title>"
            ]
          },
          "metadata": {},
          "execution_count": 4
        }
      ]
    },
    {
      "cell_type": "code",
      "source": [
        "soup.select('.tables')"
      ],
      "metadata": {
        "colab": {
          "base_uri": "https://localhost:8080/"
        },
        "id": "Zr7JFr2qpRNU",
        "outputId": "febac6b0-7e75-47d3-fe44-19f52087d98d"
      },
      "execution_count": null,
      "outputs": [
        {
          "output_type": "execute_result",
          "data": {
            "text/plain": [
              "[<div class=\"tables\">\n",
              " <table class=\"border-style\" summary=\"시가총액 정보\">\n",
              " <tr>\n",
              " <th class=\"strong\" scope=\"row\">시가총액</th>\n",
              " <!-- 공백은 의도적으로 넣은 것입니다. -->\n",
              " <td class=\"strong\"><em id=\"_market_sum\">349조 2,323</em>억원</td>\n",
              " </tr>\n",
              " <tr>\n",
              " <th scope=\"row\">\n",
              " <a class=\"link_site\" href=\"#\">시가총액순위<i class=\"fas fa-caret-right\"></i></a>\n",
              " </th>\n",
              " <!-- 공백은 의도적으로 넣은 것입니다. -->\n",
              " <td>위니브월드 <em id=\"_market_sum\">1</em>위</td>\n",
              " </tr>\n",
              " <tr>\n",
              " <th scope=\"row\">상장주식수</th>\n",
              " <!-- 공백은 의도적으로 넣은 것입니다. -->\n",
              " <td><em id=\"_market_sum\">5,969,782,550</em></td>\n",
              " </tr>\n",
              " </table>\n",
              " <table class=\"border-style\" summary=\"업종상세 정보\">\n",
              " <tr>\n",
              " <th class=\"strong\" scope=\"row\">현재가</th>\n",
              " <td class=\"strong\"><em id=\"_market_sum\">349조 2,323</em>억원</td>\n",
              " </tr>\n",
              " <tr>\n",
              " <th scope=\"row\">52주 최고 <span class=\"bar\">l</span> 최저</th>\n",
              " <td>\n",
              " <em>62,800</em>\n",
              " <span class=\"bar\">l</span>\n",
              " <em>42,300</em>\n",
              " </td>\n",
              " </tr>\n",
              " <tr>\n",
              " <th scope=\"row\">배당수익률 <span class=\"bar\">l</span><span> 2019.12</span>\n",
              " <a alt=\"배당수익률 상세설명\" class=\"help\" href=\"#\"><em>?</em></a>\n",
              " <div class=\"lyr_section\" style=\"display:none\">\n",
              " <div class=\"tooltip_lyr dividend_layer\" id=\"helpPannel5\">\n",
              " <strong>배당수익률 = (배당금 / 현재가) x 100</strong>\n",
              " <p>배당금은 최근 결산연도 기준의 중간배당을 포함한 총 배당금입니다.</p>\n",
              " <span class=\"arrow\"></span>\n",
              " </div>\n",
              " </div>\n",
              " </th>\n",
              " <td>\n",
              " <em id=\"_dvr\">2.42</em>%\n",
              "                 </td>\n",
              " </tr>\n",
              " </table>\n",
              " <table>\n",
              " <tr>\n",
              " <th class=\"strong\" scope=\"row\">매출</th>\n",
              " <!-- <td>22조 1,250억원</td> -->\n",
              " <td class=\"strong\">22,125,034,978,750원</td>\n",
              " </tr>\n",
              " <tr>\n",
              " <th scope=\"row\">비용</th>\n",
              " <!-- <td>19조 2,238억원</td> -->\n",
              " <td>19,223,803,154,781원</td>\n",
              " </tr>\n",
              " <tr>\n",
              " <th scope=\"row\">순익</th>\n",
              " <!-- <td><em id=\"_market_sum\">2조 9,012억원</em></td> -->\n",
              " <td><em id=\"_market_sum\">2,901,231,823,969원</em></td>\n",
              " </tr>\n",
              " </table>\n",
              " </div>]"
            ]
          },
          "metadata": {},
          "execution_count": 5
        }
      ]
    },
    {
      "cell_type": "code",
      "source": [
        "총액정보 = soup.select('.tables')\n",
        "총액정보[0].select('table')[0]"
      ],
      "metadata": {
        "colab": {
          "base_uri": "https://localhost:8080/"
        },
        "id": "WrgvMSjrp_wY",
        "outputId": "50e1e9c7-c674-4707-c975-da488149e76c"
      },
      "execution_count": null,
      "outputs": [
        {
          "output_type": "execute_result",
          "data": {
            "text/plain": [
              "<table class=\"border-style\" summary=\"시가총액 정보\">\n",
              "<tr>\n",
              "<th class=\"strong\" scope=\"row\">시가총액</th>\n",
              "<!-- 공백은 의도적으로 넣은 것입니다. -->\n",
              "<td class=\"strong\"><em id=\"_market_sum\">349조 2,323</em>억원</td>\n",
              "</tr>\n",
              "<tr>\n",
              "<th scope=\"row\">\n",
              "<a class=\"link_site\" href=\"#\">시가총액순위<i class=\"fas fa-caret-right\"></i></a>\n",
              "</th>\n",
              "<!-- 공백은 의도적으로 넣은 것입니다. -->\n",
              "<td>위니브월드 <em id=\"_market_sum\">1</em>위</td>\n",
              "</tr>\n",
              "<tr>\n",
              "<th scope=\"row\">상장주식수</th>\n",
              "<!-- 공백은 의도적으로 넣은 것입니다. -->\n",
              "<td><em id=\"_market_sum\">5,969,782,550</em></td>\n",
              "</tr>\n",
              "</table>"
            ]
          },
          "metadata": {},
          "execution_count": 12
        }
      ]
    },
    {
      "cell_type": "code",
      "source": [
        "총액정보 = soup.select('#_market_sum')\n",
        "총액정보[2].text"
      ],
      "metadata": {
        "colab": {
          "base_uri": "https://localhost:8080/",
          "height": 35
        },
        "id": "5-dEuk9nqkqV",
        "outputId": "41291405-0678-49a8-92f9-3b3e2aa0c866"
      },
      "execution_count": null,
      "outputs": [
        {
          "output_type": "execute_result",
          "data": {
            "text/plain": [
              "'5,969,782,550'"
            ],
            "application/vnd.google.colaboratory.intrinsic+json": {
              "type": "string"
            }
          },
          "metadata": {},
          "execution_count": 17
        }
      ]
    },
    {
      "cell_type": "code",
      "source": [
        "import requests\n",
        "from bs4 import BeautifulSoup\n",
        "\n",
        "response = requests.get('https://search.zum.com/search.zum?method=uni&option=accu&rd=1&query=%EC%B5%9C%EC%8B%A0%EC%98%81%ED%99%94&qm=f_typing.top')\n",
        "\n",
        "response.encoding = 'utf-8'\n",
        "html = response.text\n",
        "\n",
        "soup = BeautifulSoup(html, 'html.parser')"
      ],
      "metadata": {
        "id": "1u7nAf-Nys8V"
      },
      "execution_count": null,
      "outputs": []
    },
    {
      "cell_type": "code",
      "source": [
        "soup.select('p.title > span')"
      ],
      "metadata": {
        "id": "KONeJ8I0ys7i"
      },
      "execution_count": null,
      "outputs": []
    },
    {
      "cell_type": "code",
      "source": [
        "for i in soup.select('p.title > span'):\n",
        "    print(i.text)"
      ],
      "metadata": {
        "id": "QGVdpVI1yvSv"
      },
      "execution_count": null,
      "outputs": []
    },
    {
      "cell_type": "code",
      "source": [
        "for i, j in enumerate(soup.select('p.title > span'), 1):\n",
        "    print(i, j.text)"
      ],
      "metadata": {
        "id": "fmIvRgTWyxdn"
      },
      "execution_count": null,
      "outputs": []
    },
    {
      "cell_type": "code",
      "source": [
        "for i in soup.select('.thumb > img'):\n",
        "    print('https:' + i['src'])"
      ],
      "metadata": {
        "id": "7dMQ7jMvyzBc"
      },
      "execution_count": null,
      "outputs": []
    },
    {
      "cell_type": "code",
      "source": [
        "titles = []\n",
        "for i in soup.select('p.title > span'):\n",
        "    titles.append(i.text)\n",
        "\n",
        "imgs = []\n",
        "for i in soup.select('.thumb > img'):\n",
        "    imgs.append('https:' + i['src'])"
      ],
      "metadata": {
        "id": "xB3Rxeepy0Up"
      },
      "execution_count": null,
      "outputs": []
    },
    {
      "cell_type": "code",
      "source": [
        "with open(\"index.html\", \"w\") as f:\n",
        "    s = '<h1>영화순위</h1>'\n",
        "    for title, img in zip(titles, imgs):\n",
        "        s += f'<h2>{title}</h2>'\n",
        "        s += f'<img src={img}>'\n",
        "    f.write(s)"
      ],
      "metadata": {
        "id": "Lix6Hyqarci-"
      },
      "execution_count": null,
      "outputs": []
    },
    {
      "cell_type": "markdown",
      "source": [
        "# advanced 문제"
      ],
      "metadata": {
        "id": "AxFsGG7kzZOx"
      }
    },
    {
      "cell_type": "code",
      "source": [
        "import requests\n",
        "from bs4 import BeautifulSoup\n",
        "\n",
        "response = requests.get('http://www.paullab.co.kr/stock.html')\n",
        "\n",
        "response.encoding = 'utf-8'\n",
        "html = response.text\n",
        "\n",
        "soup = BeautifulSoup(html, 'html.parser')"
      ],
      "metadata": {
        "id": "Mzvmsvh2zRKP"
      },
      "execution_count": null,
      "outputs": []
    },
    {
      "cell_type": "code",
      "source": [
        "시세정보 = soup.select('table.table.table-hover')[0].select('span')\n",
        "거래량 = []\n",
        "\n",
        "for i in range(6, len(시세정보), 7):\n",
        "    거래량.append(시세정보[i].text.replace(',', ''))\n",
        "sum(map(int, 거래량))"
      ],
      "metadata": {
        "colab": {
          "base_uri": "https://localhost:8080/"
        },
        "id": "9V4mGSRrB4iF",
        "outputId": "b822c374-cc77-4a2e-ca7b-f3b49776cbb6"
      },
      "execution_count": null,
      "outputs": [
        {
          "output_type": "execute_result",
          "data": {
            "text/plain": [
              "13067306"
            ]
          },
          "metadata": {},
          "execution_count": 141
        }
      ]
    },
    {
      "cell_type": "markdown",
      "source": [
        "## 강의 해답 코드 (권고X 필요에 따라 쓰세요.)"
      ],
      "metadata": {
        "id": "1FWLGbSHmje_"
      }
    },
    {
      "cell_type": "code",
      "source": [
        "# 문제를 보면\n",
        "# step 1. 어떤 자료 구조를 사용하여 이 문제를 풀어갈 것인지\n",
        "#    -> 저는 class 를 선택\n",
        "class Stock:\n",
        "    def __init__(self, 날짜, 종가, 전일비, 시가, 고가, 저가, 거래량):\n",
        "        self.날짜 = 날짜\n",
        "        self.종가 = 종가\n",
        "        self.전일비 = 전일비\n",
        "        self.시가 = 시가\n",
        "        self.고가 = 고가\n",
        "        self.저가 = 저가\n",
        "        self.거래량 = 거래량\n",
        "\n",
        "    def 거래금액(self):\n",
        "        return self.종가 * self.거래량"
      ],
      "metadata": {
        "id": "AL1vvgKymmT4"
      },
      "execution_count": 19,
      "outputs": []
    },
    {
      "cell_type": "code",
      "source": [
        "# step 2. 자료구조가 정해졌으면 함수 아키텍처를 어떤 구조로 가져갈지\n",
        "#         각 함수에 들어가는 파라미터나 아규먼트도 고민을 해야 합니다.\n",
        "\n",
        "import requests\n",
        "from bs4 import BeautifulSoup\n",
        "\n",
        "#1\n",
        "def get_parsing_data():\n",
        "    '''\n",
        "    requests 모듈 사용해서 data를 가져와 bs4로 parsing 해주는 함수\n",
        "    '''\n",
        "    pass\n",
        "\n",
        "#2\n",
        "def get_select_data():\n",
        "    '''\n",
        "    parsing된 데이터에서 목적에 맞는 데이터 추출\n",
        "    '''\n",
        "    pass\n",
        "\n",
        "#3\n",
        "def create_instance():\n",
        "    '''\n",
        "    데이터 추출한 것을 인스턴스로 생성\n",
        "    '''\n",
        "    pass\n",
        "\n",
        "#4\n",
        "def sum_data():\n",
        "    '''\n",
        "    인스턴스에서 필요 영역을 다 더할 수 있도록 하는 함수\n",
        "    '''\n",
        "    pass"
      ],
      "metadata": {
        "id": "wLRZ3m6_m68l"
      },
      "execution_count": null,
      "outputs": []
    },
    {
      "cell_type": "code",
      "source": [
        "# step 3. 함수 코딩\n",
        "\n",
        "import requests\n",
        "from bs4 import BeautifulSoup\n",
        "\n",
        "def get_parsing_data(url):\n",
        "    response = requests.get(url)\n",
        "    response.encoding = 'utf-8'\n",
        "    html = response.text\n",
        "    soup = BeautifulSoup(html, 'html.parser')\n",
        "    return soup\n",
        "\n",
        "def get_select_data(data, name, location): # company name은 활용하지 않습니다.\n",
        "    return data.select('body > .main > table')[0]\n",
        "\n",
        "def create_instance(datalist, selecdata):\n",
        "    # 날짜 구해주는 함수를 깜빡했는데\n",
        "    # 그대로 (슬라이싱으로) 진행하겠습니다.\n",
        "    for i in selecdata.select('tr')[1:]:\n",
        "        # print(i.select('td'))\n",
        "        날짜, 종가, 전일비, 시가, 고가, 저가, 거래량 = i.select('td')\n",
        "        # print(날짜.text.strip(),\n",
        "        #       종가.text.strip(),\n",
        "        #       전일비.text.strip(),\n",
        "        #       시가.text.strip(),\n",
        "        #       고가.text.strip(),\n",
        "        #       저가.text.strip(),\n",
        "        #       거래량.text.strip())\n",
        "        datalist.append(Stock(날짜.text.strip(),\n",
        "              종가.text.strip(),\n",
        "              전일비.text.strip(),\n",
        "              시가.text.strip(),\n",
        "              고가.text.strip(),\n",
        "              저가.text.strip(),\n",
        "              거래량.text.strip()))\n",
        "        # print(날짜, 종가, 전일비)\n",
        "\n",
        "def sum_data():\n",
        "    pass\n",
        "\n",
        "soupdata = get_parsing_data('http://www.paullab.co.kr/stock.html')\n",
        "selectdata = get_select_data(soupdata, '제주코딩베이스캠프연구원', 'body > .main > table')\n",
        "\n",
        "datalist = []\n",
        "create_instance(datalist, selectdata)\n",
        "\n",
        "datalist[0].거래량"
      ],
      "metadata": {
        "colab": {
          "base_uri": "https://localhost:8080/",
          "height": 35
        },
        "id": "gCJIUtH6owV8",
        "outputId": "0de1cae8-d424-4ddd-ec9d-ee84ef69cb30"
      },
      "execution_count": 25,
      "outputs": [
        {
          "output_type": "execute_result",
          "data": {
            "text/plain": [
              "'398,421'"
            ],
            "application/vnd.google.colaboratory.intrinsic+json": {
              "type": "string"
            }
          },
          "metadata": {},
          "execution_count": 25
        }
      ]
    },
    {
      "cell_type": "code",
      "source": [
        "response = requests.get('http://paullab.synology.me/stock.html')\n",
        "\n",
        "response.encoding = 'utf-8'\n",
        "html = response.text\n",
        "\n",
        "soup = BeautifulSoup(html, 'html.parser')\n",
        "\n",
        "data = soup.select('body > .main > table')[0]\n",
        "\n",
        "for i in data.select('tr')[1:]:\n",
        "    for j in i.select('td'):\n",
        "        print(j.text.strip())\n",
        "    print('----')"
      ],
      "metadata": {
        "id": "i4WymNXMt7hr"
      },
      "execution_count": null,
      "outputs": []
    },
    {
      "cell_type": "code",
      "source": [
        "response = requests.get('http://paullab.synology.me/stock.html')\n",
        "\n",
        "response.encoding = 'utf-8'\n",
        "html = response.text\n",
        "\n",
        "soup = BeautifulSoup(html, 'html.parser')\n",
        "\n",
        "data = soup.select('body > .main > table')[0]\n",
        "\n",
        "result = []\n",
        "for i in data.select('tr')[1:]:\n",
        "    result.append(int(i.select('td:nth-child(7)')[0].text.replace(',', '')))\n",
        "\n",
        "sum(result)"
      ],
      "metadata": {
        "colab": {
          "base_uri": "https://localhost:8080/"
        },
        "id": "6rjJA2M_uDSv",
        "outputId": "d74ba097-00f0-4ff0-90ea-2e5faf1302d9"
      },
      "execution_count": 11,
      "outputs": [
        {
          "output_type": "execute_result",
          "data": {
            "text/plain": [
              "13067306"
            ]
          },
          "metadata": {},
          "execution_count": 11
        }
      ]
    }
  ]
}