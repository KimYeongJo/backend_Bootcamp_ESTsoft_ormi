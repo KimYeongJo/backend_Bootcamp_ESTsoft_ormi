{
  "nbformat": 4,
  "nbformat_minor": 0,
  "metadata": {
    "colab": {
      "provenance": [],
      "toc_visible": true
    },
    "kernelspec": {
      "name": "python3",
      "display_name": "Python 3"
    },
    "language_info": {
      "name": "python"
    }
  },
  "cells": [
    {
      "cell_type": "markdown",
      "source": [
        "# Python 기본"
      ],
      "metadata": {
        "id": "olkhUqQTvUCd"
      }
    },
    {
      "cell_type": "markdown",
      "source": [
        "파이썬\n",
        "- 2점대, 3점대\n",
        "- 2점대로 서비스 운영 -> 서포트 중지\n",
        " - 인코딩\n",
        " - 함수들, 기능들 ...\n",
        "\n",
        "- 현재 실습 환경: 3점대"
      ],
      "metadata": {
        "id": "3l8hMT5GthJ5"
      }
    },
    {
      "cell_type": "code",
      "source": [
        "! python --version"
      ],
      "metadata": {
        "colab": {
          "base_uri": "https://localhost:8080/"
        },
        "id": "zP8BGUncth_G",
        "outputId": "24b095a0-3c25-45a9-b084-51649db9e5e6"
      },
      "execution_count": 1,
      "outputs": [
        {
          "output_type": "stream",
          "name": "stdout",
          "text": [
            "Python 3.10.12\n"
          ]
        }
      ]
    },
    {
      "cell_type": "markdown",
      "source": [
        "# 주석\n",
        "\n",
        "- 한 줄 주석: #\n",
        "- 여러 줄 주석: ''' ''', \"\"\" \"\"\"\n",
        "- 에디터 단축기: ctrl, cmd + /\n",
        "- 주석을 남길 떄 에러 발생하지 않게 하기"
      ],
      "metadata": {
        "id": "m_94K2WUuuY5"
      }
    },
    {
      "cell_type": "code",
      "source": [
        "def add(num1, num2):\n",
        "    '''\n",
        "    숫자 합을 구하는 함수입니다.\n",
        "    '''\n",
        "    return num1 + num2\n",
        "\n",
        "print(add(1, 2))"
      ],
      "metadata": {
        "colab": {
          "base_uri": "https://localhost:8080/"
        },
        "id": "RNsopoJDupUb",
        "outputId": "bce02c13-fc29-489c-fcaf-7e27b6b2eb9e"
      },
      "execution_count": 3,
      "outputs": [
        {
          "output_type": "stream",
          "name": "stdout",
          "text": [
            "3\n"
          ]
        }
      ]
    },
    {
      "cell_type": "code",
      "source": [
        "def add(num1, num2):\n",
        "'''\n",
        "숫자 합을 구하는 함수입니다. // 들여쓰기 안맞춰주면 에러가 남\n",
        "'''\n",
        "    return num1 + num2\n",
        "\n",
        "print(add(1, 2))"
      ],
      "metadata": {
        "colab": {
          "base_uri": "https://localhost:8080/",
          "height": 137
        },
        "id": "ePhJIMpWu-vg",
        "outputId": "f0cdab08-201e-4ebf-d9e2-9fd9a73d5ba0"
      },
      "execution_count": 4,
      "outputs": [
        {
          "output_type": "error",
          "ename": "IndentationError",
          "evalue": "ignored",
          "traceback": [
            "\u001b[0;36m  File \u001b[0;32m\"<ipython-input-4-1d3e5a5ad7c4>\"\u001b[0;36m, line \u001b[0;32m2\u001b[0m\n\u001b[0;31m    '''\u001b[0m\n\u001b[0m    ^\u001b[0m\n\u001b[0;31mIndentationError\u001b[0m\u001b[0;31m:\u001b[0m expected an indented block after function definition on line 1\n"
          ]
        }
      ]
    },
    {
      "cell_type": "markdown",
      "source": [
        "# 변수\n",
        "\n",
        "- 변수: 변할 수 있는 값 -> 소문자 (상수 -> 대문자로 선언)\n",
        "- 상자 -> 값을 담아줄 수 있다. -> 변수를 선언한다.\n",
        "- var = 1 (할당 연산자) / ==\n",
        "- 변수는 값을 가리키는 것 (메모리)\n",
        "\n",
        "변수 이름\n",
        "- _(언더바)나 영문자로 시작해야합니다.\n",
        "- 숫자로 시작할 수 없습니다.\n",
        "- 특수문자(언더바 제외)는 사용할 수 없습니다.\n",
        "- add num -> add_num (addNum java)\n",
        "- 예약어로 변수명을 사용할 수 없습니다. (for, if ..)\n",
        "- 이 규칙을 지키지 않을 경우 오류가 발생하기도 합니다.\n",
        "\n",
        "변수 선언\n",
        "- 변수를 선언할 때 값을 넣어주어야 합니다.\n",
        " - 변수 선언 시, 값을 넣어주는 것 -> 자료형 자체가 지정된다.\n",
        " - 변수 = 값 -> 왼쪽에는 무조건 변수, 오른쪽에는 값, 변수, 수식, 함수 등 들어갈 수 있다.\n",
        "\n",
        " 변수 타입\n",
        " - int, float, string, bool\n",
        " - type(변수명)"
      ],
      "metadata": {
        "id": "ezhvL9ddvf1C"
      }
    },
    {
      "cell_type": "code",
      "source": [
        "book = 'weniv'"
      ],
      "metadata": {
        "id": "F8sk8KAEvcgh"
      },
      "execution_count": 6,
      "outputs": []
    },
    {
      "cell_type": "code",
      "source": [
        "type(book)"
      ],
      "metadata": {
        "colab": {
          "base_uri": "https://localhost:8080/"
        },
        "id": "eHQvVjjIyWCY",
        "outputId": "c595c92c-0d01-44c6-dad6-dee02783e75f"
      },
      "execution_count": 8,
      "outputs": [
        {
          "output_type": "execute_result",
          "data": {
            "text/plain": [
              "str"
            ]
          },
          "metadata": {},
          "execution_count": 8
        }
      ]
    },
    {
      "cell_type": "code",
      "source": [
        "# 변수 연속 할당\n",
        "\n",
        "var1 = var2 = var3 = var4 = 10"
      ],
      "metadata": {
        "id": "8vmIFc1AyXeZ"
      },
      "execution_count": 10,
      "outputs": []
    },
    {
      "cell_type": "code",
      "source": [
        "print(var1)"
      ],
      "metadata": {
        "colab": {
          "base_uri": "https://localhost:8080/"
        },
        "id": "39t8bp2FygIg",
        "outputId": "048b1b38-2867-4739-a42a-cc17623f193a"
      },
      "execution_count": 11,
      "outputs": [
        {
          "output_type": "stream",
          "name": "stdout",
          "text": [
            "10\n"
          ]
        }
      ]
    },
    {
      "cell_type": "code",
      "source": [
        "print(id(var1))\n",
        "print(id(var2))\n",
        "print(id(var3))\n",
        "print(id(var4))\n",
        "# 파이썬에서는 정수형(int) 중에서 자주 사용될 것 같은 값들은 미리 메모리에 올려두고\n",
        "# 메모리를 효율적으로 사용하기 위해서 같은 위치를 사용합니다."
      ],
      "metadata": {
        "colab": {
          "base_uri": "https://localhost:8080/"
        },
        "id": "m49thl1tykZ7",
        "outputId": "3daa5145-2a0b-46ea-d85d-e60faa8382c9"
      },
      "execution_count": 12,
      "outputs": [
        {
          "output_type": "stream",
          "name": "stdout",
          "text": [
            "139999057134096\n",
            "139999057134096\n",
            "139999057134096\n",
            "139999057134096\n"
          ]
        }
      ]
    },
    {
      "cell_type": "code",
      "source": [
        "# 변수 연산 결과를 다시 사용하기\n",
        "x1 = 10\n",
        "x1 = x1 + 10\n",
        "\n",
        "x2 = 20\n",
        "x2 = x2 + x2"
      ],
      "metadata": {
        "id": "h49PlltbzTVo"
      },
      "execution_count": 13,
      "outputs": []
    },
    {
      "cell_type": "code",
      "source": [
        "print(x1)"
      ],
      "metadata": {
        "colab": {
          "base_uri": "https://localhost:8080/"
        },
        "id": "Wb5vsp_Yzc-9",
        "outputId": "1ac0328d-7ee2-43e2-81e9-12f44e60baf6"
      },
      "execution_count": 14,
      "outputs": [
        {
          "output_type": "stream",
          "name": "stdout",
          "text": [
            "20\n"
          ]
        }
      ]
    },
    {
      "cell_type": "code",
      "source": [
        "print(x2)"
      ],
      "metadata": {
        "colab": {
          "base_uri": "https://localhost:8080/"
        },
        "id": "QCjy3CnZze7H",
        "outputId": "fec20274-1334-4f15-dbb5-dfee01257b2f"
      },
      "execution_count": 15,
      "outputs": [
        {
          "output_type": "stream",
          "name": "stdout",
          "text": [
            "40\n"
          ]
        }
      ]
    },
    {
      "cell_type": "code",
      "source": [
        "x3 = 20"
      ],
      "metadata": {
        "id": "B_kB1DEizm_n"
      },
      "execution_count": 16,
      "outputs": []
    },
    {
      "cell_type": "code",
      "source": [
        "print(id(x1))\n",
        "print(id(x3))"
      ],
      "metadata": {
        "colab": {
          "base_uri": "https://localhost:8080/"
        },
        "id": "4WnQ2h1FzrCp",
        "outputId": "dda0595f-39c5-4bdd-c611-9326946ef8b5"
      },
      "execution_count": 17,
      "outputs": [
        {
          "output_type": "stream",
          "name": "stdout",
          "text": [
            "139999057134416\n",
            "139999057134416\n"
          ]
        }
      ]
    },
    {
      "cell_type": "markdown",
      "source": [
        "# 자료형"
      ],
      "metadata": {
        "id": "xP2LHY_70ZMp"
      }
    },
    {
      "cell_type": "markdown",
      "source": [
        "## 숫자형\n",
        "\n",
        "- int, float(, complex)\n",
        "- int: 정수(10진수), 2진수, 8진수, 16진수\n",
        "- float: 실수\n",
        "- complex: 복소수"
      ],
      "metadata": {
        "id": "op4kqMiF0av7"
      }
    },
    {
      "cell_type": "markdown",
      "source": [
        "### int"
      ],
      "metadata": {
        "id": "gmVCQci6A7QV"
      }
    },
    {
      "cell_type": "code",
      "source": [
        "int_a = 30\n",
        "int_b = 0b100 # 2진수\n",
        "int_c = 0o56 # 8진수\n",
        "int_d = 0xAC # 16진수"
      ],
      "metadata": {
        "id": "QMQuOKcO0YjZ"
      },
      "execution_count": 20,
      "outputs": []
    },
    {
      "cell_type": "code",
      "source": [
        "print(type(int_a))\n",
        "print(type(int_b))\n",
        "print(type(int_c))\n",
        "print(type(int_d))"
      ],
      "metadata": {
        "colab": {
          "base_uri": "https://localhost:8080/"
        },
        "id": "sEPKOvU41Ii1",
        "outputId": "1cfad889-65f7-4c85-c59d-bdb78b54203d"
      },
      "execution_count": 21,
      "outputs": [
        {
          "output_type": "stream",
          "name": "stdout",
          "text": [
            "<class 'int'>\n",
            "<class 'int'>\n",
            "<class 'int'>\n",
            "<class 'int'>\n"
          ]
        }
      ]
    },
    {
      "cell_type": "markdown",
      "source": [
        "### float"
      ],
      "metadata": {
        "id": "ZKt60jo9A83v"
      }
    },
    {
      "cell_type": "code",
      "source": [
        "float_a = 3.14"
      ],
      "metadata": {
        "id": "7q0MPyEA1VKr"
      },
      "execution_count": 22,
      "outputs": []
    },
    {
      "cell_type": "code",
      "source": [
        "print(type(float_a))"
      ],
      "metadata": {
        "colab": {
          "base_uri": "https://localhost:8080/"
        },
        "id": "-GZQYC0b1X1u",
        "outputId": "a6827f4e-8b87-4f81-c7c2-18affbfce158"
      },
      "execution_count": 23,
      "outputs": [
        {
          "output_type": "stream",
          "name": "stdout",
          "text": [
            "<class 'float'>\n"
          ]
        }
      ]
    },
    {
      "cell_type": "markdown",
      "source": [
        "### complex"
      ],
      "metadata": {
        "id": "qg7JxPq1A-lJ"
      }
    },
    {
      "cell_type": "code",
      "source": [
        "com_a = 4-4j"
      ],
      "metadata": {
        "id": "SjTzRT011Zjk"
      },
      "execution_count": 24,
      "outputs": []
    },
    {
      "cell_type": "code",
      "source": [
        "print(type(com_a))"
      ],
      "metadata": {
        "colab": {
          "base_uri": "https://localhost:8080/"
        },
        "id": "8F6XreCH3xwa",
        "outputId": "fe33b137-e6cd-4cba-efff-2eb16fe1e059"
      },
      "execution_count": 25,
      "outputs": [
        {
          "output_type": "stream",
          "name": "stdout",
          "text": [
            "<class 'complex'>\n"
          ]
        }
      ]
    },
    {
      "cell_type": "markdown",
      "source": [
        "### 연산자\n",
        "\n",
        "- 연산자: 산술연산자, 대입연산자(할당연산자), 비교연산자, 논리연산자, 비트연산자 멤버연산자, 식별연산자"
      ],
      "metadata": {
        "id": "JKKzfoU33zw2"
      }
    },
    {
      "cell_type": "markdown",
      "source": [
        "#### 산술 연산자\n",
        "\n",
        "- 덧셈, 뺄셈, 곱셈, 나눗셈, 제곱, 몫, 나머지"
      ],
      "metadata": {
        "id": "u75ZlylX4LHQ"
      }
    },
    {
      "cell_type": "code",
      "source": [
        "num1 = 25\n",
        "num2 = 40\n",
        "\n",
        "print(num1 + num2)\n",
        "print(num1 - num2)\n",
        "print(num1 * num2)\n",
        "print(num1 / num2) # 나누기 -> 실수값으로 몫, 나머지 함께 표현\n",
        "print(num1 ** num2)\n",
        "print(num1 // num2) # 몫 -> 정수 부분까지만\n",
        "print(num1 % num2) # 정수부분까지 몫을 구한 뒤, 그 나머지"
      ],
      "metadata": {
        "colab": {
          "base_uri": "https://localhost:8080/"
        },
        "id": "gWHQilP84RRb",
        "outputId": "c1557fd2-7872-4e53-fb22-2c6460549358"
      },
      "execution_count": 26,
      "outputs": [
        {
          "output_type": "stream",
          "name": "stdout",
          "text": [
            "65\n",
            "-15\n",
            "1000\n",
            "0.625\n",
            "82718061255302767487140869206996285356581211090087890625\n",
            "0\n",
            "25\n"
          ]
        }
      ]
    },
    {
      "cell_type": "code",
      "source": [
        "# 나머지 값 활용 -> 문제 풀때 유용하게 사용할 수 있다.\n",
        "\n",
        "# 짝수 홀수 -> 값 % 2 == 0 : 짝수 / 값 % 2 != 0 : 홀수\n",
        "# 배수 약수 -> 값 % 5 == 0 : 5의 배수\n",
        "\n",
        "# 두 칸씩 이동"
      ],
      "metadata": {
        "id": "9_kw_Zmi5SnI"
      },
      "execution_count": null,
      "outputs": []
    },
    {
      "cell_type": "markdown",
      "source": [
        "#### 비교 연산자\n",
        "\n",
        "- \">, <, >=, <=, ==, !=\"\n",
        "- boolean 으로 리턴"
      ],
      "metadata": {
        "id": "3D-vzmr56D8U"
      }
    },
    {
      "cell_type": "code",
      "source": [
        "print(3 > 0)"
      ],
      "metadata": {
        "colab": {
          "base_uri": "https://localhost:8080/"
        },
        "id": "HDtnrpo76Bk6",
        "outputId": "e4a11b04-1931-4dbf-a91a-e8dbeac70a2e"
      },
      "execution_count": 27,
      "outputs": [
        {
          "output_type": "stream",
          "name": "stdout",
          "text": [
            "True\n"
          ]
        }
      ]
    },
    {
      "cell_type": "code",
      "source": [
        "print(3 < 0)"
      ],
      "metadata": {
        "colab": {
          "base_uri": "https://localhost:8080/"
        },
        "id": "r-0Gux8K6W5P",
        "outputId": "a30ff0f4-e592-422a-ffb6-c6897119c890"
      },
      "execution_count": 29,
      "outputs": [
        {
          "output_type": "stream",
          "name": "stdout",
          "text": [
            "False\n"
          ]
        }
      ]
    },
    {
      "cell_type": "code",
      "source": [
        "# 비교 연산자 활용\n",
        "\n",
        "# 조건\n",
        "# if 조건(true):\n",
        "#   참일 때 조건 실행\n",
        "# false\n",
        "\n",
        "# a, b\n",
        "# 가로, 세로 -> 가로가 더 큰 경우 16:9"
      ],
      "metadata": {
        "id": "tKlpdlEM6a-o"
      },
      "execution_count": null,
      "outputs": []
    },
    {
      "cell_type": "markdown",
      "source": [
        "#### 논리 연산자\n",
        "\n",
        "- and, or, not\n",
        "- boolean 기반으로 이해하기\n",
        "- 값1(true) 값2(false)\n",
        "- and: 그리고 -> 왼쪽값 그리고 오른쪽값 -> 왼쪽값이 true 그리고 오른쪽 값이 true: true\n",
        "- or: 또는 -> 왼쪽값 또는 오른쪽값 -> 왼쪽값이 true 이거나 오른쪽값이 true: true\n",
        "- not: 반대 -> 하나의 값을 부정 -> 값이 true: false, 값이 false: true"
      ],
      "metadata": {
        "id": "bKGfKH5q68fv"
      }
    },
    {
      "cell_type": "code",
      "source": [
        "# a > 0 (true or false) | b < 0 (true or false)"
      ],
      "metadata": {
        "id": "fs-Jhsw57WeS"
      },
      "execution_count": null,
      "outputs": []
    },
    {
      "cell_type": "code",
      "source": [
        "# and\n",
        "# true true: true\n",
        "# true false: false\n",
        "# false false : false\n",
        "\n",
        "# if 조건1 and 조건2:\n",
        "#   -> 둘 다 참일 때만 이 조건을 실행해주세요."
      ],
      "metadata": {
        "id": "9u6EWN3W7szE"
      },
      "execution_count": null,
      "outputs": []
    },
    {
      "cell_type": "code",
      "source": [
        "# or\n",
        "# true true: true\n",
        "# true false: true\n",
        "# false true: true\n",
        "# false false: false\n",
        "\n",
        "# if 조건1 or 조건2:\n",
        "#   -> 둘 중 하나라도 참이면 이 조건을 실행해주세요."
      ],
      "metadata": {
        "id": "itj-0bll8dai"
      },
      "execution_count": null,
      "outputs": []
    },
    {
      "cell_type": "code",
      "source": [
        "# not\n",
        "# true -> false\n",
        "# false -> true\n",
        "\n",
        "# 유저의 정보가 있을 때, input 조건에 있지 않으면 -> 로그인 불가\n",
        "# if not 조건1:\n",
        "#   -> 조건이 충족되지 않을 때 실행해주세요."
      ],
      "metadata": {
        "id": "AmVMHpmj9DJl"
      },
      "execution_count": null,
      "outputs": []
    },
    {
      "cell_type": "markdown",
      "source": [
        "#### 비트 연산자\n",
        "\n",
        "- !! 이진수 진법을 먼저 공부하시고\n",
        "- !! 비트연산 다시 공부해보세요\n",
        "\n",
        "---\n",
        "\n",
        "- 비트(bit) 단위로 (논리)연산을 할 때\n",
        "\n",
        "- 2진수\n",
        "- 0 0 0 0 1 1 1 1\n",
        "- 0 0 0 1 0 1 0 1\n",
        "\n",
        "- &(and), |(or), ^(xor), ~(not)\n",
        "- \\>>(오른쪽으로 shift), <<(왼쪽으로 shift)"
      ],
      "metadata": {
        "id": "aI__oWAp96Ay"
      }
    },
    {
      "cell_type": "code",
      "source": [
        "# and -> &\n",
        "# 0: false, 1: true\n",
        "\n",
        "'''\n",
        "1) 0 0 0 0 1 1 1 1\n",
        "2) 0 0 0 1 0 1 0 1\n",
        "-------------------\n",
        "   0 0 0 0 0 1 0 1\n",
        "'''"
      ],
      "metadata": {
        "id": "A70fK31D-Z77"
      },
      "execution_count": null,
      "outputs": []
    },
    {
      "cell_type": "code",
      "source": [
        "# or -> |\n",
        "# 0: false, 1: true\n",
        "\n",
        "'''\n",
        "1) 0 0 0 0 1 1 1 1\n",
        "2) 0 0 0 1 0 1 0 1\n",
        "-------------------\n",
        "   0 0 0 1 1 1 1 1\n",
        "'''"
      ],
      "metadata": {
        "id": "sH1A1BzO-_-l"
      },
      "execution_count": null,
      "outputs": []
    },
    {
      "cell_type": "code",
      "source": [
        "# xor -> ^ : 둘 값이 다를 경우 true\n",
        "# 0: false, 1: true\n",
        "\n",
        "'''\n",
        "1) 0 0 0 0 1 1 1 1\n",
        "2) 0 0 0 1 0 1 0 1\n",
        "-------------------\n",
        "   0 0 0 1 1 0 1 0\n",
        "'''"
      ],
      "metadata": {
        "id": "5vMqc6R5_fkV"
      },
      "execution_count": null,
      "outputs": []
    },
    {
      "cell_type": "code",
      "source": [
        "# not -> ~\n",
        "# 0: false, 1: true\n",
        "\n",
        "'''\n",
        "1) 0 0 0 0 1 1 1 1\n",
        "-------------------\n",
        "   1 1 1 1 0 0 0 0\n",
        "'''"
      ],
      "metadata": {
        "id": "lFPo_O_P_4X8"
      },
      "execution_count": null,
      "outputs": []
    },
    {
      "cell_type": "markdown",
      "source": [
        "### 자주 사용되는 내장함수\n",
        "\n",
        "- sum(): 합\n",
        "- max(), min(): 최대, 최소\n",
        "- round(): 반올림\n",
        "- abs(): 절대값\n",
        "\n",
        "---\n",
        "- numpy: 파이썬 라이브러리 -> 디테일한 수학적 계산이 가능"
      ],
      "metadata": {
        "id": "jV2e_bWpBIsJ"
      }
    },
    {
      "cell_type": "code",
      "source": [
        "abs(-1)"
      ],
      "metadata": {
        "colab": {
          "base_uri": "https://localhost:8080/"
        },
        "id": "D0INWf2fBtKd",
        "outputId": "e89af64d-4000-482d-b0fa-0f54a800069b"
      },
      "execution_count": 31,
      "outputs": [
        {
          "output_type": "execute_result",
          "data": {
            "text/plain": [
              "1"
            ]
          },
          "metadata": {},
          "execution_count": 31
        }
      ]
    },
    {
      "cell_type": "code",
      "source": [
        "round(2.51)"
      ],
      "metadata": {
        "colab": {
          "base_uri": "https://localhost:8080/"
        },
        "id": "lfG8kdUfCRZW",
        "outputId": "3858703f-cd13-44a0-a9a6-817e51dd85bf"
      },
      "execution_count": 37,
      "outputs": [
        {
          "output_type": "execute_result",
          "data": {
            "text/plain": [
              "3"
            ]
          },
          "metadata": {},
          "execution_count": 37
        }
      ]
    },
    {
      "cell_type": "code",
      "source": [
        "round(-2.6)"
      ],
      "metadata": {
        "colab": {
          "base_uri": "https://localhost:8080/"
        },
        "id": "rIJ62WiLClN7",
        "outputId": "6ed607bb-9f2a-4b78-9e76-c47380b72ca8"
      },
      "execution_count": 38,
      "outputs": [
        {
          "output_type": "execute_result",
          "data": {
            "text/plain": [
              "-3"
            ]
          },
          "metadata": {},
          "execution_count": 38
        }
      ]
    },
    {
      "cell_type": "code",
      "source": [
        "# 숫자형 함수 중 많이 사용하는 random\n",
        "import random"
      ],
      "metadata": {
        "id": "57MhMv-jCxPU"
      },
      "execution_count": 39,
      "outputs": []
    },
    {
      "cell_type": "code",
      "source": [
        "# 0과 1사이 랜덤한 숫자를 만들기 -> float\n",
        "random.random()"
      ],
      "metadata": {
        "colab": {
          "base_uri": "https://localhost:8080/"
        },
        "id": "D3V7vbZAC_tr",
        "outputId": "0e7f4dcf-9819-4a78-c16d-21caed7d46d4"
      },
      "execution_count": 40,
      "outputs": [
        {
          "output_type": "execute_result",
          "data": {
            "text/plain": [
              "0.2199645651202995"
            ]
          },
          "metadata": {},
          "execution_count": 40
        }
      ]
    },
    {
      "cell_type": "code",
      "source": [
        "# 최소, 최대값 사이에 랜덤한 숫자 만들기 -> float\n",
        "random.uniform(1, 10)"
      ],
      "metadata": {
        "colab": {
          "base_uri": "https://localhost:8080/"
        },
        "id": "9l4ZEvOyDGKL",
        "outputId": "0c4f733d-6d51-402a-b1b4-308fe7ea789b"
      },
      "execution_count": 41,
      "outputs": [
        {
          "output_type": "execute_result",
          "data": {
            "text/plain": [
              "3.6037749367810896"
            ]
          },
          "metadata": {},
          "execution_count": 41
        }
      ]
    },
    {
      "cell_type": "code",
      "source": [
        "# 최소, 최대값 사이에 랜덤한 숫자 만들기 -> int\n",
        "random.randint(1, 10)"
      ],
      "metadata": {
        "colab": {
          "base_uri": "https://localhost:8080/"
        },
        "id": "IP11xo7mGDKa",
        "outputId": "a394bffc-d2e8-4e26-9666-6b78f8f9ef0e"
      },
      "execution_count": 42,
      "outputs": [
        {
          "output_type": "execute_result",
          "data": {
            "text/plain": [
              "9"
            ]
          },
          "metadata": {},
          "execution_count": 42
        }
      ]
    },
    {
      "cell_type": "markdown",
      "source": [
        "## 문자형\n",
        "\n",
        "- \"\", ''\n",
        "- 순서가 있는 시퀀스 자료형\n",
        " - 시퀀스 자료형: Index(인덱스)\n",
        " - 인덱스: 인덱싱, 슬라이싱 가능"
      ],
      "metadata": {
        "id": "3fK50wnzGTrk"
      }
    },
    {
      "cell_type": "code",
      "source": [
        "# 문자열 선언\n",
        "a = 'hello'"
      ],
      "metadata": {
        "id": "UcJtHdLAG8Ur"
      },
      "execution_count": 43,
      "outputs": []
    },
    {
      "cell_type": "code",
      "source": [
        "# 인덱싱\n",
        "a[0]"
      ],
      "metadata": {
        "colab": {
          "base_uri": "https://localhost:8080/",
          "height": 35
        },
        "id": "5LNkJ4qSHA-s",
        "outputId": "01ed6eb5-1397-4b78-e041-53c8732e2147"
      },
      "execution_count": 44,
      "outputs": [
        {
          "output_type": "execute_result",
          "data": {
            "text/plain": [
              "'h'"
            ],
            "application/vnd.google.colaboratory.intrinsic+json": {
              "type": "string"
            }
          },
          "metadata": {},
          "execution_count": 44
        }
      ]
    },
    {
      "cell_type": "code",
      "source": [
        "# 슬라이싱\n",
        "a[0:3]"
      ],
      "metadata": {
        "colab": {
          "base_uri": "https://localhost:8080/",
          "height": 35
        },
        "id": "8fSXozrmHDGd",
        "outputId": "533194ba-7b54-4774-d456-38807e4f05f9"
      },
      "execution_count": 46,
      "outputs": [
        {
          "output_type": "execute_result",
          "data": {
            "text/plain": [
              "'hel'"
            ],
            "application/vnd.google.colaboratory.intrinsic+json": {
              "type": "string"
            }
          },
          "metadata": {},
          "execution_count": 46
        }
      ]
    },
    {
      "cell_type": "code",
      "source": [
        "# 인덱싱을 활용하기\n",
        "# 인덱싱을 이용하는 함수를 사용할 수 있다.\n",
        "# index\n",
        "\n",
        "a.index('l')"
      ],
      "metadata": {
        "colab": {
          "base_uri": "https://localhost:8080/"
        },
        "id": "0OjX50CTHQrp",
        "outputId": "9d25bc8c-1bbe-41d3-9430-c29c0dd0ecec"
      },
      "execution_count": 47,
      "outputs": [
        {
          "output_type": "execute_result",
          "data": {
            "text/plain": [
              "2"
            ]
          },
          "metadata": {},
          "execution_count": 47
        }
      ]
    },
    {
      "cell_type": "markdown",
      "source": [
        "#### 문자열 포맷팅\n",
        "\n",
        "- % 포맷팅\n",
        "- format 함수\n",
        "- f-string"
      ],
      "metadata": {
        "id": "mO7VchLwHj_9"
      }
    },
    {
      "cell_type": "code",
      "source": [
        "# % 포맷팅\n",
        "# %d: 정수, #f: 실수, %d: 문자열\n",
        "\n",
        "n = 10\n",
        "print(\"%d\" %n)"
      ],
      "metadata": {
        "colab": {
          "base_uri": "https://localhost:8080/"
        },
        "id": "rWL2xkQCHjsS",
        "outputId": "acbfc2d4-49b0-40d6-d78a-a634249f31f1"
      },
      "execution_count": 48,
      "outputs": [
        {
          "output_type": "stream",
          "name": "stdout",
          "text": [
            "10\n"
          ]
        }
      ]
    },
    {
      "cell_type": "code",
      "source": [
        "# format 함수\n",
        "\n",
        "print(\"파이는 {0}.{1}\".format(3, 14))"
      ],
      "metadata": {
        "colab": {
          "base_uri": "https://localhost:8080/"
        },
        "id": "7ZWznrwbIENw",
        "outputId": "3cc6c5d5-3bb7-48e8-f27f-15ec092415ba"
      },
      "execution_count": 49,
      "outputs": [
        {
          "output_type": "stream",
          "name": "stdout",
          "text": [
            "파이는 3.14\n"
          ]
        }
      ]
    },
    {
      "cell_type": "code",
      "source": [
        "# f-string\n",
        "# python 3.6 이상\n",
        "# 다른 파이썬 버전에서 사용하면 안됩니다.\n",
        "\n",
        "num = 1\n",
        "print(f'오르미 {num}기 입니다.')"
      ],
      "metadata": {
        "colab": {
          "base_uri": "https://localhost:8080/"
        },
        "id": "754tJmx5IQCj",
        "outputId": "d0fb9092-f0d1-40b1-e2b4-b21721120127"
      },
      "execution_count": 50,
      "outputs": [
        {
          "output_type": "stream",
          "name": "stdout",
          "text": [
            "오르미 1기 입니다.\n"
          ]
        }
      ]
    },
    {
      "cell_type": "markdown",
      "source": [
        "#### 이스케이프 문자\n",
        "\n",
        "- \\n: 엔터(개행)\n",
        "- \\t: 탭\n",
        "- \\': 작은 따옴표\n",
        "- \\\": 큰 따옴표\n",
        "- \\b: 백 스페이스\n",
        "- \\ \\\\: 역슬래시 표현\n",
        "\n",
        "여러 줄 내용을 하나의 변수에 표시할 때\n",
        "'나는 \"안녕하세요 '라고 생각했다.' \"라고 말했다.'\n",
        "\"안녕하세요 \\n 반갑습니다.\""
      ],
      "metadata": {
        "id": "0IUS6dbVI8AK"
      }
    },
    {
      "cell_type": "markdown",
      "source": [
        "#### 내장 함수\n",
        "\n",
        "- count(): 안에 있는 문자 갯수 세기\n",
        "- strip(): 양쪽 공백, 특정 문자를 제거\n",
        "- replace(): 어떤 문자를 원하는 문자로 바꿔줄 떄\n",
        "- split(): 특정 기준으로 문자열을 쪼개줄 때\n",
        "- join(): 문자열을 합쳐줄 떄"
      ],
      "metadata": {
        "id": "qajOyumHJ9NH"
      }
    },
    {
      "cell_type": "code",
      "source": [
        "# 1 ~ 10000 까지 있을 때 8이 몇 개 있는가\n",
        "# for if 8 count+ / \"\".count('8')"
      ],
      "metadata": {
        "id": "YkWJV9O6K4xb"
      },
      "execution_count": null,
      "outputs": []
    },
    {
      "cell_type": "markdown",
      "source": [
        "## 불리언 Boolean\n",
        "\n",
        "숫자형 연산 부분을 참고해주세요."
      ],
      "metadata": {
        "id": "EXRITdghLVm9"
      }
    },
    {
      "cell_type": "markdown",
      "source": [
        "# 자료구조\n",
        "\n",
        "- 리스트, 튜플, 딕셔너리, 셋"
      ],
      "metadata": {
        "id": "lNiz0rVcLisA"
      }
    },
    {
      "cell_type": "markdown",
      "source": [
        "## 리스트 list (배열)\n",
        "\n",
        "- 순서를 가진 시퀀스(sequence)형 -> 인덱싱, 슬라이싱 함수 사용 가능\n",
        "- list_a = []\n",
        "- 값 변경이 가능"
      ],
      "metadata": {
        "id": "Lx0WYiaSLuWx"
      }
    },
    {
      "cell_type": "code",
      "source": [
        "# 리스트 선언\n",
        "list_a = [1, 2, 3]"
      ],
      "metadata": {
        "id": "idi5QkVeLZsD"
      },
      "execution_count": 52,
      "outputs": []
    },
    {
      "cell_type": "code",
      "source": [
        "# 인덱싱\n",
        "list_a[0]"
      ],
      "metadata": {
        "colab": {
          "base_uri": "https://localhost:8080/"
        },
        "id": "64P1VjaWMlVG",
        "outputId": "0f14eecc-7e8f-4d45-87be-4dcbc0b820c5"
      },
      "execution_count": 53,
      "outputs": [
        {
          "output_type": "execute_result",
          "data": {
            "text/plain": [
              "1"
            ]
          },
          "metadata": {},
          "execution_count": 53
        }
      ]
    },
    {
      "cell_type": "code",
      "source": [
        "# 슬라이싱\n",
        "list_a[0:2]"
      ],
      "metadata": {
        "colab": {
          "base_uri": "https://localhost:8080/"
        },
        "id": "3PjJ3uRsMm9F",
        "outputId": "5963cfc2-e4cd-4759-fe34-0115ac35954c"
      },
      "execution_count": 54,
      "outputs": [
        {
          "output_type": "execute_result",
          "data": {
            "text/plain": [
              "[1, 2]"
            ]
          },
          "metadata": {},
          "execution_count": 54
        }
      ]
    },
    {
      "cell_type": "markdown",
      "source": [
        "### 사칙 연산"
      ],
      "metadata": {
        "id": "ZDE_PZ6yMpok"
      }
    },
    {
      "cell_type": "code",
      "source": [
        "list_a = [1, 2, 3]\n",
        "\n",
        "list_a = list_a + list_a"
      ],
      "metadata": {
        "id": "xCuS9EanMvw8"
      },
      "execution_count": 56,
      "outputs": []
    },
    {
      "cell_type": "code",
      "source": [
        "print(list_a)"
      ],
      "metadata": {
        "colab": {
          "base_uri": "https://localhost:8080/"
        },
        "id": "SfF6o8OMM0VN",
        "outputId": "f2a96146-387e-486e-d6ab-5208346af682"
      },
      "execution_count": 57,
      "outputs": [
        {
          "output_type": "stream",
          "name": "stdout",
          "text": [
            "[1, 2, 3, 1, 2, 3]\n"
          ]
        }
      ]
    },
    {
      "cell_type": "code",
      "source": [
        "### for 문을 순회하면서 더하기\n",
        "\n",
        "# 추가: numpy\n",
        "# 1차원 2차원 3차원 ...\n",
        "# 다차원 배열 계산에 강점 -> [] + []"
      ],
      "metadata": {
        "id": "qJGIAF4HNJK4"
      },
      "execution_count": null,
      "outputs": []
    },
    {
      "cell_type": "code",
      "source": [
        "list_a + 3\n",
        "\n",
        "# 크기가 맞지 않습니다. -> for문 순회로 각각을 더해주어야 합니다."
      ],
      "metadata": {
        "colab": {
          "base_uri": "https://localhost:8080/",
          "height": 174
        },
        "id": "MaxzYoxHNx0D",
        "outputId": "9800f5ce-58b9-4f5f-a97d-cd97961e0861"
      },
      "execution_count": 58,
      "outputs": [
        {
          "output_type": "error",
          "ename": "TypeError",
          "evalue": "ignored",
          "traceback": [
            "\u001b[0;31m---------------------------------------------------------------------------\u001b[0m",
            "\u001b[0;31mTypeError\u001b[0m                                 Traceback (most recent call last)",
            "\u001b[0;32m<ipython-input-58-2e1f6d277084>\u001b[0m in \u001b[0;36m<cell line: 1>\u001b[0;34m()\u001b[0m\n\u001b[0;32m----> 1\u001b[0;31m \u001b[0mlist_a\u001b[0m \u001b[0;34m+\u001b[0m \u001b[0;36m3\u001b[0m\u001b[0;34m\u001b[0m\u001b[0;34m\u001b[0m\u001b[0m\n\u001b[0m",
            "\u001b[0;31mTypeError\u001b[0m: can only concatenate list (not \"int\") to list"
          ]
        }
      ]
    },
    {
      "cell_type": "code",
      "source": [
        "list_a + [3] # 그냥 뒤에 붙음"
      ],
      "metadata": {
        "colab": {
          "base_uri": "https://localhost:8080/"
        },
        "id": "492SsIyDN8Rs",
        "outputId": "ce2612d7-b312-4ae9-c64f-d22b16e9ec70"
      },
      "execution_count": 59,
      "outputs": [
        {
          "output_type": "execute_result",
          "data": {
            "text/plain": [
              "[1, 2, 3, 1, 2, 3, 3]"
            ]
          },
          "metadata": {},
          "execution_count": 59
        }
      ]
    },
    {
      "cell_type": "code",
      "source": [
        "list_a * 3"
      ],
      "metadata": {
        "colab": {
          "base_uri": "https://localhost:8080/"
        },
        "id": "ctCOdl4MOCbL",
        "outputId": "cdbadb57-4c68-49d3-c414-dacc78a01fbd"
      },
      "execution_count": 61,
      "outputs": [
        {
          "output_type": "execute_result",
          "data": {
            "text/plain": [
              "[1, 2, 3, 1, 2, 3, 1, 2, 3, 1, 2, 3, 1, 2, 3, 1, 2, 3]"
            ]
          },
          "metadata": {},
          "execution_count": 61
        }
      ]
    },
    {
      "cell_type": "code",
      "source": [
        "list_a * [3]\n",
        "\n",
        "# 크기가 맞지 않습니다."
      ],
      "metadata": {
        "colab": {
          "base_uri": "https://localhost:8080/",
          "height": 174
        },
        "id": "vKDqecKdOK2O",
        "outputId": "b00ff749-258c-47cf-bce6-432ae3495130"
      },
      "execution_count": 62,
      "outputs": [
        {
          "output_type": "error",
          "ename": "TypeError",
          "evalue": "ignored",
          "traceback": [
            "\u001b[0;31m---------------------------------------------------------------------------\u001b[0m",
            "\u001b[0;31mTypeError\u001b[0m                                 Traceback (most recent call last)",
            "\u001b[0;32m<ipython-input-62-d74bb2cf46b4>\u001b[0m in \u001b[0;36m<cell line: 1>\u001b[0;34m()\u001b[0m\n\u001b[0;32m----> 1\u001b[0;31m \u001b[0mlist_a\u001b[0m \u001b[0;34m*\u001b[0m \u001b[0;34m[\u001b[0m\u001b[0;36m3\u001b[0m\u001b[0;34m]\u001b[0m\u001b[0;34m\u001b[0m\u001b[0;34m\u001b[0m\u001b[0m\n\u001b[0m",
            "\u001b[0;31mTypeError\u001b[0m: can't multiply sequence by non-int of type 'list'"
          ]
        }
      ]
    },
    {
      "cell_type": "code",
      "source": [
        "# list_a + list_a -> [][]\n",
        "# list_a + [3]\n",
        "# .append()\n",
        "\n",
        "li = [1, 2]\n",
        "\n",
        "li.append(3)\n",
        "print(li)"
      ],
      "metadata": {
        "colab": {
          "base_uri": "https://localhost:8080/"
        },
        "id": "wKNYL4HUOgw6",
        "outputId": "4ba64fd6-39cf-4568-c7d3-1a35fbb9dd7d"
      },
      "execution_count": 65,
      "outputs": [
        {
          "output_type": "stream",
          "name": "stdout",
          "text": [
            "[1, 2, 3]\n"
          ]
        }
      ]
    },
    {
      "cell_type": "code",
      "source": [
        "# 값 지우기\n",
        "# .clear()\n",
        "\n",
        "li.clear()"
      ],
      "metadata": {
        "id": "v82OmdfjOyLH"
      },
      "execution_count": 66,
      "outputs": []
    },
    {
      "cell_type": "code",
      "source": [
        "print(li)"
      ],
      "metadata": {
        "colab": {
          "base_uri": "https://localhost:8080/"
        },
        "id": "F1iWuulKO8bd",
        "outputId": "407d085d-8832-45d6-8088-15e873dd581b"
      },
      "execution_count": 67,
      "outputs": [
        {
          "output_type": "stream",
          "name": "stdout",
          "text": [
            "[]\n"
          ]
        }
      ]
    },
    {
      "cell_type": "code",
      "source": [
        "a = [1, 2, 3]\n",
        "\n",
        "b = a\n",
        "c = b\n",
        "\n",
        "c[0] = 100"
      ],
      "metadata": {
        "id": "KTqMhaSKO9Vp"
      },
      "execution_count": 70,
      "outputs": []
    },
    {
      "cell_type": "code",
      "source": [
        "print(a)"
      ],
      "metadata": {
        "colab": {
          "base_uri": "https://localhost:8080/"
        },
        "id": "jtalrkMhPKvt",
        "outputId": "243482c9-339c-42c5-c6de-590f026d31ee"
      },
      "execution_count": 72,
      "outputs": [
        {
          "output_type": "stream",
          "name": "stdout",
          "text": [
            "[100, 2, 3]\n"
          ]
        }
      ]
    },
    {
      "cell_type": "code",
      "source": [
        "a = [1, 2, 3]\n",
        "\n",
        "b = a.copy()\n",
        "c = b.copy()\n",
        "\n",
        "c[0] = 1000"
      ],
      "metadata": {
        "id": "7B1IeWSkPhEm"
      },
      "execution_count": 77,
      "outputs": []
    },
    {
      "cell_type": "code",
      "source": [
        "print(a)\n",
        "print(b)\n",
        "print(c)"
      ],
      "metadata": {
        "colab": {
          "base_uri": "https://localhost:8080/"
        },
        "id": "yfppoLY4PkJG",
        "outputId": "e2f66ddc-4f49-4794-9b4b-702fbebd6698"
      },
      "execution_count": 80,
      "outputs": [
        {
          "output_type": "stream",
          "name": "stdout",
          "text": [
            "[1, 2, 3]\n",
            "[1, 2, 3]\n",
            "[1000, 2, 3]\n"
          ]
        }
      ]
    },
    {
      "cell_type": "code",
      "source": [
        "# append 하나의 값을 뒤에 추가해줄 때\n",
        "# extend 여러 값들을 추가할 때\n",
        "\n",
        "a.extend([4, 5, 6])\n",
        "print(a)"
      ],
      "metadata": {
        "colab": {
          "base_uri": "https://localhost:8080/"
        },
        "id": "qtmgkPKQPzYi",
        "outputId": "d0c878c1-ad08-42e9-ea58-f0ca78b7e346"
      },
      "execution_count": 81,
      "outputs": [
        {
          "output_type": "stream",
          "name": "stdout",
          "text": [
            "[1, 2, 3, 4, 5, 6]\n"
          ]
        }
      ]
    },
    {
      "cell_type": "code",
      "source": [
        "a.append(4, 5, 6)\n",
        "print(a)"
      ],
      "metadata": {
        "colab": {
          "base_uri": "https://localhost:8080/",
          "height": 193
        },
        "id": "rvNjhKTIQAxO",
        "outputId": "5da2c471-a66a-4b85-aadf-da05144c90cc"
      },
      "execution_count": 85,
      "outputs": [
        {
          "output_type": "error",
          "ename": "TypeError",
          "evalue": "ignored",
          "traceback": [
            "\u001b[0;31m---------------------------------------------------------------------------\u001b[0m",
            "\u001b[0;31mTypeError\u001b[0m                                 Traceback (most recent call last)",
            "\u001b[0;32m<ipython-input-85-6805c8644a76>\u001b[0m in \u001b[0;36m<cell line: 1>\u001b[0;34m()\u001b[0m\n\u001b[0;32m----> 1\u001b[0;31m \u001b[0ma\u001b[0m\u001b[0;34m.\u001b[0m\u001b[0mappend\u001b[0m\u001b[0;34m(\u001b[0m\u001b[0;36m4\u001b[0m\u001b[0;34m,\u001b[0m \u001b[0;36m5\u001b[0m\u001b[0;34m,\u001b[0m \u001b[0;36m6\u001b[0m\u001b[0;34m)\u001b[0m\u001b[0;34m\u001b[0m\u001b[0;34m\u001b[0m\u001b[0m\n\u001b[0m\u001b[1;32m      2\u001b[0m \u001b[0mprint\u001b[0m\u001b[0;34m(\u001b[0m\u001b[0ma\u001b[0m\u001b[0;34m)\u001b[0m\u001b[0;34m\u001b[0m\u001b[0;34m\u001b[0m\u001b[0m\n",
            "\u001b[0;31mTypeError\u001b[0m: list.append() takes exactly one argument (3 given)"
          ]
        }
      ]
    }
  ]
}