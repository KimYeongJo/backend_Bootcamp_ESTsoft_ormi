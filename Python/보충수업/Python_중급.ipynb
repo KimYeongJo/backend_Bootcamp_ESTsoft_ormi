{
  "nbformat": 4,
  "nbformat_minor": 0,
  "metadata": {
    "colab": {
      "provenance": []
    },
    "kernelspec": {
      "name": "python3",
      "display_name": "Python 3"
    },
    "language_info": {
      "name": "python"
    }
  },
  "cells": [
    {
      "cell_type": "markdown",
      "source": [
        "🧐 Python 출시 연도입니다. 여러분이 만약 2019년 이전에 나온 책을 보았다면 왈러스 연산자를 모르는 것이 당연합니다. 최신의 책(가능하면 인지도 있는 개정판 책)으로 공부하시는 것을 권해드립니다.\n",
        "\n",
        "- Python 3.0: 2008년 12월\n",
        "- Python 3.1: 2009년 6월\n",
        "- Python 3.2: 2011년 2월\n",
        "- Python 3.3: 2012년 9월\n",
        "- Python 3.4: 2014년 3월\n",
        "- Python 3.5: 2015년 9월(async와 await)\n",
        "- Python 3.6: 2016년 12월(f-string)\n",
        "- Python 3.7: 2018년 6월(dataclasses)\n",
        "- Python 3.8: 2019년 10월\n",
        "- Python 3.9: 2020년 10월"
      ],
      "metadata": {
        "id": "BtJOW7gzDYwJ"
      }
    },
    {
      "cell_type": "code",
      "execution_count": 1,
      "metadata": {
        "colab": {
          "base_uri": "https://localhost:8080/"
        },
        "id": "DT15vuY2DTJ_",
        "outputId": "f4b0ed7a-73fe-4b23-b916-aee74b72dca1"
      },
      "outputs": [
        {
          "output_type": "execute_result",
          "data": {
            "text/plain": [
              "User(123, 'hojun', 'hojun@gmail')"
            ]
          },
          "metadata": {},
          "execution_count": 1
        }
      ],
      "source": [
        "# id, name, email이 각각 3번씩 반복\n",
        "# -> 이러한 현상을  보일러 플레이트(boiler-plate)라 함\n",
        "# -> print를 해도 필드값이 보이지 않아 불편\n",
        "class User:\n",
        "    def __init__(self, id, name, email):\n",
        "        self.id = id\n",
        "        self.name = name\n",
        "        self.email = email\n",
        "\n",
        "    def __repr__(self):\n",
        "        return (f'{self.__class__.__qualname__}{self.id, self.name, self.email}')\n",
        "\n",
        "user = User(123, 'hojun', 'hojun@gmail')\n",
        "user\n",
        "# User(123, 'hojun', 'hojun@gmail')"
      ]
    },
    {
      "cell_type": "code",
      "source": [
        "from dataclasses import dataclass\n",
        "\n",
        "@dataclass\n",
        "class User:\n",
        "    id: int\n",
        "    name: str\n",
        "    email : str\n",
        "\n",
        "user = User(123, 'hojun', 'hojun@gmail')\n",
        "user"
      ],
      "metadata": {
        "colab": {
          "base_uri": "https://localhost:8080/"
        },
        "id": "qyAnp7lUEk0z",
        "outputId": "7a1fe828-f257-4753-9b5e-9c2d3417bbac"
      },
      "execution_count": 2,
      "outputs": [
        {
          "output_type": "execute_result",
          "data": {
            "text/plain": [
              "User(id=123, name='hojun', email='hojun@gmail')"
            ]
          },
          "metadata": {},
          "execution_count": 2
        }
      ]
    },
    {
      "cell_type": "code",
      "source": [
        "# dict 결합연산자\n",
        "x = {\"key1\": \"value1\"}\n",
        "y = {\"key2\": \"value2\"}\n",
        "z = x | y\n",
        "z"
      ],
      "metadata": {
        "colab": {
          "base_uri": "https://localhost:8080/"
        },
        "id": "B9FGiHoMFE4i",
        "outputId": "b518b8ea-8c7a-4930-fec4-26cffb2a4809"
      },
      "execution_count": 3,
      "outputs": [
        {
          "output_type": "execute_result",
          "data": {
            "text/plain": [
              "{'key1': 'value1', 'key2': 'value2'}"
            ]
          },
          "metadata": {},
          "execution_count": 3
        }
      ]
    },
    {
      "cell_type": "code",
      "source": [
        "x.update(y)"
      ],
      "metadata": {
        "id": "VWLbQA8gFNqn"
      },
      "execution_count": 5,
      "outputs": []
    },
    {
      "cell_type": "code",
      "source": [
        "x"
      ],
      "metadata": {
        "colab": {
          "base_uri": "https://localhost:8080/"
        },
        "id": "zv2i8LgqFgdq",
        "outputId": "02bd9b5d-bc64-4d62-ef23-41328f985899"
      },
      "execution_count": 6,
      "outputs": [
        {
          "output_type": "execute_result",
          "data": {
            "text/plain": [
              "{'key1': 'value1', 'key2': 'value2'}"
            ]
          },
          "metadata": {},
          "execution_count": 6
        }
      ]
    },
    {
      "cell_type": "code",
      "source": [
        "# JSON 형태에서는 아래처럼 + 연산자를 사용하는 경우가 종종 있었습니다.\n",
        "# 과거형입니다.\n",
        "list(x.items()) + list(y.items())"
      ],
      "metadata": {
        "colab": {
          "base_uri": "https://localhost:8080/"
        },
        "id": "bwROl8oXFhZQ",
        "outputId": "f15b2d7a-4dd5-43fe-b8b1-d57a5e730618"
      },
      "execution_count": 8,
      "outputs": [
        {
          "output_type": "execute_result",
          "data": {
            "text/plain": [
              "[('key1', 'value1'), ('key2', 'value2'), ('key2', 'value2')]"
            ]
          },
          "metadata": {},
          "execution_count": 8
        }
      ]
    },
    {
      "cell_type": "markdown",
      "source": [
        "## 왈러스 연산자"
      ],
      "metadata": {
        "id": "hviB0vS7ISyz"
      }
    },
    {
      "cell_type": "code",
      "source": [
        "# 기본적인 왈러스 연산자의 사용\n",
        "x = (n := 10) * 2\n",
        "print(x)  # 출력: 20\n",
        "print(n)  # 출력: 10"
      ],
      "metadata": {
        "colab": {
          "base_uri": "https://localhost:8080/"
        },
        "id": "eK2Q-RrjF1Fk",
        "outputId": "444f4abf-30df-4350-d257-945111199048"
      },
      "execution_count": 9,
      "outputs": [
        {
          "output_type": "stream",
          "name": "stdout",
          "text": [
            "20\n",
            "10\n"
          ]
        }
      ]
    },
    {
      "cell_type": "code",
      "source": [
        "# 왈러스 연산자가 없을 때의 코드\n",
        "import random\n",
        "\n",
        "while True:\n",
        "    x = random.randint(0, 10)\n",
        "    if x == 7:\n",
        "        break\n",
        "    print(x)\n",
        "\n",
        "# 왈러스 연산자를 사용한 코드\n",
        "import random\n",
        "\n",
        "while (x := random.randint(0, 10)) != 7:\n",
        "    print(x)"
      ],
      "metadata": {
        "id": "gdkWaguKGKZR"
      },
      "execution_count": null,
      "outputs": []
    },
    {
      "cell_type": "code",
      "source": [
        "count = 0\n",
        "s = 0\n",
        "while count <= 10:\n",
        "    s += count\n",
        "    count += 1\n",
        "s"
      ],
      "metadata": {
        "colab": {
          "base_uri": "https://localhost:8080/"
        },
        "id": "Yf9ngoueGfwk",
        "outputId": "444b10d0-d6e9-4bbb-e48e-10b4b20f47b9"
      },
      "execution_count": 11,
      "outputs": [
        {
          "output_type": "execute_result",
          "data": {
            "text/plain": [
              "55"
            ]
          },
          "metadata": {},
          "execution_count": 11
        }
      ]
    },
    {
      "cell_type": "code",
      "source": [
        "count = 0\n",
        "s = 0\n",
        "while (count := count + 1) <= 10:\n",
        "    s += count\n",
        "s"
      ],
      "metadata": {
        "colab": {
          "base_uri": "https://localhost:8080/"
        },
        "id": "OzZ_Smp_G4WK",
        "outputId": "5a528603-75b3-43f5-9787-68e1c6803acf"
      },
      "execution_count": 16,
      "outputs": [
        {
          "output_type": "execute_result",
          "data": {
            "text/plain": [
              "55"
            ]
          },
          "metadata": {},
          "execution_count": 16
        }
      ]
    },
    {
      "cell_type": "markdown",
      "source": [
        "## f-string 중괄호 표현"
      ],
      "metadata": {
        "id": "d3mhf5n4IbZw"
      }
    },
    {
      "cell_type": "code",
      "source": [
        "# f-string (아래 문법들은 정규표현식에서 자주 사용됩니다.)\n",
        "\n",
        "f'{{1, 2, 3}}'"
      ],
      "metadata": {
        "colab": {
          "base_uri": "https://localhost:8080/",
          "height": 35
        },
        "id": "GNo33v9gH_2q",
        "outputId": "191d44d4-a41e-40f4-e2e7-6a76cd8f591c"
      },
      "execution_count": 17,
      "outputs": [
        {
          "output_type": "execute_result",
          "data": {
            "text/plain": [
              "'{1, 2, 3}'"
            ],
            "application/vnd.google.colaboratory.intrinsic+json": {
              "type": "string"
            }
          },
          "metadata": {},
          "execution_count": 17
        }
      ]
    },
    {
      "cell_type": "code",
      "source": [
        "# f-string\n",
        "\n",
        "f'{{{1, 2, 3}}}'"
      ],
      "metadata": {
        "colab": {
          "base_uri": "https://localhost:8080/",
          "height": 35
        },
        "id": "gIArgJy6IfgW",
        "outputId": "91827af5-2ee2-42b2-ae4a-773b96bccc22"
      },
      "execution_count": 18,
      "outputs": [
        {
          "output_type": "execute_result",
          "data": {
            "text/plain": [
              "'{(1, 2, 3)}'"
            ],
            "application/vnd.google.colaboratory.intrinsic+json": {
              "type": "string"
            }
          },
          "metadata": {},
          "execution_count": 18
        }
      ]
    },
    {
      "cell_type": "code",
      "source": [
        "1, 2, 3"
      ],
      "metadata": {
        "colab": {
          "base_uri": "https://localhost:8080/"
        },
        "id": "vsvmz-1VImjf",
        "outputId": "7a453357-ff6d-49d5-b187-00d02c4129a6"
      },
      "execution_count": 19,
      "outputs": [
        {
          "output_type": "execute_result",
          "data": {
            "text/plain": [
              "(1, 2, 3)"
            ]
          },
          "metadata": {},
          "execution_count": 19
        }
      ]
    },
    {
      "cell_type": "code",
      "source": [
        "one = 1\n",
        "two = 2\n",
        "three = 3\n",
        "\n",
        "f'{{{one, two, three}}}'"
      ],
      "metadata": {
        "colab": {
          "base_uri": "https://localhost:8080/",
          "height": 35
        },
        "id": "4k0PJdgLInvG",
        "outputId": "40bf38cd-d7d5-43b4-f810-f3e0442e6d93"
      },
      "execution_count": 20,
      "outputs": [
        {
          "output_type": "execute_result",
          "data": {
            "text/plain": [
              "'{(1, 2, 3)}'"
            ],
            "application/vnd.google.colaboratory.intrinsic+json": {
              "type": "string"
            }
          },
          "metadata": {},
          "execution_count": 20
        }
      ]
    },
    {
      "cell_type": "code",
      "source": [
        "one = 1\n",
        "\n",
        "f'{{{one}}}'"
      ],
      "metadata": {
        "colab": {
          "base_uri": "https://localhost:8080/",
          "height": 35
        },
        "id": "ikWdXD0eIwYe",
        "outputId": "89fb9633-3607-4c65-bcd4-4542439b266c"
      },
      "execution_count": 21,
      "outputs": [
        {
          "output_type": "execute_result",
          "data": {
            "text/plain": [
              "'{1}'"
            ],
            "application/vnd.google.colaboratory.intrinsic+json": {
              "type": "string"
            }
          },
          "metadata": {},
          "execution_count": 21
        }
      ]
    },
    {
      "cell_type": "markdown",
      "source": [
        "## 독스트링"
      ],
      "metadata": {
        "id": "klDySt8TI_iQ"
      }
    },
    {
      "cell_type": "code",
      "source": [
        "def add(a, b):\n",
        "    \"\"\"\n",
        "    Add two numbers and return the result.\n",
        "\n",
        "    Args:\n",
        "        a (int or float): The first number.\n",
        "        b (int or float): The second number.\n",
        "\n",
        "    Returns:\n",
        "        int or float: The sum of the two numbers.\n",
        "    \"\"\"\n",
        "    return a + b\n",
        "\n",
        "# google coding convention\n",
        "def fetch_smalltable_rows(table_handle, keys, require_all_keys):\n",
        "    \"\"\"Fetches rows from a Smalltable.\n",
        "\n",
        "    Retrieves rows pertaining to the given keys from the Table instance\n",
        "    represented by table_handle.  String keys will be UTF-8 encoded.\n",
        "\n",
        "    Args:\n",
        "        table_handle: An open smalltable.Table instance.\n",
        "        keys: A sequence of strings representing the key of each table\n",
        "          row to fetch.  String keys will be UTF-8 encoded.\n",
        "        require_all_keys: If True only rows with values set for all keys will be\n",
        "          returned.\n",
        "\n",
        "    Returns:\n",
        "        A dict mapping keys to the corresponding table row data\n",
        "        fetched. Each row is represented as a tuple of strings. For\n",
        "        example:\n",
        "\n",
        "        {b'Serak': ('Rigel VII', 'Preparer'),\n",
        "         b'Zim': ('Irk', 'Invader'),\n",
        "         b'Lrrr': ('Omicron Persei 8', 'Emperor')}\n",
        "\n",
        "        Returned keys are always bytes.  If a key from the keys argument is\n",
        "        missing from the dictionary, then that row was not found in the\n",
        "        table (and require_all_keys must have been False).\n",
        "\n",
        "    Raises:\n",
        "        IOError: An error occurred accessing the smalltable.\n",
        "    \"\"\"\n",
        "fetch_smalltable_rows"
      ],
      "metadata": {
        "colab": {
          "base_uri": "https://localhost:8080/"
        },
        "id": "ypS0r1IgJA17",
        "outputId": "31035e74-197f-492c-95b8-84c288959fe0"
      },
      "execution_count": 27,
      "outputs": [
        {
          "output_type": "execute_result",
          "data": {
            "text/plain": [
              "<function __main__.fetch_smalltable_rows(table_handle, keys, require_all_keys)>"
            ]
          },
          "metadata": {},
          "execution_count": 27
        }
      ]
    },
    {
      "cell_type": "markdown",
      "source": [
        "## 컴프리헨션"
      ],
      "metadata": {
        "id": "yPPDTLSJKnMa"
      }
    },
    {
      "cell_type": "code",
      "source": [
        "# 딕셔너리 컴프리헨션\n",
        "square_dict = {x: x**2 for x in range(5)}  # 0부터 4까지의 수를 키로, 그 제곱을 값으로 하는 딕셔너리 생성"
      ],
      "metadata": {
        "id": "-_uPjq8AKhRD"
      },
      "execution_count": 28,
      "outputs": []
    },
    {
      "cell_type": "code",
      "source": [
        "square_dict"
      ],
      "metadata": {
        "colab": {
          "base_uri": "https://localhost:8080/"
        },
        "id": "qKULLVeZLChM",
        "outputId": "bd1f7009-2dcb-48df-dd93-9ffa88ef66d2"
      },
      "execution_count": 30,
      "outputs": [
        {
          "output_type": "execute_result",
          "data": {
            "text/plain": [
              "{0: 0, 1: 1, 2: 4, 3: 9, 4: 16}"
            ]
          },
          "metadata": {},
          "execution_count": 30
        }
      ]
    },
    {
      "cell_type": "code",
      "source": [
        "books = ['python', 'javascript', 'html/css']\n",
        "book_dict = {book: inx for inx, book in enumerate(books)}\n",
        "book_dict"
      ],
      "metadata": {
        "colab": {
          "base_uri": "https://localhost:8080/"
        },
        "id": "FKq2nWtVLIwH",
        "outputId": "1629975e-5b2c-4c51-9b72-54a5a9ef6148"
      },
      "execution_count": 32,
      "outputs": [
        {
          "output_type": "execute_result",
          "data": {
            "text/plain": [
              "{'python': 0, 'javascript': 1, 'html/css': 2}"
            ]
          },
          "metadata": {},
          "execution_count": 32
        }
      ]
    },
    {
      "cell_type": "code",
      "source": [
        "# 문제 : {'python': 10000000. 'javascript': 24000000, 'html/css': 39000000}\n",
        "books = [('python', 1000, '10000원'), ('javascript', 2000, '12000원'), ('html/css', 3000, '13000원')]\n",
        "book_dict = {book: count * int(price[:-1]) for book, count, price in books}\n",
        "book_dict"
      ],
      "metadata": {
        "colab": {
          "base_uri": "https://localhost:8080/"
        },
        "id": "Rs0TeTuSLeZ4",
        "outputId": "01f49f65-0377-453a-959e-b526e6e06d90"
      },
      "execution_count": 47,
      "outputs": [
        {
          "output_type": "execute_result",
          "data": {
            "text/plain": [
              "{'python': 10000000, 'javascript': 24000000, 'html/css': 39000000}"
            ]
          },
          "metadata": {},
          "execution_count": 47
        }
      ]
    },
    {
      "cell_type": "markdown",
      "source": [
        "## 제너레이터와 이터레이터\n",
        "- 메모리 효율이 좋음"
      ],
      "metadata": {
        "id": "mDIZwXg1PvP-"
      }
    },
    {
      "cell_type": "code",
      "source": [
        "# 제너레이터 컴프리헨션\n",
        "square_gen = (i for i in range(2, 1000, 2))\n",
        "for i, j in zip(range(10), square_gen):\n",
        "    print(i, j)"
      ],
      "metadata": {
        "colab": {
          "base_uri": "https://localhost:8080/"
        },
        "id": "b-iiXGPhPyMe",
        "outputId": "cc6739f0-52f2-483f-b159-ee3e35009438"
      },
      "execution_count": 53,
      "outputs": [
        {
          "output_type": "stream",
          "name": "stdout",
          "text": [
            "0 2\n",
            "1 4\n",
            "2 6\n",
            "3 8\n",
            "4 10\n",
            "5 12\n",
            "6 14\n",
            "7 16\n",
            "8 18\n",
            "9 20\n"
          ]
        }
      ]
    },
    {
      "cell_type": "markdown",
      "source": [
        "### 이터레이터"
      ],
      "metadata": {
        "id": "_IfPu8tZQnbq"
      }
    },
    {
      "cell_type": "code",
      "source": [
        "class MyIterator:\n",
        "    def __init__(self, stop):\n",
        "        self.currentValue = 0\n",
        "        self.stop = stop\n",
        "\n",
        "    def __iter__(self):\n",
        "        return self\n",
        "\n",
        "    def __next__(self):\n",
        "        if self.currentValue >= self.stop:\n",
        "            raise StopIteration\n",
        "        result = self.currentValue\n",
        "        self.currentValue += 1\n",
        "        return result\n",
        "\n",
        "my_iterator = MyIterator(5)\n",
        "\n",
        "for i in my_iterator:\n",
        "    print(i)"
      ],
      "metadata": {
        "id": "3W07n7mMQo0G"
      },
      "execution_count": null,
      "outputs": []
    },
    {
      "cell_type": "markdown",
      "source": [
        "### 제너레이터"
      ],
      "metadata": {
        "id": "Lskk7aClRUpa"
      }
    },
    {
      "cell_type": "code",
      "source": [
        "# 제너레이터 컴프리헨션에서 사용한 문법을 함수형태로 구현\n",
        "def count():\n",
        "    count = 2\n",
        "    while True:\n",
        "        yield count\n",
        "        count += 2\n",
        "\n",
        "for i, j in zip(range(10), count()):\n",
        "    print(i, j)"
      ],
      "metadata": {
        "colab": {
          "base_uri": "https://localhost:8080/"
        },
        "id": "CP1ywX1dRX_t",
        "outputId": "72325990-8eb0-47e8-e278-2f69655fd375"
      },
      "execution_count": 54,
      "outputs": [
        {
          "output_type": "stream",
          "name": "stdout",
          "text": [
            "0 2\n",
            "1 4\n",
            "2 6\n",
            "3 8\n",
            "4 10\n",
            "5 12\n",
            "6 14\n",
            "7 16\n",
            "8 18\n",
            "9 20\n"
          ]
        }
      ]
    },
    {
      "cell_type": "code",
      "source": [
        "# zip 은 매직메서드 __iter__ 에서 리셋을 안해줘서 한번밖에 순회를 못 돔\n",
        "class MyIterator:\n",
        "    def __init__(self, stop):\n",
        "        self.stop = stop\n",
        "\n",
        "    def __iter__(self):\n",
        "        self.currentValue = 0\n",
        "        return self\n",
        "\n",
        "    def __next__(self):\n",
        "        if self.currentValue >= self.stop:\n",
        "            raise StopIteration\n",
        "        result = self.currentValue\n",
        "        self.currentValue += 1\n",
        "        return result\n",
        "\n",
        "my_iterator = MyIterator(5)\n",
        "\n",
        "for i in my_iterator:\n",
        "    print(i)\n",
        "\n",
        "for i in my_iterator:\n",
        "    print(i)\n",
        "\n",
        "# 결국 for는 iter먼저 실행하고, next로 StopIteration\n",
        "# i = iter(li)\n",
        "# next(i)"
      ],
      "metadata": {
        "id": "m0cl2ppdSpWY"
      },
      "execution_count": null,
      "outputs": []
    },
    {
      "cell_type": "markdown",
      "source": [
        "## collection 모듈"
      ],
      "metadata": {
        "id": "2O-yyVEhTZO-"
      }
    },
    {
      "cell_type": "markdown",
      "source": [
        "### deque 함수"
      ],
      "metadata": {
        "id": "CsCKig8rTfDY"
      }
    },
    {
      "cell_type": "code",
      "source": [
        "from collections import deque\n",
        "\n",
        "d = deque()\n",
        "d.append('a')  # 오른쪽 끝에 추가\n",
        "print(d)\n",
        "d.appendleft('b')  # 왼쪽 끝에 추가\n",
        "print(d)\n",
        "d.pop()  # 오른쪽 끝 요소 제거\n",
        "print(d)\n",
        "d.popleft()  # 왼쪽 끝 요소 제거\n",
        "print(d)"
      ],
      "metadata": {
        "colab": {
          "base_uri": "https://localhost:8080/"
        },
        "id": "N2hmGX2XTY8N",
        "outputId": "0cf96fb6-7ccf-46b4-de31-e9c1570dabf7"
      },
      "execution_count": 55,
      "outputs": [
        {
          "output_type": "stream",
          "name": "stdout",
          "text": [
            "deque(['a'])\n",
            "deque(['b', 'a'])\n",
            "deque(['b'])\n",
            "deque([])\n"
          ]
        }
      ]
    },
    {
      "cell_type": "markdown",
      "source": [
        "### Counter 함수"
      ],
      "metadata": {
        "id": "e1Wfhdq8TpR_"
      }
    },
    {
      "cell_type": "code",
      "source": [
        "from collections import Counter\n",
        "\n",
        "c = Counter('hello world')\n",
        "print(c)  # 출력: Counter({'l': 3, 'o': 2, 'h': 1, 'e': 1, ' ': 1, 'w': 1, 'r': 1, 'd': 1})"
      ],
      "metadata": {
        "colab": {
          "base_uri": "https://localhost:8080/"
        },
        "id": "GRCSm9UCTrpZ",
        "outputId": "9e654981-94f2-4406-e74f-b9ac33190080"
      },
      "execution_count": 56,
      "outputs": [
        {
          "output_type": "stream",
          "name": "stdout",
          "text": [
            "Counter({'l': 3, 'o': 2, 'h': 1, 'e': 1, ' ': 1, 'w': 1, 'r': 1, 'd': 1})\n"
          ]
        }
      ]
    },
    {
      "cell_type": "markdown",
      "source": [
        "## 클로저"
      ],
      "metadata": {
        "id": "qtqTARrlXYEF"
      }
    },
    {
      "cell_type": "code",
      "source": [
        "# 클로저가 아닌경우\n",
        "def outer_function():\n",
        "    def inner_function():\n",
        "        return 100+100\n",
        "    return inner_function\n",
        "\n",
        "# 클로저\n",
        "def outer_function(x):\n",
        "    def inner_function(y):\n",
        "        return x + y\n",
        "    return inner_function\n",
        "\n",
        "inner = outer_function(100) # x = 100 이 휘발되지 않음\n",
        "inner(200)"
      ],
      "metadata": {
        "colab": {
          "base_uri": "https://localhost:8080/"
        },
        "id": "DgRO_tW1Xblb",
        "outputId": "5b4b4251-4fe2-4fab-e2a6-5c237bd558f2"
      },
      "execution_count": 58,
      "outputs": [
        {
          "output_type": "execute_result",
          "data": {
            "text/plain": [
              "300"
            ]
          },
          "metadata": {},
          "execution_count": 58
        }
      ]
    },
    {
      "cell_type": "markdown",
      "source": [
        "## 데코레이터"
      ],
      "metadata": {
        "id": "_va3FW-xY7gS"
      }
    },
    {
      "cell_type": "code",
      "source": [
        "def simple_decorator(function):\n",
        "    def wrapper():\n",
        "        print(\"Before the function call\")\n",
        "        function()\n",
        "        print(\"After the function call\")\n",
        "    return wrapper\n",
        "\n",
        "@simple_decorator\n",
        "def hello():\n",
        "    print(\"Hello, World!\")\n",
        "\n",
        "hello() # 데코레이터가 없는 상태에서는 simple_decorator(hello)() 와 같다"
      ],
      "metadata": {
        "colab": {
          "base_uri": "https://localhost:8080/"
        },
        "id": "R51AH-r5Y8mP",
        "outputId": "3b9b0f61-27d8-4cdd-f15c-ff7474af4b98"
      },
      "execution_count": 59,
      "outputs": [
        {
          "output_type": "stream",
          "name": "stdout",
          "text": [
            "Before the function call\n",
            "Hello, World!\n",
            "After the function call\n"
          ]
        }
      ]
    }
  ]
}